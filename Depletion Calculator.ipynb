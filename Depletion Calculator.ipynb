{
 "cells": [
  {
   "cell_type": "code",
   "execution_count": 21,
   "metadata": {
    "collapsed": true
   },
   "outputs": [],
   "source": [
    "%matplotlib inline\n",
    "from pprint import pprint\n",
    "\n",
    "import plot\n",
    "from simulate import simulate_withdrawals\n",
    "import harvesting\n",
    "import market\n",
    "import withdrawal\n",
    "import metrics\n",
    "\n",
    "from decimal import Decimal\n",
    "\n",
    "import itertools\n",
    "import math\n",
    "import pandas\n",
    "import scipy.stats"
   ]
  },
  {
   "cell_type": "code",
   "execution_count": 22,
   "metadata": {
    "collapsed": true
   },
   "outputs": [],
   "source": [
    "YEARS = 30"
   ]
  },
  {
   "cell_type": "code",
   "execution_count": 23,
   "metadata": {
    "collapsed": true
   },
   "outputs": [],
   "source": [
    "df = pandas.DataFrame(index=range(1, 31))"
   ]
  },
  {
   "cell_type": "code",
   "execution_count": 47,
   "metadata": {
    "collapsed": false
   },
   "outputs": [],
   "source": [
    "MARKET = market.Returns_US_1871()\n",
    "for i in range(MARKET.start_year, 2017-YEARS):\n",
    "    r = MARKET.iter_from(i)\n",
    "    h = harvesting.N_60_RebalanceHarvesting\n",
    "    w = lambda p, h: withdrawal.ConstantDollar(p, h, rate=Decimal('.05'))\n",
    "    results = simulate_withdrawals(r, years=YEARS, harvesting=h, withdraw=w)\n",
    "    \n",
    "    balances = [int(n.portfolio_r) for n in results]\n",
    "    df[i] = balances"
   ]
  },
  {
   "cell_type": "code",
   "execution_count": 48,
   "metadata": {
    "collapsed": false
   },
   "outputs": [],
   "source": [
    "t = df.T"
   ]
  },
  {
   "cell_type": "code",
   "execution_count": 49,
   "metadata": {
    "collapsed": false
   },
   "outputs": [],
   "source": [
    "success_df = pandas.DataFrame(index=range(1,31))\n",
    "\n",
    "for pct in range(10, 101, 10):\n",
    "    a = []\n",
    "    for i in range(1, 31):\n",
    "        amt = 1000000\n",
    "        percentile = scipy.stats.percentileofscore(t[i], (pct/100) * amt)\n",
    "        success = int(100 - percentile)\n",
    "        a.append(success)\n",
    "        \n",
    "    success_df[pct] = a\n",
    "        \n",
    "#success_df.to_csv('depletion.csv')"
   ]
  },
  {
   "cell_type": "code",
   "execution_count": null,
   "metadata": {
    "collapsed": true
   },
   "outputs": [],
   "source": []
  }
 ],
 "metadata": {
  "anaconda-cloud": {},
  "kernelspec": {
   "display_name": "Python [conda root]",
   "language": "python",
   "name": "conda-root-py"
  },
  "language_info": {
   "codemirror_mode": {
    "name": "ipython",
    "version": 3
   },
   "file_extension": ".py",
   "mimetype": "text/x-python",
   "name": "python",
   "nbconvert_exporter": "python",
   "pygments_lexer": "ipython3",
   "version": "3.5.3"
  }
 },
 "nbformat": 4,
 "nbformat_minor": 2
}
