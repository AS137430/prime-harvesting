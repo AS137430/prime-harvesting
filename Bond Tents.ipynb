{
 "cells": [
  {
   "cell_type": "code",
   "execution_count": null,
   "metadata": {},
   "outputs": [],
   "source": [
    "%matplotlib inline\n",
    "from pprint import pprint\n",
    "from decimal import Decimal\n",
    "import itertools\n",
    "import metrics\n",
    "import pandas\n",
    "\n",
    "import simulate\n",
    "import harvesting\n",
    "import market\n",
    "import withdrawal\n",
    "import numpy"
   ]
  },
  {
   "cell_type": "code",
   "execution_count": null,
   "metadata": {},
   "outputs": [],
   "source": [
    "import seaborn\n",
    "from matplotlib import pyplot as plt\n",
    "import matplotlib\n",
    "seaborn.set(style=\"whitegrid\")\n",
    "seaborn.set_context('poster')"
   ]
  },
  {
   "cell_type": "code",
   "execution_count": null,
   "metadata": {},
   "outputs": [],
   "source": [
    "series = market.Returns_US_1871()"
   ]
  },
  {
   "cell_type": "code",
   "execution_count": null,
   "metadata": {},
   "outputs": [],
   "source": [
    "TYPE = 'Withdrawal (Real)'\n",
    "m = {'Withdrawal (Nominal)': lambda x: float(x.withdraw_n),\n",
    "     'Withdrawal (Real)' : lambda x: float(x.withdraw_r),\n",
    "     'Portfolio (Nominal)': lambda x: float(x.portfolio_n),\n",
    "     'Portfolio (Real)': lambda x: float(x.portfolio_r),\n",
    "     'Bond %': lambda x: float(x.portfolio_post.bonds / (x.portfolio_post.bonds + x.portfolio_post.stocks))\n",
    "}\n",
    "lens = m[TYPE]\n",
    "lens.__label__ = TYPE\n",
    "\n",
    "def fn(x):\n",
    "    return [lens(_) for _ in x]"
   ]
  },
  {
   "cell_type": "code",
   "execution_count": null,
   "metadata": {},
   "outputs": [],
   "source": [
    "VPW_YEARS=40\n",
    "\n",
    "def run_sim(year, key, length=30):\n",
    "    h = {\n",
    "        'tent': lambda p: harvesting.ParameterGlidepath(p, 0.75, 1, 30),\n",
    "        'static-87': harvesting.make_rebalancer(0.87),\n",
    "    }\n",
    "\n",
    "    portfolio = (500000,500000)\n",
    "    \n",
    "    return simulate.withdrawals(series.iter_from(year),\n",
    "                                 withdraw=lambda p, s: withdrawal.VPW(p, s, years_left=VPW_YEARS),\n",
    "                                 years=length,\n",
    "                                 portfolio=portfolio,\n",
    "                                 harvesting=h[key])"
   ]
  },
  {
   "cell_type": "code",
   "execution_count": null,
   "metadata": {},
   "outputs": [],
   "source": [
    "def cew_one(year):\n",
    "    tent = run_sim(year, 'tent')\n",
    "    static = run_sim(year, 'static-87')\n",
    "    \n",
    "    df = pandas.DataFrame({\n",
    "        'tent' : [x.withdraw_r for x in tent],\n",
    "        'static-87' : [x.withdraw_r for x in static],\n",
    "    })\n",
    "    return df.apply(metrics.cew)\n",
    "\n",
    "def cew_all():\n",
    "    df = pandas.DataFrame(index=range(1887, 2019 - 30 + 1), columns=['tent', 'static-87'])\n",
    "    for i in range(1887, 2019 - 30 + 1):\n",
    "        r = cew_one(i)\n",
    "        df.loc[i] = r\n",
    "    return df"
   ]
  },
  {
   "cell_type": "code",
   "execution_count": null,
   "metadata": {},
   "outputs": [],
   "source": [
    "df = cew_all()"
   ]
  },
  {
   "cell_type": "code",
   "execution_count": null,
   "metadata": {},
   "outputs": [],
   "source": [
    "df.head()"
   ]
  },
  {
   "cell_type": "code",
   "execution_count": null,
   "metadata": {},
   "outputs": [],
   "source": [
    "(df[df['tent'] > df['static-87']]).head()"
   ]
  },
  {
   "cell_type": "code",
   "execution_count": null,
   "metadata": {},
   "outputs": [],
   "source": [
    "a = df[df['static-87'] > df['tent']]\n",
    "s = (a['static-87'] - a['tent']) / a['tent']\n",
    "print(s.mean())\n",
    "s.sort_values(ascending=False).head()\n",
    "#len(s[s > 0.05])"
   ]
  },
  {
   "cell_type": "code",
   "execution_count": null,
   "metadata": {},
   "outputs": [],
   "source": [
    "s = a['static-87'] - a['tent']\n",
    "print(s.sort_values(ascending=False).head())\n",
    "print(s.mean())\n",
    "len(s[s>5000]) / len(s)"
   ]
  },
  {
   "cell_type": "code",
   "execution_count": null,
   "metadata": {},
   "outputs": [],
   "source": [
    "a = df[df['tent'] > df['static-87']]\n",
    "s = (a['tent'] - a['static-87'])\n",
    "s.sort_values(ascending=False).mean()"
   ]
  },
  {
   "cell_type": "code",
   "execution_count": null,
   "metadata": {},
   "outputs": [],
   "source": [
    "def chart_one(year):\n",
    "    tent = run_sim(year, 'tent')\n",
    "    static = run_sim(year, 'static-87')\n",
    "    \n",
    "    df = pandas.DataFrame({\n",
    "        'tent' : [lens(x) for x in tent],\n",
    "        'static-87' : [lens(x) for x in static],\n",
    "    })\n",
    "    g = seaborn.relplot(\n",
    "            data=df,\n",
    "            kind='line',\n",
    "            aspect=2,\n",
    "        )\n",
    "    g.fig.autofmt_xdate()\n",
    "    g.despine(left=True, bottom=True, offset=20)\n",
    "    g.fig.suptitle(f'Retirement in {year}')\n",
    "    return g"
   ]
  },
  {
   "cell_type": "code",
   "execution_count": null,
   "metadata": {},
   "outputs": [],
   "source": [
    "chart_one(1929)\n",
    "df.loc[1929]"
   ]
  },
  {
   "cell_type": "code",
   "execution_count": null,
   "metadata": {},
   "outputs": [],
   "source": [
    "def one(year):\n",
    "    tent = run_sim(year, 'tent')\n",
    "    static = run_sim(year, 'static-87')\n",
    "    \n",
    "    df = pandas.DataFrame({\n",
    "        'tent' : [lens(x) for x in tent],\n",
    "        'static-87' : [lens(x) for x in static],\n",
    "    })\n",
    "    return df"
   ]
  },
  {
   "cell_type": "code",
   "execution_count": null,
   "metadata": {},
   "outputs": [],
   "source": [
    "one(1929)"
   ]
  },
  {
   "cell_type": "code",
   "execution_count": null,
   "metadata": {},
   "outputs": [],
   "source": []
  }
 ],
 "metadata": {
  "kernelspec": {
   "display_name": "Python 3",
   "language": "python",
   "name": "python3"
  },
  "language_info": {
   "codemirror_mode": {
    "name": "ipython",
    "version": 3
   },
   "file_extension": ".py",
   "mimetype": "text/x-python",
   "name": "python",
   "nbconvert_exporter": "python",
   "pygments_lexer": "ipython3"
  }
 },
 "nbformat": 4,
 "nbformat_minor": 2
}
