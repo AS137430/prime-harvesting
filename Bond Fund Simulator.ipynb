{
 "cells": [
  {
   "cell_type": "markdown",
   "metadata": {},
   "source": [
    "# X-Y Treasury Bond Fund Simulator\n",
    "\n",
    "This is based off of [longinvest's post on bogleheads](1). He implemented it all in a spreadsheet (which is linked in the thread).\n",
    "\n",
    "The goal is to calculate returns of a simulated bond fund given a bunch of interest rates.\n",
    "\n",
    "First we need to import some libraries...."
   ]
  },
  {
   "cell_type": "code",
   "execution_count": 1,
   "metadata": {
    "collapsed": false
   },
   "outputs": [],
   "source": [
    "import numpy\n",
    "from collections import deque\n",
    "import pandas\n",
    "import math"
   ]
  },
  {
   "cell_type": "markdown",
   "metadata": {},
   "source": [
    "# Simulating the Bond Fund\n",
    "Simulating the bond fund is conceptually straightforward.\n",
    "\n",
    "You have a ladder of bonds, one for each year. Something like this:\n",
    "\n",
    "    deque([Maturity: 1 | Yield: 5.00% | Face Value: $50.00,\n",
    "       Maturity: 2 | Yield: 5.00% | Face Value: $52.50,\n",
    "           Maturity: 3 | Yield: 5.00% | Face Value: $55.12,\n",
    "       Maturity: 4 | Yield: 5.00% | Face Value: $57.88,\n",
    "           Maturity: 5 | Yield: 5.00% | Face Value: $60.78,\n",
    "       Maturity: 6 | Yield: 5.00% | Face Value: $63.81,\n",
    "           Maturity: 7 | Yield: 5.00% | Face Value: $67.00,\n",
    "       Maturity: 8 | Yield: 5.00% | Face Value: $70.36,\n",
    "           Maturity: 9 | Yield: 5.00% | Face Value: $73.87])\n",
    "           \n",
    "Every year three things will happen:\n",
    "\n",
    "1. All of the bonds will pay out their cash coupon. This is based on their yield and their face value.\n",
    "1. When a bond gets \"too young\" (I'll come back to this) we sell it. The exact price will also be explained later. Every year you will sell one bond of the youngest maturity.\n",
    "1. Now you've got a pile of cash and one fewer bond. Use the cash to buy a new bond of the longest maturity.\n",
    "\n",
    "## Youngest maturity & oldest maturity\n",
    "\n",
    "When you create the bond fund, you can select the youngest maturity and the oldest maturity. Say that you want fund where the oldest bond has a 10-year maturity and the youngest bond has a 2-year maturity. As a shorthand, we'll call that a 10-2 fund. Every year a 2-year bond will be sold and replaced with a brand new 10-year bond."
   ]
  },
  {
   "cell_type": "code",
   "execution_count": 2,
   "metadata": {
    "collapsed": true
   },
   "outputs": [],
   "source": [
    "def iterate_fund(ladder, yield_curve, steps=9):\n",
    "    payments = get_payments(ladder)\n",
    "\n",
    "    sold_bond = ladder.popleft()\n",
    "    payments += sold_bond.value(yield_curve)\n",
    "\n",
    "    new_bond = Bond(payments, yield_curve[-1], steps+1)\n",
    "    ladder.append(new_bond)\n",
    "    \n",
    "    # This happens *after* we sell the shortest bond and buy a new long one\n",
    "    # (at least, that's what longinvest does...)\n",
    "    nav = get_nav(ladder, yield_curve)\n",
    "    \n",
    "    reduce_maturity(ladder)\n",
    "\n",
    "    return (ladder, payments, nav)\n",
    "\n",
    "def get_nav(ladder, rates):\n",
    "    return sum((b.value(rates) for b in ladder))\n",
    "\n",
    "def get_payments(ladder):\n",
    "    return sum((b.gen_payment() for b in ladder))\n",
    "\n",
    "def reduce_maturity(ladder):\n",
    "    for b in ladder:\n",
    "        b.maturity -= 1\n",
    "    return ladder"
   ]
  },
  {
   "cell_type": "markdown",
   "metadata": {},
   "source": [
    "# Bond Mechanics\n",
    "\n",
    "A bond is just three things: a yield, a face value, and a maturity. If you called up your broker you would say, \"I want to buy \\$100 of the 10-year Treasury that is yielding 3.2%.\" The maturity is 10-years; the face value is $100; and the yield is 3.2%.\n",
    "\n",
    "There are only two things you can do with a bond.\n",
    "\n",
    "### Receive your payment\n",
    "Every year the bond will generate a payment -- a \"coupon\" in bond-speak. This is simply the **yield × face value**. Going back to the previous example, with a face value of \\$100 and a yield of 3.2%, every year you would get a payment of $3.20. (Not very impressive, admittedly.)\n",
    "\n",
    "### Check the current value of the bond\n",
    "Bonds are designed to be held until their maturity. At that point you'll receive a payment for the face value. In our example, that would mean after holding the bond for 10 years you would get your full \\$100 back.\n",
    "\n",
    "But what if you wanted to sell the bond **before** maturity? That's (usually) possible but the exact price will depend on current rates. Say we want to sell our bond after 9 years. In essence, we have a 1-year bond that yields 3.2%. What if the current going yield for 1-year bonds was 2.5%? Then our bond will be worth a little more. If the current going yield for 1-year bonds is 4.2% then our bond will be worth a little less.\n",
    "\n",
    "* take the current maturity remaining on the bond\n",
    "* take the current yield on bonds of that maturity\n",
    "* take the bond face value\n",
    "\n",
    "Then mix all of them into present value calculation: **pv(current yield, current maturity, face value)**. (The pv function is found in every spreadsheet and many calculators.)\n",
    "\n",
    "If the current yields are 2.5% and you have a face value of \\$100 then the present value is \\$97.56. That is, someone would be willing to pay \\$97.56 for the bond. This is the bond's current value and how much you would get if you were to sell it.\n",
    "\n",
    "### From rates to returns\n",
    "At the end of the day, checking the current value of the bonds we hold is what we're trying to achieve. By adding up the value of all the bonds we hold we can figure out the Net Asset Value (NAV) of our fund. And then we compare that NAV over time. This is what we wanted: to be able to calculate the returns of a (simulated) bond fund."
   ]
  },
  {
   "cell_type": "code",
   "execution_count": 3,
   "metadata": {
    "collapsed": true
   },
   "outputs": [],
   "source": [
    "class Bond:\n",
    "    def __init__(self, face_value, yield_pct, maturity):\n",
    "        self.face_value = face_value\n",
    "        self.yield_pct = yield_pct\n",
    "        self.maturity = maturity\n",
    "        \n",
    "    def __repr__(self):\n",
    "        return ('Maturity: %d | Yield: %.2f%% | Face Value: $%.2f' % (self.maturity, self.yield_pct * 100, self.face_value))\n",
    "        \n",
    "    def gen_payment(self):\n",
    "        return self.face_value * self.yield_pct\n",
    "    \n",
    "    def value(self, rates):\n",
    "        value = numpy.pv(rates[self.maturity - 1], self.maturity, self.gen_payment(), self.face_value)\n",
    "        return -value"
   ]
  },
  {
   "cell_type": "markdown",
   "metadata": {},
   "source": [
    "# Bootstrapping the Ladder\n",
    "\n",
    "Our bond ladder is straightforward enough. Sell the youngest bond and buy another one of the old bonds, using whatever cash we currently have available.\n",
    "\n",
    "But how do you get the ladder **started**? Where do those first bonds come from?\n",
    "\n",
    "Here's where things get a little bit unavoidably hacky. In the real world, you could slowly build up a ladder over time. For instance, buy 1/10th of the ladder every year for a decade. That takes, well, a decade. Which means there's an entire decade in our simulation with no results. We can shortcut that at the cost of a slight loss of accuracy.\n",
    "\n",
    "If we're building a 10-2 ladder then we have 9 bonds (we don't have a bond with 1-year maturity, hence only 9 bonds). We bootstrap the ladder by buying all ten instantly. That means they will all have the same yield -- whatever the current yield is."
   ]
  },
  {
   "cell_type": "code",
   "execution_count": 4,
   "metadata": {
    "collapsed": false
   },
   "outputs": [
    {
     "data": {
      "text/plain": [
       "deque([Maturity: 2 | Yield: 5.32% | Face Value: $50.00,\n",
       "       Maturity: 3 | Yield: 5.32% | Face Value: $52.66,\n",
       "       Maturity: 4 | Yield: 5.32% | Face Value: $55.46,\n",
       "       Maturity: 5 | Yield: 5.32% | Face Value: $58.41,\n",
       "       Maturity: 6 | Yield: 5.32% | Face Value: $61.52,\n",
       "       Maturity: 7 | Yield: 5.32% | Face Value: $64.79,\n",
       "       Maturity: 8 | Yield: 5.32% | Face Value: $68.24,\n",
       "       Maturity: 9 | Yield: 5.32% | Face Value: $71.87,\n",
       "       Maturity: 10 | Yield: 5.32% | Face Value: $75.69])"
      ]
     },
     "execution_count": 4,
     "metadata": {},
     "output_type": "execute_result"
    }
   ],
   "source": [
    "def bootstrap(bond_yield, max_bonds, min_maturity):\n",
    "    ladder = deque()\n",
    "    starting_face_value = 50 # chosen arbitrarily (to match longinvest)\n",
    "    for i, j in zip(range(max_bonds), range(min_maturity, max_bonds+1)):\n",
    "        face_value = pow(1 + bond_yield, i) * starting_face_value\n",
    "        b = Bond(face_value, bond_yield, j)\n",
    "        ladder.append(b)\n",
    "    return ladder\n",
    "bootstrap(.0532, 10, 2)"
   ]
  },
  {
   "cell_type": "markdown",
   "metadata": {},
   "source": [
    "Why do we have a different face value for each one? Why not just $50 for each? Good question. I don't know. But that's what longinvest did in the spreadsheet, so I'm assuming there was a good reason for it :)"
   ]
  },
  {
   "cell_type": "markdown",
   "metadata": {},
   "source": [
    "# Rates\n",
    "\n",
    "Now that we understand how the ladder works and how to bootstrap it, we need a source of rates in order to drive the engine.\n",
    "\n",
    "We have a number of sources of rate data.\n",
    "\n",
    "* Shiller provides 10 year yields on Treasuries, going back to 1871\n",
    "* Shiller provides 1 year interest rates, going back to 1871\n",
    "* [FRED provides 1-, 2-, 3-, 5-, and 7-year rates](1). The data begins in the 1954-1977 range. When available, we prefer the FRED data over Shiller data.\n",
    "\n",
    "So we will start by importing those. (I've spliced them all into a single CSV file to make importing things simpler.)\n",
    "\n",
    "[1]: https://fred.stlouisfed.org/series/GS1"
   ]
  },
  {
   "cell_type": "code",
   "execution_count": 5,
   "metadata": {
    "collapsed": false
   },
   "outputs": [
    {
     "data": {
      "text/html": [
       "<div>\n",
       "<table border=\"1\" class=\"dataframe\">\n",
       "  <thead>\n",
       "    <tr style=\"text-align: right;\">\n",
       "      <th></th>\n",
       "      <th>Year</th>\n",
       "      <th>1 year</th>\n",
       "      <th>2 year</th>\n",
       "      <th>3 year</th>\n",
       "      <th>5 year</th>\n",
       "      <th>7 year</th>\n",
       "      <th>10 year</th>\n",
       "    </tr>\n",
       "  </thead>\n",
       "  <tbody>\n",
       "    <tr>\n",
       "      <th>0</th>\n",
       "      <td>1871</td>\n",
       "      <td>0.0635</td>\n",
       "      <td>NaN</td>\n",
       "      <td>NaN</td>\n",
       "      <td>NaN</td>\n",
       "      <td>NaN</td>\n",
       "      <td>0.0532</td>\n",
       "    </tr>\n",
       "    <tr>\n",
       "      <th>1</th>\n",
       "      <td>1872</td>\n",
       "      <td>0.0781</td>\n",
       "      <td>NaN</td>\n",
       "      <td>NaN</td>\n",
       "      <td>NaN</td>\n",
       "      <td>NaN</td>\n",
       "      <td>0.0536</td>\n",
       "    </tr>\n",
       "    <tr>\n",
       "      <th>2</th>\n",
       "      <td>1873</td>\n",
       "      <td>0.0835</td>\n",
       "      <td>NaN</td>\n",
       "      <td>NaN</td>\n",
       "      <td>NaN</td>\n",
       "      <td>NaN</td>\n",
       "      <td>0.0558</td>\n",
       "    </tr>\n",
       "    <tr>\n",
       "      <th>3</th>\n",
       "      <td>1874</td>\n",
       "      <td>0.0686</td>\n",
       "      <td>NaN</td>\n",
       "      <td>NaN</td>\n",
       "      <td>NaN</td>\n",
       "      <td>NaN</td>\n",
       "      <td>0.0547</td>\n",
       "    </tr>\n",
       "    <tr>\n",
       "      <th>4</th>\n",
       "      <td>1875</td>\n",
       "      <td>0.0496</td>\n",
       "      <td>NaN</td>\n",
       "      <td>NaN</td>\n",
       "      <td>NaN</td>\n",
       "      <td>NaN</td>\n",
       "      <td>0.0507</td>\n",
       "    </tr>\n",
       "  </tbody>\n",
       "</table>\n",
       "</div>"
      ],
      "text/plain": [
       "   Year  1 year  2 year  3 year  5 year  7 year  10 year\n",
       "0  1871  0.0635     NaN     NaN     NaN     NaN   0.0532\n",
       "1  1872  0.0781     NaN     NaN     NaN     NaN   0.0536\n",
       "2  1873  0.0835     NaN     NaN     NaN     NaN   0.0558\n",
       "3  1874  0.0686     NaN     NaN     NaN     NaN   0.0547\n",
       "4  1875  0.0496     NaN     NaN     NaN     NaN   0.0507"
      ]
     },
     "execution_count": 5,
     "metadata": {},
     "output_type": "execute_result"
    }
   ],
   "source": [
    "historical_rates = pandas.read_csv('bond_rates.csv')\n",
    "historical_rates.head()"
   ]
  },
  {
   "cell_type": "markdown",
   "metadata": {},
   "source": [
    "## Rate interpolation\n",
    "\n",
    "For a given year, we will have **some** rate data. At the very least we will have the 1-year and 10-year rates; the data on those go back the further thanks to Shiller.\n",
    "\n",
    "However, we may *also* have other rate data from FRED.\n",
    "\n",
    "But we need to have rate data for every year on the yield curve. That is: 1-, 2-, 3-, 4-, 5-, 6-, 7-, 9-, and 10-year rates. When we don't have the data available we will perform linear interpolation from data we *do* have to fill in the gaps.\n",
    "\n",
    "So if we only have the 1- and 10-year data then we need to do a linear interpolation for the other 8 years. If we have 1-, 3-, and 10-year data then we do linear interpolation between the 1- and 3-year data to fill in the 2-year data. And we'll do linear interpolation between the 3- and 10-year data for the rest.\n",
    "\n",
    "### Potential problems with linear interpolation\n",
    "\n",
    "This linear interpolation is not perfect: it assumes that the yield curve is linear and that may not be the case. In particular, [look at this post from Fryxell](1) where he notes that before the 1920s the yield curve may have looked very different from what it did today.\n",
    "\n",
    "Still, trying to handle that is beyond the scope of this simulation. The more historical data (like those extra FRED data points) that we have, the less of this linear interpolation we need to do. That makes our post-1954 numbers better than the earlier numbers.\n",
    "\n",
    "[1]: https://www.bogleheads.org/forum/viewtopic.php?f=10&t=179425&start=100#p2973643"
   ]
  },
  {
   "cell_type": "code",
   "execution_count": 6,
   "metadata": {
    "collapsed": true
   },
   "outputs": [],
   "source": [
    "def interpolate_rates(raw_rates, steps=9):\n",
    "    # First try to pre-load any FRED rates.\n",
    "    # We use NaN to indicate \"the data needs to be interpolated\"\n",
    "    s = pandas.Series(math.nan, index=numpy.arange(steps+1))\n",
    "    s.iloc[0] = raw_rates['1 year']\n",
    "    s.iloc[1] = raw_rates['2 year']\n",
    "    s.iloc[2] = raw_rates['3 year']\n",
    "    s.iloc[4] = raw_rates['5 year']\n",
    "    s.iloc[6] = raw_rates['7 year']\n",
    "    s.iloc[9] = raw_rates['10 year']\n",
    "    \n",
    "    def left_number(series, index):\n",
    "        if not math.isnan(series.iloc[index]):\n",
    "            return index\n",
    "        else:\n",
    "            return left_number(series, index-1)\n",
    "        \n",
    "    def right_number(series, index):\n",
    "        if not math.isnan(series.iloc[index]):\n",
    "            return index\n",
    "        else:\n",
    "            return right_number(series, index+1)\n",
    "        \n",
    "    # now fill in the gaps with linear interpolation.\n",
    "    for i in (1, 2, 3, 4, 5, 6, 7, 8):\n",
    "        if math.isnan(s.iloc[i]):\n",
    "            #print('Interpolating year', i+1)\n",
    "            left = left_number(s, i)\n",
    "            right = right_number(s, i)\n",
    "            steps = right - left\n",
    "            # Once we've figured out where there is good data around the hole,\n",
    "            # we can interpolate.\n",
    "            rate = s.iloc[left] + ((s.iloc[right] - s.iloc[left]) * (i - left) / steps)\n",
    "            s.iloc[i] = rate\n",
    "\n",
    "    return s.tolist()"
   ]
  },
  {
   "cell_type": "code",
   "execution_count": 7,
   "metadata": {
    "collapsed": false
   },
   "outputs": [
    {
     "data": {
      "text/plain": [
       "[0.0635,\n",
       " 0.06235555555555555,\n",
       " 0.061211111111111105,\n",
       " 0.060066666666666664,\n",
       " 0.05892222222222222,\n",
       " 0.057777777777777775,\n",
       " 0.05663333333333333,\n",
       " 0.055488888888888886,\n",
       " 0.054344444444444445,\n",
       " 0.0532]"
      ]
     },
     "execution_count": 7,
     "metadata": {},
     "output_type": "execute_result"
    }
   ],
   "source": [
    "interpolate_rates(historical_rates.iloc[0])"
   ]
  },
  {
   "cell_type": "markdown",
   "metadata": {},
   "source": [
    "# Putting it all together\n",
    "\n",
    "Now we have all the building blocks. We have a source of rates. We have a way to bootstrap our ladder. We have a way to see how the NAV changes over time.\n",
    "\n",
    "We only have one decision left to make -- what are the youngest & oldest maturities that we care about? Do we want a 10-2 fund? Or 10-4 fund?\n",
    "\n",
    "Well...due to the way I've implemented things, you always have to use a 10-year old fund as your oldest. Sorry. That's just the way it is. But you get to choose what the youngest fund is.\n",
    "\n",
    "Do you want a 10-2 fund, or 10-4 fund, or something else? That's actually done by the way you create the bootstrap ladder. This is how you build a 10-2 ladder."
   ]
  },
  {
   "cell_type": "code",
   "execution_count": 8,
   "metadata": {
    "collapsed": true
   },
   "outputs": [],
   "source": [
    "ladder = bootstrap(historical_rates.iloc[0]['10 year'], 10, 2)"
   ]
  },
  {
   "cell_type": "code",
   "execution_count": 9,
   "metadata": {
    "collapsed": false
   },
   "outputs": [],
   "source": [
    "def loop(ladder, rates):    \n",
    "    df = pandas.DataFrame(columns=['NAV', 'Payments', 'Change'], index=numpy.arange(1871, 2017))\n",
    "\n",
    "    for (i, current_rates) in rates:\n",
    "        (ladder, payments, nav) = iterate_fund(ladder, interpolate_rates(current_rates))\n",
    "        df.iloc[i] = {'NAV' : nav, 'Payments' : payments}\n",
    "\n",
    "    return df"
   ]
  },
  {
   "cell_type": "code",
   "execution_count": 10,
   "metadata": {
    "collapsed": false
   },
   "outputs": [
    {
     "data": {
      "text/html": [
       "<div>\n",
       "<table border=\"1\" class=\"dataframe\">\n",
       "  <thead>\n",
       "    <tr style=\"text-align: right;\">\n",
       "      <th></th>\n",
       "      <th>NAV</th>\n",
       "      <th>Payments</th>\n",
       "      <th>Change</th>\n",
       "    </tr>\n",
       "  </thead>\n",
       "  <tbody>\n",
       "    <tr>\n",
       "      <th>1871</th>\n",
       "      <td>579.462</td>\n",
       "      <td>78.8835</td>\n",
       "      <td>NaN</td>\n",
       "    </tr>\n",
       "    <tr>\n",
       "      <th>1872</th>\n",
       "      <td>594.259</td>\n",
       "      <td>81.8208</td>\n",
       "      <td>NaN</td>\n",
       "    </tr>\n",
       "    <tr>\n",
       "      <th>1873</th>\n",
       "      <td>613.245</td>\n",
       "      <td>85.6115</td>\n",
       "      <td>NaN</td>\n",
       "    </tr>\n",
       "    <tr>\n",
       "      <th>1874</th>\n",
       "      <td>662.586</td>\n",
       "      <td>91.6101</td>\n",
       "      <td>NaN</td>\n",
       "    </tr>\n",
       "    <tr>\n",
       "      <th>1875</th>\n",
       "      <td>728.869</td>\n",
       "      <td>98.4884</td>\n",
       "      <td>NaN</td>\n",
       "    </tr>\n",
       "  </tbody>\n",
       "</table>\n",
       "</div>"
      ],
      "text/plain": [
       "          NAV Payments Change\n",
       "1871  579.462  78.8835    NaN\n",
       "1872  594.259  81.8208    NaN\n",
       "1873  613.245  85.6115    NaN\n",
       "1874  662.586  91.6101    NaN\n",
       "1875  728.869  98.4884    NaN"
      ]
     },
     "execution_count": 10,
     "metadata": {},
     "output_type": "execute_result"
    }
   ],
   "source": [
    "returns = loop(ladder, historical_rates.iterrows())\n",
    "returns.head()"
   ]
  },
  {
   "cell_type": "code",
   "execution_count": 11,
   "metadata": {
    "collapsed": false
   },
   "outputs": [
    {
     "data": {
      "text/html": [
       "<div>\n",
       "<table border=\"1\" class=\"dataframe\">\n",
       "  <thead>\n",
       "    <tr style=\"text-align: right;\">\n",
       "      <th></th>\n",
       "      <th>NAV</th>\n",
       "      <th>Payments</th>\n",
       "      <th>Change</th>\n",
       "    </tr>\n",
       "  </thead>\n",
       "  <tbody>\n",
       "    <tr>\n",
       "      <th>1871</th>\n",
       "      <td>579.462</td>\n",
       "      <td>78.8835</td>\n",
       "      <td>0.0255342</td>\n",
       "    </tr>\n",
       "    <tr>\n",
       "      <th>1872</th>\n",
       "      <td>594.259</td>\n",
       "      <td>81.8208</td>\n",
       "      <td>0.0319495</td>\n",
       "    </tr>\n",
       "    <tr>\n",
       "      <th>1873</th>\n",
       "      <td>613.245</td>\n",
       "      <td>85.6115</td>\n",
       "      <td>0.0804593</td>\n",
       "    </tr>\n",
       "    <tr>\n",
       "      <th>1874</th>\n",
       "      <td>662.586</td>\n",
       "      <td>91.6101</td>\n",
       "      <td>0.100036</td>\n",
       "    </tr>\n",
       "    <tr>\n",
       "      <th>1875</th>\n",
       "      <td>728.869</td>\n",
       "      <td>98.4884</td>\n",
       "      <td>0.0578791</td>\n",
       "    </tr>\n",
       "  </tbody>\n",
       "</table>\n",
       "</div>"
      ],
      "text/plain": [
       "          NAV Payments     Change\n",
       "1871  579.462  78.8835  0.0255342\n",
       "1872  594.259  81.8208  0.0319495\n",
       "1873  613.245  85.6115  0.0804593\n",
       "1874  662.586  91.6101   0.100036\n",
       "1875  728.869  98.4884  0.0578791"
      ]
     },
     "execution_count": 11,
     "metadata": {},
     "output_type": "execute_result"
    }
   ],
   "source": [
    "def calculate_returns(df):\n",
    "    # Calculate the NAV changes\n",
    "    max_row = df.shape[0]\n",
    "    for i in range(max_row - 1):\n",
    "        next_nav = df.iloc[i+1]['NAV']\n",
    "        nav = df.iloc[i]['NAV']\n",
    "        change = (next_nav - nav) / nav\n",
    "        df.iloc[i]['Change'] = change\n",
    "    return df\n",
    "\n",
    "calculate_returns(returns)\n",
    "returns.head()"
   ]
  },
  {
   "cell_type": "markdown",
   "metadata": {},
   "source": [
    "It matches the 10-2 spreadsheet perfectly up until 1954...at which point longinvest starts using FRED data where available (e.g. for 1-year, 3-year, and 5-year) instead of continuing with linear interpolation.\n",
    "\n",
    "TODO\n",
    "\n",
    "- First, generalise things. Make it so I can do 10-2, 10-4, 4-2, 3-2, 30-11, 20-2.\n",
    "- Handle the 2-year fund. What's this?\n",
    "- Handle \"Bond Ladder\". The \"Bond Fund\" sells prior to maturity. The \"Bond Ladder\" holds to maturity.\n",
    "- Once everything works for annual data, try monthly."
   ]
  },
  {
   "cell_type": "code",
   "execution_count": null,
   "metadata": {
    "collapsed": true
   },
   "outputs": [],
   "source": []
  }
 ],
 "metadata": {
  "anaconda-cloud": {},
  "kernelspec": {
   "display_name": "Python [default]",
   "language": "python",
   "name": "python3"
  },
  "language_info": {
   "codemirror_mode": {
    "name": "ipython",
    "version": 3
   },
   "file_extension": ".py",
   "mimetype": "text/x-python",
   "name": "python",
   "nbconvert_exporter": "python",
   "pygments_lexer": "ipython3",
   "version": "3.5.2"
  }
 },
 "nbformat": 4,
 "nbformat_minor": 0
}
