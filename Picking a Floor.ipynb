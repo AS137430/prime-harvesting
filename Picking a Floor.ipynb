{
 "cells": [
  {
   "cell_type": "code",
   "execution_count": null,
   "metadata": {},
   "outputs": [],
   "source": [
    "%matplotlib inline\n",
    "from pprint import pprint\n",
    "\n",
    "from matplotlib import pyplot as plt\n",
    "import matplotlib\n",
    "\n",
    "import simulate\n",
    "from harvesting import N_60_RebalanceHarvesting, N_100_RebalanceHarvesting\n",
    "import harvesting\n",
    "\n",
    "import itertools\n",
    "from decimal import Decimal\n",
    "from montecarlo import conservative\n",
    "import metrics\n",
    "import mortality\n",
    "import montecarlo\n",
    "import lens\n",
    "import pandas\n",
    "import seaborn\n",
    "import math\n",
    "import types\n",
    "from market import Returns_US_1871\n",
    "import withdrawal"
   ]
  },
  {
   "cell_type": "code",
   "execution_count": null,
   "metadata": {},
   "outputs": [],
   "source": [
    "seaborn.set(style=\"whitegrid\")\n",
    "seaborn.set_context('poster')"
   ]
  },
  {
   "cell_type": "code",
   "execution_count": null,
   "metadata": {},
   "outputs": [],
   "source": [
    "def is_sequence(arg):\n",
    "    return (not hasattr(arg, \"strip\") and\n",
    "            hasattr(arg, \"__iteritems__\") or\n",
    "            hasattr(arg, \"__iter__\"))\n",
    "\n",
    "def listify(arg):\n",
    "    if is_sequence(arg) and not isinstance(arg, dict):\n",
    "        return arg\n",
    "    return [arg,]"
   ]
  },
  {
   "cell_type": "code",
   "execution_count": null,
   "metadata": {},
   "outputs": [],
   "source": [
    "def make_vpwfloor(floor):\n",
    "    w = lambda p, h: withdrawal.VPWFloored(p, h, floor=floor)\n",
    "    w.__name__ = f'VPWFloor_{floor}'\n",
    "    return w\n",
    "\n",
    "def run(series, lens, years=30, w1=make_vpwfloor(Decimal('.04')), w2=withdrawal.ConstantDollar):\n",
    "    (r1, r2) = itertools.tee(series)\n",
    "    portfolio = (600000, 400000)\n",
    "    sim1 = simulate.withdrawals(r1, years=years, harvesting=N_60_RebalanceHarvesting, withdraw=w1, portfolio=portfolio)\n",
    "    sim2 = simulate.withdrawals(r2, years=years, harvesting=N_60_RebalanceHarvesting, withdraw=w2, portfolio=portfolio)\n",
    "\n",
    "    df = pandas.DataFrame(data={\n",
    "        w1.__name__: listify(lens(sim1)),\n",
    "        w2.__name__: listify(lens(sim2)),\n",
    "    })\n",
    "    return df\n",
    "\n",
    "def run3(series, lens, years=30, w1=make_vpwfloor(Decimal('.04')), w2=withdrawal.ConstantDollar, w3=withdrawal.VPW):\n",
    "    (r1, r2, r3) = itertools.tee(series, 3)\n",
    "    portfolio = (600000, 400000)\n",
    "    sim1 = simulate.withdrawals(r1, years=years, harvesting=N_60_RebalanceHarvesting, withdraw=w1, portfolio=portfolio)\n",
    "    sim2 = simulate.withdrawals(r2, years=years, harvesting=N_60_RebalanceHarvesting, withdraw=w2, portfolio=portfolio)\n",
    "    sim3 = simulate.withdrawals(r3, years=years, harvesting=N_60_RebalanceHarvesting, withdraw=w3, portfolio=portfolio)\n",
    "\n",
    "    df = pandas.DataFrame(data={\n",
    "        w1.__name__: listify(lens(sim1)),\n",
    "        w2.__name__: listify(lens(sim2)),\n",
    "        w3.__name__: listify(lens(sim3)),\n",
    "    })    \n",
    "    return df\n",
    "\n",
    "\n",
    "def withdrawals(s):\n",
    "    return [int(n.withdraw_r) for n in s]\n",
    "\n",
    "def portfolio(s):\n",
    "    return [int(n.portfolio_post.value_r) for n in s]\n",
    "\n",
    "def cwd(s):\n",
    "    return [float(n.withdraw_pct_cur) for n in s]\n",
    "\n",
    "def pv_20(annual):\n",
    "    portfolio_values = [n.portfolio_post.value_r for n in annual]\n",
    "    s = pandas.Series(portfolio_values)\n",
    "    return int(s.at[20])\n",
    "\n",
    "def wd_20(annual):\n",
    "    wd = [n.withdraw_pct_cur for n in annual]\n",
    "    s = pandas.Series(wd)\n",
    "    return float(s.at[20])\n",
    "\n",
    "def get_rq(age, withdrawal_pct, stock_pct=60):\n",
    "    # I can't figure out how to to joint life expectancy so I'll\n",
    "    # just use female life expectancy for now :/\n",
    "    life_expectancy = mortality.life_expectancy(None, age)\n",
    "    mean = montecarlo.simba_mean[stock_pct]\n",
    "    stddev = montecarlo.simba_stddev[stock_pct]\n",
    "    \n",
    "    return metrics.probability_of_ruin(mean, stddev, life_expectancy, float(withdrawal_pct))\n",
    "\n",
    "def rq(annual):\n",
    "    r_series = []\n",
    "    for (i, age) in zip(annual, itertools.count(start=65)):\n",
    "        r = get_rq(age, i.withdraw_n/i.portfolio_pre.value_n)\n",
    "        r_series.append(r)\n",
    "    return r_series\n",
    "\n",
    "def sustained(annual, floor=Decimal('.04')):\n",
    "    initial = annual[0].portfolio_pre.value_r\n",
    "    # subtract $1 to deal with floating point weirdness (sometimes $40 turns into $39.9999)\n",
    "    floor = floor * initial - 1\n",
    "\n",
    "    df = pandas.DataFrame(annual)\n",
    "    failed = df[df['withdraw_r'] < floor]\n",
    "    s_y = len(failed)\n",
    "\n",
    "    if s_y:\n",
    "        return -s_y\n",
    "    else:\n",
    "        b_t = df.tail(1)['portfolio_post'].item().value_r\n",
    "        b_y = b_t / df['withdraw_r'][0]\n",
    "        return b_y\n"
   ]
  },
  {
   "cell_type": "code",
   "execution_count": null,
   "metadata": {},
   "outputs": [],
   "source": [
    "US = Returns_US_1871()"
   ]
  },
  {
   "cell_type": "code",
   "execution_count": null,
   "metadata": {},
   "outputs": [],
   "source": [
    "run(US.iter_from(1969), withdrawals).head()"
   ]
  },
  {
   "cell_type": "code",
   "execution_count": null,
   "metadata": {},
   "outputs": [],
   "source": [
    "run(US.iter_from(1969), sustained).head()"
   ]
  },
  {
   "cell_type": "code",
   "execution_count": null,
   "metadata": {},
   "outputs": [],
   "source": [
    "s1 = simulate.calc_lens(N_60_RebalanceHarvesting, make_vpwfloor(Decimal('.04')), 30, sustained)\n",
    "s2 = simulate.calc_lens(N_60_RebalanceHarvesting, withdrawal.ConstantDollar, 30, sustained)"
   ]
  },
  {
   "cell_type": "code",
   "execution_count": null,
   "metadata": {},
   "outputs": [],
   "source": [
    "s1[s1<0]"
   ]
  },
  {
   "cell_type": "code",
   "execution_count": null,
   "metadata": {},
   "outputs": [],
   "source": [
    "s2[s2<0]"
   ]
  },
  {
   "cell_type": "code",
   "execution_count": null,
   "metadata": {},
   "outputs": [],
   "source": [
    "df = run(US.iter_from(1969), portfolio)\n",
    "plt.figure(figsize=(11,9))\n",
    "g = seaborn.lineplot(data=df)\n",
    "plt.title('Portfolio value for 1969 retirement')\n",
    "seaborn.despine(left=True, bottom=True, offset=20)\n",
    "g.axes.yaxis.set_major_formatter(\n",
    "    matplotlib.ticker.FuncFormatter(lambda x, p: format(int(x), ',')))"
   ]
  },
  {
   "cell_type": "code",
   "execution_count": null,
   "metadata": {},
   "outputs": [],
   "source": [
    "s1 = simulate.calc_lens(N_60_RebalanceHarvesting, make_vpwfloor(Decimal('.034')), 30, pv_20)\n",
    "plt.figure(figsize=(11,9))\n",
    "g = seaborn.lineplot(data=s1)\n",
    "plt.title('Portfolio value after 20 years with 3.4% floor')\n",
    "seaborn.despine(left=True, bottom=True, offset=20)\n",
    "g.axes.yaxis.set_major_formatter(\n",
    "    matplotlib.ticker.FuncFormatter(lambda x, p: format(int(x), ',')))"
   ]
  },
  {
   "cell_type": "code",
   "execution_count": null,
   "metadata": {},
   "outputs": [],
   "source": [
    "s1 = simulate.calc_lens(N_60_RebalanceHarvesting, make_vpwfloor(Decimal('.034')), 30, wd_20)\n",
    "plt.figure(figsize=(11,9))\n",
    "g = seaborn.lineplot(data=s1)\n",
    "plt.title('Current withdrawal rate in Year 20 with 3.4% floor')\n",
    "seaborn.despine(left=True, bottom=True, offset=20)"
   ]
  },
  {
   "cell_type": "code",
   "execution_count": null,
   "metadata": {},
   "outputs": [],
   "source": [
    "a = simulate.withdrawals(US.iter_from(1969),\n",
    "                         years=30,\n",
    "                         harvesting=N_60_RebalanceHarvesting,\n",
    "                         withdraw=make_vpwfloor(Decimal('.04')),\n",
    "                         portfolio=(600_000, 400_000))"
   ]
  },
  {
   "cell_type": "code",
   "execution_count": null,
   "metadata": {},
   "outputs": [],
   "source": [
    "sf = []\n",
    "for i in range(10):\n",
    "    floor = Decimal('4')\n",
    "    floor = floor - Decimal(i)/10\n",
    "    floor = floor / 100\n",
    "    s1 = simulate.calc_lens(N_60_RebalanceHarvesting, make_vpwfloor(floor), 30, lambda x: sustained(x, floor=floor))\n",
    "    sf.append((floor, -s1[s1<0].sum()))"
   ]
  },
  {
   "cell_type": "code",
   "execution_count": null,
   "metadata": {},
   "outputs": [],
   "source": [
    "s = pandas.Series(data=[x[1] for x in sf], index=[x[0] for x in sf])\n",
    "plt.figure(figsize=(11,9))\n",
    "plt.title('Years of shortfall')\n",
    "seaborn.despine(left=True, bottom=True, offset=20)\n",
    "s.plot()\n",
    "s"
   ]
  },
  {
   "cell_type": "code",
   "execution_count": null,
   "metadata": {},
   "outputs": [],
   "source": [
    "df = run3(US.iter_from(1969), withdrawals, w1=make_vpwfloor(Decimal('0.034')))\n",
    "plt.figure(figsize=(11,9))\n",
    "g = seaborn.lineplot(data=df)\n",
    "plt.title('Withdrawals for 1969 retirement')\n",
    "seaborn.despine(left=True, bottom=True, offset=20)\n",
    "g.axes.yaxis.set_major_formatter(\n",
    "    matplotlib.ticker.FuncFormatter(lambda x, p: format(int(x), ',')))"
   ]
  },
  {
   "cell_type": "code",
   "execution_count": null,
   "metadata": {},
   "outputs": [],
   "source": [
    "s1 = simulate.calc_lens(N_60_RebalanceHarvesting, make_vpwfloor(Decimal('.03')), 30, wd_20)\n",
    "plt.figure(figsize=(11,9))\n",
    "g = seaborn.lineplot(data=s1)\n",
    "plt.title('Current withdrawal rate in Year 20 with 3.4% floor')\n",
    "seaborn.despine(left=True, bottom=True, offset=20)"
   ]
  },
  {
   "cell_type": "code",
   "execution_count": null,
   "metadata": {},
   "outputs": [],
   "source": [
    "df = run(US.iter_from(1969), cwd, w1=make_vpwfloor(Decimal('0.034')), w2=withdrawal.VPW)\n",
    "plt.figure(figsize=(11,9))\n",
    "g = seaborn.lineplot(data=df)\n",
    "plt.title('Current withdrawal percentage for 1969 retirement')\n",
    "seaborn.despine(left=True, bottom=True, offset=20)"
   ]
  },
  {
   "cell_type": "code",
   "execution_count": null,
   "metadata": {},
   "outputs": [],
   "source": [
    "df = run(US.iter_from(1969), cwd, w1=make_vpwfloor(Decimal('0.031')), w2=withdrawal.VPW)\n",
    "plt.figure(figsize=(11,9))\n",
    "g = seaborn.lineplot(data=df)\n",
    "plt.title('Current withdrawal percentage for 1969 retirement')\n",
    "seaborn.despine(left=True, bottom=True, offset=20)"
   ]
  },
  {
   "cell_type": "code",
   "execution_count": null,
   "metadata": {},
   "outputs": [],
   "source": [
    "df = run(US.iter_from(1969), rq, w1=make_vpwfloor(Decimal('0.034')), w2=withdrawal.VPW)\n",
    "plt.figure(figsize=(11,9))\n",
    "g = seaborn.lineplot(data=df)\n",
    "plt.title('Risk Quotient for 1969 retirement')\n",
    "seaborn.despine(left=True, bottom=True, offset=20)"
   ]
  },
  {
   "cell_type": "code",
   "execution_count": null,
   "metadata": {},
   "outputs": [],
   "source": [
    "sf = []\n",
    "for i in range(15):\n",
    "    floor = Decimal('3.4')\n",
    "    floor = floor - Decimal(i)/10\n",
    "    floor = floor / 100\n",
    "    df = run(US.iter_from(1969), rq, w1=make_vpwfloor(floor), w2=withdrawal.VPW)\n",
    "    n = df.iloc[0:20, 0].max()\n",
    "    sf.append((floor, n))"
   ]
  },
  {
   "cell_type": "code",
   "execution_count": null,
   "metadata": {},
   "outputs": [],
   "source": [
    "s = pandas.Series(data=[x[1] for x in sf], index=[x[0] for x in sf])\n",
    "plt.figure(figsize=(11,9))\n",
    "plt.title('Max risk quotient')\n",
    "seaborn.despine(left=True, bottom=True, offset=20)\n",
    "s.plot()\n",
    "s"
   ]
  },
  {
   "cell_type": "code",
   "execution_count": null,
   "metadata": {},
   "outputs": [],
   "source": [
    "df = run(US.iter_from(1969), rq, w1=make_vpwfloor(Decimal('0.030')), w2=withdrawal.VPW)\n",
    "plt.figure(figsize=(11,9))\n",
    "g = seaborn.lineplot(data=df)\n",
    "plt.title('Risk Quotient for 1969 retirement')\n",
    "seaborn.despine(left=True, bottom=True, offset=20)\n",
    "df.iloc[0:20, 0].max()"
   ]
  },
  {
   "cell_type": "code",
   "execution_count": null,
   "metadata": {},
   "outputs": [],
   "source": [
    "for i in range(10):\n",
    "    floor = Decimal(3)\n",
    "    floor = floor - Decimal(i)/10\n",
    "    floor = floor / 100\n",
    "    df = run(US.iter_from(1969), withdrawals, w1=make_vpwfloor(floor), w2=withdrawal.VPW)\n",
    "    plt.figure(figsize=(11,9))\n",
    "    g = seaborn.lineplot(data=df)\n",
    "    plt.title(f'1969 - Withdrawals with floor {floor}')\n",
    "    seaborn.despine(left=True, bottom=True, offset=20)\n",
    "    g.axes.yaxis.set_major_formatter(\n",
    "        matplotlib.ticker.FuncFormatter(lambda x, p: format(int(x), ',')))"
   ]
  },
  {
   "cell_type": "code",
   "execution_count": null,
   "metadata": {},
   "outputs": [],
   "source": [
    "df = run(US.iter_from(1969), withdrawals, w1=make_vpwfloor(Decimal('0.030')), w2=withdrawal.VPW)\n",
    "#new_df = df['VPWFloor_0.028'] - df['VPW']\n",
    "new_df = df['VPWFloor_0.030'] / df['VPW']\n",
    "new_df[new_df > 1]"
   ]
  },
  {
   "cell_type": "code",
   "execution_count": null,
   "metadata": {},
   "outputs": [],
   "source": [
    "df"
   ]
  },
  {
   "cell_type": "code",
   "execution_count": null,
   "metadata": {},
   "outputs": [],
   "source": []
  }
 ],
 "metadata": {
  "anaconda-cloud": {},
  "kernelspec": {
   "display_name": "Python 3",
   "language": "python",
   "name": "python3"
  },
  "language_info": {
   "codemirror_mode": {
    "name": "ipython",
    "version": 3
   },
   "file_extension": ".py",
   "mimetype": "text/x-python",
   "name": "python",
   "nbconvert_exporter": "python",
   "pygments_lexer": "ipython3"
  }
 },
 "nbformat": 4,
 "nbformat_minor": 4
}
