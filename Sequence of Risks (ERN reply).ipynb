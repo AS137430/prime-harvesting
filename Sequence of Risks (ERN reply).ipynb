{
 "cells": [
  {
   "cell_type": "code",
   "execution_count": null,
   "metadata": {},
   "outputs": [],
   "source": [
    "import market\n",
    "import metrics\n",
    "\n",
    "import pandas\n",
    "import numpy\n",
    "import itertools\n",
    "import statsmodels.api as sm"
   ]
  },
  {
   "cell_type": "markdown",
   "metadata": {},
   "source": [
    "https://earlyretirementnow.com/2017/05/24/the-ultimate-guide-to-safe-withdrawal-rates-part-15-sequence-of-return-risk-part2/"
   ]
  },
  {
   "cell_type": "code",
   "execution_count": null,
   "metadata": {},
   "outputs": [],
   "source": [
    "def grouper(iterable, n, fillvalue=None):\n",
    "    \"Collect data into fixed-length chunks or blocks\"\n",
    "    # grouper('ABCDEFG', 3, 'x') --> ABC DEF Gxx\"\n",
    "    args = [iter(iterable)] * n\n",
    "    return itertools.zip_longest(*args, fillvalue=fillvalue)"
   ]
  },
  {
   "cell_type": "code",
   "execution_count": null,
   "metadata": {},
   "outputs": [],
   "source": [
    "m = market.Returns_US_1871()\n",
    "years = 30\n",
    "first_year = m.start_year\n",
    "last_year = 2018 - years + 1\n",
    "\n",
    "swrs = pandas.DataFrame(index=numpy.arange(first_year, last_year+1), columns=['SWR'])\n",
    "for start in range(first_year, last_year + 1):\n",
    "    returns = []\n",
    "    \n",
    "    for one_year in zip(range(years), m.iter_from(start)):\n",
    "        annual_returns = one_year[1]\n",
    "        real_returns = ((1 + annual_returns.stocks) / (1 + annual_returns.inflation)) - 1\n",
    "        returns.append(real_returns)        \n",
    "\n",
    "    swr = float(metrics.pwa(1, 1, returns))\n",
    "    swrs.loc[start] = swr\n",
    "swrs.head()"
   ]
  },
  {
   "cell_type": "code",
   "execution_count": null,
   "metadata": {},
   "outputs": [],
   "source": [
    "def get_averages(slice_by=5):\n",
    "    m = market.Returns_US_1871()\n",
    "    years = 30\n",
    "    first_year = m.start_year\n",
    "    last_year = 2018 - years + 1\n",
    "    num_slices = years // slice_by\n",
    "    \n",
    "    return_columns = ['Return%s' % i for i in range(num_slices)]\n",
    "    inflation_columns = ['Inflation%s' % i for i in range(num_slices)]\n",
    "\n",
    "    series = pandas.DataFrame(index=numpy.arange(first_year, last_year+1), columns=return_columns + inflation_columns)\n",
    "    for start in range(first_year, last_year + 1):\n",
    "        annual = zip(range(years), m.iter_from(start))\n",
    "        annual = [x[1] for x in annual]\n",
    "\n",
    "        returns = [x.stocks for x in annual]\n",
    "        inflation = [x.inflation for x in annual]\n",
    "\n",
    "        average_inflation = [metrics.average(x) for x in grouper(inflation, slice_by)]\n",
    "        average_return = [metrics.average(x) for x in grouper(returns, slice_by)]\n",
    "        row = series.loc[start]\n",
    "        \n",
    "        for i in range(num_slices):\n",
    "            row['Return%s' % i] = average_return[i]\n",
    "            row['Inflation%s' %i] = average_inflation[i]\n",
    "    return series\n",
    "        \n",
    "averages = get_averages(slice_by=2)\n",
    "averages.head()"
   ]
  },
  {
   "cell_type": "code",
   "execution_count": null,
   "metadata": {},
   "outputs": [],
   "source": [
    "Y = swrs.astype(float)\n",
    "#return_columns = ['Return%s' % i for i in range(4)]\n",
    "inflation_columns = ['Inflation%s' % i for i in range(14)]\n",
    "X = averages[inflation_columns].astype(float)\n",
    "#X = averages.astype(float)\n",
    "X = sm.add_constant(X)\n",
    "\n",
    "model = sm.OLS(Y, X).fit(cov_type='HAC', cov_kwds={'maxlags': 5})\n",
    "predictions = model.predict(X)\n",
    "model.summary()"
   ]
  },
  {
   "cell_type": "code",
   "execution_count": null,
   "metadata": {},
   "outputs": [],
   "source": [
    "model.params[[\"Inflation0\", \"Inflation1\", \"Inflation2\" \"Inflation3\", \"Inflation4\", \"Inflation5\"]].sum()"
   ]
  },
  {
   "cell_type": "code",
   "execution_count": null,
   "metadata": {},
   "outputs": [],
   "source": []
  }
 ],
 "metadata": {
  "kernelspec": {
   "display_name": "Python 3",
   "language": "python",
   "name": "python3"
  },
  "language_info": {
   "codemirror_mode": {
    "name": "ipython",
    "version": 3
   },
   "file_extension": ".py",
   "mimetype": "text/x-python",
   "name": "python",
   "nbconvert_exporter": "python",
   "pygments_lexer": "ipython3"
  }
 },
 "nbformat": 4,
 "nbformat_minor": 2
}
