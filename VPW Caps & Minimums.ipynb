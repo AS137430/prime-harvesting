{
 "cells": [
  {
   "cell_type": "code",
   "execution_count": null,
   "metadata": {},
   "outputs": [],
   "source": [
    "import simulate\n",
    "import withdrawal\n",
    "import market\n",
    "import harvesting\n",
    "import metrics\n",
    "from decimal import Decimal as D\n",
    "import plot\n",
    "\n",
    "import pandas\n",
    "import numpy"
   ]
  },
  {
   "cell_type": "code",
   "execution_count": null,
   "metadata": {},
   "outputs": [],
   "source": [
    "class CappedVPW(withdrawal.VPW):\n",
    "    ceiling = 80000\n",
    "\n",
    "    def _calc(self):\n",
    "        amt = super()._calc()\n",
    "        ceiling = self.ceiling * self.cumulative_inflation\n",
    "        return min(amt, ceiling)"
   ]
  },
  {
   "cell_type": "code",
   "execution_count": null,
   "metadata": {},
   "outputs": [],
   "source": [
    "class SplitVPW(withdrawal.VPW):\n",
    "    def __init__(self, portfolio, harvest_strategy, years_left=35):\n",
    "        super().__init__(portfolio, harvest_strategy, years_left=years_left)\n",
    "        self.initial_floor = D('.03') * D('.6') * self.portfolio.value\n",
    "        \n",
    "    def _calc(self):\n",
    "        floor = self.initial_floor * self.cumulative_inflation\n",
    "        rest_of_portfolio = self.portfolio.value * D('.4')\n",
    "        \n",
    "        rate = (self.portfolio.stocks_pct * self.stock_growth_rate\n",
    "                + self.portfolio.bonds_pct * self.bond_growth_rate)\n",
    "\n",
    "        amt = metrics.pmt(rate, self.years_left, rest_of_portfolio)        \n",
    "        # max out at 20% of the current portfolio...this allows it to run\n",
    "        # \"indefinitely\"\n",
    "        vpw_amount = min(amt, rest_of_portfolio / 5)\n",
    "        \n",
    "        return floor + vpw_amount"
   ]
  },
  {
   "cell_type": "code",
   "execution_count": null,
   "metadata": {},
   "outputs": [],
   "source": [
    "def run_one(withdrawal_strategy=withdrawal.VPW):\n",
    "    MARKET = market.Returns_US_1871()\n",
    "\n",
    "    years = 30\n",
    "    end_year = 2018 - years + 1\n",
    "    series = pandas.Series(index=numpy.arange(MARKET.start_year, end_year))\n",
    "\n",
    "    for start in range(MARKET.start_year, end_year):\n",
    "        annual_data = simulate.withdrawals(MARKET.iter_from(start),\n",
    "                                           years=years,\n",
    "                                           harvesting=harvesting.N_60_RebalanceHarvesting,\n",
    "                                           withdraw=withdrawal_strategy)\n",
    "        min_wd = annual_data[0].withdraw_r\n",
    "        for y in annual_data:\n",
    "            min_wd = min(min_wd, y.withdraw_r)\n",
    "        series.loc[start] = min_wd\n",
    "    return series\n",
    "\n",
    "#    u = metrics.ulcer([y.portfolio_r for y in annual_data])\n",
    "#    series.loc[start] = u"
   ]
  },
  {
   "cell_type": "code",
   "execution_count": null,
   "metadata": {},
   "outputs": [],
   "source": [
    "vpw = run_one()    \n",
    "capped = run_one(CappedVPW)\n",
    "split = run_one(SplitVPW)\n",
    "#plot.plot_n({'VPW' : vpw, 'Capped' : capped}, 'Retirement Year', 'Minimum Real Withdrawal')\n",
    "plot.plot_n({'VPW' : vpw, 'SplitVPW' : split}, 'Retirement Year', 'Minimum Real Withdrawal')"
   ]
  },
  {
   "cell_type": "code",
   "execution_count": null,
   "metadata": {},
   "outputs": [],
   "source": [
    "vpw.sort_values()"
   ]
  },
  {
   "cell_type": "code",
   "execution_count": null,
   "metadata": {},
   "outputs": [],
   "source": [
    "YEAR = 1980\n",
    "MARKET = market.Returns_US_1871()\n",
    "years = 35\n",
    "vpw = simulate.withdrawals(MARKET.iter_from(YEAR),\n",
    "                                           years=years,\n",
    "                                           harvesting=harvesting.N_60_RebalanceHarvesting,\n",
    "                                           withdraw=withdrawal.VPW)\n",
    "capped = simulate.withdrawals(MARKET.iter_from(YEAR),\n",
    "                                           years=years,\n",
    "                                           harvesting=harvesting.N_60_RebalanceHarvesting,\n",
    "                                           withdraw=CappedVPW)\n",
    "\n",
    "plot.plot_n({\n",
    "    'VPW' : [n.withdraw_r for n in vpw],\n",
    "    'Capped' : [n.withdraw_r for n in capped]\n",
    "}, 'Year', 'Withdrawal $')\n",
    "\n",
    "plot.plot_n({\n",
    "    'VPW' : [n.portfolio_r for n in vpw],\n",
    "    'Capped' : [n.portfolio_r for n in capped]\n",
    "}, 'Year', 'Portfolio $')"
   ]
  },
  {
   "cell_type": "code",
   "execution_count": null,
   "metadata": {},
   "outputs": [],
   "source": [
    "capped[34].portfolio_r"
   ]
  },
  {
   "cell_type": "code",
   "execution_count": null,
   "metadata": {},
   "outputs": [],
   "source": [
    "def run_cew(withdrawal_strategy=withdrawal.VPW):\n",
    "    MARKET = market.Returns_US_1871()\n",
    "\n",
    "    years = 30\n",
    "    end_year = 2018 - years + 1\n",
    "    series = pandas.Series(index=numpy.arange(MARKET.start_year, end_year))\n",
    "\n",
    "    for start in range(MARKET.start_year, end_year):\n",
    "        annual_data = simulate.withdrawals(MARKET.iter_from(start),\n",
    "                                           years=years,\n",
    "                                           harvesting=harvesting.N_60_RebalanceHarvesting,\n",
    "                                           withdraw=withdrawal_strategy)\n",
    "        cew = metrics.cew([n.withdraw_r for n in annual_data])\n",
    "        series.loc[start] = cew\n",
    "    return series\n",
    "\n",
    "#    u = metrics.ulcer([y.portfolio_r for y in annual_data])\n",
    "#    series.loc[start] = u"
   ]
  },
  {
   "cell_type": "code",
   "execution_count": null,
   "metadata": {},
   "outputs": [],
   "source": [
    "vpw = run_cew()\n",
    "capped = run_cew(CappedVPW)\n",
    "split = run_cew(SplitVPW)\n",
    "#plot.plot_n({'VPW' : vpw, 'Capped' : capped}, 'Retirement Year', 'Certainty Equivalent Withdrawals')\n",
    "plot.plot_n({'VPW' : vpw, 'SpiltVPW' : split}, 'Retirement Year', 'Certainty Equivalent Withdrawals')"
   ]
  },
  {
   "cell_type": "code",
   "execution_count": null,
   "metadata": {},
   "outputs": [],
   "source": [
    "def compare(year, other_withdrawal_strategy):\n",
    "    YEAR = year\n",
    "    MARKET = market.Returns_US_1871()\n",
    "    years = 35\n",
    "    vpw = simulate.withdrawals(MARKET.iter_from(YEAR),\n",
    "                                               years=years,\n",
    "                                               harvesting=harvesting.N_60_RebalanceHarvesting,\n",
    "                                               withdraw=withdrawal.VPW)\n",
    "    other = simulate.withdrawals(MARKET.iter_from(YEAR),\n",
    "                                               years=years,\n",
    "                                               harvesting=harvesting.N_60_RebalanceHarvesting,\n",
    "                                               withdraw=other_withdrawal_strategy)\n",
    "\n",
    "    plot.plot_n({\n",
    "        'VPW' : [n.withdraw_r for n in vpw],\n",
    "        other_withdrawal_strategy.__name__ : [n.withdraw_r for n in other]\n",
    "    }, 'Year', 'Withdrawal $ for %s retiree' % year)\n",
    "\n",
    "    plot.plot_n({\n",
    "        'VPW' : [n.portfolio_r for n in vpw],\n",
    "        other_withdrawal_strategy.__name__ : [n.portfolio_r for n in other]\n",
    "    }, 'Year', 'Portfolio $ for %s retiree' % year)\n",
    "    \n",
    "    return (vpw, other)"
   ]
  },
  {
   "cell_type": "code",
   "execution_count": null,
   "metadata": {},
   "outputs": [],
   "source": [
    "results = compare(1906, SplitVPW)\n",
    "def c(results):\n",
    "    vpw, split = results\n",
    "    vpw_wd = [n.withdraw_r for n in vpw]\n",
    "    vpw_p = [n.portfolio_r for n in vpw]\n",
    "    split_wd = [n.withdraw_r for n in split]\n",
    "    split_p = [n.portfolio_r for n in split]\n",
    "    \n",
    "    diff = pandas.DataFrame(index=range(len(vpw_wd)), columns=['VPW', 'Split', 'Diff'])\n",
    "\n",
    "    for i in range(len(vpw_wd)):\n",
    "        diff.iloc[i] = (vpw_wd[i] / vpw_p[i], split_wd[i] / split_p[i], split_wd[i] - vpw_wd[i])\n",
    "        \n",
    "    #diff.to_csv('split-diff.csv')\n",
    "    for i in range(10,20):\n",
    "        print(split_p[i])\n",
    "    \n",
    "    print(diff.iloc[15])\n",
    "    \n",
    "c(results)"
   ]
  },
  {
   "cell_type": "code",
   "execution_count": null,
   "metadata": {},
   "outputs": [],
   "source": [
    "def check90(year):\n",
    "    YEAR = year\n",
    "    MARKET = market.Returns_US_1871()\n",
    "    years = 35\n",
    "    r = simulate.withdrawals(MARKET.iter_from(YEAR),\n",
    "                                               years=years,\n",
    "                                               harvesting=harvesting.N_60_RebalanceHarvesting,\n",
    "                                               withdraw=withdrawal.ConstantDollar)\n",
    "    series = pandas.Series([n.portfolio_r for n in r])\n",
    "    under = series[series < 900000]\n",
    "    pct = len(under) / len(series)\n",
    "    \n",
    "    return pct"
   ]
  },
  {
   "cell_type": "code",
   "execution_count": null,
   "metadata": {},
   "outputs": [],
   "source": [
    "pct_series = pandas.Series(index=range(1871, 2018-35+1))\n",
    "for year in range(1871, 2018 - 35 + 1):\n",
    "    pct_series.loc[year] = check90(year)"
   ]
  },
  {
   "cell_type": "code",
   "execution_count": null,
   "metadata": {},
   "outputs": [],
   "source": [
    "pct_series.sort_values()"
   ]
  },
  {
   "cell_type": "code",
   "execution_count": null,
   "metadata": {},
   "outputs": [],
   "source": []
  }
 ],
 "metadata": {
  "kernelspec": {
   "display_name": "Python 3",
   "language": "python",
   "name": "python3"
  },
  "language_info": {
   "codemirror_mode": {
    "name": "ipython",
    "version": 3
   },
   "file_extension": ".py",
   "mimetype": "text/x-python",
   "name": "python",
   "nbconvert_exporter": "python",
   "pygments_lexer": "ipython3"
  }
 },
 "nbformat": 4,
 "nbformat_minor": 2
}
