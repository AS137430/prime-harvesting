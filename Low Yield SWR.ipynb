{
 "cells": [
  {
   "cell_type": "code",
   "execution_count": 1,
   "metadata": {
    "collapsed": false
   },
   "outputs": [],
   "source": [
    "%matplotlib inline\n",
    "%precision 3\n",
    "\n",
    "import montecarlo\n",
    "import plot\n",
    "import metrics\n",
    "from decimal import Decimal\n",
    "import pandas"
   ]
  },
  {
   "cell_type": "code",
   "execution_count": 2,
   "metadata": {
    "collapsed": false
   },
   "outputs": [],
   "source": [
    "def run_one(years, stock_pct, a=None):\n",
    "    bond_pct = (1 - stock_pct)\n",
    "    \n",
    "    if not a:\n",
    "        a = montecarlo.LowYieldsAutoRegression(initial_yield=.025)\n",
    "    \n",
    "    returns = []\n",
    "    \n",
    "    for i, j in zip(range(years+1), a):\n",
    "        stocks = j.stocks - j.inflation\n",
    "        bonds = j.bonds - j.inflation\n",
    "        total_return = (stocks * stock_pct) + (bonds * bond_pct)\n",
    "        returns.append(total_return)\n",
    "    return returns"
   ]
  },
  {
   "cell_type": "code",
   "execution_count": 3,
   "metadata": {
    "collapsed": false
   },
   "outputs": [
    {
     "name": "stdout",
     "output_type": "stream",
     "text": [
      "inflation 0.017545276370174237\n",
      "stocks 0.13657630492708736\n",
      "bonds 0.003970907237193787\n",
      "-----------------------------------------------------------------\n",
      "      y_prev     y_new        rc    stocks     bonds  inflation\n",
      "0   0.025000  0.022968  0.017275  0.374047 -0.025206   0.027884\n",
      "1   0.022968  0.030471  0.000000  0.462453 -0.040881  -0.002487\n",
      "2   0.030471  0.034794  0.016852  0.059983  0.035383   0.011570\n",
      "3   0.034794  0.032648  0.013020  0.050164  0.025475   0.005236\n",
      "4   0.032648  0.027056  0.005077  0.376154  0.057476   0.022798\n",
      "5   0.027056  0.019571  0.009642  0.145013  0.088176   0.003631\n",
      "6   0.019571  0.017455  0.003976 -0.012299 -0.005422   0.018163\n",
      "7   0.017455  0.027546  0.012604  0.230105 -0.010684   0.045523\n",
      "8   0.027546  0.025729  0.013188  0.042093  0.027474   0.005632\n",
      "9   0.025729  0.010000  0.000000  0.304075  0.001235   0.022428\n",
      "10  0.010000  0.016840  0.000000  0.087606 -0.021299   0.046680\n",
      "11  0.016840  0.011312  0.000000 -0.085678  0.057943   0.039847\n",
      "12  0.011312  0.014969  0.000000 -0.205927  0.018798   0.047649\n",
      "13  0.014969  0.023937  0.004038 -0.055788 -0.000695   0.017936\n",
      "14  0.023937  0.027708  0.007324  0.338154 -0.003774   0.012304\n",
      "15  0.027708  0.010357  0.000000  0.340857  0.030907  -0.019597\n",
      "16  0.010357  0.010000  0.000000 -0.091105 -0.022323   0.033969\n",
      "17  0.010000  0.018823  0.000000  0.140848  0.086794   0.017615\n",
      "18  0.018823  0.010170  0.000000  0.240972  0.078726   0.038836\n",
      "19  0.010170  0.018610  0.000000 -0.041035 -0.081223   0.011085\n",
      "20  0.018610  0.017386  0.006167  0.154759  0.022369   0.029240\n",
      "21  0.017386  0.010000  0.000000  0.101928  0.056079   0.016631\n",
      "22  0.010000  0.010000  0.000000  0.114512 -0.025083  -0.018712\n",
      "23  0.010000  0.010000  0.000000  0.352189  0.007296   0.023649\n",
      "24  0.010000  0.010000  0.000000  0.083945 -0.013483   0.035427\n",
      "25  0.010000  0.010000  0.000000 -0.044035 -0.035641   0.018617\n",
      "26  0.010000  0.010000  0.000000 -0.023179 -0.014386  -0.016526\n",
      "27  0.010000  0.010000  0.000000  0.138657 -0.050299  -0.000695\n",
      "28  0.010000  0.010000  0.008039  0.176101 -0.017557   0.027213\n",
      "29  0.010000  0.023079  0.014336  0.188028 -0.047666   0.040695\n",
      "30  0.023079  0.026542  0.000000  0.290267 -0.055414  -0.018335\n"
     ]
    }
   ],
   "source": [
    "a = montecarlo.LowYieldsAutoRegression(initial_yield=.025, logging=True)\n",
    "run_one(30, .6, a=a)\n",
    "print('inflation', a.log['inflation'].mean())\n",
    "print('stocks', a.log['stocks'].mean())\n",
    "print('bonds', a.log['bonds'].mean())\n",
    "print('-' * 65)\n",
    "print(a.log)"
   ]
  },
  {
   "cell_type": "code",
   "execution_count": 7,
   "metadata": {
    "collapsed": false
   },
   "outputs": [],
   "source": [
    "iters = 10000\n",
    "\n",
    "s = pandas.Series(iters)\n",
    "\n",
    "for i in range(iters):\n",
    "    years = 30\n",
    "    stock_pct = .4\n",
    "    ssr = metrics.ssr([Decimal(n) for n in run_one(years, stock_pct)])\n",
    "    s[i] = float(ssr)"
   ]
  },
  {
   "cell_type": "code",
   "execution_count": 8,
   "metadata": {
    "collapsed": false
   },
   "outputs": [
    {
     "name": "stdout",
     "output_type": "stream",
     "text": [
      "100% success: 0.00%\n",
      "99% success: 2.42%\n",
      "98% success: 2.64%\n",
      "97% success: 2.77%\n",
      "96% success: 2.86%\n",
      "95% success: 2.94%\n",
      "94% success: 3.01%\n",
      "93% success: 3.08%\n",
      "92% success: 3.15%\n",
      "91% success: 3.20%\n",
      "90% success: 3.24%\n",
      "89% success: 3.29%\n",
      "88% success: 3.34%\n",
      "87% success: 3.38%\n",
      "86% success: 3.42%\n",
      "85% success: 3.46%\n",
      "84% success: 3.50%\n",
      "83% success: 3.53%\n",
      "82% success: 3.57%\n",
      "81% success: 3.61%\n",
      "80% success: 3.64%\n",
      "79% success: 3.67%\n",
      "78% success: 3.71%\n",
      "77% success: 3.74%\n",
      "76% success: 3.76%\n",
      "75% success: 3.79%\n",
      "74% success: 3.82%\n",
      "73% success: 3.85%\n",
      "72% success: 3.88%\n",
      "71% success: 3.90%\n",
      "70% success: 3.94%\n",
      "69% success: 3.96%\n",
      "68% success: 3.99%\n",
      "67% success: 4.02%\n",
      "66% success: 4.04%\n",
      "65% success: 4.07%\n",
      "64% success: 4.10%\n",
      "63% success: 4.12%\n",
      "62% success: 4.15%\n",
      "61% success: 4.17%\n",
      "60% success: 4.20%\n",
      "59% success: 4.23%\n",
      "58% success: 4.26%\n",
      "57% success: 4.28%\n",
      "56% success: 4.30%\n",
      "55% success: 4.33%\n",
      "54% success: 4.35%\n",
      "53% success: 4.38%\n",
      "52% success: 4.40%\n",
      "51% success: 4.43%\n",
      "50% success: 4.45%\n",
      "49% success: 4.48%\n",
      "48% success: 4.50%\n",
      "47% success: 4.53%\n",
      "46% success: 4.56%\n",
      "45% success: 4.59%\n",
      "44% success: 4.62%\n",
      "43% success: 4.65%\n",
      "42% success: 4.68%\n",
      "41% success: 4.71%\n",
      "40% success: 4.74%\n",
      "39% success: 4.76%\n",
      "38% success: 4.79%\n",
      "37% success: 4.82%\n",
      "36% success: 4.86%\n",
      "35% success: 4.88%\n",
      "34% success: 4.92%\n",
      "33% success: 4.95%\n",
      "32% success: 4.98%\n",
      "31% success: 5.02%\n",
      "30% success: 5.05%\n",
      "29% success: 5.08%\n",
      "28% success: 5.12%\n",
      "27% success: 5.15%\n",
      "26% success: 5.19%\n",
      "25% success: 5.23%\n",
      "24% success: 5.27%\n",
      "23% success: 5.30%\n",
      "22% success: 5.34%\n",
      "21% success: 5.38%\n",
      "20% success: 5.42%\n",
      "19% success: 5.48%\n",
      "18% success: 5.51%\n",
      "17% success: 5.56%\n",
      "16% success: 5.60%\n",
      "15% success: 5.65%\n",
      "14% success: 5.70%\n",
      "13% success: 5.75%\n",
      "12% success: 5.81%\n",
      "11% success: 5.86%\n",
      "10% success: 5.93%\n",
      "9% success: 6.02%\n",
      "8% success: 6.10%\n",
      "7% success: 6.20%\n",
      "6% success: 6.31%\n",
      "5% success: 6.43%\n",
      "4% success: 6.55%\n",
      "3% success: 6.73%\n",
      "2% success: 6.99%\n",
      "1% success: 7.44%\n"
     ]
    }
   ],
   "source": [
    "for i in range(0, 100, 1):\n",
    "    print('%s%% success:' % int(100 - i), '%.2f%%' % (s.quantile(i/100)*100))"
   ]
  },
  {
   "cell_type": "code",
   "execution_count": null,
   "metadata": {
    "collapsed": true
   },
   "outputs": [],
   "source": []
  }
 ],
 "metadata": {
  "kernelspec": {
   "display_name": "Python 3",
   "language": "python",
   "name": "python3"
  },
  "language_info": {
   "codemirror_mode": {
    "name": "ipython",
    "version": 3
   },
   "file_extension": ".py",
   "mimetype": "text/x-python",
   "name": "python",
   "nbconvert_exporter": "python",
   "pygments_lexer": "ipython3",
   "version": "3.5.1"
  }
 },
 "nbformat": 4,
 "nbformat_minor": 0
}
