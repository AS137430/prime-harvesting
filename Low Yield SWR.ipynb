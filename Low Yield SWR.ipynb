{
 "cells": [
  {
   "cell_type": "code",
   "execution_count": 1,
   "metadata": {
    "collapsed": false
   },
   "outputs": [],
   "source": [
    "%matplotlib inline\n",
    "%precision 3\n",
    "\n",
    "import montecarlo\n",
    "import plot\n",
    "import metrics\n",
    "from decimal import Decimal\n",
    "import pandas"
   ]
  },
  {
   "cell_type": "code",
   "execution_count": 2,
   "metadata": {
    "collapsed": false
   },
   "outputs": [],
   "source": [
    "def run_one(years, stock_pct, a=None):\n",
    "    bond_pct = (1 - stock_pct)\n",
    "    \n",
    "    if not a:\n",
    "        a = montecarlo.LowYieldsAutoRegression(initial_yield=.025)\n",
    "    \n",
    "    returns = []\n",
    "    \n",
    "    for i, j in zip(range(years+1), a):\n",
    "        stocks = j.stocks - j.inflation\n",
    "        bonds = j.bonds - j.inflation\n",
    "        total_return = (stocks * stock_pct) + (bonds * bond_pct)\n",
    "        returns.append(total_return)\n",
    "    return returns"
   ]
  },
  {
   "cell_type": "code",
   "execution_count": 3,
   "metadata": {
    "collapsed": false
   },
   "outputs": [
    {
     "name": "stdout",
     "output_type": "stream",
     "text": [
      "inflation 0.03271708289173835\n",
      "stocks 0.08315583092885724\n",
      "bonds 0.0628277117682877\n",
      "-----------------------------------------------------------------\n",
      "      y_prev     y_new        rc    stocks     bonds  inflation\n",
      "0   0.025000  0.021345  0.000000  0.187134  0.087240  -0.015612\n",
      "1   0.021345  0.020369  0.000000 -0.154975  0.039043  -0.019560\n",
      "2   0.020369  0.030800  0.028034  0.144635  0.001026   0.098028\n",
      "3   0.030800  0.036905  0.025945 -0.070837  0.080735   0.022702\n",
      "4   0.036905  0.021273  0.002549 -0.122166  0.096213  -0.015407\n",
      "5   0.021273  0.014328  0.000000 -0.033570  0.041822   0.041841\n",
      "6   0.014328  0.024040  0.000000 -0.104782  0.058219   0.011249\n",
      "7   0.024040  0.020784  0.015851  0.037210  0.079547   0.029774\n",
      "8   0.020784  0.028972  0.018337  0.117093  0.075557   0.067061\n",
      "9   0.028972  0.036651  0.004203  0.092168  0.000239   0.032110\n",
      "10  0.036651  0.031509  0.012334  0.270846  0.034469   0.016331\n",
      "11  0.031509  0.039936  0.004511  0.034667 -0.052596   0.021832\n",
      "12  0.039936  0.038612  0.023963  0.267848  0.067424   0.020370\n",
      "13  0.038612  0.028679  0.028530 -0.044617  0.130086   0.044444\n",
      "14  0.028679  0.031519  0.024413 -0.133918  0.048611   0.010910\n",
      "15  0.031519  0.041660  0.041379  0.354832  0.049210   0.058870\n",
      "16  0.041660  0.051231  0.029663  0.182414  0.060652   0.041887\n",
      "17  0.051231  0.060717  0.025568  0.226063  0.128154   0.034567\n",
      "18  0.060717  0.078557  0.090371  0.294063  0.049933   0.131677\n",
      "19  0.078557  0.077545  0.055579 -0.167604  0.090652   0.032890\n",
      "20  0.077545  0.100000  0.077382 -0.126114  0.049831   0.087220\n",
      "21  0.100000  0.087745  0.064658  0.006520  0.066318   0.062378\n",
      "22  0.087745  0.059287  0.027197  0.447264  0.175506   0.003805\n",
      "23  0.059287  0.071264  0.043309  0.030260  0.079478   0.021986\n",
      "24  0.071264  0.069019  0.044075  0.159520  0.023913   0.019557\n",
      "25  0.069019  0.079011  0.062833 -0.036167  0.010801   0.050555\n",
      "26  0.079011  0.072821  0.046601  0.017898  0.104498   0.030023\n",
      "27  0.072821  0.070977  0.065659 -0.085741  0.116622   0.025757\n",
      "28  0.070977  0.058136  0.047142  0.206263  0.096539   0.006202\n",
      "29  0.058136  0.058917  0.026505  0.262323 -0.000372   0.021832\n",
      "30  0.058917  0.052725  0.010240  0.319300  0.058287   0.018952\n"
     ]
    }
   ],
   "source": [
    "a = montecarlo.LowYieldsAutoRegression(initial_yield=.025, logging=True)\n",
    "run_one(30, .6, a=a)\n",
    "print('inflation', a.log['inflation'].mean())\n",
    "print('stocks', a.log['stocks'].mean())\n",
    "print('bonds', a.log['bonds'].mean())\n",
    "print('-' * 65)\n",
    "print(a.log)"
   ]
  },
  {
   "cell_type": "code",
   "execution_count": 4,
   "metadata": {
    "collapsed": false
   },
   "outputs": [],
   "source": [
    "iters = 10000\n",
    "\n",
    "s = pandas.Series(iters)\n",
    "\n",
    "for i in range(iters):\n",
    "    years = 30\n",
    "    stock_pct = .4\n",
    "    ssr = metrics.ssr([Decimal(n) for n in run_one(years, stock_pct)])\n",
    "    s[i] = float(ssr)"
   ]
  },
  {
   "cell_type": "code",
   "execution_count": 5,
   "metadata": {
    "collapsed": false
   },
   "outputs": [
    {
     "name": "stdout",
     "output_type": "stream",
     "text": [
      "100% success: 0.00%\n",
      "99% success: 2.39%\n",
      "98% success: 2.58%\n",
      "97% success: 2.72%\n",
      "96% success: 2.84%\n",
      "95% success: 2.93%\n",
      "94% success: 2.99%\n",
      "93% success: 3.06%\n",
      "92% success: 3.12%\n",
      "91% success: 3.17%\n",
      "90% success: 3.23%\n",
      "89% success: 3.27%\n",
      "88% success: 3.32%\n",
      "87% success: 3.37%\n",
      "86% success: 3.41%\n",
      "85% success: 3.45%\n",
      "84% success: 3.48%\n",
      "83% success: 3.52%\n",
      "82% success: 3.55%\n",
      "81% success: 3.59%\n",
      "80% success: 3.61%\n",
      "79% success: 3.65%\n",
      "78% success: 3.68%\n",
      "77% success: 3.71%\n",
      "76% success: 3.73%\n",
      "75% success: 3.76%\n",
      "74% success: 3.79%\n",
      "73% success: 3.82%\n",
      "72% success: 3.85%\n",
      "71% success: 3.88%\n",
      "70% success: 3.91%\n",
      "69% success: 3.93%\n",
      "68% success: 3.97%\n",
      "67% success: 3.99%\n",
      "66% success: 4.02%\n",
      "65% success: 4.05%\n",
      "64% success: 4.08%\n",
      "63% success: 4.10%\n",
      "62% success: 4.14%\n",
      "61% success: 4.16%\n",
      "60% success: 4.19%\n",
      "59% success: 4.22%\n",
      "58% success: 4.24%\n",
      "57% success: 4.27%\n",
      "56% success: 4.29%\n",
      "55% success: 4.32%\n",
      "54% success: 4.34%\n",
      "53% success: 4.37%\n",
      "52% success: 4.39%\n",
      "51% success: 4.42%\n",
      "50% success: 4.45%\n",
      "49% success: 4.48%\n",
      "48% success: 4.50%\n",
      "47% success: 4.53%\n",
      "46% success: 4.56%\n",
      "45% success: 4.58%\n",
      "44% success: 4.61%\n",
      "43% success: 4.63%\n",
      "42% success: 4.67%\n",
      "41% success: 4.70%\n",
      "40% success: 4.73%\n",
      "39% success: 4.76%\n",
      "38% success: 4.79%\n",
      "37% success: 4.82%\n",
      "36% success: 4.84%\n",
      "35% success: 4.88%\n",
      "34% success: 4.91%\n",
      "33% success: 4.94%\n",
      "32% success: 4.97%\n",
      "31% success: 5.01%\n",
      "30% success: 5.03%\n",
      "29% success: 5.07%\n",
      "28% success: 5.11%\n",
      "27% success: 5.14%\n",
      "26% success: 5.18%\n",
      "25% success: 5.22%\n",
      "24% success: 5.26%\n",
      "23% success: 5.30%\n",
      "22% success: 5.34%\n",
      "21% success: 5.39%\n",
      "20% success: 5.42%\n",
      "19% success: 5.47%\n",
      "18% success: 5.51%\n",
      "17% success: 5.56%\n",
      "16% success: 5.61%\n",
      "15% success: 5.67%\n",
      "14% success: 5.72%\n",
      "13% success: 5.78%\n",
      "12% success: 5.84%\n",
      "11% success: 5.90%\n",
      "10% success: 5.97%\n",
      "9% success: 6.05%\n",
      "8% success: 6.13%\n",
      "7% success: 6.21%\n",
      "6% success: 6.31%\n",
      "5% success: 6.43%\n",
      "4% success: 6.58%\n",
      "3% success: 6.73%\n",
      "2% success: 6.98%\n",
      "1% success: 7.33%\n"
     ]
    }
   ],
   "source": [
    "for i in range(0, 100, 1):\n",
    "    print('%s%% success:' % int(100 - i), '%.2f%%' % (s.quantile(i/100)*100))"
   ]
  },
  {
   "cell_type": "code",
   "execution_count": null,
   "metadata": {
    "collapsed": true
   },
   "outputs": [],
   "source": []
  }
 ],
 "metadata": {
  "anaconda-cloud": {},
  "kernelspec": {
   "display_name": "Python [Root]",
   "language": "python",
   "name": "Python [Root]"
  },
  "language_info": {
   "codemirror_mode": {
    "name": "ipython",
    "version": 3
   },
   "file_extension": ".py",
   "mimetype": "text/x-python",
   "name": "python",
   "nbconvert_exporter": "python",
   "pygments_lexer": "ipython3",
   "version": "3.5.2"
  }
 },
 "nbformat": 4,
 "nbformat_minor": 0
}
