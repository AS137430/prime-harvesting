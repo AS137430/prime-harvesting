{
 "cells": [
  {
   "cell_type": "code",
   "execution_count": null,
   "metadata": {
    "deletable": true,
    "editable": true
   },
   "outputs": [],
   "source": [
    "import numpy\n",
    "from collections import deque\n",
    "import pandas\n",
    "import math"
   ]
  },
  {
   "cell_type": "code",
   "execution_count": null,
   "metadata": {
    "deletable": true,
    "editable": true
   },
   "outputs": [],
   "source": [
    "def iterate_fund(ladder, yield_curve, max_maturity):\n",
    "    reduce_maturity(ladder)\n",
    "    \n",
    "    payments = get_payments(ladder)\n",
    "\n",
    "    sold_bond = ladder.popleft()\n",
    "    payments += sold_bond.value(yield_curve)\n",
    "\n",
    "    new_bond = Bond(payments, yield_curve[max_maturity-1], max_maturity)\n",
    "    ladder.append(new_bond)\n",
    "    \n",
    "    # This happens *after* we sell the shortest bond and buy a new long one\n",
    "    # (at least, that's what longinvest does...)\n",
    "    nav = get_nav(ladder, yield_curve)\n",
    "\n",
    "    return (ladder, payments, nav)\n",
    "\n",
    "def get_nav(ladder, rates):\n",
    "    return sum((b.value(rates) for b in ladder))\n",
    "\n",
    "def get_payments(ladder):\n",
    "    return sum((b.gen_payment() for b in ladder))\n",
    "\n",
    "def reduce_maturity(ladder):\n",
    "    for b in ladder:\n",
    "        b.maturity -= 1\n",
    "    return ladder"
   ]
  },
  {
   "cell_type": "code",
   "execution_count": null,
   "metadata": {
    "deletable": true,
    "editable": true
   },
   "outputs": [],
   "source": [
    "class Bond:\n",
    "    def __init__(self, face_value, yield_pct, maturity):\n",
    "        self.face_value = face_value\n",
    "        self.yield_pct = yield_pct\n",
    "        self.maturity = maturity\n",
    "        \n",
    "    def __repr__(self):\n",
    "        return ('Maturity: %d | Yield: %.2f%% | Face Value: $%.2f' % (self.maturity, self.yield_pct * 100, self.face_value))\n",
    "        \n",
    "    def gen_payment(self):\n",
    "        return self.face_value * self.yield_pct\n",
    "    \n",
    "    def value(self, rates):\n",
    "        value = numpy.pv(rates[self.maturity - 1], self.maturity, self.gen_payment(), self.face_value)\n",
    "        return -value"
   ]
  },
  {
   "cell_type": "code",
   "execution_count": null,
   "metadata": {
    "deletable": true,
    "editable": true
   },
   "outputs": [],
   "source": [
    "def bootstrap(yield_curve, max_bonds, min_maturity):\n",
    "    bond_yield = yield_curve[max_bonds - 1]\n",
    "    ladder = deque()\n",
    "    starting_face_value = 50 # chosen arbitrarily (to match longinvest)\n",
    "\n",
    "    for i, j in zip(range(max_bonds), range(min_maturity, max_bonds+1)):\n",
    "        face_value = pow(1 + bond_yield, i) * starting_face_value\n",
    "        b = Bond(face_value, bond_yield, j)\n",
    "        ladder.append(b)\n",
    "    return ladder\n",
    "bootstrap([.0532]*10, 10, 2)"
   ]
  },
  {
   "cell_type": "code",
   "execution_count": null,
   "metadata": {
    "deletable": true,
    "editable": true
   },
   "outputs": [],
   "source": [
    "BOND_RATES = pandas.read_csv('oecd_bond_rates.csv', index_col=0)\n",
    "BOND_RATES.head()"
   ]
  },
  {
   "cell_type": "code",
   "execution_count": null,
   "metadata": {
    "deletable": true,
    "editable": true
   },
   "outputs": [],
   "source": [
    "BILL_RATES = pandas.read_csv('oecd_bill_rates.csv', index_col=0)\n",
    "BILL_RATES.head()"
   ]
  },
  {
   "cell_type": "code",
   "execution_count": null,
   "metadata": {
    "deletable": true,
    "editable": true
   },
   "outputs": [],
   "source": [
    "def build_yield_curve(bill_rate, bond_rate, yield_curve_size=30):\n",
    "    s = pandas.Series(math.nan, index=numpy.arange(yield_curve_size))\n",
    "    s.iloc[0] = bill_rate\n",
    "    s.iloc[yield_curve_size-1] = bond_rate\n",
    "    s.interpolate(inplace=True)\n",
    "    s.fillna(method='backfill', inplace=True)    \n",
    "\n",
    "    return s.tolist()"
   ]
  },
  {
   "cell_type": "code",
   "execution_count": null,
   "metadata": {
    "deletable": true,
    "editable": true
   },
   "outputs": [],
   "source": [
    "def get_rate_pair_at(year, country):\n",
    "    bond_rate = BOND_RATES.loc[year][country]\n",
    "    bill_rate = BILL_RATES.loc[year][country]\n",
    "    return (bill_rate, bond_rate)\n",
    "\n",
    "['%.2f' % (s*100) for s in build_yield_curve(*get_rate_pair_at(1970, 'AUS'))]"
   ]
  },
  {
   "cell_type": "code",
   "execution_count": null,
   "metadata": {
    "deletable": true,
    "editable": true
   },
   "outputs": [],
   "source": [
    "yield_curve = build_yield_curve(*get_rate_pair_at(1970, 'AUS'))\n",
    "bootstrap(yield_curve, 10, 4)"
   ]
  },
  {
   "cell_type": "code",
   "execution_count": null,
   "metadata": {
    "deletable": true,
    "editable": true
   },
   "outputs": [],
   "source": [
    "def loop(ladder, rates, max_maturity, start_year, end_year):\n",
    "    df = pandas.DataFrame(columns=['NAV', 'Payments', 'Change'], index=numpy.arange(start_year, end_year + 1))\n",
    "    \n",
    "    for year in range(start_year, end_year+1):\n",
    "        c = rates.loc[year]\n",
    "        (ladder, payments, nav) = iterate_fund(ladder, build_yield_curve(c['bills'], c['bonds']), max_maturity)\n",
    "        df.loc[year] = {'NAV' : nav, 'Payments' : payments}\n",
    "\n",
    "    calculate_returns(df)\n",
    "    return df\n",
    "\n",
    "def calculate_returns(df):\n",
    "    # Longinvest calculates the return based on comparison's to\n",
    "    # next year's NAV. So I'll do the same. Even though that seems\n",
    "    # weird to me. Maybe it's because the rates are based on January?\n",
    "    # Hmmm...that sounds plausible.\n",
    "    max_row = df.shape[0]\n",
    "\n",
    "    for i in range(max_row - 1):\n",
    "        next_nav = df.iloc[i+1]['NAV']\n",
    "        nav = df.iloc[i]['NAV']\n",
    "        change = (next_nav - nav) / nav\n",
    "        df.iloc[i]['Change'] = change\n",
    "    return df\n",
    "\n",
    "def simulate(max_maturity, min_maturity, country):\n",
    "    \"\"\" This is just something to save on typing...and make clearer what the bounds on the fund are \"\"\"\n",
    "    # find the first non-NaN number in rates\n",
    "    bonds = BOND_RATES[country].dropna()\n",
    "    bills = BILL_RATES[country].dropna()\n",
    "    \n",
    "    start_year = 1970 #max(bills.head(1).index[0], bonds.head(1).index[0])\n",
    "    if country == 'ESP': start_year = 1979\n",
    "\n",
    "    end_year = 2017 #min(bills.tail(1).index[0], bonds.tail(1).index[0])\n",
    "    \n",
    "    rates = pandas.DataFrame.from_dict({'bills' : bills, 'bonds' : bonds})\n",
    "    \n",
    "    starting_rates = rates.loc[start_year]\n",
    "    \n",
    "    ladder = bootstrap(build_yield_curve(starting_rates['bills'], starting_rates['bonds']), max_maturity, min_maturity)\n",
    "    return loop(ladder, rates, max_maturity, start_year, end_year)"
   ]
  },
  {
   "cell_type": "code",
   "execution_count": null,
   "metadata": {
    "deletable": true,
    "editable": true
   },
   "outputs": [],
   "source": [
    "simulate(30, 30, 'DNK').head()"
   ]
  },
  {
   "cell_type": "markdown",
   "metadata": {
    "deletable": true,
    "editable": true
   },
   "source": [
    "# Saving to CSV\n",
    "To do anything useful, you probably want to save the results to a CSV file. Here's a commented-out example of how to do that."
   ]
  },
  {
   "cell_type": "code",
   "execution_count": null,
   "metadata": {
    "deletable": true,
    "editable": true
   },
   "outputs": [],
   "source": [
    "countries = [\n",
    "    'AUS',\n",
    "    'AUT',\n",
    "    'BEL',\n",
    "    'CAN',\n",
    "    'DNK',\n",
    "    'FRA',\n",
    "    'DEU',\n",
    "    'ITA',\n",
    "    'JPN',\n",
    "    'NLD',\n",
    "    'NOR',\n",
    "#    'SGD', # 1999 onward\n",
    "    'ESP', # 1979 onward\n",
    "    'SWE',\n",
    "    'CHE',\n",
    "    'GBR',\n",
    "    'USA',\n",
    "    'ALL AVERAGE',\n",
    "    '16 COUNTRIES AVERAGE',\n",
    "    'NO JPN CHE AVERAGE',\n",
    "]\n",
    "\n",
    "pd = pandas.DataFrame(columns=countries)\n",
    "\n",
    "for c in countries:\n",
    "    print('Simulating ...', c)\n",
    "    returns = simulate(30, 30, c)\n",
    "    pd[c] = returns['Change']\n",
    "\n",
    "pd.head()\n",
    "pd.to_csv('oecd_30_returns.csv')"
   ]
  },
  {
   "cell_type": "code",
   "execution_count": null,
   "metadata": {
    "deletable": true,
    "editable": true
   },
   "outputs": [],
   "source": []
  }
 ],
 "metadata": {
  "anaconda-cloud": {},
  "kernelspec": {
   "display_name": "Python 3",
   "language": "python",
   "name": "python3"
  },
  "language_info": {
   "codemirror_mode": {
    "name": "ipython",
    "version": 3
   },
   "file_extension": ".py",
   "mimetype": "text/x-python",
   "name": "python",
   "nbconvert_exporter": "python",
   "pygments_lexer": "ipython3"
  }
 },
 "nbformat": 4,
 "nbformat_minor": 2
}
