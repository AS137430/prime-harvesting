{
 "cells": [
  {
   "cell_type": "code",
   "execution_count": 1,
   "metadata": {
    "collapsed": false,
    "deletable": true,
    "editable": true
   },
   "outputs": [],
   "source": [
    "import numpy\n",
    "from collections import deque\n",
    "import pandas\n",
    "import math"
   ]
  },
  {
   "cell_type": "code",
   "execution_count": 2,
   "metadata": {
    "collapsed": true,
    "deletable": true,
    "editable": true
   },
   "outputs": [],
   "source": [
    "def iterate_fund(ladder, yield_curve, max_maturity):\n",
    "    reduce_maturity(ladder)\n",
    "    \n",
    "    payments = get_payments(ladder)\n",
    "\n",
    "    sold_bond = ladder.popleft()\n",
    "    payments += sold_bond.value(yield_curve)\n",
    "\n",
    "    new_bond = Bond(payments, yield_curve[max_maturity-1], max_maturity)\n",
    "    ladder.append(new_bond)\n",
    "    \n",
    "    # This happens *after* we sell the shortest bond and buy a new long one\n",
    "    # (at least, that's what longinvest does...)\n",
    "    nav = get_nav(ladder, yield_curve)\n",
    "\n",
    "    return (ladder, payments, nav)\n",
    "\n",
    "def get_nav(ladder, rates):\n",
    "    return sum((b.value(rates) for b in ladder))\n",
    "\n",
    "def get_payments(ladder):\n",
    "    return sum((b.gen_payment() for b in ladder))\n",
    "\n",
    "def reduce_maturity(ladder):\n",
    "    for b in ladder:\n",
    "        b.maturity -= 1\n",
    "    return ladder"
   ]
  },
  {
   "cell_type": "code",
   "execution_count": 3,
   "metadata": {
    "collapsed": true,
    "deletable": true,
    "editable": true
   },
   "outputs": [],
   "source": [
    "class Bond:\n",
    "    def __init__(self, face_value, yield_pct, maturity):\n",
    "        self.face_value = face_value\n",
    "        self.yield_pct = yield_pct\n",
    "        self.maturity = maturity\n",
    "        \n",
    "    def __repr__(self):\n",
    "        return ('Maturity: %d | Yield: %.2f%% | Face Value: $%.2f' % (self.maturity, self.yield_pct * 100, self.face_value))\n",
    "        \n",
    "    def gen_payment(self):\n",
    "        return self.face_value * self.yield_pct\n",
    "    \n",
    "    def value(self, rates):\n",
    "        value = numpy.pv(rates[self.maturity - 1], self.maturity, self.gen_payment(), self.face_value)\n",
    "        return -value"
   ]
  },
  {
   "cell_type": "code",
   "execution_count": 4,
   "metadata": {
    "collapsed": false,
    "deletable": true,
    "editable": true
   },
   "outputs": [
    {
     "data": {
      "text/plain": [
       "deque([Maturity: 2 | Yield: 5.32% | Face Value: $50.00,\n",
       "       Maturity: 3 | Yield: 5.32% | Face Value: $52.66,\n",
       "       Maturity: 4 | Yield: 5.32% | Face Value: $55.46,\n",
       "       Maturity: 5 | Yield: 5.32% | Face Value: $58.41,\n",
       "       Maturity: 6 | Yield: 5.32% | Face Value: $61.52,\n",
       "       Maturity: 7 | Yield: 5.32% | Face Value: $64.79,\n",
       "       Maturity: 8 | Yield: 5.32% | Face Value: $68.24,\n",
       "       Maturity: 9 | Yield: 5.32% | Face Value: $71.87,\n",
       "       Maturity: 10 | Yield: 5.32% | Face Value: $75.69])"
      ]
     },
     "execution_count": 4,
     "metadata": {},
     "output_type": "execute_result"
    }
   ],
   "source": [
    "def bootstrap(yield_curve, max_bonds, min_maturity):\n",
    "    bond_yield = yield_curve[max_bonds - 1]\n",
    "    ladder = deque()\n",
    "    starting_face_value = 50 # chosen arbitrarily (to match longinvest)\n",
    "\n",
    "    for i, j in zip(range(max_bonds), range(min_maturity, max_bonds+1)):\n",
    "        face_value = pow(1 + bond_yield, i) * starting_face_value\n",
    "        b = Bond(face_value, bond_yield, j)\n",
    "        ladder.append(b)\n",
    "    return ladder\n",
    "bootstrap([.0532]*10, 10, 2)"
   ]
  },
  {
   "cell_type": "code",
   "execution_count": 5,
   "metadata": {
    "collapsed": false,
    "deletable": true,
    "editable": true
   },
   "outputs": [
    {
     "data": {
      "text/html": [
       "<div>\n",
       "<table border=\"1\" class=\"dataframe\">\n",
       "  <thead>\n",
       "    <tr style=\"text-align: right;\">\n",
       "      <th></th>\n",
       "      <th>AUS</th>\n",
       "      <th>AUT</th>\n",
       "      <th>BEL</th>\n",
       "      <th>CAN</th>\n",
       "      <th>DNK</th>\n",
       "      <th>FRA</th>\n",
       "      <th>DEU</th>\n",
       "      <th>ITA</th>\n",
       "      <th>JPN</th>\n",
       "      <th>NLD</th>\n",
       "      <th>...</th>\n",
       "      <th>SWE</th>\n",
       "      <th>CHE</th>\n",
       "      <th>GBR</th>\n",
       "      <th>USA</th>\n",
       "      <th>ALL AVERAGE</th>\n",
       "      <th>STD-DEV</th>\n",
       "      <th>16 COUNTRIES AVERAGE</th>\n",
       "      <th>STD-DEV.1</th>\n",
       "      <th>NO JPN CHE AVERAGE</th>\n",
       "      <th>STD-DEV.2</th>\n",
       "    </tr>\n",
       "    <tr>\n",
       "      <th>YEAR</th>\n",
       "      <th></th>\n",
       "      <th></th>\n",
       "      <th></th>\n",
       "      <th></th>\n",
       "      <th></th>\n",
       "      <th></th>\n",
       "      <th></th>\n",
       "      <th></th>\n",
       "      <th></th>\n",
       "      <th></th>\n",
       "      <th></th>\n",
       "      <th></th>\n",
       "      <th></th>\n",
       "      <th></th>\n",
       "      <th></th>\n",
       "      <th></th>\n",
       "      <th></th>\n",
       "      <th></th>\n",
       "      <th></th>\n",
       "      <th></th>\n",
       "      <th></th>\n",
       "    </tr>\n",
       "  </thead>\n",
       "  <tbody>\n",
       "    <tr>\n",
       "      <th>1970</th>\n",
       "      <td>0.0665</td>\n",
       "      <td>0.0781</td>\n",
       "      <td>0.0771</td>\n",
       "      <td>0.0791</td>\n",
       "      <td>0.1057</td>\n",
       "      <td>0.0812</td>\n",
       "      <td>0.0830</td>\n",
       "      <td>0.0901</td>\n",
       "      <td>0.0719</td>\n",
       "      <td>0.0822</td>\n",
       "      <td>...</td>\n",
       "      <td>0.0739</td>\n",
       "      <td>0.0582</td>\n",
       "      <td>0.0922</td>\n",
       "      <td>0.0735</td>\n",
       "      <td>0.0784</td>\n",
       "      <td>0.0119</td>\n",
       "      <td>0.0784</td>\n",
       "      <td>0.0119</td>\n",
       "      <td>0.0783</td>\n",
       "      <td>0.0085</td>\n",
       "    </tr>\n",
       "    <tr>\n",
       "      <th>1971</th>\n",
       "      <td>0.0671</td>\n",
       "      <td>0.0771</td>\n",
       "      <td>0.0729</td>\n",
       "      <td>0.0695</td>\n",
       "      <td>0.1067</td>\n",
       "      <td>0.0779</td>\n",
       "      <td>0.0798</td>\n",
       "      <td>0.0834</td>\n",
       "      <td>0.0728</td>\n",
       "      <td>0.0735</td>\n",
       "      <td>...</td>\n",
       "      <td>0.0723</td>\n",
       "      <td>0.0527</td>\n",
       "      <td>0.0890</td>\n",
       "      <td>0.0616</td>\n",
       "      <td>0.0747</td>\n",
       "      <td>0.0126</td>\n",
       "      <td>0.0747</td>\n",
       "      <td>0.0126</td>\n",
       "      <td>0.0740</td>\n",
       "      <td>0.0080</td>\n",
       "    </tr>\n",
       "    <tr>\n",
       "      <th>1972</th>\n",
       "      <td>0.0583</td>\n",
       "      <td>0.0736</td>\n",
       "      <td>0.0696</td>\n",
       "      <td>0.0723</td>\n",
       "      <td>0.1037</td>\n",
       "      <td>0.0742</td>\n",
       "      <td>0.0786</td>\n",
       "      <td>0.0747</td>\n",
       "      <td>0.0669</td>\n",
       "      <td>0.0688</td>\n",
       "      <td>...</td>\n",
       "      <td>0.0729</td>\n",
       "      <td>0.0497</td>\n",
       "      <td>0.0890</td>\n",
       "      <td>0.0621</td>\n",
       "      <td>0.0718</td>\n",
       "      <td>0.0127</td>\n",
       "      <td>0.0718</td>\n",
       "      <td>0.0127</td>\n",
       "      <td>0.0714</td>\n",
       "      <td>0.0082</td>\n",
       "    </tr>\n",
       "    <tr>\n",
       "      <th>1973</th>\n",
       "      <td>0.0693</td>\n",
       "      <td>0.0825</td>\n",
       "      <td>0.0735</td>\n",
       "      <td>0.0756</td>\n",
       "      <td>0.1107</td>\n",
       "      <td>0.0833</td>\n",
       "      <td>0.0931</td>\n",
       "      <td>0.0742</td>\n",
       "      <td>0.0726</td>\n",
       "      <td>0.0792</td>\n",
       "      <td>...</td>\n",
       "      <td>0.0738</td>\n",
       "      <td>0.0560</td>\n",
       "      <td>0.1071</td>\n",
       "      <td>0.0684</td>\n",
       "      <td>0.0788</td>\n",
       "      <td>0.0151</td>\n",
       "      <td>0.0788</td>\n",
       "      <td>0.0151</td>\n",
       "      <td>0.0785</td>\n",
       "      <td>0.0121</td>\n",
       "    </tr>\n",
       "    <tr>\n",
       "      <th>1974</th>\n",
       "      <td>0.0904</td>\n",
       "      <td>0.0974</td>\n",
       "      <td>0.0857</td>\n",
       "      <td>0.0890</td>\n",
       "      <td>0.1455</td>\n",
       "      <td>0.1056</td>\n",
       "      <td>0.1037</td>\n",
       "      <td>0.0987</td>\n",
       "      <td>0.0926</td>\n",
       "      <td>0.0982</td>\n",
       "      <td>...</td>\n",
       "      <td>0.0778</td>\n",
       "      <td>0.0715</td>\n",
       "      <td>0.1477</td>\n",
       "      <td>0.0756</td>\n",
       "      <td>0.0967</td>\n",
       "      <td>0.0231</td>\n",
       "      <td>0.0967</td>\n",
       "      <td>0.0231</td>\n",
       "      <td>0.0951</td>\n",
       "      <td>0.0200</td>\n",
       "    </tr>\n",
       "  </tbody>\n",
       "</table>\n",
       "<p>5 rows × 23 columns</p>\n",
       "</div>"
      ],
      "text/plain": [
       "         AUS     AUT     BEL     CAN     DNK     FRA     DEU     ITA     JPN  \\\n",
       "YEAR                                                                           \n",
       "1970  0.0665  0.0781  0.0771  0.0791  0.1057  0.0812  0.0830  0.0901  0.0719   \n",
       "1971  0.0671  0.0771  0.0729  0.0695  0.1067  0.0779  0.0798  0.0834  0.0728   \n",
       "1972  0.0583  0.0736  0.0696  0.0723  0.1037  0.0742  0.0786  0.0747  0.0669   \n",
       "1973  0.0693  0.0825  0.0735  0.0756  0.1107  0.0833  0.0931  0.0742  0.0726   \n",
       "1974  0.0904  0.0974  0.0857  0.0890  0.1455  0.1056  0.1037  0.0987  0.0926   \n",
       "\n",
       "         NLD    ...         SWE     CHE     GBR     USA  ALL AVERAGE  STD-DEV  \\\n",
       "YEAR            ...                                                             \n",
       "1970  0.0822    ...      0.0739  0.0582  0.0922  0.0735       0.0784   0.0119   \n",
       "1971  0.0735    ...      0.0723  0.0527  0.0890  0.0616       0.0747   0.0126   \n",
       "1972  0.0688    ...      0.0729  0.0497  0.0890  0.0621       0.0718   0.0127   \n",
       "1973  0.0792    ...      0.0738  0.0560  0.1071  0.0684       0.0788   0.0151   \n",
       "1974  0.0982    ...      0.0778  0.0715  0.1477  0.0756       0.0967   0.0231   \n",
       "\n",
       "      16 COUNTRIES AVERAGE  STD-DEV.1  NO JPN CHE AVERAGE  STD-DEV.2  \n",
       "YEAR                                                                  \n",
       "1970                0.0784     0.0119              0.0783     0.0085  \n",
       "1971                0.0747     0.0126              0.0740     0.0080  \n",
       "1972                0.0718     0.0127              0.0714     0.0082  \n",
       "1973                0.0788     0.0151              0.0785     0.0121  \n",
       "1974                0.0967     0.0231              0.0951     0.0200  \n",
       "\n",
       "[5 rows x 23 columns]"
      ]
     },
     "execution_count": 5,
     "metadata": {},
     "output_type": "execute_result"
    }
   ],
   "source": [
    "HISTORICAL_RATES = pandas.read_csv('oecd_interest_rates.csv', index_col=0)\n",
    "HISTORICAL_RATES.head()"
   ]
  },
  {
   "cell_type": "code",
   "execution_count": 6,
   "metadata": {
    "collapsed": true,
    "deletable": true,
    "editable": true
   },
   "outputs": [],
   "source": [
    "def build_yield_curve(raw_rate, yield_curve_size=10):\n",
    "    s = pandas.Series(raw_rate, index=numpy.arange(yield_curve_size))\n",
    "    return s.tolist()"
   ]
  },
  {
   "cell_type": "code",
   "execution_count": 7,
   "metadata": {
    "collapsed": false,
    "deletable": true,
    "editable": true
   },
   "outputs": [
    {
     "data": {
      "text/plain": [
       "['6.65',\n",
       " '6.65',\n",
       " '6.65',\n",
       " '6.65',\n",
       " '6.65',\n",
       " '6.65',\n",
       " '6.65',\n",
       " '6.65',\n",
       " '6.65',\n",
       " '6.65']"
      ]
     },
     "execution_count": 7,
     "metadata": {},
     "output_type": "execute_result"
    }
   ],
   "source": [
    "['%.2f' % (s*100) for s in build_yield_curve(HISTORICAL_RATES.iloc[0]['AUS'])]"
   ]
  },
  {
   "cell_type": "code",
   "execution_count": 8,
   "metadata": {
    "collapsed": false,
    "deletable": true,
    "editable": true
   },
   "outputs": [
    {
     "data": {
      "text/plain": [
       "deque([Maturity: 4 | Yield: 6.65% | Face Value: $50.00,\n",
       "       Maturity: 5 | Yield: 6.65% | Face Value: $53.33,\n",
       "       Maturity: 6 | Yield: 6.65% | Face Value: $56.87,\n",
       "       Maturity: 7 | Yield: 6.65% | Face Value: $60.65,\n",
       "       Maturity: 8 | Yield: 6.65% | Face Value: $64.69,\n",
       "       Maturity: 9 | Yield: 6.65% | Face Value: $68.99,\n",
       "       Maturity: 10 | Yield: 6.65% | Face Value: $73.58])"
      ]
     },
     "execution_count": 8,
     "metadata": {},
     "output_type": "execute_result"
    }
   ],
   "source": [
    "bootstrap(build_yield_curve(HISTORICAL_RATES.iloc[0]['AUS']), 10, 4)"
   ]
  },
  {
   "cell_type": "code",
   "execution_count": 9,
   "metadata": {
    "collapsed": false,
    "deletable": true,
    "editable": true
   },
   "outputs": [],
   "source": [
    "def loop(ladder, rates, max_maturity, start_year, end_year):\n",
    "    df = pandas.DataFrame(columns=['NAV', 'Payments', 'Change'], index=numpy.arange(start_year, end_year + 1))\n",
    "\n",
    "    for (year, current_rates) in rates.iteritems():\n",
    "        (ladder, payments, nav) = iterate_fund(ladder, build_yield_curve(current_rates), max_maturity)\n",
    "        df.loc[year] = {'NAV' : nav, 'Payments' : payments}\n",
    "\n",
    "    calculate_returns(df)\n",
    "    return df\n",
    "\n",
    "def calculate_returns(df):\n",
    "    # Longinvest calculates the return based on comparison's to\n",
    "    # next year's NAV. So I'll do the same. Even though that seems\n",
    "    # weird to me. Maybe it's because the rates are based on January?\n",
    "    # Hmmm...that sounds plausible.\n",
    "    max_row = df.shape[0]\n",
    "\n",
    "    for i in range(max_row - 1):\n",
    "        next_nav = df.iloc[i+1]['NAV']\n",
    "        nav = df.iloc[i]['NAV']\n",
    "        change = (next_nav - nav) / nav\n",
    "        df.iloc[i]['Change'] = change\n",
    "    return df\n",
    "\n",
    "def simulate(max_maturity, min_maturity, rates):\n",
    "    \"\"\" This is just something to save on typing...and make clearer what the bounds on the fund are \"\"\"\n",
    "    # find the first non-NaN number in rates\n",
    "    rates = rates.dropna()\n",
    "    ladder = bootstrap(build_yield_curve(rates.iloc[0]), max_maturity, min_maturity)\n",
    "    start_year = rates.head(1).index[0]\n",
    "    end_year = rates.tail(1).index[0]\n",
    "    return loop(ladder, rates, max_maturity, start_year, end_year)"
   ]
  },
  {
   "cell_type": "markdown",
   "metadata": {
    "deletable": true,
    "editable": true
   },
   "source": [
    "# The \"naive\" approach\n",
    "\n",
    "Other bond return simulations don't hold a ladder, they just sell the bond after a single year. That is, buy a 10-year bond, sell it after 1-year and buy another 10-year bond. That's the same as holding a single maturity (above) but with a 10-year maturity."
   ]
  },
  {
   "cell_type": "code",
   "execution_count": 10,
   "metadata": {
    "collapsed": false,
    "deletable": true,
    "editable": true
   },
   "outputs": [
    {
     "data": {
      "text/html": [
       "<div>\n",
       "<table border=\"1\" class=\"dataframe\">\n",
       "  <thead>\n",
       "    <tr style=\"text-align: right;\">\n",
       "      <th></th>\n",
       "      <th>NAV</th>\n",
       "      <th>Payments</th>\n",
       "      <th>Change</th>\n",
       "    </tr>\n",
       "  </thead>\n",
       "  <tbody>\n",
       "    <tr>\n",
       "      <th>1999</th>\n",
       "      <td>52.25</td>\n",
       "      <td>52.25</td>\n",
       "      <td>0.054505</td>\n",
       "    </tr>\n",
       "    <tr>\n",
       "      <th>2000</th>\n",
       "      <td>55.0979</td>\n",
       "      <td>55.0979</td>\n",
       "      <td>0.105152</td>\n",
       "    </tr>\n",
       "    <tr>\n",
       "      <th>2001</th>\n",
       "      <td>60.8915</td>\n",
       "      <td>60.8915</td>\n",
       "      <td>0.0378792</td>\n",
       "    </tr>\n",
       "    <tr>\n",
       "      <th>2002</th>\n",
       "      <td>63.1981</td>\n",
       "      <td>63.1981</td>\n",
       "      <td>0.0829729</td>\n",
       "    </tr>\n",
       "    <tr>\n",
       "      <th>2003</th>\n",
       "      <td>68.4418</td>\n",
       "      <td>68.4418</td>\n",
       "      <td>0.00531988</td>\n",
       "    </tr>\n",
       "  </tbody>\n",
       "</table>\n",
       "</div>"
      ],
      "text/plain": [
       "          NAV Payments      Change\n",
       "1999    52.25    52.25    0.054505\n",
       "2000  55.0979  55.0979    0.105152\n",
       "2001  60.8915  60.8915   0.0378792\n",
       "2002  63.1981  63.1981   0.0829729\n",
       "2003  68.4418  68.4418  0.00531988"
      ]
     },
     "execution_count": 10,
     "metadata": {},
     "output_type": "execute_result"
    }
   ],
   "source": [
    "simulate(10, 10, HISTORICAL_RATES['SGD']).head()"
   ]
  },
  {
   "cell_type": "markdown",
   "metadata": {
    "deletable": true,
    "editable": true
   },
   "source": [
    "# Saving to CSV\n",
    "To do anything useful, you probably want to save the results to a CSV file. Here's a commented-out example of how to do that."
   ]
  },
  {
   "cell_type": "code",
   "execution_count": 21,
   "metadata": {
    "collapsed": false,
    "deletable": true,
    "editable": true
   },
   "outputs": [],
   "source": [
    "countries = [\n",
    "    'AUS',\n",
    "    'AUT',\n",
    "    'BEL',\n",
    "    'CAN',\n",
    "    'DNK',\n",
    "    'FRA',\n",
    "    'DEU',\n",
    "    'ITA',\n",
    "    'JPN',\n",
    "    'NLD',\n",
    "    'NOR',\n",
    "    'SGD', # 1999 onward\n",
    "    'ESP', # 1979 onward\n",
    "    'SWE',\n",
    "    'CHE',\n",
    "    'GBR',\n",
    "    'USA',\n",
    "    'ALL AVERAGE',\n",
    "    '16 COUNTRIES AVERAGE',\n",
    "    'NO JPN CHE AVERAGE',\n",
    "]\n",
    "\n",
    "pd = pandas.DataFrame(columns=countries)\n",
    "\n",
    "for c in countries:\n",
    "    returns = simulate(10, 10, HISTORICAL_RATES[c])\n",
    "    pd[c] = returns['Change']\n",
    "\n",
    "pd.head()\n",
    "#pd.to_csv('oecd_bond_returns.csv')"
   ]
  },
  {
   "cell_type": "raw",
   "metadata": {
    "collapsed": true,
    "deletable": true,
    "editable": true
   },
   "source": []
  }
 ],
 "metadata": {
  "anaconda-cloud": {},
  "kernelspec": {
   "display_name": "Python 3",
   "language": "python",
   "name": "python3"
  },
  "language_info": {
   "codemirror_mode": {
    "name": "ipython",
    "version": 3
   },
   "file_extension": ".py",
   "mimetype": "text/x-python",
   "name": "python",
   "nbconvert_exporter": "python",
   "pygments_lexer": "ipython3",
   "version": "3.5.3"
  }
 },
 "nbformat": 4,
 "nbformat_minor": 0
}
