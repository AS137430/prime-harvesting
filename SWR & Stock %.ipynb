{
 "cells": [
  {
   "cell_type": "code",
   "execution_count": null,
   "metadata": {},
   "outputs": [],
   "source": [
    "%matplotlib inline\n",
    "import plot\n",
    "import market\n",
    "import metrics\n",
    "from decimal import Decimal\n",
    "import pandas"
   ]
  },
  {
   "cell_type": "code",
   "execution_count": null,
   "metadata": {},
   "outputs": [],
   "source": [
    "m = market.Returns_US_1871()\n",
    "years = 30\n",
    "start_year = 1871\n",
    "last_year = 2018-years\n",
    "\n",
    "def run(stock_pct):\n",
    "    swrs = pandas.Series()\n",
    "    for _ in range(last_year - start_year + 2):\n",
    "        returns = []\n",
    "#        if start_year + _ in (1965,1966,1967,1968,1969): continue\n",
    "        for one_year in zip(range(years), m.iter_from(start_year + _)):\n",
    "            annual_returns = one_year[1]\n",
    "            stocks = ((1+annual_returns.stocks) / (1+annual_returns.inflation)) - 1\n",
    "            bonds = ((1+annual_returns.bonds) / (1+annual_returns.inflation)) - 1\n",
    "            returns.append((stocks * stock_pct) + (bonds * (1-stock_pct)))\n",
    "#        swr = float(metrics.ssr(returns))\n",
    "        swr = float(metrics.pwa(100, 0, returns))\n",
    "#        print(start_year+_, swr)\n",
    "        swrs.loc[start_year+_] = swr\n",
    "    return swrs\n",
    "\n",
    "\n",
    "two = run(Decimal('.2'))\n",
    "three = run(Decimal('.3'))\n",
    "four = run(Decimal('.4'))\n",
    "five = run(Decimal('.5'))\n",
    "six = run(Decimal('.6'))\n",
    "eight = run(Decimal('.8'))\n",
    "nine = run(Decimal('.9'))\n",
    "ten = run(Decimal('1'))\n",
    "\n",
    "\n",
    "plot.plot_n({'60/40': six, '100/0' : ten}, '', 'Safe Withdrawal Rate by Year', add_commas=False)\n",
    "\n",
    "#diff = filter(lambda x: x>0, [(x[0] - x[1])*100 for x in zip(eight, four)])\n",
    "#plot.plot_n({'80/20 - 40/60' : list(diff)}, '', 'SWR Tell Tale Chart', add_commas=False, zero_based=False)"
   ]
  },
  {
   "cell_type": "code",
   "execution_count": null,
   "metadata": {},
   "outputs": [],
   "source": [
    "six[six.index < 1960].sort_values()"
   ]
  },
  {
   "cell_type": "code",
   "execution_count": null,
   "metadata": {},
   "outputs": [],
   "source": [
    "#for i in range(1, len(six)):\n",
    "#    six.iloc[i] = min(six.iloc[i], six.iloc[i-1])\n",
    "#plot.plot_n({'SWR' : six}, '', 'SWR over time')"
   ]
  },
  {
   "cell_type": "code",
   "execution_count": null,
   "metadata": {},
   "outputs": [],
   "source": [
    "a = ten\n",
    "#print(a.sort_values()[0:10])\n",
    "#print(a.median())\n",
    "#print(a.quantile(.1))\n",
    "six.tail()"
   ]
  },
  {
   "cell_type": "code",
   "execution_count": null,
   "metadata": {},
   "outputs": [],
   "source": [
    "import itertools\n",
    "from simulate import simulate_withdrawals\n",
    "from harvesting import N_60_RebalanceHarvesting, N_100_RebalanceHarvesting\n",
    "import withdrawal\n",
    "import math\n",
    "\n",
    "def compare_em_vs_vpw(series, years=40):\n",
    "    (r1, r2) = itertools.tee(series)\n",
    "    portfolio = (600000, 400000)\n",
    "    x = simulate_withdrawals(r1, years=years, harvesting=N_60_RebalanceHarvesting, withdraw=lambda p, h: withdrawal.ConstantDollar(p, h, rate=Decimal('0.04')), portfolio=portfolio)\n",
    "    y = simulate_withdrawals(r2, years=years, harvesting=N_60_RebalanceHarvesting, withdraw=lambda p, h: withdrawal.ConstantPercentage(p, h), portfolio=portfolio)\n",
    "\n",
    "    s1 = [n.portfolio_post.value_r for n in x]\n",
    "    s2 = [n.portfolio_post.value_r for n in y]\n",
    "\n",
    "    plot.plot_n({\n",
    "        '4%' : s1,\n",
    "        'Constant 5%' : s2\n",
    "    }, 'Year of retirement', 'Portfolio for 1969 retirement')\n",
    "\n",
    "compare_em_vs_vpw(m.iter_from(1969), years=40)"
   ]
  },
  {
   "cell_type": "code",
   "execution_count": null,
   "metadata": {},
   "outputs": [],
   "source": [
    "m = market.Returns_US_1871()\n",
    "years = 30\n",
    "start_year = 1871\n",
    "last_year = 2016-years\n",
    "\n",
    "def get_stock_pct(year):\n",
    "    if year < 10:\n",
    "        return Decimal('.4')\n",
    "    elif year < 20:\n",
    "        return Decimal('.5')\n",
    "    else:\n",
    "        return Decimal('.6')\n",
    "\n",
    "\n",
    "def run():\n",
    "    swrs = pandas.Series()\n",
    "    for _ in range(last_year - start_year + 1):\n",
    "        returns = []\n",
    "        for one_year in zip(range(years), m.iter_from(start_year + _)):\n",
    "            annual_returns = one_year[1]\n",
    "            stock_pct = get_stock_pct(one_year[0])\n",
    "            stocks = annual_returns.stocks - annual_returns.inflation\n",
    "            bonds = annual_returns.bonds - annual_returns.inflation\n",
    "            returns.append((stocks * stock_pct) + (bonds * (1-stock_pct)))\n",
    "        swr = float(metrics.ssr(returns))\n",
    "        swrs.loc[start_year+_] = swr\n",
    "    return swrs\n",
    "\n",
    "values = run()\n",
    "values.sort_values()"
   ]
  },
  {
   "cell_type": "code",
   "execution_count": null,
   "metadata": {},
   "outputs": [],
   "source": [
    "import scipy.stats\n",
    "\n",
    "def run():\n",
    "    m = market.Returns_US_1871()\n",
    "    years = 35\n",
    "    start_year = 1871\n",
    "    last_year = 2017-years\n",
    "    stock_pct = Decimal('.6')\n",
    "\n",
    "    swrs = pandas.Series()\n",
    "    for _ in range(last_year - start_year + 1):\n",
    "        returns = []\n",
    "        for one_year in zip(range(years), m.iter_from(start_year + _)):\n",
    "            annual_returns = one_year[1]\n",
    "            stock_pct = stock_pct\n",
    "            stocks = annual_returns.stocks - annual_returns.inflation\n",
    "            bonds = annual_returns.bonds - annual_returns.inflation\n",
    "            returns.append((stocks * stock_pct) + (bonds * (1-stock_pct)))\n",
    "        swr = float(metrics.ssr(returns))\n",
    "        swrs.loc[start_year+_] = swr\n",
    "    return swrs\n",
    "\n",
    "values = run()\n",
    "\n",
    "scipy.stats.percentileofscore(values, .04)"
   ]
  },
  {
   "cell_type": "code",
   "execution_count": null,
   "metadata": {},
   "outputs": [],
   "source": [
    "m = market.Returns_US_1871()\n",
    "years = 30\n",
    "start_year = 1871\n",
    "last_year = 2016-years\n",
    "\n",
    "def get_stock_pct(stocks, bonds):\n",
    "    if stocks < bonds:\n",
    "        return Decimal('.4')\n",
    "    else:\n",
    "        return Decimal('.6')\n",
    "\n",
    "def run():\n",
    "    swrs = pandas.Series()\n",
    "    for _ in range(last_year - start_year + 1):\n",
    "        returns = []\n",
    "        for one_year in zip(range(years), m.iter_from(start_year + _)):\n",
    "            annual_returns = one_year[1]\n",
    "            stocks = annual_returns.stocks - annual_returns.inflation\n",
    "            bonds = annual_returns.bonds - annual_returns.inflation\n",
    "            stock_pct = get_stock_pct(stocks, bonds)\n",
    "            returns.append((stocks * stock_pct) + (bonds * (1-stock_pct)))\n",
    "        swr = float(metrics.ssr(returns))\n",
    "        swrs.loc[start_year+_] = swr\n",
    "    return swrs\n",
    "\n",
    "run().sort_values()"
   ]
  },
  {
   "cell_type": "code",
   "execution_count": null,
   "metadata": {},
   "outputs": [],
   "source": [
    "print(six[1966])"
   ]
  },
  {
   "cell_type": "code",
   "execution_count": null,
   "metadata": {},
   "outputs": [],
   "source": [
    "class BondsSuck(market.Returns_US_1871):\n",
    "    def __init__(self):\n",
    "        self.start_year = 1871\n",
    "        self.dataframe = pandas.read_csv('1871_returns.csv')\n",
    "        # make bonds have a 0% real return\n",
    "        self.dataframe['IT Bonds'] = self.dataframe['CPI-U']\n",
    "        self.years_of_data = len(self.dataframe)"
   ]
  },
  {
   "cell_type": "code",
   "execution_count": null,
   "metadata": {},
   "outputs": [],
   "source": [
    "hist_swrs = six\n",
    "hist_swrs.head()"
   ]
  },
  {
   "cell_type": "code",
   "execution_count": null,
   "metadata": {},
   "outputs": [],
   "source": [
    "m = BondsSuck()\n",
    "years = 30\n",
    "start_year = 1871\n",
    "last_year = 2018-years\n",
    "\n",
    "def run(stock_pct):\n",
    "    swrs = pandas.Series()\n",
    "    for _ in range(last_year - start_year + 2):\n",
    "        returns = []\n",
    "        for one_year in zip(range(years), m.iter_from(start_year + _)):\n",
    "            annual_returns = one_year[1]\n",
    "            stocks = ((1+annual_returns.stocks) / (1+annual_returns.inflation)) - 1\n",
    "            bonds = ((1+annual_returns.bonds) / (1+annual_returns.inflation)) - 1\n",
    "            returns.append((stocks * stock_pct) + (bonds * (1-stock_pct)))\n",
    "        swr = float(metrics.pwa(100, 0, returns))\n",
    "        swrs.loc[start_year+_] = swr\n",
    "    return swrs"
   ]
  },
  {
   "cell_type": "code",
   "execution_count": null,
   "metadata": {},
   "outputs": [],
   "source": [
    "badbonds_swrs = run(Decimal('.6'))"
   ]
  },
  {
   "cell_type": "code",
   "execution_count": null,
   "metadata": {},
   "outputs": [],
   "source": [
    "%matplotlib inline\n",
    "#%pdb on\n",
    "import seaborn\n",
    "from matplotlib import pyplot as plt\n",
    "import matplotlib\n",
    "seaborn.set(style=\"whitegrid\")\n",
    "seaborn.set_context('poster')\n",
    "plt.figure(figsize=(12,6))\n",
    "plt.title('Historical bond returns vs. 0% real bond returns')\n",
    "seaborn.lineplot(data=pandas.DataFrame({'historical': hist_swrs, 'badbonds' : badbonds_swrs}))"
   ]
  },
  {
   "cell_type": "code",
   "execution_count": null,
   "metadata": {},
   "outputs": [],
   "source": []
  }
 ],
 "metadata": {
  "anaconda-cloud": {},
  "kernelspec": {
   "display_name": "Python 3",
   "language": "python",
   "name": "python3"
  },
  "language_info": {
   "codemirror_mode": {
    "name": "ipython",
    "version": 3
   },
   "file_extension": ".py",
   "mimetype": "text/x-python",
   "name": "python",
   "nbconvert_exporter": "python",
   "pygments_lexer": "ipython3"
  }
 },
 "nbformat": 4,
 "nbformat_minor": 4
}
