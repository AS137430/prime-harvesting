{
 "cells": [
  {
   "cell_type": "code",
   "execution_count": null,
   "metadata": {},
   "outputs": [],
   "source": [
    "%matplotlib inline\n",
    "from pprint import pprint\n",
    "from decimal import Decimal\n",
    "import itertools\n",
    "import seaborn\n",
    "import pandas\n",
    "\n",
    "import simulate\n",
    "import harvesting\n",
    "import market\n",
    "import withdrawal\n",
    "import numpy"
   ]
  },
  {
   "cell_type": "code",
   "execution_count": null,
   "metadata": {},
   "outputs": [],
   "source": [
    "series = market.Returns_US_1871()"
   ]
  },
  {
   "cell_type": "code",
   "execution_count": null,
   "metadata": {},
   "outputs": [],
   "source": [
    "TYPE = 'Withdrawal (Real)'\n",
    "m = {'Withdrawal (Nominal)': lambda x: float(x.withdraw_n),\n",
    "     'Withdrawal (Real)' : lambda x: float(x.withdraw_r),\n",
    "     'Portfolio (Nominal)': lambda x: float(x.portfolio_n),\n",
    "     'Portfolio (Real)': lambda x: float(x.portfolio_r),\n",
    "}\n",
    "lens = m[TYPE]\n",
    "lens.__label__ = TYPE\n",
    "\n",
    "def fn(x):\n",
    "    return [lens(_) for _ in x]\n",
    "\n",
    "def diff(x):\n",
    "    (a, b) = itertools.tee(fn(x))\n",
    "    for n in zip(list(a), [0.1] + list(b)):\n",
    "        print(round((n[0] - n[1]) / n[1] * 1000) / 10)\n",
    "        \n",
    "def check_stat(x):\n",
    "    (a, b) = itertools.tee(fn(x))\n",
    "    diffs = [n[0] - n[1] for n in zip(list(a), [0] + list(b))]\n",
    "    return(numpy.std(diffs[1:]))"
   ]
  },
  {
   "cell_type": "code",
   "execution_count": null,
   "metadata": {},
   "outputs": [],
   "source": [
    "year = 1928\n",
    "VPW_YEARS=35\n",
    "\n",
    "w = {\n",
    "    'longinvest': lambda p, s: withdrawal.LonginvestSmoothing(withdrawal.VPW(p, s, years_left=VPW_YEARS)),\n",
    "    'steiner' : lambda p, s: withdrawal.SteinerSmoothing(withdrawal.VPW(p, s, years_left=VPW_YEARS)),\n",
    "    'rolling' : lambda p, s: withdrawal.RollingAverageSmoothing(withdrawal.VPW(p, s, years_left=VPW_YEARS)),\n",
    "    'raw' : lambda p, s: withdrawal.VPW(p, s, years_left=VPW_YEARS),\n",
    "    'cape10' : lambda p, s: withdrawal.CAPE10Smoothing(year, withdrawal.VPW(p, s, years_left=VPW_YEARS)),\n",
    "    'rollingcape10' : lambda p, s: withdrawal.RollingAverageSmoothing(withdrawal.CAPE10Smoothing(year, withdrawal.VPW(p, s, years_left=VPW_YEARS))),\n",
    "}\n",
    "\n",
    "def run_sim(year, key, length=15):\n",
    "    portfolio = (500000,500000)\n",
    "    harvest_strategy = harvesting.make_rebalancer(0.5)\n",
    "    \n",
    "    return simulate.withdrawals(series.iter_from(year),\n",
    "                                 withdraw=w[key],\n",
    "                                 years=length,\n",
    "                                 portfolio=portfolio,\n",
    "                                 harvesting=harvest_strategy)\n",
    "\n",
    "\n",
    "pmt = run_sim(year, 'raw')\n",
    "long = run_sim(year, 'longinvest')\n",
    "steiner = run_sim(year, 'steiner')\n",
    "rolling = run_sim(year, 'rolling')\n",
    "cape10 = run_sim(year, 'cape10')\n",
    "rollingcape10 = run_sim(year, 'rollingcape10')"
   ]
  },
  {
   "cell_type": "code",
   "execution_count": null,
   "metadata": {},
   "outputs": [],
   "source": [
    "df = pandas.DataFrame({\n",
    "    'raw pmt' : [lens(x) for x in pmt],\n",
    "    'rolling' : [lens(x) for x in rolling],\n",
    "})\n",
    "g = seaborn.relplot(\n",
    "        data=df,\n",
    "        kind='line',\n",
    "        aspect=2,\n",
    "    )\n",
    "#g.fig.autofmt_xdate()\n",
    "g.despine(left=True, bottom=True, offset=20)\n",
    "g.fig.suptitle(f'Retirement in {year}')"
   ]
  },
  {
   "cell_type": "code",
   "execution_count": null,
   "metadata": {},
   "outputs": [],
   "source": [
    "high = simulate.withdrawals(series.iter_from(year),\n",
    "                                 withdraw=w['raw'],\n",
    "                                 years=15,\n",
    "                                 portfolio=(700_000, 300_000),\n",
    "                                 harvesting=harvesting.make_rebalancer(0.7))\n",
    "mid = simulate.withdrawals(series.iter_from(year),\n",
    "                                 withdraw=w['raw'],\n",
    "                                 years=15,\n",
    "                                 portfolio=(500_000, 500_000),\n",
    "                                 harvesting=harvesting.make_rebalancer(0.5))\n",
    "low = simulate.withdrawals(series.iter_from(year),\n",
    "                                 withdraw=w['raw'],\n",
    "                                 years=15,\n",
    "                                 portfolio=(300_000, 700_000),\n",
    "                                 harvesting=harvesting.make_rebalancer(0.3))"
   ]
  },
  {
   "cell_type": "code",
   "execution_count": null,
   "metadata": {},
   "outputs": [],
   "source": [
    "df = pandas.DataFrame({\n",
    "    '70/30' : [lens(x) for x in high],\n",
    "    '50/50' : [lens(x) for x in mid],\n",
    "    '30/70' : [lens(x) for x in low],\n",
    "})\n",
    "g = seaborn.relplot(\n",
    "        data=df,\n",
    "        kind='line',\n",
    "        aspect=2,\n",
    "    )\n",
    "#g.fig.autofmt_xdate()\n",
    "g.despine(left=True, bottom=True, offset=20)\n",
    "g.fig.suptitle(f'Retirement in {year}')"
   ]
  },
  {
   "cell_type": "code",
   "execution_count": null,
   "metadata": {},
   "outputs": [],
   "source": [
    "print(numpy.std([lens(x) for x in high]), 'high')\n",
    "print(numpy.std([lens(x) for x in mid]), 'mid')\n",
    "print(numpy.std([lens(x) for x in low]), 'low')"
   ]
  },
  {
   "cell_type": "code",
   "execution_count": null,
   "metadata": {},
   "outputs": [],
   "source": [
    "pmt = run_sim(year, 'raw')\n",
    "glidepath = simulate.withdrawals(series.iter_from(year),\n",
    "                                 withdraw=w['raw'],\n",
    "                                 years=15,\n",
    "                                 portfolio=(300_000, 700_000),\n",
    "                                 harvesting=lambda p: harvesting.ParameterGlidepath(p, Decimal('.3'), Decimal('.8'), 30))\n",
    "df = pandas.DataFrame({\n",
    "    'raw pmt' : [lens(x) for x in pmt],\n",
    "    'rising equity' : [lens(x) for x in glidepath],\n",
    "})\n",
    "g = seaborn.relplot(\n",
    "        data=df,\n",
    "        kind='line',\n",
    "        aspect=2,\n",
    "    )\n",
    "#g.fig.autofmt_xdate()\n",
    "g.despine(left=True, bottom=True, offset=20)\n",
    "g.fig.suptitle(f'Retirement in {year}')"
   ]
  },
  {
   "cell_type": "code",
   "execution_count": null,
   "metadata": {},
   "outputs": [],
   "source": [
    "df = pandas.DataFrame({\n",
    "    'raw pmt' : [float(x.portfolio_post.bonds / x.portfolio_post.value_n) for x in pmt],\n",
    "    'rising equity' : [float(x.portfolio_post.bonds / x.portfolio_post.value_n) for x in glidepath],\n",
    "})\n",
    "g = seaborn.relplot(\n",
    "        data=df,\n",
    "        kind='line',\n",
    "        aspect=2,\n",
    "    )\n",
    "#g.fig.autofmt_xdate()\n",
    "g.despine(left=True, bottom=True, offset=20)\n",
    "g.fig.suptitle(f'Bond % for Retirement in {year}')"
   ]
  },
  {
   "cell_type": "code",
   "execution_count": null,
   "metadata": {},
   "outputs": [],
   "source": []
  }
 ],
 "metadata": {
  "kernelspec": {
   "display_name": "Python 3",
   "language": "python",
   "name": "python3"
  },
  "language_info": {
   "codemirror_mode": {
    "name": "ipython",
    "version": 3
   },
   "file_extension": ".py",
   "mimetype": "text/x-python",
   "name": "python",
   "nbconvert_exporter": "python",
   "pygments_lexer": "ipython3"
  }
 },
 "nbformat": 4,
 "nbformat_minor": 4
}
