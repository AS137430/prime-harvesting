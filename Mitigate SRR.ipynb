{
 "cells": [
  {
   "cell_type": "code",
   "execution_count": null,
   "metadata": {},
   "outputs": [],
   "source": [
    "import market\n",
    "import simulate\n",
    "import withdrawal\n",
    "import harvesting\n",
    "import metrics\n",
    "import lens\n",
    "import plot\n",
    "from decimal import Decimal as D\n",
    "import pandas\n",
    "\n",
    "%matplotlib inline\n",
    "import seaborn\n",
    "from matplotlib import pyplot as plt\n",
    "import matplotlib\n",
    "seaborn.set(style=\"whitegrid\")\n",
    "seaborn.set_context('poster')"
   ]
  },
  {
   "cell_type": "code",
   "execution_count": null,
   "metadata": {},
   "outputs": [],
   "source": [
    "length = 10\n",
    "rate = D('.015')\n",
    "s = simulate.calc_lens(harvesting.N_80_RebalanceHarvesting,\n",
    "                   lambda p, h: withdrawal.ConstantDollar(p, h, rate=rate),\n",
    "                   length,\n",
    "                   lambda n: n[-1].portfolio_post.value_r,\n",
    "                   portfolio=(800_000, 200_000)\n",
    "                  )\n",
    "# it comes back as Decimal which seaborn doesn't like\n",
    "s = s.astype(int)"
   ]
  },
  {
   "cell_type": "code",
   "execution_count": null,
   "metadata": {},
   "outputs": [],
   "source": [
    "#g = s.astype(int).plot()\n",
    "g = seaborn.relplot(data=s, aspect=3)\n",
    "g.despine(left=True, bottom=True, offset=20)\n",
    "#g.set_xticklabels(['4%', '4.5%', '5%'])\n",
    "g.fig.suptitle(f'Final (real) portfolio value after {length} years of {rate} withdrawals.')\n",
    "g.ax.yaxis.set_major_formatter(\n",
    "    matplotlib.ticker.FuncFormatter(lambda x, p: format(int(x), ',')))"
   ]
  },
  {
   "cell_type": "code",
   "execution_count": null,
   "metadata": {},
   "outputs": [],
   "source": [
    "g = seaborn.relplot(data=s[s<1_000_000], aspect=3)\n",
    "g.despine(left=True, bottom=True, offset=20)\n",
    "#g.set_xticklabels(['4%', '4.5%', '5%'])\n",
    "g.fig.suptitle(f'Final (real) portfolio value after {length} years of {rate} withdrawals.')\n",
    "print(len(s), len(s[s<1_000_000]))\n",
    "g.ax.yaxis.set_major_formatter(\n",
    "    matplotlib.ticker.FuncFormatter(lambda x, p: format(int(x), ',')))"
   ]
  },
  {
   "cell_type": "code",
   "execution_count": null,
   "metadata": {},
   "outputs": [],
   "source": [
    "#g = s.astype(int).plot()\n",
    "new_s = 35_000 / s\n",
    "g = seaborn.relplot(data=new_s, aspect=3)\n",
    "g.despine(left=True, bottom=True, offset=20)\n",
    "#g.set_xticklabels(['4%', '4.5%', '5%'])\n",
    "g.fig.suptitle(f'Final (real) portfolio value after {length} years of {rate} withdrawals.')"
   ]
  },
  {
   "cell_type": "code",
   "execution_count": null,
   "metadata": {},
   "outputs": [],
   "source": [
    "#g = seaborn.relplot(data=new_s[new_s>0.035], aspect=3)\n",
    "a = s[s<1_000_000]\n",
    "a = 35_000 / a\n",
    "a = a[a>0.035]\n",
    "g = seaborn.relplot(data=a, aspect=3)\n",
    "g.despine(left=True, bottom=True, offset=20)\n",
    "g.fig.suptitle(f'Current withdrawal rate after {length} years of {rate} withdrawals.')"
   ]
  },
  {
   "cell_type": "code",
   "execution_count": null,
   "metadata": {},
   "outputs": [],
   "source": [
    "s[s<1_000_000]"
   ]
  },
  {
   "cell_type": "code",
   "execution_count": null,
   "metadata": {},
   "outputs": [],
   "source": [
    "single_s = simulate.calc_lens(harvesting.N_80_RebalanceHarvesting,\n",
    "                   lambda p, h: withdrawal.ConstantDollar(p, h, rate=D('.035')),\n",
    "                   55,\n",
    "                   lens.calc_pwa0,\n",
    "                   portfolio=(800_000, 200_000)\n",
    "                  )"
   ]
  },
  {
   "cell_type": "code",
   "execution_count": null,
   "metadata": {},
   "outputs": [],
   "source": [
    "single_s[single_s>0].min()"
   ]
  },
  {
   "cell_type": "code",
   "execution_count": null,
   "metadata": {},
   "outputs": [],
   "source": [
    "f = [0] * 115\n",
    "for value in s[s<1_000_000]:\n",
    "    sy = simulate.calc_lens(harvesting.N_80_RebalanceHarvesting,\n",
    "               lambda p, h: withdrawal.ConstantDollar(p, h, rate=D(35_000 / value)),\n",
    "               45,\n",
    "               lens.calc_shortfall_years,\n",
    "               portfolio=(800_000, 200_000)\n",
    "    )\n",
    "    failures = sy[sy>0]\n",
    "    f.append(len(failures) / len(sy))\n",
    "fs = pandas.Series(f)"
   ]
  },
  {
   "cell_type": "code",
   "execution_count": null,
   "metadata": {},
   "outputs": [],
   "source": [
    "1 - fs.mean()"
   ]
  },
  {
   "cell_type": "code",
   "execution_count": null,
   "metadata": {},
   "outputs": [],
   "source": [
    "fs[fs>0].sort_values(ascending=False)"
   ]
  },
  {
   "cell_type": "code",
   "execution_count": null,
   "metadata": {},
   "outputs": [],
   "source": [
    "len(fs[fs>0.4])/len(fs[fs>0])"
   ]
  },
  {
   "cell_type": "code",
   "execution_count": null,
   "metadata": {},
   "outputs": [],
   "source": []
  }
 ],
 "metadata": {
  "kernelspec": {
   "display_name": "Python 3",
   "language": "python",
   "name": "python3"
  },
  "language_info": {
   "codemirror_mode": {
    "name": "ipython",
    "version": 3
   },
   "file_extension": ".py",
   "mimetype": "text/x-python",
   "name": "python",
   "nbconvert_exporter": "python",
   "pygments_lexer": "ipython3"
  }
 },
 "nbformat": 4,
 "nbformat_minor": 4
}
