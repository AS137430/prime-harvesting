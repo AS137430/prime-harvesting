{
 "cells": [
  {
   "cell_type": "code",
   "execution_count": 1,
   "metadata": {
    "collapsed": false
   },
   "outputs": [],
   "source": [
    "%matplotlib inline\n",
    "from pprint import pprint\n",
    "from metrics import wer, cew, ssr, average, hreff\n",
    "import montecarlo\n",
    "import dms\n",
    "import withdrawal\n",
    "import mortality\n",
    "from portfolio import Portfolio\n",
    "from harvesting import make_rebalancer, PrimeHarvesting\n",
    "from decimal import Decimal as D\n",
    "\n",
    "import plot\n",
    "from matplotlib import pyplot as plt\n",
    "\n",
    "import pandas"
   ]
  },
  {
   "cell_type": "code",
   "execution_count": 2,
   "metadata": {
    "collapsed": false
   },
   "outputs": [],
   "source": [
    "survival_function = mortality.make_mortality(mortality.ANNUITY_2000)"
   ]
  },
  {
   "cell_type": "code",
   "execution_count": 3,
   "metadata": {
    "collapsed": false
   },
   "outputs": [],
   "source": [
    "HREFF_FLOOR = 4\n",
    "\n",
    "def run_one(basecase, factory):\n",
    "    # The montecarlo used above has the stock/bond split baked in\n",
    "    # So we pretend we have a 100% stock portfolio in order to handle\n",
    "    # harvesting of cash\n",
    "    p = Portfolio(600000, 400000)\n",
    "    h = make_rebalancer(.6)(p).harvest()\n",
    "    #h = PrimeHarvesting(p).harvest()\n",
    "    h.send(None)\n",
    "    w = factory(p, h).withdrawals()\n",
    "\n",
    "    cashflows = []\n",
    "    returns = []\n",
    "    \n",
    "    # the previous year's returns\n",
    "    x = None\n",
    "\n",
    "    for i in range(mortality.gen_lifespan(mortality.DEFAULT_COUPLE, survival_function)):\n",
    "        # Withdrawals happen at the start of the year\n",
    "        # So we first withdraw cash.\n",
    "        cashflows.append(w.send(x).withdraw_pct_orig)\n",
    "        \n",
    "        # Then the year happens and we store the returns\n",
    "        x = basecase.random_year()\n",
    "        returns.append(x.stocks)\n",
    "\n",
    "    w = wer(cashflows, returns)\n",
    "    h = hreff(cashflows, returns, floor=D(HREFF_FLOOR)/100)\n",
    "    return (w, h)"
   ]
  },
  {
   "cell_type": "code",
   "execution_count": 4,
   "metadata": {
    "collapsed": false
   },
   "outputs": [],
   "source": [
    "def calc(factory):\n",
    "    runs = 1000\n",
    "    dataset = montecarlo.conservative[60]\n",
    "    wers = []\n",
    "    for i in range(runs):\n",
    "        wers.append(run_one(dataset, factory))\n",
    "    wer = average([w[0] for w in wers])\n",
    "    hreff = average([w[1] for w in wers])\n",
    "    return (wer, hreff)"
   ]
  },
  {
   "cell_type": "code",
   "execution_count": 5,
   "metadata": {
    "collapsed": false
   },
   "outputs": [],
   "source": [
    "rmd_wer, rmd_hreff = calc(withdrawal.IRS_RMD)"
   ]
  },
  {
   "cell_type": "code",
   "execution_count": 6,
   "metadata": {
    "collapsed": false,
    "scrolled": true
   },
   "outputs": [],
   "source": [
    "feel_wer, feel_hreff = calc(withdrawal.FeelFree)"
   ]
  },
  {
   "cell_type": "code",
   "execution_count": 7,
   "metadata": {
    "collapsed": false
   },
   "outputs": [],
   "source": [
    "arva_wer, arva_hreff = calc(lambda p, h: withdrawal.ARVA(p, h, discount_rate=D('.02')))"
   ]
  },
  {
   "cell_type": "code",
   "execution_count": 8,
   "metadata": {
    "collapsed": false
   },
   "outputs": [],
   "source": [
    "vpw_wer, vpw_hreff = calc(lambda p, h: withdrawal.VPW(p, h, replan=True))"
   ]
  },
  {
   "cell_type": "code",
   "execution_count": 9,
   "metadata": {
    "collapsed": false
   },
   "outputs": [],
   "source": [
    "sensible_wer, sensible_hreff = calc(withdrawal.SensibleWithdrawals)"
   ]
  },
  {
   "cell_type": "code",
   "execution_count": 10,
   "metadata": {
    "collapsed": false
   },
   "outputs": [],
   "source": [
    "inverted_wer, inverted_hreff = calc(withdrawal.InvertedWithdrawals)"
   ]
  },
  {
   "cell_type": "code",
   "execution_count": null,
   "metadata": {
    "collapsed": false
   },
   "outputs": [],
   "source": [
    "simple_wer, simple_hreff = calc(withdrawal.SimpleFormula)"
   ]
  },
  {
   "cell_type": "code",
   "execution_count": null,
   "metadata": {
    "collapsed": false
   },
   "outputs": [],
   "source": [
    "retrench_wer, retrench_hreff = calc(withdrawal.RetrenchmentRule)"
   ]
  },
  {
   "cell_type": "code",
   "execution_count": null,
   "metadata": {
    "collapsed": false
   },
   "outputs": [],
   "source": [
    "endowment_wer, endowment_hreff = calc(withdrawal.ConstantPercentage)"
   ]
  },
  {
   "cell_type": "code",
   "execution_count": null,
   "metadata": {
    "collapsed": false
   },
   "outputs": [],
   "source": [
    "swr_wer, swr_hreff = calc(withdrawal.ConstantWithdrawals)"
   ]
  },
  {
   "cell_type": "code",
   "execution_count": null,
   "metadata": {
    "collapsed": false
   },
   "outputs": [],
   "source": [
    "em_wer, em_hreff = calc(withdrawal.EM)"
   ]
  },
  {
   "cell_type": "code",
   "execution_count": null,
   "metadata": {
    "collapsed": true
   },
   "outputs": [],
   "source": [
    "ecm_wer, ecm_hreff = calc(withdrawal.ECM)"
   ]
  },
  {
   "cell_type": "code",
   "execution_count": null,
   "metadata": {
    "collapsed": false,
    "scrolled": true
   },
   "outputs": [],
   "source": [
    "series = pandas.Series({\n",
    "    'Constant 4%' : swr_wer,\n",
    "    'Endowment' : endowment_wer,\n",
    "    'EM' : em_wer,\n",
    "    'VPW' : vpw_wer,\n",
    "    'Simple' : simple_wer,\n",
    "    'Retrench' : retrench_wer,\n",
    "    'Sensible' : sensible_wer,\n",
    "    'Inverted' : inverted_wer,\n",
    "    'ECM' : ecm_wer,\n",
    "    'ARVA' : arva_wer,\n",
    "    'Feel Free': feel_wer,\n",
    "    'RMD' : rmd_wer\n",
    "})\n",
    "\n",
    "series.sort_values(inplace=True)\n",
    "series.plot(kind='bar', title='WER')\n",
    "print(series)"
   ]
  },
  {
   "cell_type": "code",
   "execution_count": null,
   "metadata": {
    "collapsed": false
   },
   "outputs": [],
   "source": [
    "series = pandas.Series({\n",
    "    'Constant 4%' : swr_hreff,\n",
    "    'Endowment' : endowment_hreff,\n",
    "    'EM' : em_hreff,\n",
    "    'VPW' : vpw_hreff,\n",
    "    'Simple' : simple_hreff,\n",
    "    'Retrench' : retrench_hreff,\n",
    "    'Sensible' : sensible_hreff,\n",
    "    'Inverted' : inverted_hreff,\n",
    "    'ECM' : ecm_hreff,\n",
    "    'ARVA' : arva_hreff,\n",
    "    'Feel Free' : feel_hreff,\n",
    "    'RMD' : rmd_hreff\n",
    "})\n",
    "\n",
    "series.sort_values(inplace=True)\n",
    "series.plot(kind='bar', title='HREFF-%s' % HREFF_FLOOR)\n",
    "print(series)"
   ]
  },
  {
   "cell_type": "code",
   "execution_count": null,
   "metadata": {
    "collapsed": false
   },
   "outputs": [],
   "source": [
    "from scipy.interpolate import spline\n",
    "import numpy as np\n",
    "\n",
    "#canvas = plt.figure()\n",
    "\n",
    "for equity in [0]:\n",
    "    w = []\n",
    "    r = []\n",
    "    for rate in range(20, 81, 5):\n",
    "        rate = D(rate) / 1000\n",
    "        case = montecarlo.conservative[equity]\n",
    "\n",
    "        wers = []\n",
    "        for i in range(100):\n",
    "            wers.append(run_one(case, withdrawal.ConstantWithdrawals))\n",
    "        my_wer = average([w[0] for w in wers])\n",
    "        w.append(my_wer)\n",
    "        r.append(rate)\n",
    "\n",
    "    x_smooth = np.linspace(float(min(r)), float(max(r)), 200)\n",
    "    y_smooth = spline(r, w, x_smooth)\n",
    "\n",
    "    fig, ax1 = plt.subplots()\n",
    "    ax1.set_ylim((0,1))\n",
    "    plt.plot(x_smooth, y_smooth)"
   ]
  },
  {
   "cell_type": "code",
   "execution_count": null,
   "metadata": {
    "collapsed": true
   },
   "outputs": [],
   "source": []
  }
 ],
 "metadata": {
  "anaconda-cloud": {},
  "kernelspec": {
   "display_name": "Python 3",
   "language": "python",
   "name": "python3"
  },
  "language_info": {
   "codemirror_mode": {
    "name": "ipython",
    "version": 3
   },
   "file_extension": ".py",
   "mimetype": "text/x-python",
   "name": "python",
   "nbconvert_exporter": "python",
   "pygments_lexer": "ipython3",
   "version": "3.5.1"
  }
 },
 "nbformat": 4,
 "nbformat_minor": 0
}
