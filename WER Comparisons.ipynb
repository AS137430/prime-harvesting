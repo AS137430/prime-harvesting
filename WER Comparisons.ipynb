{
 "cells": [
  {
   "cell_type": "code",
   "execution_count": 1,
   "metadata": {
    "collapsed": false
   },
   "outputs": [],
   "source": [
    "%matplotlib inline\n",
    "from pprint import pprint\n",
    "from metrics import wer, cew, ssr, average\n",
    "import montecarlo\n",
    "import withdrawal\n",
    "import mortality\n",
    "from portfolio import Portfolio\n",
    "from harvesting import N_100_RebalanceHarvesting\n",
    "from decimal import Decimal as D\n",
    "from decimal import Decimal\n",
    "\n",
    "import plot\n",
    "from matplotlib import pyplot as plt"
   ]
  },
  {
   "cell_type": "code",
   "execution_count": 2,
   "metadata": {
    "collapsed": true
   },
   "outputs": [],
   "source": [
    "survival_function = mortality.make_mortality(mortality.ANNUITY_2000)"
   ]
  },
  {
   "cell_type": "code",
   "execution_count": 3,
   "metadata": {
    "collapsed": false
   },
   "outputs": [],
   "source": [
    "def run_one(rate=D('.04'), basecase=montecarlo.conservative[40]):\n",
    "    # The montecarlo used above has the stock/bond split baked in\n",
    "    # So we pretend we have a 100% stock portfolio in order to handle\n",
    "    # harvesting of cash\n",
    "    p = Portfolio(1000000, 0)\n",
    "    h = N_100_RebalanceHarvesting(p).harvest()\n",
    "    h.send(None)\n",
    "    w = withdrawal.ConstantWithdrawals(p, h, rate=rate).withdrawals()\n",
    "\n",
    "    cashflows = []\n",
    "    returns = []\n",
    "    \n",
    "    # the previous year's returns\n",
    "    x = None\n",
    "\n",
    "    # Couple is assumed to be age 65 (one male, one female)\n",
    "    age = mortality.gen_age(survival_function)\n",
    "    for i in range(age - 65 + 1):\n",
    "        # Withdrawals happen at the start of the year\n",
    "        # So we first withdraw cash.\n",
    "        cashflows.append(w.send(x).withdraw_pct_orig)\n",
    "        \n",
    "        # Then the year happens and we store the returns\n",
    "        x = basecase.random_year()\n",
    "        returns.append(x.stocks)\n",
    "\n",
    "    w = wer(cashflows, returns)\n",
    "    #import pdb;pdb.set_trace()\n",
    "    return w"
   ]
  },
  {
   "cell_type": "code",
   "execution_count": null,
   "metadata": {
    "collapsed": false
   },
   "outputs": [
    {
     "name": "stdout",
     "output_type": "stream",
     "text": [
      "0.449542868215\n"
     ]
    }
   ],
   "source": [
    "wers = []\n",
    "for i in range(1000):\n",
    "    wers.append(run_one(rate=D('.02'), basecase=montecarlo.conservative[0]))\n",
    "my_wer = average(wers)\n",
    "print(my_wer)"
   ]
  },
  {
   "cell_type": "code",
   "execution_count": null,
   "metadata": {
    "collapsed": false
   },
   "outputs": [],
   "source": [
    "for equity in [0, 20, 40, 60]:\n",
    "    w = []\n",
    "    r = []\n",
    "    for rate in range(20, 81, 1):\n",
    "        rate = Decimal(rate) / 1000\n",
    "        case = montecarlo.conservative[equity]\n",
    "\n",
    "        wers = []\n",
    "        for i in range(1000):\n",
    "            wers.append(run_one(rate=rate, basecase=case))\n",
    "        my_wer = average(wers)\n",
    "        w.append(my_wer)\n",
    "        r.append(rate)\n",
    "    fig, ax1 = plt.subplots()\n",
    "    ax1.set_ylim((0,1))\n",
    "    plt.plot(r, w)"
   ]
  },
  {
   "cell_type": "code",
   "execution_count": null,
   "metadata": {
    "collapsed": true
   },
   "outputs": [],
   "source": []
  }
 ],
 "metadata": {
  "anaconda-cloud": {},
  "kernelspec": {
   "display_name": "Python 3",
   "language": "python",
   "name": "python3"
  },
  "language_info": {
   "codemirror_mode": {
    "name": "ipython",
    "version": 3
   },
   "file_extension": ".py",
   "mimetype": "text/x-python",
   "name": "python",
   "nbconvert_exporter": "python",
   "pygments_lexer": "ipython3",
   "version": "3.5.1"
  }
 },
 "nbformat": 4,
 "nbformat_minor": 0
}
