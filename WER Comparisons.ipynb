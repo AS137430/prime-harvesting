{
 "cells": [
  {
   "cell_type": "code",
   "execution_count": 1,
   "metadata": {
    "collapsed": false
   },
   "outputs": [],
   "source": [
    "%matplotlib inline\n",
    "from pprint import pprint\n",
    "from metrics import wer, cew, ssr, average, hreff\n",
    "import montecarlo\n",
    "import withdrawal\n",
    "import mortality\n",
    "from portfolio import Portfolio\n",
    "from harvesting import N_100_RebalanceHarvesting\n",
    "from decimal import Decimal as D\n",
    "\n",
    "import plot\n",
    "from matplotlib import pyplot as plt\n",
    "\n",
    "import pandas"
   ]
  },
  {
   "cell_type": "code",
   "execution_count": 2,
   "metadata": {
    "collapsed": true
   },
   "outputs": [],
   "source": [
    "survival_function = mortality.make_mortality(mortality.ANNUITY_2000)"
   ]
  },
  {
   "cell_type": "code",
   "execution_count": 3,
   "metadata": {
    "collapsed": false
   },
   "outputs": [],
   "source": [
    "def run_one(rate, basecase, withdrawal_strategy):\n",
    "    # The montecarlo used above has the stock/bond split baked in\n",
    "    # So we pretend we have a 100% stock portfolio in order to handle\n",
    "    # harvesting of cash\n",
    "    p = Portfolio(1000000, 0)\n",
    "    h = N_100_RebalanceHarvesting(p).harvest()\n",
    "    h.send(None)\n",
    "    w = withdrawal_strategy(p, h, rate=rate).withdrawals()\n",
    "\n",
    "    cashflows = []\n",
    "    returns = []\n",
    "    \n",
    "    # the previous year's returns\n",
    "    x = None\n",
    "\n",
    "    # Couple is assumed to be age 65 (one male, one female)\n",
    "    age = mortality.gen_age(survival_function)\n",
    "    for i in range(age - 65 + 1):\n",
    "        # Withdrawals happen at the start of the year\n",
    "        # So we first withdraw cash.\n",
    "        cashflows.append(w.send(x).withdraw_pct_orig)\n",
    "        \n",
    "        # Then the year happens and we store the returns\n",
    "        x = basecase.random_year()\n",
    "        returns.append(x.stocks)\n",
    "\n",
    "    w = wer(cashflows, returns, fudge=D('.02'))\n",
    "    h = hreff(cashflows, returns, floor=D('.03'))\n",
    "    return (w, h)"
   ]
  },
  {
   "cell_type": "code",
   "execution_count": 4,
   "metadata": {
    "collapsed": false
   },
   "outputs": [],
   "source": [
    "runs = 1000\n",
    "dataset = montecarlo.conservative[60]"
   ]
  },
  {
   "cell_type": "code",
   "execution_count": 5,
   "metadata": {
    "collapsed": false
   },
   "outputs": [
    {
     "ename": "TypeError",
     "evalue": "__init__() got an unexpected keyword argument 'rate'",
     "output_type": "error",
     "traceback": [
      "\u001b[0;31m---------------------------------------------------------------------------\u001b[0m",
      "\u001b[0;31mTypeError\u001b[0m                                 Traceback (most recent call last)",
      "\u001b[0;32m<ipython-input-5-a624da7dcadf>\u001b[0m in \u001b[0;36m<module>\u001b[0;34m()\u001b[0m\n\u001b[1;32m      1\u001b[0m \u001b[0mwers\u001b[0m \u001b[0;34m=\u001b[0m \u001b[0;34m[\u001b[0m\u001b[0;34m]\u001b[0m\u001b[0;34m\u001b[0m\u001b[0m\n\u001b[1;32m      2\u001b[0m \u001b[0;32mfor\u001b[0m \u001b[0mi\u001b[0m \u001b[0;32min\u001b[0m \u001b[0mrange\u001b[0m\u001b[0;34m(\u001b[0m\u001b[0mruns\u001b[0m\u001b[0;34m)\u001b[0m\u001b[0;34m:\u001b[0m\u001b[0;34m\u001b[0m\u001b[0m\n\u001b[0;32m----> 3\u001b[0;31m     \u001b[0mwers\u001b[0m\u001b[0;34m.\u001b[0m\u001b[0mappend\u001b[0m\u001b[0;34m(\u001b[0m\u001b[0mrun_one\u001b[0m\u001b[0;34m(\u001b[0m\u001b[0mD\u001b[0m\u001b[0;34m(\u001b[0m\u001b[0;34m'.04'\u001b[0m\u001b[0;34m)\u001b[0m\u001b[0;34m,\u001b[0m \u001b[0mdataset\u001b[0m\u001b[0;34m,\u001b[0m \u001b[0mwithdrawal\u001b[0m\u001b[0;34m.\u001b[0m\u001b[0mRetrenchmentRule\u001b[0m\u001b[0;34m)\u001b[0m\u001b[0;34m)\u001b[0m\u001b[0;34m\u001b[0m\u001b[0m\n\u001b[0m\u001b[1;32m      4\u001b[0m \u001b[0mretrench_wer\u001b[0m \u001b[0;34m=\u001b[0m \u001b[0maverage\u001b[0m\u001b[0;34m(\u001b[0m\u001b[0;34m[\u001b[0m\u001b[0mw\u001b[0m\u001b[0;34m[\u001b[0m\u001b[0;36m0\u001b[0m\u001b[0;34m]\u001b[0m \u001b[0;32mfor\u001b[0m \u001b[0mw\u001b[0m \u001b[0;32min\u001b[0m \u001b[0mwers\u001b[0m\u001b[0;34m]\u001b[0m\u001b[0;34m)\u001b[0m\u001b[0;34m\u001b[0m\u001b[0m\n\u001b[1;32m      5\u001b[0m \u001b[0mretrench_hreff\u001b[0m \u001b[0;34m=\u001b[0m \u001b[0maverage\u001b[0m\u001b[0;34m(\u001b[0m\u001b[0;34m[\u001b[0m\u001b[0mw\u001b[0m\u001b[0;34m[\u001b[0m\u001b[0;36m1\u001b[0m\u001b[0;34m]\u001b[0m \u001b[0;32mfor\u001b[0m \u001b[0mw\u001b[0m \u001b[0;32min\u001b[0m \u001b[0mwers\u001b[0m\u001b[0;34m]\u001b[0m\u001b[0;34m)\u001b[0m\u001b[0;34m\u001b[0m\u001b[0m\n",
      "\u001b[0;32m<ipython-input-3-f5a48e16aae8>\u001b[0m in \u001b[0;36mrun_one\u001b[0;34m(rate, basecase, withdrawal_strategy)\u001b[0m\n\u001b[1;32m      6\u001b[0m     \u001b[0mh\u001b[0m \u001b[0;34m=\u001b[0m \u001b[0mN_100_RebalanceHarvesting\u001b[0m\u001b[0;34m(\u001b[0m\u001b[0mp\u001b[0m\u001b[0;34m)\u001b[0m\u001b[0;34m.\u001b[0m\u001b[0mharvest\u001b[0m\u001b[0;34m(\u001b[0m\u001b[0;34m)\u001b[0m\u001b[0;34m\u001b[0m\u001b[0m\n\u001b[1;32m      7\u001b[0m     \u001b[0mh\u001b[0m\u001b[0;34m.\u001b[0m\u001b[0msend\u001b[0m\u001b[0;34m(\u001b[0m\u001b[0;32mNone\u001b[0m\u001b[0;34m)\u001b[0m\u001b[0;34m\u001b[0m\u001b[0m\n\u001b[0;32m----> 8\u001b[0;31m     \u001b[0mw\u001b[0m \u001b[0;34m=\u001b[0m \u001b[0mwithdrawal_strategy\u001b[0m\u001b[0;34m(\u001b[0m\u001b[0mp\u001b[0m\u001b[0;34m,\u001b[0m \u001b[0mh\u001b[0m\u001b[0;34m,\u001b[0m \u001b[0mrate\u001b[0m\u001b[0;34m=\u001b[0m\u001b[0mrate\u001b[0m\u001b[0;34m)\u001b[0m\u001b[0;34m.\u001b[0m\u001b[0mwithdrawals\u001b[0m\u001b[0;34m(\u001b[0m\u001b[0;34m)\u001b[0m\u001b[0;34m\u001b[0m\u001b[0m\n\u001b[0m\u001b[1;32m      9\u001b[0m \u001b[0;34m\u001b[0m\u001b[0m\n\u001b[1;32m     10\u001b[0m     \u001b[0mcashflows\u001b[0m \u001b[0;34m=\u001b[0m \u001b[0;34m[\u001b[0m\u001b[0;34m]\u001b[0m\u001b[0;34m\u001b[0m\u001b[0m\n",
      "\u001b[0;31mTypeError\u001b[0m: __init__() got an unexpected keyword argument 'rate'"
     ]
    }
   ],
   "source": [
    "wers = []\n",
    "for i in range(runs):\n",
    "    wers.append(run_one(D('.04'), dataset, withdrawal.RetrenchmentRule))\n",
    "retrench_wer = average([w[0] for w in wers])\n",
    "retrench_hreff = average([w[1] for w in wers])"
   ]
  },
  {
   "cell_type": "code",
   "execution_count": null,
   "metadata": {
    "collapsed": false
   },
   "outputs": [],
   "source": [
    "wers = []\n",
    "for i in range(runs):\n",
    "    wers.append(run_one(D('.04'), dataset, withdrawal.VPW))\n",
    "vpw_wer = average([w[0] for w in wers])\n",
    "vpw_hreff = average([w[1] for w in wers])"
   ]
  },
  {
   "cell_type": "code",
   "execution_count": null,
   "metadata": {
    "collapsed": false
   },
   "outputs": [],
   "source": [
    "wers = []\n",
    "for i in range(runs):\n",
    "    wers.append(run_one(D('.04'), dataset, withdrawal.ConstantPercentage))\n",
    "endowment_wer = average([w[0] for w in wers])\n",
    "endowment_hreff = average([w[1] for w in wers])"
   ]
  },
  {
   "cell_type": "code",
   "execution_count": null,
   "metadata": {
    "collapsed": false
   },
   "outputs": [],
   "source": [
    "wers = []\n",
    "for i in range(runs):\n",
    "    wers.append(run_one(D('.04'), dataset, withdrawal.ConstantWithdrawals))\n",
    "swr_wer = average([w[0] for w in wers])\n",
    "swr_hreff = average([w[1] for w in wers])"
   ]
  },
  {
   "cell_type": "code",
   "execution_count": null,
   "metadata": {
    "collapsed": false
   },
   "outputs": [],
   "source": [
    "wers = []\n",
    "for i in range(runs):\n",
    "    wers.append(run_one(D('.04'), dataset, withdrawal.EM))\n",
    "em_wer = average([w[0] for w in wers])\n",
    "em_hreff = average([w[1] for w in wers])"
   ]
  },
  {
   "cell_type": "code",
   "execution_count": null,
   "metadata": {
    "collapsed": false
   },
   "outputs": [],
   "source": [
    "wers = []\n",
    "for i in range(runs):\n",
    "    wers.append(run_one(D('.04'), dataset, withdrawal.SimpleFormula))\n",
    "simple_wer = average([w[0] for w in wers])\n",
    "simple_hreff = average([w[1] for w in wers])"
   ]
  },
  {
   "cell_type": "code",
   "execution_count": null,
   "metadata": {
    "collapsed": false
   },
   "outputs": [],
   "source": [
    "series = pandas.Series({\n",
    "    'Constant 4%' : swr_wer,\n",
    "    'Endowment' : endowment_wer,\n",
    "    'EM' : em_wer,\n",
    "    'VPW' : vpw_wer,\n",
    "    'Simple' : simple_wer,\n",
    "    'Retrench' : retrench_wer,\n",
    "})\n",
    "\n",
    "series.plot(kind='bar', title='WER')\n",
    "print(series)"
   ]
  },
  {
   "cell_type": "code",
   "execution_count": null,
   "metadata": {
    "collapsed": false
   },
   "outputs": [],
   "source": [
    "series = pandas.Series({\n",
    "    'Constant 4%' : swr_hreff,\n",
    "    'Endowment' : endowment_hreff,\n",
    "    'EM' : em_hreff,\n",
    "    'VPW' : vpw_hreff,\n",
    "    'Simple' : simple_hreff,\n",
    "    'Retrench' : retrench_hreff,\n",
    "})\n",
    "\n",
    "series.plot(kind='bar', title='HREFF-3')\n",
    "print(series)"
   ]
  },
  {
   "cell_type": "code",
   "execution_count": null,
   "metadata": {
    "collapsed": false
   },
   "outputs": [],
   "source": [
    "from scipy.interpolate import spline\n",
    "import numpy as np\n",
    "\n",
    "#canvas = plt.figure()\n",
    "\n",
    "for equity in [0]:\n",
    "    w = []\n",
    "    r = []\n",
    "    for rate in range(20, 81, 5):\n",
    "        rate = D(rate) / 1000\n",
    "        case = montecarlo.conservative[equity]\n",
    "\n",
    "        wers = []\n",
    "        for i in range(10):\n",
    "            wers.append(run_one(rate, case, withdrawal.ConstantWithdrawals))\n",
    "        my_wer = average([w[0] for w in wers])\n",
    "        w.append(my_wer)\n",
    "        r.append(rate)\n",
    "\n",
    "    x_smooth = np.linspace(float(min(r)), float(max(r)), 200)\n",
    "    y_smooth = spline(r, w, x_smooth)\n",
    "\n",
    "    fig, ax1 = plt.subplots()\n",
    "    ax1.set_ylim((0,1))\n",
    "    plt.plot(x_smooth, y_smooth)"
   ]
  },
  {
   "cell_type": "code",
   "execution_count": null,
   "metadata": {
    "collapsed": true
   },
   "outputs": [],
   "source": []
  }
 ],
 "metadata": {
  "anaconda-cloud": {},
  "kernelspec": {
   "display_name": "Python 3",
   "language": "python",
   "name": "python3"
  },
  "language_info": {
   "codemirror_mode": {
    "name": "ipython",
    "version": 3
   },
   "file_extension": ".py",
   "mimetype": "text/x-python",
   "name": "python",
   "nbconvert_exporter": "python",
   "pygments_lexer": "ipython3",
   "version": "3.5.1"
  }
 },
 "nbformat": 4,
 "nbformat_minor": 0
}
