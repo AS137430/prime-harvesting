{
 "cells": [
  {
   "cell_type": "code",
   "execution_count": null,
   "metadata": {},
   "outputs": [],
   "source": [
    "%matplotlib inline\n",
    "%pdb on\n",
    "\n",
    "from pprint import pprint\n",
    "import itertools\n",
    "import numpy\n",
    "\n",
    "from metrics import wer, cew, ssr, average, hreff\n",
    "import montecarlo\n",
    "import dms\n",
    "import withdrawal\n",
    "import mortality\n",
    "from portfolio import Portfolio\n",
    "from harvesting import make_rebalancer, PrimeHarvesting\n",
    "from decimal import Decimal as D, Decimal\n",
    "\n",
    "import plot\n",
    "from matplotlib import pyplot as plt\n",
    "\n",
    "import pandas"
   ]
  },
  {
   "cell_type": "code",
   "execution_count": null,
   "metadata": {},
   "outputs": [],
   "source": [
    "survival_function = mortality.make_mortality(mortality.ANNUITY_2000)"
   ]
  },
  {
   "cell_type": "code",
   "execution_count": null,
   "metadata": {},
   "outputs": [],
   "source": [
    "def run_one_new(dataset, strategy, hreff_floor=4, debug_cashflows=False):\n",
    "    p = Portfolio(600000, 400000)\n",
    "    h = make_rebalancer(.6)(p).harvest()\n",
    "    h.send(None)\n",
    "    w = strategy(p, h).withdrawals()\n",
    "    \n",
    "    def add_debug_log(annual):\n",
    "        if debug_cashflows:\n",
    "            debug.append({\n",
    "                'Returns' : annual.returns,\n",
    "                'Withdraw' : annual.withdraw_n,\n",
    "                'Portfolio' : annual.portfolio_n,\n",
    "                'Withdraw Orig' : annual.withdraw_pct_orig,\n",
    "            })\n",
    "\n",
    "\n",
    "    cashflows = []\n",
    "    returns = []\n",
    "    debug = []\n",
    "\n",
    "\n",
    "    # Initial withdrawal at start of retirement\n",
    "    annual = w.send(None)\n",
    "    add_debug_log(annual)\n",
    "    \n",
    "    cashflows.append(annual.withdraw_pct_orig)\n",
    "    \n",
    "    for i in dataset:\n",
    "        annual = w.send(i)\n",
    "        add_debug_log(annual)\n",
    "\n",
    "        returns.append(annual.returns)\n",
    "        cashflows.append(annual.withdraw_pct_orig)\n",
    "\n",
    "    if debug_cashflows:\n",
    "        pandas.DataFrame(data=debug).to_csv('WERCOMP-cashflows.csv')\n",
    "\n",
    "    w = wer(cashflows, returns)\n",
    "    h = hreff(cashflows, returns, floor=D(hreff_floor)/100)\n",
    "    return (w, h, returns)"
   ]
  },
  {
   "cell_type": "code",
   "execution_count": null,
   "metadata": {},
   "outputs": [],
   "source": [
    "def new_calc(strategies, runs=1000, dataset=montecarlo.historical[60]):\n",
    "    wer_df = pandas.DataFrame(index=numpy.arange(0, runs), columns=[s.__name__ for s in strategies])\n",
    "    hreff_df = pandas.DataFrame(index=numpy.arange(0, runs), columns=[s.__name__ for s in strategies])\n",
    "    returns_df = pandas.DataFrame(index=numpy.arange(0, runs), columns=[i for i in range(60)])\n",
    "\n",
    "    for i in range(runs):\n",
    "        # First generate a lifespan, so we know how many years of returns we need to generate\n",
    "        lifespan = mortality.gen_lifespan(mortality.DEFAULT_COUPLE, survival_function)\n",
    "\n",
    "        returns = (dataset.random_year() for y in range(lifespan))\n",
    "        pairs = zip(strategies, itertools.tee(returns, len(strategies)))\n",
    "      \n",
    "        for (s, r) in pairs:\n",
    "            (wer, hreff, returns) = run_one_new(r, s)\n",
    "            wer_df.loc[i][s.__name__] = wer\n",
    "            hreff_df.loc[i][s.__name__] = hreff\n",
    "            \n",
    "            returns_df.loc[i] = returns + [None for _ in range(60-lifespan)]\n",
    "            \n",
    "    return (wer_df, hreff_df, returns_df)"
   ]
  },
  {
   "cell_type": "code",
   "execution_count": null,
   "metadata": {},
   "outputs": [],
   "source": [
    "strategies = [\n",
    "#    withdrawal.SensibleWithdrawals,\n",
    "#    withdrawal.FloorCeiling,\n",
    "#    withdrawal.Guyton,\n",
    "    withdrawal.Clyatt,\n",
    "#    withdrawal.Vanguard,\n",
    "    #withdrawal.TiltCapital,\n",
    "    withdrawal.IRS_RMD,\n",
    "    #withdrawal.FeelFree,\n",
    "    #withdrawal.ARVA,\n",
    "    withdrawal.VPW,\n",
    "    #withdrawal.InvertedWithdrawals,\n",
    "#    withdrawal.SimpleFormula,\n",
    "    #withdrawal.RetrenchmentRule,\n",
    "    withdrawal.ConstantPercentage,\n",
    "    withdrawal.ConstantWithdrawals,\n",
    "#    withdrawal.EM,\n",
    "#    withdrawal.ADD,\n",
    "#    withdrawal.ADD_1,\n",
    "    #withdrawal.ECM,\n",
    "    #withdrawal.Model3,\n",
    "]\n",
    "wer_df, hreff_df, returns_df = new_calc(strategies, runs=1000, dataset=montecarlo.conservative[60])"
   ]
  },
  {
   "cell_type": "code",
   "execution_count": null,
   "metadata": {},
   "outputs": [],
   "source": [
    "#returns_df.to_csv('WERCOMP-returns.csv')\n",
    "#wer_df.to_csv('WERCOMP-wer.csv')\n",
    "#hreff_df.to_csv('WERCOMP-hreff.csv')"
   ]
  },
  {
   "cell_type": "code",
   "execution_count": null,
   "metadata": {},
   "outputs": [],
   "source": [
    "d = [(col, series.mean()) for (col, series) in wer_df.iteritems()]\n",
    "series = pandas.Series(dict(d))\n",
    "\n",
    "series.sort_values(inplace=True)\n",
    "series.plot(kind='bar', title='WER')\n",
    "print(series)"
   ]
  },
  {
   "cell_type": "code",
   "execution_count": null,
   "metadata": {},
   "outputs": [],
   "source": [
    "d = [(col, series.mean()) for (col, series) in hreff_df.iteritems()]\n",
    "series = pandas.Series(dict(d))\n",
    "\n",
    "series.sort_values(inplace=True)\n",
    "series.plot(kind='bar', title='HREFF')\n",
    "print(series)"
   ]
  },
  {
   "cell_type": "raw",
   "metadata": {},
   "source": [
    "import math\n",
    "import adt\n",
    "from decimal import Decimal\n",
    "\n",
    "RETURNS = pandas.read_csv('WERCOMP-returns.csv')\n",
    "\n",
    "def get_d(row):\n",
    "    return [D(d) for d in RETURNS.iloc[row][1:] if not math.isnan(d)]\n",
    "\n",
    "def replay(row):\n",
    "    for i in row[1:]:\n",
    "        if math.isnan(i):\n",
    "            raise StopIteration\n",
    "        yield adt.AnnualChange(year=0, stocks=Decimal(i), bonds=Decimal(i), inflation=0)\n",
    "        \n",
    "DATA_ROW = 1\n",
    "_ = run_one_new(replay(RETURNS.iloc[DATA_ROW]), withdrawal.RetrenchmentRule, debug_cashflows=True, hreff_floor=2.5)\n",
    "print('HREFF', float(_[1]))\n",
    "print(ssr(get_d(DATA_ROW)))"
   ]
  },
  {
   "cell_type": "code",
   "execution_count": null,
   "metadata": {},
   "outputs": [],
   "source": []
  }
 ],
 "metadata": {
  "anaconda-cloud": {},
  "kernelspec": {
   "display_name": "Python 3",
   "language": "python",
   "name": "python3"
  },
  "language_info": {
   "codemirror_mode": {
    "name": "ipython",
    "version": 3
   },
   "file_extension": ".py",
   "mimetype": "text/x-python",
   "name": "python",
   "nbconvert_exporter": "python",
   "pygments_lexer": "ipython3"
  }
 },
 "nbformat": 4,
 "nbformat_minor": 2
}
