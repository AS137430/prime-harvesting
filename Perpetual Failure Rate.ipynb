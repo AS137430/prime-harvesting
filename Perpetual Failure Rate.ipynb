{
 "cells": [
  {
   "cell_type": "code",
   "execution_count": null,
   "metadata": {},
   "outputs": [],
   "source": [
    "%matplotlib inline\n",
    "from pprint import pprint\n",
    "from decimal import Decimal\n",
    "import pandas\n",
    "\n",
    "import plot\n",
    "import simulate\n",
    "import harvesting\n",
    "import market\n",
    "import withdrawal\n",
    "import metrics"
   ]
  },
  {
   "cell_type": "markdown",
   "metadata": {},
   "source": [
    "First we want to calculate the Maximum Safe Withdrawal Rate (MSWR) for every length of retirement from 1 year up to 60 years."
   ]
  },
  {
   "cell_type": "code",
   "execution_count": null,
   "metadata": {},
   "outputs": [],
   "source": [
    "US = market.Returns_US_1871()"
   ]
  },
  {
   "cell_type": "code",
   "execution_count": null,
   "metadata": {},
   "outputs": [],
   "source": [
    "def find_mswr(length, stock_pct=Decimal('.6')):\n",
    "    bond_pct = 1 - stock_pct\n",
    "    mswrs = []\n",
    "    for start_year in range(US.start_year, 2017 - length):\n",
    "        returns = []\n",
    "        for annual_returns in US.iter_from(start_year, length=length):\n",
    "                stocks = ((1 + annual_returns.stocks) / (1 + annual_returns.inflation) - 1)\n",
    "                bonds = ((1 + annual_returns.bonds) / (1 + annual_returns.inflation) - 1)\n",
    "                returns.append((stocks * stock_pct) + (bonds * (1-stock_pct)))\n",
    "        pwa = metrics.pwa(1, 0, returns)\n",
    "        mswrs.append(pwa)\n",
    "    return min(mswrs)"
   ]
  },
  {
   "cell_type": "code",
   "execution_count": null,
   "metadata": {},
   "outputs": [],
   "source": [
    "def find_all_mswrs():\n",
    "    s = pandas.Series()\n",
    "    for length in range(1, 61):\n",
    "        mswr = find_mswr(length)\n",
    "        s.loc[length] = mswr\n",
    "    return s"
   ]
  },
  {
   "cell_type": "code",
   "execution_count": null,
   "metadata": {},
   "outputs": [],
   "source": [
    "MSWRs = find_all_mswrs()"
   ]
  },
  {
   "cell_type": "code",
   "execution_count": null,
   "metadata": {},
   "outputs": [],
   "source": [
    "YEARS = 40\n",
    "RATE = Decimal('.0325')"
   ]
  },
  {
   "cell_type": "markdown",
   "metadata": {},
   "source": [
    "Now we want to re-run the simulation. But every year, we want see if our current withdrawal rate exceeds the MSWR for our remaining retirement length. That is, when we have 14 years left, is our current withdrawal rate exceeding the MSWR for 14-year retirement?"
   ]
  },
  {
   "cell_type": "code",
   "execution_count": null,
   "metadata": {},
   "outputs": [],
   "source": [
    "def run_one(start_year):\n",
    "    yearlies = simulate.withdrawals(US.iter_from(start_year),\n",
    "                         years=YEARS,\n",
    "                         harvesting=harvesting.N_60_RebalanceHarvesting,\n",
    "                         withdraw=lambda p, h: withdrawal.ConstantDollar(p, h, rate=RATE))\n",
    "    withdraw_pct = [r.withdraw_pct_cur for r in yearlies]\n",
    "\n",
    "    total = 0\n",
    "    failed = 0\n",
    "    for i in range(1, YEARS+1):\n",
    "        actual = withdraw_pct[i-1]\n",
    "        maximum = MSWRs.loc[YEARS - i + 1]\n",
    "        if actual > maximum:\n",
    "            failed += 1\n",
    "        total += 1\n",
    "    return (failed, total)\n",
    "\n",
    "failed = 0\n",
    "total = 0\n",
    "for year in range(US.start_year, 2017-YEARS):\n",
    "    f, t = run_one(year)\n",
    "    print(year, f, t)\n",
    "#    if f >= 1:\n",
    "#        failed += 1\n",
    "#    total += 1\n",
    "    failed += f\n",
    "    total += t\n",
    "print(failed, total, failed/total)"
   ]
  },
  {
   "cell_type": "code",
   "execution_count": null,
   "metadata": {},
   "outputs": [],
   "source": [
    "def fmt_pct(p):\n",
    "    pflt = float(p) * 100\n",
    "    return ('%.1f%%' % pflt)"
   ]
  },
  {
   "cell_type": "code",
   "execution_count": null,
   "metadata": {},
   "outputs": [],
   "source": [
    "RETIRE_YEAR = 1940"
   ]
  },
  {
   "cell_type": "code",
   "execution_count": null,
   "metadata": {},
   "outputs": [],
   "source": [
    "yearlies = simulate.withdrawals(US.iter_from(RETIRE_YEAR),\n",
    "                     years=YEARS,\n",
    "                     harvesting=harvesting.N_60_RebalanceHarvesting,\n",
    "                     withdraw=lambda p, h: withdrawal.ConstantDollar(p, h, rate=RATE))\n",
    "withdraw_pct = [('%.1f%%' % (float(r.withdraw_pct_cur)*100), '{:,.0f}'.format(r.withdraw_n), '{:,.0f}'.format(r.portfolio_n)) for r in yearlies]\n",
    "df = pandas.DataFrame(withdraw_pct, columns=['Withdraw %', 'Withdraw $', 'Portfolio $'])\n",
    "df.head(5)"
   ]
  },
  {
   "cell_type": "code",
   "execution_count": null,
   "metadata": {},
   "outputs": [],
   "source": [
    "withdraw_pct = [(fmt_pct(r.withdraw_pct_cur), y) for r, y in zip(yearlies, range(YEARS, 0, -1))]\n",
    "df = pandas.DataFrame(withdraw_pct, columns=['Withdraw %', 'Years To Go'])\n",
    "df.head(5)"
   ]
  },
  {
   "cell_type": "code",
   "execution_count": null,
   "metadata": {},
   "outputs": [],
   "source": [
    "withdraw_pct = [(fmt_pct(r.withdraw_pct_cur), fmt_pct(MSWRs.loc[y+1]), y) for r, y in zip(yearlies, range(YEARS, 0, -1))]\n",
    "df = pandas.DataFrame(withdraw_pct, columns=['Withdraw %', 'MSWR', 'Years To Go'])\n",
    "df.head(5)"
   ]
  },
  {
   "cell_type": "code",
   "execution_count": null,
   "metadata": {},
   "outputs": [],
   "source": [
    "df.loc[df['Withdraw %'] > df['MSWR']]"
   ]
  },
  {
   "cell_type": "code",
   "execution_count": null,
   "metadata": {},
   "outputs": [],
   "source": [
    "plot.plot([r.portfolio_r for r in yearlies], title='%s Retirement' % RETIRE_YEAR, y_label='Portfolio $')"
   ]
  },
  {
   "cell_type": "code",
   "execution_count": null,
   "metadata": {},
   "outputs": [],
   "source": [
    "plot.plot([r.withdraw_pct_cur for r in yearlies], title='%s Retirement' % RETIRE_YEAR, y_label='Withdrawal %', add_commas=False)"
   ]
  },
  {
   "cell_type": "code",
   "execution_count": null,
   "metadata": {},
   "outputs": [],
   "source": []
  }
 ],
 "metadata": {
  "kernelspec": {
   "display_name": "Python 3",
   "language": "python",
   "name": "python3"
  },
  "language_info": {
   "codemirror_mode": {
    "name": "ipython",
    "version": 3
   },
   "file_extension": ".py",
   "mimetype": "text/x-python",
   "name": "python",
   "nbconvert_exporter": "python",
   "pygments_lexer": "ipython3"
  }
 },
 "nbformat": 4,
 "nbformat_minor": 2
}
