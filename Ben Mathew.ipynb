{
 "cells": [
  {
   "cell_type": "code",
   "execution_count": null,
   "metadata": {},
   "outputs": [],
   "source": [
    "%matplotlib inline\n",
    "import plot\n",
    "import market\n",
    "import metrics\n",
    "from decimal import Decimal\n",
    "import pandas\n",
    "import simulate"
   ]
  },
  {
   "cell_type": "code",
   "execution_count": null,
   "metadata": {},
   "outputs": [],
   "source": [
    "class Method:\n",
    "    def __init__(self, portfolio=1_000_000, base_income=20_000):\n",
    "        self.age = 65\n",
    "        self.final_age = 100\n",
    "        self.income = Decimal(base_income)\n",
    "        self.lmp = Decimal(self.income) * Decimal(self.final_age - self.age)\n",
    "        assert self.lmp <= portfolio\n",
    "        self.rp = portfolio - self.lmp\n",
    "        \n",
    "    def start(self):\n",
    "        return self.income\n",
    "    \n",
    "    def next(self, change):\n",
    "        self.age += 1\n",
    "\n",
    "        # do all math in real, not nominal, terms\n",
    "        real_change = ((1 + change.stocks) / (1 + change.inflation)) - 1\n",
    "        rmd_ratio = Decimal(1) / Decimal(self.final_age - self.age)\n",
    "\n",
    "        # consume the gains and put them in LMP\n",
    "        delta = self.rp * real_change\n",
    "        # consume part of the RP principal\n",
    "        p = self.rp * rmd_ratio\n",
    "        delta += p\n",
    "        self.rp -= p\n",
    "        self.lmp += delta\n",
    "        self.income += delta * rmd_ratio\n",
    "        \n",
    "        assert self.rp >= 0, self.rp\n",
    "        assert self.lmp >= 0, self.lmp\n",
    "        \n",
    "        return self.income"
   ]
  },
  {
   "cell_type": "code",
   "execution_count": null,
   "metadata": {},
   "outputs": [],
   "source": [
    "def run(year):\n",
    "    bm = Method()\n",
    "    w = []\n",
    "    w.append(bm.start())\n",
    "    for _, d in zip(range(years - 1), m.iter_from(year)):\n",
    "        w.append(bm.next(d))\n",
    "    return w"
   ]
  },
  {
   "cell_type": "code",
   "execution_count": null,
   "metadata": {},
   "outputs": [],
   "source": [
    "m = market.Returns_US_1871()\n",
    "years = 35\n",
    "start_year = 1871\n",
    "last_year = 2018-years\n",
    "YEAR = 1950"
   ]
  },
  {
   "cell_type": "code",
   "execution_count": null,
   "metadata": {},
   "outputs": [],
   "source": [
    "bm_ws_r = run(YEAR)"
   ]
  },
  {
   "cell_type": "code",
   "execution_count": null,
   "metadata": {},
   "outputs": [],
   "source": [
    "ws = simulate.withdrawals(m.iter_from(YEAR), portfolio=(300_000, 700_000))\n",
    "ws_r = [n.withdraw_r for n in ws]"
   ]
  },
  {
   "cell_type": "code",
   "execution_count": null,
   "metadata": {},
   "outputs": [],
   "source": [
    "plot.plot_n({'BM': bm_ws_r, 'McClung' : ws_r},\n",
    "           xlabel = 'Year of Retirement', title = 'Mathew vs McClung')"
   ]
  },
  {
   "cell_type": "code",
   "execution_count": null,
   "metadata": {},
   "outputs": [],
   "source": [
    "[n.portfolio_pre.value_r for n in simulate.withdrawals(m.iter_from(1966))]"
   ]
  },
  {
   "cell_type": "code",
   "execution_count": null,
   "metadata": {},
   "outputs": [],
   "source": []
  }
 ],
 "metadata": {
  "kernelspec": {
   "display_name": "Python 3",
   "language": "python",
   "name": "python3"
  },
  "language_info": {
   "codemirror_mode": {
    "name": "ipython",
    "version": 3
   },
   "file_extension": ".py",
   "mimetype": "text/x-python",
   "name": "python",
   "nbconvert_exporter": "python",
   "pygments_lexer": "ipython3"
  }
 },
 "nbformat": 4,
 "nbformat_minor": 4
}
