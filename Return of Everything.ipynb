{
 "cells": [
  {
   "cell_type": "code",
   "execution_count": null,
   "metadata": {},
   "outputs": [],
   "source": [
    "import market\n",
    "import pandas\n",
    "from scipy.stats.mstats import gmean\n",
    "from operator import itemgetter"
   ]
  },
  {
   "cell_type": "code",
   "execution_count": null,
   "metadata": {},
   "outputs": [],
   "source": [
    "a = {}\n",
    "for country in market.JST.Countries:\n",
    "    if country != 'JPN': continue\n",
    "    m = market.JST(country)\n",
    "    tr = m.data[(m.data['year'] >= 1987) & (m.data['year'] <= 2000)]\n",
    "    tr = ((1 + tr['eq_tr']) / (1 + tr['cpi'])) - 1\n",
    "    r = gmean([1+e for e in tr]) - 1\n",
    "    a[country] = r"
   ]
  },
  {
   "cell_type": "code",
   "execution_count": null,
   "metadata": {},
   "outputs": [],
   "source": [
    "for k, v in sorted(a.items(), key=itemgetter(1)):\n",
    "    print(k,v)"
   ]
  },
  {
   "cell_type": "code",
   "execution_count": null,
   "metadata": {},
   "outputs": [],
   "source": [
    "deu = market.JST('JPN')"
   ]
  },
  {
   "cell_type": "code",
   "execution_count": null,
   "metadata": {},
   "outputs": [],
   "source": [
    "deu.data.sort_values(by='eq_tr', ascending=False).head()"
   ]
  },
  {
   "cell_type": "code",
   "execution_count": null,
   "metadata": {},
   "outputs": [],
   "source": [
    "deu.data[]"
   ]
  },
  {
   "cell_type": "code",
   "execution_count": null,
   "metadata": {},
   "outputs": [],
   "source": [
    "a = {}\n",
    "for country in market.JST.Countries:\n",
    "    if country != 'JPN': continue\n",
    "    m = market.JST(country)\n",
    "    tr = m.data[(m.data['year'] >= 1987) & (m.data['year'] <= 2000)]\n",
    "    tr = ((1 + tr['eq_tr']) / (1 + tr['cpi'])) - 1\n",
    "    r = gmean([1+e for e in tr]) - 1\n",
    "    a[country] = r"
   ]
  }
 ],
 "metadata": {
  "kernelspec": {
   "display_name": "Python 3",
   "language": "python",
   "name": "python3"
  },
  "language_info": {
   "codemirror_mode": {
    "name": "ipython",
    "version": 3
   },
   "file_extension": ".py",
   "mimetype": "text/x-python",
   "name": "python",
   "nbconvert_exporter": "python",
   "pygments_lexer": "ipython3"
  }
 },
 "nbformat": 4,
 "nbformat_minor": 2
}
