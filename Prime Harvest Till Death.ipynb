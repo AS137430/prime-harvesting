{
 "cells": [
  {
   "cell_type": "code",
   "execution_count": null,
   "metadata": {},
   "outputs": [],
   "source": [
    "%matplotlib inline\n",
    "from pprint import pprint\n",
    "from decimal import Decimal\n",
    "import itertools\n",
    "import metrics\n",
    "import pandas\n",
    "\n",
    "import simulate\n",
    "import harvesting\n",
    "import market\n",
    "import withdrawal\n",
    "import numpy"
   ]
  },
  {
   "cell_type": "code",
   "execution_count": null,
   "metadata": {},
   "outputs": [],
   "source": [
    "import seaborn\n",
    "from matplotlib import pyplot as plt\n",
    "import matplotlib\n",
    "seaborn.set(style=\"whitegrid\")\n",
    "seaborn.set_context('poster')"
   ]
  },
  {
   "cell_type": "code",
   "execution_count": null,
   "metadata": {},
   "outputs": [],
   "source": [
    "series = market.Returns_US_1871()"
   ]
  },
  {
   "cell_type": "code",
   "execution_count": null,
   "metadata": {},
   "outputs": [],
   "source": [
    "TYPE = 'Withdrawal (Real)'\n",
    "m = {'Withdrawal (Nominal)': lambda x: float(x.withdraw_n),\n",
    "     'Withdrawal (Real)' : lambda x: float(x.withdraw_r),\n",
    "     'Portfolio (Nominal)': lambda x: float(x.portfolio_n),\n",
    "     'Portfolio (Real)': lambda x: float(x.portfolio_r),\n",
    "     'Stock %': lambda x: float(x.portfolio_post.stocks / x.portfolio_post.value_n)\n",
    "}\n",
    "lens = m[TYPE]\n",
    "lens.__label__ = TYPE\n",
    "\n",
    "def fn(x):\n",
    "    return [lens(_) for _ in x]"
   ]
  },
  {
   "cell_type": "code",
   "execution_count": null,
   "metadata": {},
   "outputs": [],
   "source": [
    "class CourseCorrectHarvesting(harvesting.abc.HarvestingStrategy):\n",
    "    _stock_ceiling = Decimal('1.2')\n",
    "\n",
    "    def stock_increase(self):\n",
    "        return self.portfolio.stocks / self.portfolio.starting_stocks_real\n",
    "\n",
    "    def calc_to_sell(self):\n",
    "        return self.portfolio.stocks / 5\n",
    "\n",
    "    def do_harvest(self, amount):\n",
    "        if self.stock_increase() > self._stock_ceiling:\n",
    "            to_sell = self.calc_to_sell()\n",
    "            self.portfolio.sell_stocks(to_sell)\n",
    "            self.portfolio.buy_bonds(to_sell)\n",
    "\n",
    "        # we've run out of bonds, rebalance the entire\n",
    "        # portfolio back to 60/40\n",
    "        if self.portfolio.bonds < 1:\n",
    "            to_sell = self.portfolio.value / 5 * 2\n",
    "            self.portfolio.sell_stocks(to_sell)\n",
    "            self.portfolio.buy_bonds(to_sell)\n",
    "\n",
    "        bond_amount = min(amount, self.portfolio.bonds)\n",
    "        self.portfolio.sell_bonds(bond_amount)\n",
    "\n",
    "        if self.portfolio.cash < amount:\n",
    "            remainder = amount - self.portfolio.cash\n",
    "            stock_amount = min(remainder, self.portfolio.stocks)\n",
    "            self.portfolio.sell_stocks(stock_amount)\n"
   ]
  },
  {
   "cell_type": "code",
   "execution_count": null,
   "metadata": {},
   "outputs": [],
   "source": [
    "VPW_YEARS=40\n",
    "\n",
    "def run_sim(year, length=30, h=harvesting.PrimeHarvesting):\n",
    "    portfolio = (500000,500000)\n",
    "#    harvest_strategy = harvesting.make_rebalancer(0.5)\n",
    "    \n",
    "    return simulate.withdrawals(series.iter_from(year),\n",
    "                                 withdraw=withdrawal.EM,\n",
    "                                 years=length,\n",
    "                                 portfolio=portfolio,\n",
    "                                 harvesting=h)"
   ]
  },
  {
   "cell_type": "code",
   "execution_count": null,
   "metadata": {},
   "outputs": [],
   "source": [
    "df = pandas.DataFrame(\n",
    "    {\n",
    "        'PrimeHarvesting' : [lens(x) for x in run_sim(1966)],\n",
    "        'Course Correction' : [lens(x) for x in run_sim(1966, h=CourseCorrectHarvesting)]\n",
    "    }\n",
    ")\n",
    "g = seaborn.relplot(\n",
    "        data=df,\n",
    "        kind='line',\n",
    "        aspect=2,\n",
    "    )\n",
    "g.fig.autofmt_xdate()\n",
    "g.despine(left=True, bottom=True, offset=20)\n",
    "#g.fig.suptitle(f'Retirement in {year}')"
   ]
  },
  {
   "cell_type": "code",
   "execution_count": null,
   "metadata": {},
   "outputs": [],
   "source": [
    "s = df['PrimeHarvesting'] / df['Course Correction'] - 1\n",
    "g = seaborn.relplot(\n",
    "        data=s,\n",
    "        kind='line',\n",
    "        aspect=2,\n",
    "    )"
   ]
  },
  {
   "cell_type": "code",
   "execution_count": null,
   "metadata": {},
   "outputs": [],
   "source": []
  }
 ],
 "metadata": {
  "kernelspec": {
   "display_name": "Python 3",
   "language": "python",
   "name": "python3"
  },
  "language_info": {
   "codemirror_mode": {
    "name": "ipython",
    "version": 3
   },
   "file_extension": ".py",
   "mimetype": "text/x-python",
   "name": "python",
   "nbconvert_exporter": "python",
   "pygments_lexer": "ipython3"
  }
 },
 "nbformat": 4,
 "nbformat_minor": 2
}
