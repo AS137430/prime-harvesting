{
 "cells": [
  {
   "cell_type": "code",
   "execution_count": null,
   "metadata": {},
   "outputs": [],
   "source": [
    "import pandas\n",
    "import seaborn\n",
    "import math\n",
    "import matplotlib.pyplot as plt"
   ]
  },
  {
   "cell_type": "code",
   "execution_count": null,
   "metadata": {},
   "outputs": [],
   "source": [
    "seaborn.set(style=\"whitegrid\")\n",
    "seaborn.set_context('poster')"
   ]
  },
  {
   "cell_type": "code",
   "execution_count": null,
   "metadata": {},
   "outputs": [],
   "source": [
    "goal = 1_000_000\n",
    "\n",
    "a4_dims = (11.7, 8.27)\n",
    "fig, ax = plt.subplots(figsize=a4_dims)\n",
    "\n",
    "factors = [x/10 for x in range(-10, 11)]\n",
    "\n",
    "df = pandas.DataFrame({\n",
    "#    '50%' : [(500_000/goal) ** x for x in factors],\n",
    "    '60%' : [(600_000/goal) ** x for x in factors],\n",
    "    '70%' : [(700_000/goal) ** x for x in factors],\n",
    "    '80%' : [(800_000/goal) ** x for x in factors],\n",
    "    '90%' : [(900_000/goal) ** x for x in factors],   \n",
    "}, factors)\n",
    "\n",
    "g = seaborn.lineplot(ax=ax,\n",
    "    data=df,\n",
    ")"
   ]
  },
  {
   "cell_type": "code",
   "execution_count": null,
   "metadata": {},
   "outputs": [],
   "source": [
    "goal = 1_000_000\n",
    "\n",
    "a4_dims = (11.7, 8.27)\n",
    "fig, ax = plt.subplots(figsize=a4_dims)\n",
    "\n",
    "currents = list(range(100_000, 2_000_001, 100_000))\n",
    "\n",
    "df = pandas.DataFrame({\n",
    "    'tilt -0.3' : [(x/goal) ** -0.3 for x in currents],\n",
    "    'tilt -0.5' : [(x/goal) ** -0.5 for x in currents],\n",
    "    'tilt -0.7' : [(x/goal) ** -0.7 for x in currents],\n",
    "}, currents)\n",
    "\n",
    "g = seaborn.lineplot(ax=ax, data=df)\n",
    "plt.xticks(rotation=45)\n",
    "#fig.suptitle(f'Factor of {factor}.')"
   ]
  },
  {
   "cell_type": "code",
   "execution_count": null,
   "metadata": {},
   "outputs": [],
   "source": [
    "dfgoal = 1_000_000\n",
    "\n",
    "a4_dims = (11.7, 8.27)\n",
    "fig, ax = plt.subplots(figsize=a4_dims)\n",
    "\n",
    "currents = list(range(100_000, 2_000_001, 100_000))\n",
    "\n",
    "df = pandas.DataFrame({\n",
    "    'tilt +0.3' : [(x/goal) ** +0.3 for x in currents],\n",
    "    'tilt +0.5' : [(x/goal) ** +0.5 for x in currents],\n",
    "    'tilt +0.7' : [(x/goal) ** +0.7 for x in currents],\n",
    "}, currents)\n",
    "\n",
    "g = seaborn.lineplot(ax=ax, data=df)\n",
    "plt.xticks(rotation=45)\n",
    "#fig.suptitle(f'Factor of {factor}.')"
   ]
  },
  {
   "cell_type": "code",
   "execution_count": null,
   "metadata": {},
   "outputs": [],
   "source": [
    "dfgoal = 1_000_000\n",
    "\n",
    "a4_dims = (11.7, 8.27)\n",
    "fig, ax = plt.subplots(figsize=a4_dims)\n",
    "\n",
    "currents = list(range(800_000, 1_200_000, 10_000))\n",
    "\n",
    "df = pandas.DataFrame({\n",
    "    'tilt +0.3' : [(x/goal) ** +0.3 for x in currents],\n",
    "    'tilt +0.5' : [(x/goal) ** +0.5 for x in currents],\n",
    "    'tilt +0.7' : [(x/goal) ** +0.7 for x in currents],\n",
    "}, currents)\n",
    "\n",
    "g = seaborn.lineplot(ax=ax, data=df)\n",
    "plt.xticks(rotation=45)\n",
    "#fig.suptitle(f'Factor of {factor}.')"
   ]
  },
  {
   "cell_type": "code",
   "execution_count": null,
   "metadata": {},
   "outputs": [],
   "source": []
  }
 ],
 "metadata": {
  "kernelspec": {
   "display_name": "Python 3",
   "language": "python",
   "name": "python3"
  },
  "language_info": {
   "codemirror_mode": {
    "name": "ipython",
    "version": 3
   },
   "file_extension": ".py",
   "mimetype": "text/x-python",
   "name": "python",
   "nbconvert_exporter": "python",
   "pygments_lexer": "ipython3"
  }
 },
 "nbformat": 4,
 "nbformat_minor": 2
}
