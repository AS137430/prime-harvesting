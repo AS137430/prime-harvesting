{
 "cells": [
  {
   "cell_type": "code",
   "execution_count": null,
   "metadata": {},
   "outputs": [],
   "source": [
    "%matplotlib inline\n",
    "import seaborn\n",
    "from matplotlib import pyplot as plt\n",
    "import matplotlib\n",
    "seaborn.set(style=\"whitegrid\")\n",
    "seaborn.set_context('poster')"
   ]
  },
  {
   "cell_type": "code",
   "execution_count": null,
   "metadata": {},
   "outputs": [],
   "source": [
    "import simulate\n",
    "import withdrawal\n",
    "import market\n",
    "import harvesting\n",
    "import metrics\n",
    "\n",
    "from decimal import Decimal as D\n",
    "import decimal\n",
    "import itertools\n",
    "import pandas\n",
    "import numpy"
   ]
  },
  {
   "cell_type": "code",
   "execution_count": null,
   "metadata": {},
   "outputs": [],
   "source": [
    "def run(market, stock_pct=D('.5'), length=30):\n",
    "    start_year = market.start_year\n",
    "    last_year = market.last_year - length\n",
    "    swrs = pandas.Series()\n",
    "    for _ in range(last_year - start_year + 2):\n",
    "        returns = []\n",
    "        for one_year in zip(range(length), market.iter_from(start_year + _)):\n",
    "            annual_returns = one_year[1]\n",
    "            stocks = ((1+annual_returns.stocks) / (1+annual_returns.inflation)) - 1\n",
    "            bonds = ((1+annual_returns.bonds) / (1+annual_returns.inflation)) - 1\n",
    "            returns.append((stocks * stock_pct) + (bonds * (1-stock_pct)))\n",
    "        swr = float(metrics.pwa(100, 0, returns))\n",
    "        swrs.loc[start_year+_] = swr\n",
    "    return swrs"
   ]
  },
  {
   "cell_type": "code",
   "execution_count": null,
   "metadata": {},
   "outputs": [],
   "source": [
    "def plot(swrs, title):\n",
    "    plt.figure(figsize=(20,10)) \n",
    "    ax = seaborn.lineplot(\n",
    "                    data=swrs,\n",
    "                   )\n",
    "    min = swrs['SWR'].min()\n",
    "    seaborn.despine(ax=ax, left=True, bottom=True, offset=20)\n",
    "    ax.set_title(f'SWR in {title}. Min = {min:.1f}')"
   ]
  },
  {
   "cell_type": "code",
   "execution_count": null,
   "metadata": {},
   "outputs": [],
   "source": [
    "for country in market.JST.Countries:\n",
    "    if country == 'CAN': continue\n",
    "    m = market.JST(country)\n",
    "    swrs = run(m)\n",
    "    df = pandas.DataFrame(swrs, columns=['SWR'])\n",
    "    plot(df, country)"
   ]
  },
  {
   "cell_type": "code",
   "execution_count": null,
   "metadata": {},
   "outputs": [],
   "source": [
    "MSWRS = pandas.Series(index=market.JST.Countries)\n",
    "\n",
    "for country in market.JST.Countries:\n",
    "    if country == 'CAN': continue\n",
    "    m = market.JST(country)\n",
    "    m.start_year = 1950\n",
    "    swrs = run(m)\n",
    "    mswr = swrs.min()\n",
    "    MSWRS.loc[country] = mswr"
   ]
  },
  {
   "cell_type": "code",
   "execution_count": null,
   "metadata": {},
   "outputs": [],
   "source": [
    "MSWRS.sort_values(ascending=False)"
   ]
  },
  {
   "cell_type": "code",
   "execution_count": null,
   "metadata": {},
   "outputs": [],
   "source": []
  }
 ],
 "metadata": {
  "kernelspec": {
   "display_name": "Python 3",
   "language": "python",
   "name": "python3"
  },
  "language_info": {
   "codemirror_mode": {
    "name": "ipython",
    "version": 3
   },
   "file_extension": ".py",
   "mimetype": "text/x-python",
   "name": "python",
   "nbconvert_exporter": "python",
   "pygments_lexer": "ipython3"
  }
 },
 "nbformat": 4,
 "nbformat_minor": 2
}
