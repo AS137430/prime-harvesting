{
 "cells": [
  {
   "cell_type": "code",
   "execution_count": null,
   "metadata": {},
   "outputs": [],
   "source": [
    "import simulate\n",
    "import market\n",
    "import withdrawal\n",
    "import harvesting\n",
    "from import portfolio import Portfolio\n",
    "\n",
    "from decimal import Decimal\n",
    "import pandas\n",
    "import seaborn\n",
    "from matplotlib import pyplot as plt\n",
    "import matplotlib\n",
    "seaborn.set(style=\"whitegrid\")\n",
    "seaborn.set_context('poster')"
   ]
  },
  {
   "cell_type": "code",
   "execution_count": null,
   "metadata": {},
   "outputs": [],
   "source": [
    "def plot(sim, year, lens):\n",
    "    plt.figure(figsize=(12,6))\n",
    "    plt.title('Portfolio value')\n",
    "    s = pandas.Series([lens(n) for n in sim], index=range(year, year+len(sim)))\n",
    "    g = seaborn.lineplot(data=s)\n",
    "    seaborn.despine(left=True, bottom=True, offset=20)\n",
    "    g.axes.yaxis.set_major_formatter(\n",
    "        matplotlib.ticker.FuncFormatter(lambda x, p: format(int(x), ',')))    "
   ]
  },
  {
   "cell_type": "code",
   "execution_count": null,
   "metadata": {},
   "outputs": [],
   "source": [
    "MARKET = market.Returns_US_1871()"
   ]
  },
  {
   "cell_type": "code",
   "execution_count": null,
   "metadata": {},
   "outputs": [],
   "source": [
    "year = 1969\n",
    "\n",
    "s_swr = simulate.withdrawals(MARKET.iter_from(year),\n",
    "                             years=35,\n",
    "    portfolio=(500_000, 0),\n",
    "    harvesting=harvesting.N_80_RebalanceHarvesting,\n",
    "    withdraw=withdrawal.ConstantDollar\n",
    ")\n",
    "s_vpw = simulate.withdrawals(MARKET.iter_from(year),\n",
    "                             years=35,\n",
    "    portfolio=(500_000, 0),\n",
    "    harvesting=harvesting.N_80_RebalanceHarvesting,\n",
    "    withdraw=withdrawal.VPW\n",
    ")"
   ]
  },
  {
   "cell_type": "code",
   "execution_count": null,
   "metadata": {},
   "outputs": [],
   "source": [
    "w_sum = [float(x.withdraw_r + y.withdraw_r) for x,y in zip(s_swr, s_vpw)]"
   ]
  },
  {
   "cell_type": "code",
   "execution_count": null,
   "metadata": {},
   "outputs": [],
   "source": [
    "pure_vpw = simulate.withdrawals(MARKET.iter_from(year),\n",
    "                             years=35,\n",
    "    portfolio=(1_000_000, 0),\n",
    "    harvesting=harvesting.N_80_RebalanceHarvesting,\n",
    "    withdraw=withdrawal.VPW\n",
    ")\n",
    "w_vpw = [float(n.withdraw_r) for n in pure_vpw]\n",
    "plt.figure(figsize=(12,6))\n",
    "plt.title(f'Withdrawals in {year}')\n",
    "g = seaborn.lineplot(data=pandas.DataFrame({'VPW' : w_vpw, 'SWR+VPW' : w_sum}, index=range(year, year+len(pure_vpw))))\n",
    "seaborn.despine(left=True, bottom=True, offset=20)\n",
    "g.axes.yaxis.set_major_formatter(\n",
    "    matplotlib.ticker.FuncFormatter(lambda x, p: format(int(x), ',')))    "
   ]
  },
  {
   "cell_type": "code",
   "execution_count": null,
   "metadata": {},
   "outputs": [],
   "source": []
  }
 ],
 "metadata": {
  "kernelspec": {
   "display_name": "Python 3",
   "language": "python",
   "name": "python3"
  },
  "language_info": {
   "codemirror_mode": {
    "name": "ipython",
    "version": 3
   },
   "file_extension": ".py",
   "mimetype": "text/x-python",
   "name": "python",
   "nbconvert_exporter": "python",
   "pygments_lexer": "ipython3"
  }
 },
 "nbformat": 4,
 "nbformat_minor": 4
}
