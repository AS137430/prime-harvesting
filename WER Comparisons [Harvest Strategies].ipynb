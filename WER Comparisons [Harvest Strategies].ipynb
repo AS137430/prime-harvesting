{
 "cells": [
  {
   "cell_type": "code",
   "execution_count": null,
   "metadata": {
    "deletable": true,
    "editable": true,
    "jupyter": {
     "outputs_hidden": false
    }
   },
   "outputs": [],
   "source": [
    "%matplotlib inline\n",
    "%pdb on\n",
    "\n",
    "from pprint import pprint\n",
    "import itertools\n",
    "import numpy\n",
    "\n",
    "from metrics import wer, cew, ssr, average, hreff\n",
    "import montecarlo\n",
    "import market\n",
    "import dms\n",
    "import withdrawal\n",
    "import mortality\n",
    "from portfolio import Portfolio\n",
    "import harvesting\n",
    "from decimal import Decimal as D\n",
    "\n",
    "import plot\n",
    "from matplotlib import pyplot as plt\n",
    "\n",
    "import pandas"
   ]
  },
  {
   "cell_type": "code",
   "execution_count": null,
   "metadata": {
    "deletable": true,
    "editable": true,
    "jupyter": {
     "outputs_hidden": false
    }
   },
   "outputs": [],
   "source": [
    "survival_function = mortality.make_mortality(mortality.ANNUITY_2000)"
   ]
  },
  {
   "cell_type": "code",
   "execution_count": null,
   "metadata": {
    "deletable": true,
    "editable": true
   },
   "outputs": [],
   "source": [
    "HREFF_FLOOR = 3"
   ]
  },
  {
   "cell_type": "code",
   "execution_count": null,
   "metadata": {
    "deletable": true,
    "editable": true,
    "jupyter": {
     "outputs_hidden": false
    }
   },
   "outputs": [],
   "source": [
    "def run_one_new(dataset, strategy, hreff_floor=HREFF_FLOOR, debug_cashflows=False):\n",
    "    p = Portfolio(600000, 400000)\n",
    "    h = strategy(p).harvest()\n",
    "    h.send(None)\n",
    "    #w = withdrawal.VPW(p, h, years_left=35).withdrawals()\n",
    "    w = withdrawal.ConstantDollar(p, h).withdrawals()\n",
    "    \n",
    "    def add_debug_log(annual):\n",
    "        if debug_cashflows:\n",
    "            debug.append({\n",
    "                'Returns' : annual.returns,\n",
    "                'Withdraw' : annual.withdraw_n,\n",
    "                'Portfolio' : annual.portfolio_n,\n",
    "                'Withdraw Orig' : annual.withdraw_pct_orig,\n",
    "            })\n",
    "\n",
    "    cashflows = []\n",
    "    returns = []\n",
    "    debug = []\n",
    "\n",
    "    # Initial withdrawal at start of retirement\n",
    "    annual = w.send(None)\n",
    "    add_debug_log(annual)\n",
    "    \n",
    "    cashflows.append(annual.withdraw_pct_orig)\n",
    "    \n",
    "    for i in dataset:\n",
    "        annual = w.send(i)\n",
    "        add_debug_log(annual)\n",
    "\n",
    "        returns.append(annual.returns)\n",
    "        cashflows.append(annual.withdraw_pct_orig)\n",
    "\n",
    "    if debug_cashflows:\n",
    "        pandas.DataFrame(data=debug).to_csv('WERCOMP-cashflows.csv')\n",
    "\n",
    "    w = wer(cashflows, returns)\n",
    "    h = hreff(cashflows, returns, floor=D(hreff_floor)/100)\n",
    "    return (w, h, returns)"
   ]
  },
  {
   "cell_type": "code",
   "execution_count": null,
   "metadata": {
    "deletable": true,
    "editable": true,
    "jupyter": {
     "outputs_hidden": false
    }
   },
   "outputs": [],
   "source": [
    "def run_bootstrap(strategies, runs=1000, dataset=montecarlo.historical[60]):\n",
    "    wer_df = pandas.DataFrame(index=numpy.arange(0, runs), columns=[s.__name__ for s in strategies])\n",
    "    hreff_df = pandas.DataFrame(index=numpy.arange(0, runs), columns=[s.__name__ for s in strategies])\n",
    "    returns_df = pandas.DataFrame(index=numpy.arange(0, runs), columns=[i for i in range(60)])\n",
    "\n",
    "    for i in range(runs):\n",
    "        # First generate a lifespan, so we know how many years of returns we need to generate\n",
    "        lifespan = mortality.gen_lifespan(mortality.DEFAULT_COUPLE, survival_function)\n",
    "\n",
    "        returns = (dataset.random_year() for y in range(lifespan))\n",
    "        pairs = zip(strategies, itertools.tee(returns, len(strategies)))\n",
    "      \n",
    "        for (s, r) in pairs:\n",
    "            (wer, hreff, returns) = run_one_new(r, s)\n",
    "            wer_df.loc[i][s.__name__] = wer\n",
    "            hreff_df.loc[i][s.__name__] = hreff\n",
    "            \n",
    "            returns_df.loc[i] = returns + [None for _ in range(60-lifespan)]\n",
    "            \n",
    "    return (wer_df, hreff_df, returns_df)"
   ]
  },
  {
   "cell_type": "code",
   "execution_count": null,
   "metadata": {
    "deletable": true,
    "editable": true,
    "jupyter": {
     "outputs_hidden": true
    }
   },
   "outputs": [],
   "source": [
    "def run_sequential(strategies, dataset):\n",
    "    runs = len(dataset)\n",
    "    wer_df = pandas.DataFrame(index=numpy.arange(0, runs), columns=[s.__name__ for s in strategies])\n",
    "    hreff_df = pandas.DataFrame(index=numpy.arange(0, runs), columns=[s.__name__ for s in strategies])\n",
    "    returns_df = pandas.DataFrame(index=numpy.arange(0, runs), columns=[i for i in range(60)])\n",
    "\n",
    "    lifespan = 30\n",
    "\n",
    "    for i in range(runs - lifespan):\n",
    "        returns = itertools.islice(dataset.iter_from(dataset.start_year + i), lifespan)\n",
    "        \n",
    "        pairs = zip(strategies, itertools.tee(returns, len(strategies)))\n",
    "      \n",
    "        for (s, r) in pairs:\n",
    "            (wer, hreff, returns) = run_one_new(r, s)\n",
    "            wer_df.loc[i][s.__name__] = wer\n",
    "            hreff_df.loc[i][s.__name__] = hreff\n",
    "            \n",
    "            returns_df.loc[i] = returns + [None for _ in range(60-lifespan)]\n",
    "            \n",
    "    return (wer_df, hreff_df, returns_df)"
   ]
  },
  {
   "cell_type": "code",
   "execution_count": null,
   "metadata": {
    "deletable": true,
    "editable": true,
    "jupyter": {
     "outputs_hidden": false
    }
   },
   "outputs": [],
   "source": [
    "strategies = [\n",
    "    harvesting.N_60_RebalanceHarvesting,\n",
    "    harvesting.N_100_RebalanceHarvesting,\n",
    "    harvesting.PrimeHarvesting,\n",
    "    harvesting.AltPrimeHarvesting,\n",
    "    harvesting.BondsFirst,\n",
    "    harvesting.OmegaNot,\n",
    "    harvesting.Weiss,\n",
    "    harvesting.AgeBased_100,\n",
    "    harvesting.AgeBased_110,\n",
    "    harvesting.AgeBased_120,\n",
    "    harvesting.Glidepath,\n",
    "    harvesting.InverseGlidepath,\n",
    "    harvesting.ActuarialHarvesting,\n",
    "]"
   ]
  },
  {
   "cell_type": "code",
   "execution_count": null,
   "metadata": {
    "deletable": true,
    "editable": true,
    "jupyter": {
     "outputs_hidden": true
    }
   },
   "outputs": [],
   "source": [
    "def make_report(df):\n",
    "    d = [(col, series.mean()) for (col, series) in df.iteritems()]\n",
    "    new_df = pandas.Series(dict(d))\n",
    "    new_df.sort_values(inplace=True)\n",
    "    return new_df"
   ]
  },
  {
   "cell_type": "code",
   "execution_count": null,
   "metadata": {
    "deletable": true,
    "editable": true,
    "jupyter": {
     "outputs_hidden": false
    }
   },
   "outputs": [],
   "source": [
    "wer_df, hreff_df, returns_df = run_sequential(strategies, market.Returns_US_1871())\n",
    "#make_report(wer_df).plot(kind='bar', title='US - Historical - WER')\n",
    "make_report(hreff_df).plot(kind='bar', title='US - Historical - HREFF-%d' % HREFF_FLOOR)"
   ]
  },
  {
   "cell_type": "code",
   "execution_count": null,
   "metadata": {
    "deletable": true,
    "editable": true,
    "jupyter": {
     "outputs_hidden": false
    }
   },
   "outputs": [],
   "source": [
    "wer_df, hreff_df, returns_df = run_sequential(strategies, market.UK1900())\n",
    "#make_report(wer_df).plot(kind='bar', title='UK - Historical - WER')\n",
    "make_report(hreff_df).plot(kind='bar', title='UK - Historical - HREFF-%d' % HREFF_FLOOR)"
   ]
  },
  {
   "cell_type": "code",
   "execution_count": null,
   "metadata": {
    "deletable": true,
    "editable": true,
    "jupyter": {
     "outputs_hidden": false
    }
   },
   "outputs": [],
   "source": [
    "wer_df, hreff_df, returns_df = run_sequential(strategies, market.Japan_1957())\n",
    "#make_report(wer_df).plot(kind='bar', title='Japan - Historical - WER')\n",
    "make_report(hreff_df).plot(kind='bar', title='Japan - Historical - HREFF-%d' % HREFF_FLOOR)"
   ]
  },
  {
   "cell_type": "code",
   "execution_count": null,
   "metadata": {
    "deletable": true,
    "editable": true,
    "jupyter": {
     "outputs_hidden": false
    }
   },
   "outputs": [],
   "source": [
    "wer_df, hreff_df, returns_df = run_bootstrap(strategies, runs=1000, dataset=market.Returns_US_1871())\n",
    "#make_report(wer_df).plot(kind='bar', title='US - Monte Carlo - WER')\n",
    "make_report(hreff_df).plot(kind='bar', title='US - Monte Carlo - HREFF-%d' % HREFF_FLOOR)"
   ]
  },
  {
   "cell_type": "code",
   "execution_count": null,
   "metadata": {
    "deletable": true,
    "editable": true,
    "jupyter": {
     "outputs_hidden": false
    }
   },
   "outputs": [],
   "source": [
    "wer_df, hreff_df, returns_df = run_bootstrap(strategies, runs=1000, dataset=market.UK1900())\n",
    "#make_report(wer_df).plot(kind='bar', title='UK - Monte Carlo - WER')\n",
    "make_report(hreff_df).plot(kind='bar', title='UK - Monte Carlo - HREFF-%d' % HREFF_FLOOR)"
   ]
  },
  {
   "cell_type": "code",
   "execution_count": null,
   "metadata": {
    "deletable": true,
    "editable": true,
    "jupyter": {
     "outputs_hidden": false
    }
   },
   "outputs": [],
   "source": [
    "wer_df, hreff_df, returns_df = run_bootstrap(strategies, runs=1000, dataset=market.Japan_1957())\n",
    "#make_report(wer_df).plot(kind='bar', title='Japan - Monte Carlo - WER')\n",
    "make_report(hreff_df).plot(kind='bar', title='Japan - Monte Carlo - HREFF-%d' % HREFF_FLOOR)"
   ]
  }
 ],
 "metadata": {
  "anaconda-cloud": {},
  "kernelspec": {
   "display_name": "Python 3",
   "language": "python",
   "name": "python3"
  },
  "language_info": {
   "codemirror_mode": {
    "name": "ipython",
    "version": 3
   },
   "file_extension": ".py",
   "mimetype": "text/x-python",
   "name": "python",
   "nbconvert_exporter": "python",
   "pygments_lexer": "ipython3"
  }
 },
 "nbformat": 4,
 "nbformat_minor": 4
}
