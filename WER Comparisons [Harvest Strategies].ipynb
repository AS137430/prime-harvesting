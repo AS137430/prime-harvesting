{
 "cells": [
  {
   "cell_type": "code",
   "execution_count": 1,
   "metadata": {
    "collapsed": false,
    "deletable": true,
    "editable": true
   },
   "outputs": [
    {
     "name": "stdout",
     "output_type": "stream",
     "text": [
      "Automatic pdb calling has been turned OFF\n"
     ]
    }
   ],
   "source": [
    "%matplotlib inline\n",
    "%pdb off\n",
    "\n",
    "from pprint import pprint\n",
    "import itertools\n",
    "import numpy\n",
    "\n",
    "from metrics import wer, cew, ssr, average, hreff\n",
    "import montecarlo\n",
    "import dms\n",
    "import withdrawal\n",
    "import mortality\n",
    "from portfolio import Portfolio\n",
    "import harvesting\n",
    "from decimal import Decimal as D\n",
    "\n",
    "import plot\n",
    "from matplotlib import pyplot as plt\n",
    "\n",
    "import pandas"
   ]
  },
  {
   "cell_type": "code",
   "execution_count": 2,
   "metadata": {
    "collapsed": false,
    "deletable": true,
    "editable": true
   },
   "outputs": [],
   "source": [
    "survival_function = mortality.make_mortality(mortality.ANNUITY_2000)"
   ]
  },
  {
   "cell_type": "code",
   "execution_count": 3,
   "metadata": {
    "collapsed": false,
    "deletable": true,
    "editable": true
   },
   "outputs": [],
   "source": [
    "def run_one_new(dataset, strategy, hreff_floor=4, debug_cashflows=False):\n",
    "    p = Portfolio(600000, 400000)\n",
    "    h = strategy(p).harvest()\n",
    "    h.send(None)\n",
    "    w = withdrawal.VPW(p, h, years_left=35).withdrawals()\n",
    "    \n",
    "    def add_debug_log(annual):\n",
    "        if debug_cashflows:\n",
    "            debug.append({\n",
    "                'Returns' : annual.returns,\n",
    "                'Withdraw' : annual.withdraw_n,\n",
    "                'Portfolio' : annual.portfolio_n,\n",
    "                'Withdraw Orig' : annual.withdraw_pct_orig,\n",
    "            })\n",
    "\n",
    "\n",
    "    cashflows = []\n",
    "    returns = []\n",
    "    debug = []\n",
    "\n",
    "\n",
    "    # Initial withdrawal at start of retirement\n",
    "    annual = w.send(None)\n",
    "    add_debug_log(annual)\n",
    "    \n",
    "    cashflows.append(annual.withdraw_pct_orig)\n",
    "    \n",
    "    for i in dataset:\n",
    "        annual = w.send(i)\n",
    "        add_debug_log(annual)\n",
    "\n",
    "        returns.append(annual.returns)\n",
    "        cashflows.append(annual.withdraw_pct_orig)\n",
    "\n",
    "    if debug_cashflows:\n",
    "        pandas.DataFrame(data=debug).to_csv('WERCOMP-cashflows.csv')\n",
    "\n",
    "    w = wer(cashflows, returns)\n",
    "    h = hreff(cashflows, returns, floor=D(hreff_floor)/100)\n",
    "    return (w, h, returns)"
   ]
  },
  {
   "cell_type": "code",
   "execution_count": 4,
   "metadata": {
    "collapsed": false,
    "deletable": true,
    "editable": true
   },
   "outputs": [],
   "source": [
    "def new_calc(strategies, runs=1000, dataset=montecarlo.historical[60]):\n",
    "    dataset = montecarlo.LowYieldsAutoRegression()\n",
    "    wer_df = pandas.DataFrame(index=numpy.arange(0, runs), columns=[s.__name__ for s in strategies])\n",
    "    hreff_df = pandas.DataFrame(index=numpy.arange(0, runs), columns=[s.__name__ for s in strategies])\n",
    "    returns_df = pandas.DataFrame(index=numpy.arange(0, runs), columns=[i for i in range(60)])\n",
    "\n",
    "    for i in range(runs):\n",
    "        # First generate a lifespan, so we know how many years of returns we need to generate\n",
    "        lifespan = mortality.gen_lifespan(mortality.DEFAULT_COUPLE, survival_function)\n",
    "\n",
    "        returns = (dataset.random_year() for y in range(lifespan))\n",
    "        pairs = zip(strategies, itertools.tee(returns, len(strategies)))\n",
    "      \n",
    "        for (s, r) in pairs:\n",
    "            (wer, hreff, returns) = run_one_new(r, s)\n",
    "            wer_df.loc[i][s.__name__] = wer\n",
    "            hreff_df.loc[i][s.__name__] = hreff\n",
    "            \n",
    "            returns_df.loc[i] = returns + [None for _ in range(60-lifespan)]\n",
    "            \n",
    "    return (wer_df, hreff_df, returns_df)"
   ]
  },
  {
   "cell_type": "code",
   "execution_count": 5,
   "metadata": {
    "collapsed": false,
    "deletable": true,
    "editable": true
   },
   "outputs": [
    {
     "ename": "TypeError",
     "evalue": "unsupported operand type(s) for /: 'decimal.Decimal' and 'float'",
     "output_type": "error",
     "traceback": [
      "\u001b[0;31m---------------------------------------------------------------------------\u001b[0m",
      "\u001b[0;31mTypeError\u001b[0m                                 Traceback (most recent call last)",
      "\u001b[0;32m<ipython-input-5-87e8b645584a>\u001b[0m in \u001b[0;36m<module>\u001b[0;34m()\u001b[0m\n\u001b[1;32m     15\u001b[0m     \u001b[0mharvesting\u001b[0m\u001b[0;34m.\u001b[0m\u001b[0mGlidepath\u001b[0m\u001b[0;34m,\u001b[0m\u001b[0;34m\u001b[0m\u001b[0m\n\u001b[1;32m     16\u001b[0m ]\n\u001b[0;32m---> 17\u001b[0;31m \u001b[0mwer_df\u001b[0m\u001b[0;34m,\u001b[0m \u001b[0mhreff_df\u001b[0m\u001b[0;34m,\u001b[0m \u001b[0mreturns_df\u001b[0m \u001b[0;34m=\u001b[0m \u001b[0mnew_calc\u001b[0m\u001b[0;34m(\u001b[0m\u001b[0mstrategies\u001b[0m\u001b[0;34m,\u001b[0m \u001b[0mruns\u001b[0m\u001b[0;34m=\u001b[0m\u001b[0;36m2000\u001b[0m\u001b[0;34m,\u001b[0m \u001b[0mdataset\u001b[0m\u001b[0;34m=\u001b[0m\u001b[0mmontecarlo\u001b[0m\u001b[0;34m.\u001b[0m\u001b[0mconservative\u001b[0m\u001b[0;34m[\u001b[0m\u001b[0;36m60\u001b[0m\u001b[0;34m]\u001b[0m\u001b[0;34m)\u001b[0m\u001b[0;34m\u001b[0m\u001b[0m\n\u001b[0m",
      "\u001b[0;32m<ipython-input-4-92aa4c86a558>\u001b[0m in \u001b[0;36mnew_calc\u001b[0;34m(strategies, runs, dataset)\u001b[0m\n\u001b[1;32m     13\u001b[0m \u001b[0;34m\u001b[0m\u001b[0m\n\u001b[1;32m     14\u001b[0m         \u001b[0;32mfor\u001b[0m \u001b[0;34m(\u001b[0m\u001b[0ms\u001b[0m\u001b[0;34m,\u001b[0m \u001b[0mr\u001b[0m\u001b[0;34m)\u001b[0m \u001b[0;32min\u001b[0m \u001b[0mpairs\u001b[0m\u001b[0;34m:\u001b[0m\u001b[0;34m\u001b[0m\u001b[0m\n\u001b[0;32m---> 15\u001b[0;31m             \u001b[0;34m(\u001b[0m\u001b[0mwer\u001b[0m\u001b[0;34m,\u001b[0m \u001b[0mhreff\u001b[0m\u001b[0;34m,\u001b[0m \u001b[0mreturns\u001b[0m\u001b[0;34m)\u001b[0m \u001b[0;34m=\u001b[0m \u001b[0mrun_one_new\u001b[0m\u001b[0;34m(\u001b[0m\u001b[0mr\u001b[0m\u001b[0;34m,\u001b[0m \u001b[0ms\u001b[0m\u001b[0;34m)\u001b[0m\u001b[0;34m\u001b[0m\u001b[0m\n\u001b[0m\u001b[1;32m     16\u001b[0m             \u001b[0mwer_df\u001b[0m\u001b[0;34m.\u001b[0m\u001b[0mloc\u001b[0m\u001b[0;34m[\u001b[0m\u001b[0mi\u001b[0m\u001b[0;34m]\u001b[0m\u001b[0;34m[\u001b[0m\u001b[0ms\u001b[0m\u001b[0;34m.\u001b[0m\u001b[0m__name__\u001b[0m\u001b[0;34m]\u001b[0m \u001b[0;34m=\u001b[0m \u001b[0mwer\u001b[0m\u001b[0;34m\u001b[0m\u001b[0m\n\u001b[1;32m     17\u001b[0m             \u001b[0mhreff_df\u001b[0m\u001b[0;34m.\u001b[0m\u001b[0mloc\u001b[0m\u001b[0;34m[\u001b[0m\u001b[0mi\u001b[0m\u001b[0;34m]\u001b[0m\u001b[0;34m[\u001b[0m\u001b[0ms\u001b[0m\u001b[0;34m.\u001b[0m\u001b[0m__name__\u001b[0m\u001b[0;34m]\u001b[0m \u001b[0;34m=\u001b[0m \u001b[0mhreff\u001b[0m\u001b[0;34m\u001b[0m\u001b[0m\n",
      "\u001b[0;32m<ipython-input-3-d75c7f727e7f>\u001b[0m in \u001b[0;36mrun_one_new\u001b[0;34m(dataset, strategy, hreff_floor, debug_cashflows)\u001b[0m\n\u001b[1;32m     36\u001b[0m         \u001b[0mpandas\u001b[0m\u001b[0;34m.\u001b[0m\u001b[0mDataFrame\u001b[0m\u001b[0;34m(\u001b[0m\u001b[0mdata\u001b[0m\u001b[0;34m=\u001b[0m\u001b[0mdebug\u001b[0m\u001b[0;34m)\u001b[0m\u001b[0;34m.\u001b[0m\u001b[0mto_csv\u001b[0m\u001b[0;34m(\u001b[0m\u001b[0;34m'WERCOMP-cashflows.csv'\u001b[0m\u001b[0;34m)\u001b[0m\u001b[0;34m\u001b[0m\u001b[0m\n\u001b[1;32m     37\u001b[0m \u001b[0;34m\u001b[0m\u001b[0m\n\u001b[0;32m---> 38\u001b[0;31m     \u001b[0mw\u001b[0m \u001b[0;34m=\u001b[0m \u001b[0mwer\u001b[0m\u001b[0;34m(\u001b[0m\u001b[0mcashflows\u001b[0m\u001b[0;34m,\u001b[0m \u001b[0mreturns\u001b[0m\u001b[0;34m)\u001b[0m\u001b[0;34m\u001b[0m\u001b[0m\n\u001b[0m\u001b[1;32m     39\u001b[0m     \u001b[0mh\u001b[0m \u001b[0;34m=\u001b[0m \u001b[0mhreff\u001b[0m\u001b[0;34m(\u001b[0m\u001b[0mcashflows\u001b[0m\u001b[0;34m,\u001b[0m \u001b[0mreturns\u001b[0m\u001b[0;34m,\u001b[0m \u001b[0mfloor\u001b[0m\u001b[0;34m=\u001b[0m\u001b[0mD\u001b[0m\u001b[0;34m(\u001b[0m\u001b[0mhreff_floor\u001b[0m\u001b[0;34m)\u001b[0m\u001b[0;34m/\u001b[0m\u001b[0;36m100\u001b[0m\u001b[0;34m)\u001b[0m\u001b[0;34m\u001b[0m\u001b[0m\n\u001b[1;32m     40\u001b[0m     \u001b[0;32mreturn\u001b[0m \u001b[0;34m(\u001b[0m\u001b[0mw\u001b[0m\u001b[0;34m,\u001b[0m \u001b[0mh\u001b[0m\u001b[0;34m,\u001b[0m \u001b[0mreturns\u001b[0m\u001b[0;34m)\u001b[0m\u001b[0;34m\u001b[0m\u001b[0m\n",
      "\u001b[0;32m/home/justus/Dropbox/jupyter/prime-harvesting/metrics.py\u001b[0m in \u001b[0;36mwer\u001b[0;34m(withdrawals, returns, fudge)\u001b[0m\n\u001b[1;32m    117\u001b[0m     \u001b[0mc\u001b[0m \u001b[0;34m=\u001b[0m \u001b[0mcew\u001b[0m\u001b[0;34m(\u001b[0m\u001b[0;34m[\u001b[0m\u001b[0mn\u001b[0m \u001b[0;34m+\u001b[0m \u001b[0mfudge\u001b[0m \u001b[0;32mfor\u001b[0m \u001b[0mn\u001b[0m \u001b[0;32min\u001b[0m \u001b[0mwithdrawals\u001b[0m\u001b[0;34m]\u001b[0m\u001b[0;34m)\u001b[0m\u001b[0;34m\u001b[0m\u001b[0m\n\u001b[1;32m    118\u001b[0m     \u001b[0ms\u001b[0m \u001b[0;34m=\u001b[0m \u001b[0mssr\u001b[0m\u001b[0;34m(\u001b[0m\u001b[0;34m[\u001b[0m\u001b[0mn\u001b[0m \u001b[0;34m+\u001b[0m \u001b[0mfudge\u001b[0m \u001b[0;32mfor\u001b[0m \u001b[0mn\u001b[0m \u001b[0;32min\u001b[0m \u001b[0mreturns\u001b[0m\u001b[0;34m]\u001b[0m\u001b[0;34m)\u001b[0m\u001b[0;34m\u001b[0m\u001b[0m\n\u001b[0;32m--> 119\u001b[0;31m     \u001b[0;32mreturn\u001b[0m \u001b[0mc\u001b[0m \u001b[0;34m/\u001b[0m \u001b[0ms\u001b[0m\u001b[0;34m\u001b[0m\u001b[0m\n\u001b[0m\u001b[1;32m    120\u001b[0m \u001b[0;34m\u001b[0m\u001b[0m\n\u001b[1;32m    121\u001b[0m \u001b[0;34m\u001b[0m\u001b[0m\n",
      "\u001b[0;31mTypeError\u001b[0m: unsupported operand type(s) for /: 'decimal.Decimal' and 'float'"
     ]
    }
   ],
   "source": [
    "def VPW(p, h):\n",
    "    return withdrawal.VPW(p, h, replan=True)\n",
    "\n",
    "strategies = [\n",
    "    harvesting.N_60_RebalanceHarvesting,\n",
    "    harvesting.N_100_RebalanceHarvesting,\n",
    "    harvesting.PrimeHarvesting,\n",
    "    harvesting.AltPrimeHarvesting,\n",
    "    harvesting.BondsFirst,\n",
    "    harvesting.OmegaNot,\n",
    "    harvesting.Weiss,\n",
    "    harvesting.AgeBased_100,\n",
    "    harvesting.AgeBased_110,\n",
    "    harvesting.AgeBased_120,\n",
    "    harvesting.Glidepath,\n",
    "]\n",
    "wer_df, hreff_df, returns_df = new_calc(strategies, runs=2000, dataset=montecarlo.conservative[60])"
   ]
  },
  {
   "cell_type": "code",
   "execution_count": null,
   "metadata": {
    "collapsed": false,
    "deletable": true,
    "editable": true
   },
   "outputs": [],
   "source": [
    "#returns_df.to_csv('WERCOMP-returns.csv')\n",
    "#wer_df.to_csv('WERCOMP-wer.csv')\n",
    "#hreff_df.to_csv('WERCOMP-hreff.csv')"
   ]
  },
  {
   "cell_type": "code",
   "execution_count": null,
   "metadata": {
    "collapsed": false,
    "deletable": true,
    "editable": true,
    "scrolled": true
   },
   "outputs": [],
   "source": [
    "d = [(col, series.mean()) for (col, series) in wer_df.iteritems()]\n",
    "series = pandas.Series(dict(d))\n",
    "\n",
    "series.sort_values(inplace=True)\n",
    "series.plot(kind='bar', title='WER')\n",
    "#print(series)"
   ]
  },
  {
   "cell_type": "code",
   "execution_count": null,
   "metadata": {
    "collapsed": false,
    "deletable": true,
    "editable": true
   },
   "outputs": [],
   "source": [
    "d = [(col, series.mean()) for (col, series) in hreff_df.iteritems()]\n",
    "series = pandas.Series(dict(d))\n",
    "\n",
    "series.sort_values(inplace=True)\n",
    "series.plot(kind='bar', title='HREFF')"
   ]
  },
  {
   "cell_type": "code",
   "execution_count": null,
   "metadata": {
    "collapsed": true,
    "deletable": true,
    "editable": true
   },
   "outputs": [],
   "source": []
  }
 ],
 "metadata": {
  "anaconda-cloud": {},
  "kernelspec": {
   "display_name": "Python [default]",
   "language": "python",
   "name": "python3"
  },
  "language_info": {
   "codemirror_mode": {
    "name": "ipython",
    "version": 3
   },
   "file_extension": ".py",
   "mimetype": "text/x-python",
   "name": "python",
   "nbconvert_exporter": "python",
   "pygments_lexer": "ipython3",
   "version": "3.5.3"
  }
 },
 "nbformat": 4,
 "nbformat_minor": 0
}
