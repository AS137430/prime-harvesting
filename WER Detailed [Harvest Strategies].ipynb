{
 "cells": [
  {
   "cell_type": "code",
   "execution_count": null,
   "metadata": {
    "collapsed": false,
    "deletable": true,
    "editable": true
   },
   "outputs": [
    {
     "name": "stdout",
     "output_type": "stream",
     "text": [
      "Automatic pdb calling has been turned OFF\n"
     ]
    }
   ],
   "source": [
    "%matplotlib inline\n",
    "%pdb off\n",
    "\n",
    "from pprint import pprint\n",
    "import itertools\n",
    "import numpy\n",
    "\n",
    "from metrics import wer, cew, ssr, average, hreff\n",
    "import montecarlo\n",
    "import market\n",
    "import dms\n",
    "import withdrawal\n",
    "import mortality\n",
    "from portfolio import Portfolio\n",
    "import harvesting\n",
    "from decimal import Decimal as D\n",
    "\n",
    "import plot\n",
    "from matplotlib import pyplot as plt\n",
    "\n",
    "import pandas"
   ]
  },
  {
   "cell_type": "code",
   "execution_count": null,
   "metadata": {
    "collapsed": false,
    "deletable": true,
    "editable": true
   },
   "outputs": [],
   "source": [
    "def run_one_new(dataset, strategy, hreff_floor=4, debug_cashflows=True):\n",
    "    p = Portfolio(600000, 400000)\n",
    "    h = strategy(p).harvest()\n",
    "    h.send(None)\n",
    "    w = withdrawal.VPW(p, h, years_left=35).withdrawals()\n",
    "    \n",
    "    def add_debug_log(annual):\n",
    "        if debug_cashflows:\n",
    "            debug.append({\n",
    "                'Returns' : annual.returns,\n",
    "                'Withdraw' : annual.withdraw_n,\n",
    "                'Portfolio' : annual.portfolio_n,\n",
    "                'Withdraw Orig' : annual.withdraw_pct_orig,\n",
    "                'Stocks' : annual.portfolio_stocks,\n",
    "                'Bonds' : annual.portfolio_bonds,\n",
    "            })\n",
    "\n",
    "\n",
    "    cashflows = []\n",
    "    returns = []\n",
    "    debug = []\n",
    "\n",
    "\n",
    "    # Initial withdrawal at start of retirement\n",
    "    annual = w.send(None)\n",
    "    add_debug_log(annual)\n",
    "    \n",
    "    cashflows.append(annual.withdraw_pct_orig)\n",
    "    \n",
    "    for i in dataset:\n",
    "        annual = w.send(i)\n",
    "        add_debug_log(annual)\n",
    "\n",
    "        returns.append(annual.returns)\n",
    "        cashflows.append(annual.withdraw_pct_orig)\n",
    "\n",
    "    if debug_cashflows:\n",
    "        pandas.DataFrame(data=debug).to_csv('WERCOMP-cashflows-%s.csv' % strategy.__name__)\n",
    "\n",
    "    w = wer(cashflows, returns)\n",
    "    h = hreff(cashflows, returns, floor=D(hreff_floor)/100)\n",
    "    return (w, h, returns)"
   ]
  },
  {
   "cell_type": "code",
   "execution_count": null,
   "metadata": {
    "collapsed": false,
    "deletable": true,
    "editable": true
   },
   "outputs": [],
   "source": [
    "def new_calc(strategies, returns):\n",
    "    wer_df = pandas.DataFrame(index=numpy.arange(0, 1), columns=[s.__name__ for s in strategies])\n",
    "    hreff_df = pandas.DataFrame(index=numpy.arange(0, 1), columns=[s.__name__ for s in strategies])\n",
    "    returns_df = pandas.DataFrame(index=numpy.arange(0, 1), columns=[i for i in range(60)])\n",
    "\n",
    "    pairs = zip(strategies, itertools.tee(returns, len(strategies)))\n",
    "\n",
    "    for (s, r) in pairs:\n",
    "        (wer, hreff, returns) = run_one_new(r, s)\n",
    "        wer_df.loc[0][s.__name__] = wer\n",
    "        hreff_df.loc[0][s.__name__] = hreff\n",
    "\n",
    "        returns_df.loc[0] = returns + [None for _ in range(60-30)]\n",
    "            \n",
    "    return (wer_df, hreff_df, returns_df)"
   ]
  },
  {
   "cell_type": "code",
   "execution_count": null,
   "metadata": {
    "collapsed": false
   },
   "outputs": [],
   "source": [
    "m = market.Returns_US_1871()\n",
    "retirement = [m.random_year() for x in range(30)]"
   ]
  },
  {
   "cell_type": "code",
   "execution_count": null,
   "metadata": {
    "collapsed": false,
    "deletable": true,
    "editable": true
   },
   "outputs": [],
   "source": [
    "strategies = [\n",
    "    harvesting.N_60_RebalanceHarvesting,\n",
    "#    harvesting.N_100_RebalanceHarvesting,\n",
    "    harvesting.PrimeHarvesting,\n",
    "#    harvesting.AltPrimeHarvesting,\n",
    "    harvesting.BondsFirst,\n",
    "#    harvesting.OmegaNot,\n",
    "#    harvesting.Weiss,\n",
    "#    harvesting.AgeBased_100,\n",
    "#    harvesting.AgeBased_110,\n",
    "#    harvesting.AgeBased_120,\n",
    "#    harvesting.Glidepath,\n",
    "    harvesting.ActuarialHarvesting,\n",
    "]\n",
    "\n",
    "wer_df, hreff_df, returns_df = new_calc(strategies, retirement)"
   ]
  },
  {
   "cell_type": "code",
   "execution_count": null,
   "metadata": {
    "collapsed": false,
    "deletable": true,
    "editable": true,
    "scrolled": true
   },
   "outputs": [],
   "source": [
    "d = [(col, series.mean()) for (col, series) in wer_df.iteritems()]\n",
    "series = pandas.Series(dict(d))\n",
    "\n",
    "series.sort_values(inplace=True)\n",
    "series.plot(kind='bar', title='WER')\n",
    "#print(series)"
   ]
  },
  {
   "cell_type": "code",
   "execution_count": null,
   "metadata": {
    "collapsed": false,
    "deletable": true,
    "editable": true
   },
   "outputs": [],
   "source": [
    "d = [(col, series.mean()) for (col, series) in hreff_df.iteritems()]\n",
    "series = pandas.Series(dict(d))\n",
    "\n",
    "series.sort_values(inplace=True)\n",
    "series.plot(kind='bar', title='HREFF')"
   ]
  },
  {
   "cell_type": "code",
   "execution_count": null,
   "metadata": {
    "collapsed": true,
    "deletable": true,
    "editable": true
   },
   "outputs": [],
   "source": []
  }
 ],
 "metadata": {
  "anaconda-cloud": {},
  "kernelspec": {
   "display_name": "Python 3",
   "language": "python",
   "name": "python3"
  },
  "language_info": {
   "codemirror_mode": {
    "name": "ipython",
    "version": 3
   },
   "file_extension": ".py",
   "mimetype": "text/x-python",
   "name": "python",
   "nbconvert_exporter": "python",
   "pygments_lexer": "ipython3",
   "version": "3.5.3"
  }
 },
 "nbformat": 4,
 "nbformat_minor": 0
}
