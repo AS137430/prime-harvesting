{
 "cells": [
  {
   "cell_type": "code",
   "execution_count": null,
   "metadata": {},
   "outputs": [],
   "source": [
    "%matplotlib inline\n",
    "import market\n",
    "import metrics\n",
    "\n",
    "from decimal import Decimal\n",
    "import pandas\n",
    "import seaborn"
   ]
  },
  {
   "cell_type": "code",
   "execution_count": null,
   "metadata": {},
   "outputs": [],
   "source": [
    "m = market.Returns_US_1871()\n",
    "years = 18\n",
    "start_year = 1970\n",
    "last_year = 2018-years\n",
    "\n",
    "def run(stock_pct, final=0):\n",
    "    swrs = pandas.Series()\n",
    "    for _ in range(last_year - start_year + 2):\n",
    "        returns = []\n",
    "        for one_year in zip(range(years), m.iter_from(start_year + _)):\n",
    "            annual_returns = one_year[1]\n",
    "            stocks = ((1+annual_returns.stocks) / (1+annual_returns.inflation)) - 1\n",
    "            bonds = ((1+annual_returns.bonds) / (1+annual_returns.inflation)) - 1\n",
    "            returns.append((stocks * stock_pct) + (bonds * (1-stock_pct)))\n",
    "        swr = float(metrics.pwa(100, final, returns))\n",
    "        swrs.loc[start_year+_] = swr\n",
    "    return swrs\n",
    "\n",
    "six_swr = run(Decimal('.6'))\n",
    "six_pwr = run(Decimal('.6'), final=100)\n",
    "\n",
    "g = seaborn.relplot(\n",
    "    data=pandas.DataFrame({'SWR' : six_swr, 'PWR' : six_pwr}),\n",
    "    kind='line',\n",
    "    aspect=2,\n",
    "    )\n",
    "g.fig.autofmt_xdate()\n",
    "g.despine(left=True, bottom=True, offset=20)\n",
    "g.fig.suptitle('SWR vs PWR (60/40 portfolio)')"
   ]
  },
  {
   "cell_type": "code",
   "execution_count": null,
   "metadata": {},
   "outputs": [],
   "source": [
    "six_swr.sort_values().head()"
   ]
  },
  {
   "cell_type": "code",
   "execution_count": null,
   "metadata": {},
   "outputs": [],
   "source": [
    "six_pwr.sort_values().head()"
   ]
  },
  {
   "cell_type": "code",
   "execution_count": null,
   "metadata": {},
   "outputs": [],
   "source": [
    "import scipy.stats\n",
    "import simulate\n",
    "import harvesting\n",
    "import withdrawal"
   ]
  },
  {
   "cell_type": "code",
   "execution_count": null,
   "metadata": {},
   "outputs": [],
   "source": [
    "scipy.stats.percentileofscore(six_pwr, 2.5)"
   ]
  },
  {
   "cell_type": "code",
   "execution_count": null,
   "metadata": {},
   "outputs": [],
   "source": [
    "portfolio = (600000,400000)    \n",
    "s = simulate.withdrawals(m.iter_from(1971),\n",
    "                             withdraw=lambda p, s: withdrawal.ConstantDollar(p, s, rate=Decimal('0.025')),\n",
    "                             years=18,\n",
    "                             portfolio=portfolio,\n",
    "                             harvesting=harvesting.make_rebalancer(0.6))\n",
    "df = pandas.DataFrame({\n",
    "    '60_40' : [x.portfolio_post.value_r for x in s],\n",
    "})\n",
    "g = seaborn.relplot(\n",
    "        data=df,\n",
    "        aspect=2,\n",
    "    )\n",
    "g.fig.autofmt_xdate()\n",
    "g.despine(left=True, bottom=True, offset=20)"
   ]
  },
  {
   "cell_type": "code",
   "execution_count": null,
   "metadata": {},
   "outputs": [],
   "source": [
    "df['60_40'].sort_values().head()"
   ]
  },
  {
   "cell_type": "code",
   "execution_count": null,
   "metadata": {},
   "outputs": [],
   "source": []
  }
 ],
 "metadata": {
  "anaconda-cloud": {},
  "kernelspec": {
   "display_name": "Python 3",
   "language": "python",
   "name": "python3"
  },
  "language_info": {
   "codemirror_mode": {
    "name": "ipython",
    "version": 3
   },
   "file_extension": ".py",
   "mimetype": "text/x-python",
   "name": "python",
   "nbconvert_exporter": "python",
   "pygments_lexer": "ipython3"
  }
 },
 "nbformat": 4,
 "nbformat_minor": 2
}
