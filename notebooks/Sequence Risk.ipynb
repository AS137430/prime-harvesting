{
 "cells": [
  {
   "cell_type": "code",
   "execution_count": null,
   "metadata": {
    "deletable": true,
    "editable": true
   },
   "outputs": [],
   "source": [
    "%matplotlib inline\n",
    "import plot\n",
    "import market\n",
    "import metrics\n",
    "from decimal import Decimal"
   ]
  },
  {
   "cell_type": "code",
   "execution_count": null,
   "metadata": {
    "deletable": true,
    "editable": true
   },
   "outputs": [],
   "source": [
    "m = market.Returns_US_1871()\n",
    "years = 30\n",
    "start_year = 1871\n",
    "last_year = 2015-years\n",
    "\n",
    "def run(stock_pct):\n",
    "    swrs = {}\n",
    "    for _ in range(last_year - start_year + 1):\n",
    "        returns = []\n",
    "#        if start_year + _ in (1965,1966,1967,1968,1969,1970,1971,1972,1973): continue\n",
    "        for one_year in zip(range(years), m.iter_from(start_year + _)):\n",
    "            annual_returns = one_year[1]\n",
    "            stocks = annual_returns.stocks - annual_returns.inflation\n",
    "            bonds = annual_returns.bonds - annual_returns.inflation\n",
    "            returns.append((stocks * stock_pct) + (bonds * (1-stock_pct)))\n",
    "        swrs[start_year + _] = float(metrics.ssr(returns))\n",
    "    return swrs\n",
    "\n",
    "mswr = run(Decimal(.6))"
   ]
  },
  {
   "cell_type": "code",
   "execution_count": null,
   "metadata": {
    "deletable": true,
    "editable": true
   },
   "outputs": [],
   "source": [
    "plot.plot([mswr[i] for i in mswr], y_label='30 year safe withdrawal rate', add_commas=False)"
   ]
  },
  {
   "cell_type": "code",
   "execution_count": null,
   "metadata": {
    "deletable": true,
    "editable": true
   },
   "outputs": [],
   "source": [
    "plot.seaborn.distplot([mswr[i] for i in mswr])"
   ]
  },
  {
   "cell_type": "code",
   "execution_count": null,
   "metadata": {
    "deletable": true,
    "editable": true
   },
   "outputs": [],
   "source": [
    "import pandas\n",
    "import scipy.stats\n",
    "pds = pandas.Series([mswr[i] for i in mswr])\n",
    "\n",
    "scipy.stats.percentileofscore(pds, .05)\n",
    "pds.quantile(.05)"
   ]
  },
  {
   "cell_type": "code",
   "execution_count": null,
   "metadata": {
    "deletable": true,
    "editable": true
   },
   "outputs": [],
   "source": [
    "under45 = {k:v for k,v in mswr.items() if v <.045 }\n",
    "s = pandas.Series()\n",
    "for k,v in under45.items():\n",
    "    s.loc[k] = v\n",
    "print(s.head())\n",
    "#s.to_csv('under45.csv')"
   ]
  },
  {
   "cell_type": "code",
   "execution_count": null,
   "metadata": {
    "deletable": true,
    "editable": true
   },
   "outputs": [],
   "source": [
    "import metrics\n",
    "\n",
    "def get_inflation(year, length=15):\n",
    "    a = list(zip(range(length), m.iter_from(year)))\n",
    "    inflations = [x[1].inflation for x in a]\n",
    "    return metrics.average(inflations)\n",
    "\n",
    "inflation = {}\n",
    "for _ in range(last_year - start_year + 1):\n",
    "    year = start_year + _\n",
    "    inflation[year] = get_inflation(year)"
   ]
  },
  {
   "cell_type": "code",
   "execution_count": null,
   "metadata": {
    "deletable": true,
    "editable": true
   },
   "outputs": [],
   "source": [
    "plot.plot_n({'MSWR' : [mswr[i] for i in sorted(mswr.keys())], 'Inflation' : [inflation[i] for i in sorted(inflation.keys())]},\n",
    "           xlabel='Year', title='MSWR vs Inflation', add_commas=False)"
   ]
  },
  {
   "cell_type": "code",
   "execution_count": null,
   "metadata": {
    "deletable": true,
    "editable": true
   },
   "outputs": [],
   "source": [
    "cor_frame = pandas.DataFrame({'MSWR' : [mswr[i] for i in sorted(mswr.keys())], 'Inflation' : [inflation[i] for i in sorted(inflation.keys())]})\n",
    "from statsmodels.formula.api import ols\n",
    "model = ols(\"MSWR ~ Inflation\", cor_frame).fit()\n",
    "print(model.summary())"
   ]
  },
  {
   "cell_type": "code",
   "execution_count": null,
   "metadata": {
    "deletable": true,
    "editable": true
   },
   "outputs": [],
   "source": [
    "plot.seaborn.regplot(x='Inflation', y='MSWR', data=cor_frame)"
   ]
  },
  {
   "cell_type": "code",
   "execution_count": null,
   "metadata": {
    "deletable": true,
    "editable": true
   },
   "outputs": [],
   "source": [
    "from statsmodels.formula.api import ols\n",
    "\n",
    "def get_stocks(year, length=5):\n",
    "    a = list(zip(range(length), m.iter_from(year)))\n",
    "    stocks = [float(x[1].stocks) for x in a]\n",
    "    return scipy.stats.gmean([x+1 for x in stocks]) - 1\n",
    "\n",
    "def make_model(length):\n",
    "    stocks = {}\n",
    "    for _ in range(last_year - start_year + 1):\n",
    "        year = start_year + _\n",
    "        stocks[year] = get_stocks(year, length=length)\n",
    "    cor_frame = pandas.DataFrame({'MSWR' : [mswr[i] for i in sorted(mswr.keys())], 'EquityReturns' : [stocks[i] for i in sorted(stocks.keys())]})\n",
    "    model = ols(\"MSWR ~ EquityReturns\", cor_frame).fit()\n",
    "    return model\n",
    "\n",
    "equity_check = pandas.Series()\n",
    "\n",
    "for i in range(5):\n",
    "    equity_check.loc[i] = make_model(i+1).rsquared\n",
    "\n",
    "plot.seaborn.tsplot(equity_check)\n",
    "#plot.seaborn.regplot(x='EquityReturns', y='MSWR', data=cor_frame)"
   ]
  },
  {
   "cell_type": "code",
   "execution_count": null,
   "metadata": {
    "deletable": true,
    "editable": true
   },
   "outputs": [],
   "source": [
    "from statsmodels.formula.api import ols\n",
    "\n",
    "def make_model(length):\n",
    "    stocks = {}\n",
    "    for _ in range(last_year - start_year + 1):\n",
    "        year = start_year + _\n",
    "        stocks[year] = get_inflation(year, length=length)\n",
    "    cor_frame = pandas.DataFrame({'MSWR' : [mswr[i] for i in sorted(mswr.keys())], 'EquityReturns' : [stocks[i] for i in sorted(stocks.keys())]})\n",
    "    model = ols(\"MSWR ~ EquityReturns\", cor_frame).fit()\n",
    "    return model\n",
    "\n",
    "equity_check = pandas.Series()\n",
    "\n",
    "for i in range(30):\n",
    "    equity_check.loc[i] = make_model(i+1).rsquared\n",
    "\n",
    "plot.seaborn.tsplot(equity_check)\n",
    "#plot.seaborn.regplot(x='EquityReturns', y='MSWR', data=cor_frame)"
   ]
  },
  {
   "cell_type": "code",
   "execution_count": null,
   "metadata": {
    "deletable": true,
    "editable": true
   },
   "outputs": [],
   "source": [
    "from statsmodels.formula.api import ols\n",
    "\n",
    "def get_stocks(year, length=5):\n",
    "    a = list(zip(range(length), m.iter_from(year)))\n",
    "    stocks = [float(x[1].bonds) - float(x[1].inflation) for x in a]\n",
    "    return scipy.stats.gmean([x+1 for x in stocks]) - 1\n",
    "\n",
    "def make_model(length):\n",
    "    stocks = {}\n",
    "    for _ in range(last_year - start_year + 1):\n",
    "        year = start_year + _\n",
    "        stocks[year] = get_stocks(year, length=length)\n",
    "    cor_frame = pandas.DataFrame({'MSWR' : [mswr[i] for i in sorted(mswr.keys())], 'EquityReturns' : [stocks[i] for i in sorted(stocks.keys())]})\n",
    "    model = ols(\"MSWR ~ EquityReturns\", cor_frame).fit()\n",
    "    return model\n",
    "\n",
    "equity_check = pandas.Series()\n",
    "\n",
    "for i in range(30):\n",
    "    equity_check.loc[i] = make_model(i+1).rsquared\n",
    "\n",
    "print(equity_check)\n",
    "plot.seaborn.tsplot(equity_check)\n",
    "#plot.seaborn.regplot(x='EquityReturns', y='MSWR', data=cor_frame)"
   ]
  },
  {
   "cell_type": "code",
   "execution_count": null,
   "metadata": {
    "deletable": true,
    "editable": true
   },
   "outputs": [],
   "source": []
  }
 ],
 "metadata": {
  "anaconda-cloud": {},
  "kernelspec": {
   "display_name": "Python [default]",
   "language": "python",
   "name": "python3"
  },
  "language_info": {
   "codemirror_mode": {
    "name": "ipython",
    "version": 3
   },
   "file_extension": ".py",
   "mimetype": "text/x-python",
   "name": "python",
   "nbconvert_exporter": "python",
   "pygments_lexer": "ipython3"
  }
 },
 "nbformat": 4,
 "nbformat_minor": 0
}
