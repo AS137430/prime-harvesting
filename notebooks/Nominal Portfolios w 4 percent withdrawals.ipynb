{
 "cells": [
  {
   "cell_type": "code",
   "execution_count": null,
   "metadata": {},
   "outputs": [],
   "source": [
    "%matplotlib inline\n",
    "from pprint import pprint\n",
    "\n",
    "import plot\n",
    "import simulate\n",
    "import harvesting\n",
    "import market\n",
    "import withdrawal\n",
    "import metrics\n",
    "\n",
    "from decimal import Decimal\n",
    "\n",
    "import itertools\n",
    "import math\n",
    "import pandas\n",
    "import scipy.stats"
   ]
  },
  {
   "cell_type": "code",
   "execution_count": null,
   "metadata": {},
   "outputs": [],
   "source": [
    "YEARS = 30\n",
    "\n",
    "df = pandas.DataFrame(index=range(1, YEARS+1))\n",
    "\n",
    "MARKET = market.Returns_US_1871()\n",
    "for i in range(MARKET.start_year, 2017-YEARS):\n",
    "    s = simulate.withdrawals(MARKET.iter_from(i), years=YEARS, harvesting=harvesting.N_35_RebalanceHarvesting, withdraw=lambda p, h: withdrawal.ConstantDollar(p, h, Decimal('.02')))\n",
    "    pvs = [int(n.portfolio_n) for n in s]\n",
    "    df[i] = pvs"
   ]
  },
  {
   "cell_type": "code",
   "execution_count": null,
   "metadata": {},
   "outputs": [],
   "source": [
    "count = 0\n",
    "for i in range(MARKET.start_year, 2017-YEARS):\n",
    "    if df.T[1][i] > df.T[10][i]:\n",
    "        print(i, df.T[10][i])\n",
    "        count += 1\n",
    "print(count)"
   ]
  },
  {
   "cell_type": "code",
   "execution_count": null,
   "metadata": {},
   "outputs": [],
   "source": [
    "data = df.T[16]\n",
    "y2k_port = data[2000]\n",
    "\n",
    "fig, ax1 = plot.plt.subplots()\n",
    "plot.format_axis_labels_with_commas(ax1.get_yaxis())\n",
    "ax1.plot([1871, 2000], [y2k_port, y2k_port])\n",
    "plot.plt.xlabel('Year of retirement')\n",
    "plot.plt.ylabel('Real $$$')\n",
    "plot.plt.title('Portfolio value after 16 years')\n",
    "graph = plot.seaborn.tsplot(data, time=data.index)"
   ]
  },
  {
   "cell_type": "code",
   "execution_count": null,
   "metadata": {},
   "outputs": [],
   "source": []
  }
 ],
 "metadata": {
  "kernelspec": {
   "display_name": "Python 3",
   "language": "python",
   "name": "python3"
  },
  "language_info": {
   "codemirror_mode": {
    "name": "ipython",
    "version": 3
   },
   "file_extension": ".py",
   "mimetype": "text/x-python",
   "name": "python",
   "nbconvert_exporter": "python",
   "pygments_lexer": "ipython3"
  }
 },
 "nbformat": 4,
 "nbformat_minor": 2
}
