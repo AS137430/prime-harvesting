{
 "cells": [
  {
   "cell_type": "code",
   "execution_count": null,
   "metadata": {
    "deletable": true,
    "editable": true
   },
   "outputs": [],
   "source": [
    "%matplotlib inline\n",
    "from pprint import pprint\n",
    "\n",
    "import plot\n",
    "from simulate import simulate_withdrawals\n",
    "import harvesting\n",
    "import market\n",
    "import withdrawal\n",
    "import metrics\n",
    "\n",
    "from decimal import Decimal\n",
    "\n",
    "import itertools\n",
    "import math\n",
    "import pandas"
   ]
  },
  {
   "cell_type": "code",
   "execution_count": null,
   "metadata": {
    "deletable": true,
    "editable": true
   },
   "outputs": [],
   "source": [
    "YEARS = 25"
   ]
  },
  {
   "cell_type": "code",
   "execution_count": null,
   "metadata": {
    "deletable": true,
    "editable": true
   },
   "outputs": [],
   "source": [
    "def run_comparison(series):\n",
    "    (r1, r2) = itertools.tee(series)\n",
    "    p1 = (1214000 * .6, 1214000 * .4)\n",
    "    p2 = (2459000, 0)\n",
    "    \n",
    "    sim1 = simulate_withdrawals(r1, years=YEARS, harvesting=harvesting.N_60_RebalanceHarvesting, withdraw=withdrawal.VPW, portfolio=p1)\n",
    "    sim2 = simulate_withdrawals(r2, years=YEARS, harvesting=harvesting.N_100_RebalanceHarvesting, withdraw=withdrawal.VPW, portfolio=p2)\n",
    "\n",
    "    s1 = [n.withdraw_r for n in sim1]\n",
    "    s2 = [n.withdraw_r for n in sim2]\n",
    "    \n",
    "    return (s1, s2)"
   ]
  },
  {
   "cell_type": "code",
   "execution_count": null,
   "metadata": {
    "deletable": true,
    "editable": true
   },
   "outputs": [],
   "source": [
    "#MARKET = market.Returns_US_1871()\n",
    "#MARKET = market.PortfolioCharts_1927(market.PortfolioCharts_1927.Weights(LCB=.8, SCV=.2))\n",
    "MARKET = market.Japan_1957()\n",
    "\n",
    "RETIRE_YEAR = 1990\n",
    "s1, s2, = run_comparison(MARKET.iter_from(RETIRE_YEAR))\n",
    "print(\"60/40\", int(metrics.cew(s1)))\n",
    "print(\"100/0\", int(metrics.cew(s2)))\n",
    "plot.plot_n({'60/40' : s1, '100/0': s2}, 'Year', '%d Retirement' % RETIRE_YEAR)"
   ]
  },
  {
   "cell_type": "code",
   "execution_count": null,
   "metadata": {
    "deletable": true,
    "editable": true
   },
   "outputs": [],
   "source": [
    "incomes_60 = []\n",
    "incomes_100 = []\n",
    "\n",
    "for i in range(MARKET.start_year, 2016-YEARS):\n",
    "    s1, s2 = run_comparison(MARKET.iter_from(i))\n",
    "    incomes_60 += [int(n) for n in s1]\n",
    "    incomes_100 += [int(n) for n in s2]\n",
    "    \n",
    "incomes_60 = pandas.Series(data=incomes_60)\n",
    "incomes_100 = pandas.Series(data=incomes_100)\n",
    "diff = incomes_100 - incomes_60\n",
    "print('60', incomes_60.quantile(.01))\n",
    "print('100', incomes_100.quantile(.01))\n",
    "\n",
    "df = pandas.DataFrame(data={'60/40' : incomes_60, '100/0' : incomes_100, 'Delta' : diff})"
   ]
  },
  {
   "cell_type": "code",
   "execution_count": null,
   "metadata": {
    "deletable": true,
    "editable": true
   },
   "outputs": [],
   "source": [
    "def index_to_year(n):\n",
    "    year_of_retirement = n//YEARS + 1871\n",
    "    year_of_income = n%YEARS + year_of_retirement\n",
    "    return \"%d/%d\" % (year_of_retirement, year_of_income)\n",
    "\n",
    "df['Income date'] = df.index.map(index_to_year)\n",
    "df.head()"
   ]
  },
  {
   "cell_type": "code",
   "execution_count": null,
   "metadata": {
    "deletable": true,
    "editable": true
   },
   "outputs": [],
   "source": [
    "low_income = df.loc[(df['60/40'] < 40000) | (df['100/0'] < 40000)]\n",
    "\n",
    "win_100 = low_income.sort_values('Delta', ascending=False)\n",
    "win_60 = low_income.sort_values('Delta', ascending=True)\n",
    "\n",
    "print(win_60.head())"
   ]
  },
  {
   "cell_type": "code",
   "execution_count": null,
   "metadata": {},
   "outputs": [],
   "source": []
  }
 ],
 "metadata": {
  "anaconda-cloud": {},
  "kernelspec": {
   "display_name": "Python 3",
   "language": "python",
   "name": "python3"
  },
  "language_info": {
   "codemirror_mode": {
    "name": "ipython",
    "version": 3
   },
   "file_extension": ".py",
   "mimetype": "text/x-python",
   "name": "python",
   "nbconvert_exporter": "python",
   "pygments_lexer": "ipython3"
  }
 },
 "nbformat": 4,
 "nbformat_minor": 2
}
