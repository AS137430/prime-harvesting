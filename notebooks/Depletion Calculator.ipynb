{
 "cells": [
  {
   "cell_type": "code",
   "execution_count": null,
   "metadata": {},
   "outputs": [],
   "source": [
    "%matplotlib inline\n",
    "from pprint import pprint\n",
    "\n",
    "import plot\n",
    "from simulate import simulate_withdrawals\n",
    "import harvesting\n",
    "import market\n",
    "import withdrawal\n",
    "import metrics\n",
    "\n",
    "from decimal import Decimal\n",
    "\n",
    "import itertools\n",
    "import math\n",
    "import pandas\n",
    "import scipy.stats"
   ]
  },
  {
   "cell_type": "code",
   "execution_count": null,
   "metadata": {},
   "outputs": [],
   "source": [
    "YEARS = 30"
   ]
  },
  {
   "cell_type": "code",
   "execution_count": null,
   "metadata": {},
   "outputs": [],
   "source": [
    "df = pandas.DataFrame(index=range(1, YEARS+1))"
   ]
  },
  {
   "cell_type": "code",
   "execution_count": null,
   "metadata": {},
   "outputs": [],
   "source": [
    "MARKET = market.Returns_US_1871()\n",
    "for i in range(MARKET.start_year, 2017-YEARS):\n",
    "    r = MARKET.iter_from(i)\n",
    "    h = harvesting.N_60_RebalanceHarvesting\n",
    "    w = lambda p, h: withdrawal.ConstantDollar(p, h, rate=Decimal('0.04'))\n",
    "    results = simulate_withdrawals(r, years=YEARS, harvesting=h, withdraw=w)\n",
    "    \n",
    "    balances = [int(n.portfolio_n) for n in results]\n",
    "    df[i] = balances"
   ]
  },
  {
   "cell_type": "code",
   "execution_count": null,
   "metadata": {},
   "outputs": [],
   "source": [
    "t = df.T"
   ]
  },
  {
   "cell_type": "code",
   "execution_count": null,
   "metadata": {},
   "outputs": [],
   "source": [
    "a = []\n",
    "for i in range(1, YEARS+1):\n",
    "    amt = 1000000\n",
    "    percentile = scipy.stats.percentileofscore(t[i], amt)\n",
    "    a.append(100 - percentile)\n",
    "s = pandas.Series(data=a)\n",
    "s.plot()"
   ]
  },
  {
   "cell_type": "code",
   "execution_count": null,
   "metadata": {},
   "outputs": [],
   "source": [
    "LENGTH = 20\n",
    "df.apply(lambda x: scipy.stats.linregress(df.index[0:LENGTH], x[0:LENGTH])[0] / 1000000)[lambda x: x<0]"
   ]
  },
  {
   "cell_type": "code",
   "execution_count": null,
   "metadata": {},
   "outputs": [],
   "source": [
    "import numpy\n",
    "plot.seaborn.regplot(numpy.arange(LENGTH), df[1911][0:LENGTH])"
   ]
  },
  {
   "cell_type": "code",
   "execution_count": null,
   "metadata": {},
   "outputs": [],
   "source": []
  }
 ],
 "metadata": {
  "anaconda-cloud": {},
  "kernelspec": {
   "display_name": "Python 3",
   "language": "python",
   "name": "python3"
  },
  "language_info": {
   "codemirror_mode": {
    "name": "ipython",
    "version": 3
   },
   "file_extension": ".py",
   "mimetype": "text/x-python",
   "name": "python",
   "nbconvert_exporter": "python",
   "pygments_lexer": "ipython3"
  }
 },
 "nbformat": 4,
 "nbformat_minor": 2
}
