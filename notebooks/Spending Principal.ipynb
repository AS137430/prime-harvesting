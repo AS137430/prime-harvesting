{
 "cells": [
  {
   "cell_type": "code",
   "execution_count": null,
   "metadata": {},
   "outputs": [],
   "source": [
    "%matplotlib inline\n",
    "import plot\n",
    "import market\n",
    "import metrics\n",
    "from decimal import Decimal\n",
    "import pandas"
   ]
  },
  {
   "cell_type": "code",
   "execution_count": null,
   "metadata": {},
   "outputs": [],
   "source": [
    "m = market.Returns_US_1871()\n",
    "last_year = 2017\n",
    "first_year = 1997\n",
    "\n",
    "stock_pct = Decimal('0.6')\n",
    "bond_pct = Decimal('0.4')\n",
    "\n",
    "for start_year in range(first_year, last_year-3):\n",
    "    returns = []\n",
    "    inflation = 1\n",
    "\n",
    "    for one_year in zip(range(last_year - start_year), m.iter_from(start_year)):\n",
    "        annual_returns = one_year[1]\n",
    "        stocks = annual_returns.stocks\n",
    "        bonds = annual_returns.bonds\n",
    "        inflation *= (1 + annual_returns.inflation)\n",
    "        returns.append((stocks * stock_pct) + (bonds * (1-stock_pct)))\n",
    "\n",
    "        pwa = float(metrics.pwa(100, 100 * inflation, returns))\n",
    "    withdraw = int(pwa * 1000000 / 100000) * 1000\n",
    "    print(start_year, '%.1f' % pwa, \"${:,}\".format(withdraw))\n"
   ]
  },
  {
   "cell_type": "code",
   "execution_count": null,
   "metadata": {},
   "outputs": [],
   "source": []
  }
 ],
 "metadata": {
  "kernelspec": {
   "display_name": "Python 3",
   "language": "python",
   "name": "python3"
  },
  "language_info": {
   "codemirror_mode": {
    "name": "ipython",
    "version": 3
   },
   "file_extension": ".py",
   "mimetype": "text/x-python",
   "name": "python",
   "nbconvert_exporter": "python",
   "pygments_lexer": "ipython3"
  }
 },
 "nbformat": 4,
 "nbformat_minor": 2
}
