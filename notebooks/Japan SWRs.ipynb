{
 "cells": [
  {
   "cell_type": "code",
   "execution_count": null,
   "metadata": {},
   "outputs": [],
   "source": [
    "%matplotlib inline\n",
    "\n",
    "import pandas\n",
    "\n",
    "import metrics\n",
    "import plot\n",
    "import market\n",
    "from simulate import simulate_withdrawals\n",
    "import withdrawal\n",
    "import harvesting\n",
    "\n",
    "from decimal import Decimal"
   ]
  },
  {
   "cell_type": "code",
   "execution_count": null,
   "metadata": {},
   "outputs": [],
   "source": [
    "m = market.Japan_1957()\n",
    "years = 25\n",
    "start_year = 1957\n",
    "last_year = 2016-years\n",
    "\n",
    "def run(stock_pct):\n",
    "    swrs = pandas.Series()\n",
    "    for _ in range(last_year - start_year + 1):\n",
    "        returns = []\n",
    "        for one_year in zip(range(years), m.iter_from(start_year + _)):\n",
    "            annual_returns = one_year[1]\n",
    "            stocks = annual_returns.stocks - annual_returns.inflation\n",
    "            bonds = annual_returns.bonds - annual_returns.inflation\n",
    "            returns.append((stocks * stock_pct) + (bonds * (1-stock_pct)))\n",
    "        swr = float(metrics.ssr(returns))\n",
    "        swrs.loc[start_year+_] = swr\n",
    "    return swrs\n",
    "\n",
    "plot.plot_n({\n",
    "#    '0/100' : run(Decimal(0)),\n",
    "#    '20/80' : run(Decimal(.2)),\n",
    "#    '40/60' : run(Decimal(.4)),\n",
    "    '50/50' : run(Decimal(.5)),\n",
    "#    '60/40' : run(Decimal(.6)),\n",
    "#    '80/20' : run(Decimal(.8)),\n",
    "#    '100/0' : run(Decimal(1)),    \n",
    "}, '', 'Safe Withdrawal Rate by Year (%s-%s)' % (start_year, last_year), add_commas=False)\n"
   ]
  },
  {
   "cell_type": "code",
   "execution_count": null,
   "metadata": {},
   "outputs": [],
   "source": [
    "run(Decimal(.5)).loc[1991]*100"
   ]
  },
  {
   "cell_type": "code",
   "execution_count": null,
   "metadata": {},
   "outputs": [],
   "source": [
    "length = 25\n",
    "year = 1990\n",
    "vpw = simulate_withdrawals(m.iter_from(year), withdraw=withdrawal.VPW, harvesting=harvesting.make_rebalancer(.5), years=length)\n",
    "ecm = simulate_withdrawals(m.iter_from(year), withdraw=withdrawal.ECM, harvesting=harvesting.PrimeHarvesting, years=length)\n",
    "plot.seaborn.tsplot([float(n.withdraw_r) for n in vpw], color='green', legend=True, condition='VPW')\n",
    "#plot.seaborn.tsplot([float(n.withdraw_r) for n in ecm], color='red', legend=True, condition='ECM')"
   ]
  },
  {
   "cell_type": "code",
   "execution_count": null,
   "metadata": {},
   "outputs": [],
   "source": []
  }
 ],
 "metadata": {
  "anaconda-cloud": {},
  "kernelspec": {
   "display_name": "Python 3",
   "language": "python",
   "name": "python3"
  },
  "language_info": {
   "codemirror_mode": {
    "name": "ipython",
    "version": 3
   },
   "file_extension": ".py",
   "mimetype": "text/x-python",
   "name": "python",
   "nbconvert_exporter": "python",
   "pygments_lexer": "ipython3"
  }
 },
 "nbformat": 4,
 "nbformat_minor": 2
}
