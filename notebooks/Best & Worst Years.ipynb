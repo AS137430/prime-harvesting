{
 "cells": [
  {
   "cell_type": "code",
   "execution_count": null,
   "metadata": {
    "deletable": true,
    "editable": true
   },
   "outputs": [],
   "source": [
    "%matplotlib inline\n",
    "import plot\n",
    "import market\n",
    "import metrics\n",
    "from decimal import Decimal\n",
    "import pandas\n",
    "import harvesting\n",
    "import withdrawal\n",
    "import simulate"
   ]
  },
  {
   "cell_type": "code",
   "execution_count": null,
   "metadata": {
    "deletable": true,
    "editable": true
   },
   "outputs": [],
   "source": [
    "series = market.UK1900()\n",
    "years = 30\n",
    "start_year = 1900\n",
    "last_year = 2016 - years\n",
    "h = harvesting.N_60_RebalanceHarvesting\n",
    "w = withdrawal.VPW\n",
    "lens = lambda x: round(x.withdraw_r)\n",
    "\n",
    "data = {}\n",
    "for year in range(start_year, last_year):\n",
    "    x = simulate.withdrawals(series.iter_from(year),\n",
    "                                 withdraw=w,\n",
    "                                 years=years,\n",
    "                                 portfolio=(600000, 400000),\n",
    "                                 harvesting=h)\n",
    "    income = metrics.cew([lens(_) for _ in x])\n",
    "    data[year] = income\n",
    "    \n",
    "pds = pandas.Series(data=data)\n",
    "pds.sort_values(inplace=True)\n",
    "pds"
   ]
  },
  {
   "cell_type": "code",
   "execution_count": null,
   "metadata": {
    "deletable": true,
    "editable": true
   },
   "outputs": [],
   "source": []
  }
 ],
 "metadata": {
  "anaconda-cloud": {},
  "kernelspec": {
   "display_name": "Python 3",
   "language": "python",
   "name": "python3"
  },
  "language_info": {
   "codemirror_mode": {
    "name": "ipython",
    "version": 3
   },
   "file_extension": ".py",
   "mimetype": "text/x-python",
   "name": "python",
   "nbconvert_exporter": "python",
   "pygments_lexer": "ipython3"
  }
 },
 "nbformat": 4,
 "nbformat_minor": 2
}
