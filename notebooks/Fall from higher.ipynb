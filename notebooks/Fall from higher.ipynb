{
 "cells": [
  {
   "cell_type": "code",
   "execution_count": null,
   "metadata": {},
   "outputs": [],
   "source": [
    "%matplotlib inline\n",
    "import pandas\n",
    "import plot\n",
    "\n",
    "from datetime import date, timedelta"
   ]
  },
  {
   "cell_type": "code",
   "execution_count": null,
   "metadata": {},
   "outputs": [],
   "source": [
    "class Monthly_Returns_US_1871:\n",
    "    def __init__(self, wrap=False, equity_pct=.6):\n",
    "        self.dataframe = pandas.read_csv('shiller_monthly2.csv')\n",
    "        self.years_of_data = len(self.dataframe)\n",
    "        self.equity = equity_pct\n",
    "\n",
    "    def calculate_rolling_returns(self):\n",
    "        self.dataframe[[\"12 month TR\"]]\n",
    "        for row in self.dataframe.iterrows():\n",
    "            \n",
    "\n",
    "    def __iter__(self):\n",
    "        return self.iter_from(1871)\n",
    "    \n",
    "    def get_at(self, d):\n",
    "        year = d.year\n",
    "        month = d.month\n",
    "\n",
    "        start = (year * 12) - (1871 * 12)\n",
    "        start += month - 1\n",
    "        return self.dataframe.iloc[start]\n",
    "\n",
    "    def iter_from(self, year, length=None):\n",
    "        start = (year * 12) - (1871 * 12)\n",
    "        count = 0\n",
    "        for row in self.dataframe.iloc[start:].iterrows():\n",
    "            yield row\n",
    "            count += 1\n",
    "            if length != None and count >= length:\n",
    "                raise StopIteration\n"
   ]
  },
  {
   "cell_type": "markdown",
   "metadata": {},
   "source": [
    "The worst months were:\n",
    "* 1929.11: -26%\n",
    "* 1932.4 : -23%\n",
    "* 2008.1 : -20%\n",
    "* 1932.12: -17%\n",
    "* 1946.9 : -14%\n",
    "\n",
    "For each month if the return is positive: skip\n",
    "If the return is negative:\n",
    "  Figure out how many months back we need to go before our gains outweigh the drop\n",
    "  \n",
    "How do to do that?\n",
    "  forward = forward_tr + 1\n",
    "  \n",
    "  breakeven = forward * (this_month + 1)\n",
    "  if breakeven < 0:\n",
    "     month--"
   ]
  },
  {
   "cell_type": "code",
   "execution_count": null,
   "metadata": {},
   "outputs": [],
   "source": [
    "m = Monthly_Returns_US_1871()\n",
    "CHECK = '36 month TR'\n",
    "\n",
    "results = {}\n",
    "\n",
    "def previous_month(now):\n",
    "    last_of_prev = now - timedelta(days=1)\n",
    "    return last_of_prev.replace(day=1)\n",
    "\n",
    "def next_month(now):\n",
    "    (year, month) = divmod(now.month, 12)\n",
    "    return now.replace(year=now.year+year, month=month+1)\n",
    "\n",
    "now = date(1900, 1, 1)\n",
    "\n",
    "def make_key(now):\n",
    "    # return now\n",
    "    return int(now.strftime('%Y%m%d'))\n",
    "\n",
    "while now < date(2016, 1, 1):\n",
    "    row = m.get_at(now)\n",
    "    if row[CHECK] < 0:\n",
    "        tr = row[CHECK] + 1\n",
    "        count = 0\n",
    "        current_month = now\n",
    "        while (tr - 1) < 0:\n",
    "            count += 1\n",
    "            current_month = previous_month(current_month)\n",
    "            prev_tr = m.get_at(current_month)['MoM TR']\n",
    "            tr *= (prev_tr + 1)\n",
    "        results[make_key(now)] = count\n",
    "        #print(now, count)\n",
    "    else:\n",
    "        results[make_key(now)] = 0\n",
    "    \n",
    "    now = next_month(now)"
   ]
  },
  {
   "cell_type": "code",
   "execution_count": null,
   "metadata": {},
   "outputs": [],
   "source": [
    "pds = pandas.Series(results, name='Months of Gain Lost')\n",
    "print(pds.head())\n",
    "plot.seaborn.tsplot(data=[results[k] for k in sorted(results.keys())],\n",
    "                   time=[k for k in sorted(results.keys())])"
   ]
  },
  {
   "cell_type": "markdown",
   "metadata": {},
   "source": [
    "This isn't great. It is telling us how long we needed to be 100% in stocks before the crash to be equal to the 12-month returns after the crash.\n",
    "\n",
    "In other words, for August 1916 the number is 3. That's telling us that if we were 100% stocks for the 3 months *before* the crash, then those gains equal the losses during the 12 months *during and after the crash*.\n",
    "\n",
    "This isn't perfect because in the real world you wouldn't move everything to cash -- you'd move to something else that is earning money. And looking at just 12 months isn't necessarily the right thing either, but it at least gives us a starting point.\n",
    "\n",
    "So what this is really measuring is when going 100% stocks is better than not investing at all. i.e. \"As long as you had been 100% stocks for ~60 months before the 2000 crash you technically didn't lose any money\n",
    "\n",
    "(Actually, rerunning everything with 6 months looks worse.)\n",
    "\n",
    "What would be better? Compare it to a 50/50 allocation, maybe? How to get monthly bond returns?"
   ]
  },
  {
   "cell_type": "code",
   "execution_count": null,
   "metadata": {},
   "outputs": [],
   "source": [
    "d = date(1902, 6, 1)\n",
    "m.get_at(d)\n",
    "pds.sort_values(ascending=False)"
   ]
  },
  {
   "cell_type": "code",
   "execution_count": null,
   "metadata": {},
   "outputs": [],
   "source": []
  }
 ],
 "metadata": {
  "anaconda-cloud": {},
  "kernelspec": {
   "display_name": "Python [default]",
   "language": "python",
   "name": "python3"
  },
  "language_info": {
   "codemirror_mode": {
    "name": "ipython",
    "version": 3
   },
   "file_extension": ".py",
   "mimetype": "text/x-python",
   "name": "python",
   "nbconvert_exporter": "python",
   "pygments_lexer": "ipython3"
  }
 },
 "nbformat": 4,
 "nbformat_minor": 0
}
