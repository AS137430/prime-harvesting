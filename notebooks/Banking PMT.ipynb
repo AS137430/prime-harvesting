{
 "cells": [
  {
   "cell_type": "code",
   "execution_count": null,
   "metadata": {
    "deletable": true,
    "editable": true
   },
   "outputs": [],
   "source": [
    "%matplotlib inline\n",
    "from decimal import Decimal\n",
    "import itertools\n",
    "from pprint import pprint\n",
    "import math\n",
    "\n",
    "import pandas\n",
    "import seaborn\n",
    "from matplotlib import pyplot as plt\n",
    "plt.style.use('seaborn-poster')\n",
    "import numpy\n",
    "\n",
    "import metrics\n",
    "import simulate\n",
    "import harvesting\n",
    "import market\n",
    "import plot\n",
    "import mortality\n",
    "from plot import plt\n",
    "import withdrawal\n",
    "from portfolio import Portfolio\n",
    "import montecarlo"
   ]
  },
  {
   "cell_type": "code",
   "execution_count": null,
   "metadata": {
    "deletable": true,
    "editable": true
   },
   "outputs": [],
   "source": [
    "series = market.Returns_US_1871()\n",
    "START_YEAR=1871\n",
    "\n",
    "#series = market.Japan_1957()\n",
    "#START_YEAR=1957"
   ]
  },
  {
   "cell_type": "code",
   "execution_count": null,
   "metadata": {},
   "outputs": [],
   "source": [
    "def withdrawals(series,\n",
    "                strategy_pair,\n",
    "                portfolio=(600000, 400000),\n",
    "                years=40):\n",
    "    withdraw, harvesting = strategy_pair\n",
    "    portfolio = Portfolio(portfolio[0], portfolio[1])\n",
    "    strategy = harvesting(portfolio).harvest()\n",
    "    strategy.send(None)\n",
    "    withdrawal_strategy = withdraw(portfolio, strategy).withdrawals()\n",
    "    annual = []\n",
    "\n",
    "    # Withdrawals happen at the start of the year, so the first time\n",
    "    # we don't have any performance data to send them....\n",
    "    data = withdrawal_strategy.send(None)\n",
    "    annual.append(data)\n",
    "    years -= 1\n",
    "\n",
    "    for _, d in zip(range(years), series):\n",
    "        data = withdrawal_strategy.send(d)\n",
    "        annual.append(data)\n",
    "    return annual\n"
   ]
  },
  {
   "cell_type": "code",
   "execution_count": null,
   "metadata": {
    "deletable": true,
    "editable": true
   },
   "outputs": [],
   "source": [
    "def test_withdrawal_strategies(year, strategies_to_test, years=25):\n",
    "    results = {}\n",
    "    for strategy in strategies_to_test:\n",
    "        starting_portfolio = (600000,400000)\n",
    "\n",
    "        x = withdrawals(series.iter_from(year),\n",
    "                                 years=years,\n",
    "                                 strategy_pair=strategy,\n",
    "                                 portfolio=starting_portfolio)\n",
    "        name = strategy[0].__name__\n",
    "        results[name] = x\n",
    "    return results"
   ]
  },
  {
   "cell_type": "code",
   "execution_count": null,
   "metadata": {},
   "outputs": [],
   "source": [
    "def semideviation(frame, goal=40000):\n",
    "    values = frame[lambda s: s < goal]\n",
    "    if len(values) > 0:\n",
    "        sumvalues = sum(((goal - v) ** 2 for v in values))\n",
    "        average = sumvalues / len(values)\n",
    "        return math.sqrt(average)\n",
    "    else:\n",
    "        return 0"
   ]
  },
  {
   "cell_type": "code",
   "execution_count": null,
   "metadata": {},
   "outputs": [],
   "source": [
    "def median_cut(frame, goal=40000):\n",
    "    values = frame[lambda s: s < goal]\n",
    "    if len(values) > 0:\n",
    "        return values.apply(lambda s: s - goal).median()\n",
    "    else:\n",
    "        return 0"
   ]
  },
  {
   "cell_type": "code",
   "execution_count": null,
   "metadata": {},
   "outputs": [],
   "source": [
    "lens = lambda x: float(x.withdraw_r)"
   ]
  },
  {
   "cell_type": "code",
   "execution_count": null,
   "metadata": {},
   "outputs": [],
   "source": [
    "strategies_to_test = [\n",
    "    (withdrawal.VPW, harvesting.N_60_RebalanceHarvesting),\n",
    "    (withdrawal.VPWBank, harvesting.N_60_RebalanceHarvesting),\n",
    "]\n",
    "\n",
    "data = {\n",
    "    'VPW' : [],\n",
    "    'VPWBank' : []\n",
    "}"
   ]
  },
  {
   "cell_type": "code",
   "execution_count": null,
   "metadata": {
    "deletable": true,
    "editable": true
   },
   "outputs": [],
   "source": [
    "%pdb on\n",
    "\n",
    "for year in range(START_YEAR, 1985):\n",
    "    results = test_withdrawal_strategies(year, strategies_to_test, years=30)\n",
    "    for strategy in results.keys():\n",
    "        ws = [lens(n) for n in results[strategy]]\n",
    "        data[strategy] = data[strategy] + ws\n",
    "\n",
    "for strategy, values in data.items():\n",
    "    s = pandas.Series(values)\n",
    "    print('Semideviation', strategy, semideviation(s))\n",
    "    \n",
    "for strategy, values in data.items():\n",
    "    s = pandas.Series(values)\n",
    "    print('Stdev', strategy, s.std())\n",
    "    \n",
    "for strategy, values in data.items():\n",
    "    s = pandas.Series(values)\n",
    "    print('Median Cut', strategy, median_cut(s))"
   ]
  },
  {
   "cell_type": "code",
   "execution_count": null,
   "metadata": {},
   "outputs": [],
   "source": [
    "num_vpw_cuts = 0\n",
    "num_bank_cuts = 0\n",
    "for year in range(START_YEAR, 1985):\n",
    "    results = test_withdrawal_strategies(year, strategies_to_test, years=30)\n",
    "    \n",
    "    vpw_real_wd = pandas.Series([lens(n) for n in results['VPW']])\n",
    "    bank_real_wd = pandas.Series([lens(n) for n in results['VPWBank']])\n",
    "    vpw_cuts = len(vpw_real_wd[lambda s: s < 49000])\n",
    "    bank_cuts = len(bank_real_wd[lambda s: s < 49000])\n",
    "    if vpw_cuts != bank_cuts:\n",
    "#    if vpw_cuts or bank_cuts:\n",
    "        print(year, ':', 'VPW', vpw_cuts, 'Bank', bank_cuts)\n",
    "        \n",
    "    num_vpw_cuts += vpw_cuts\n",
    "    num_bank_cuts += bank_cuts\n",
    "            \n",
    "print('Num VPW Cuts', num_vpw_cuts)\n",
    "print('Num Bank Cuts', num_bank_cuts)"
   ]
  },
  {
   "cell_type": "code",
   "execution_count": null,
   "metadata": {
    "deletable": true,
    "editable": true
   },
   "outputs": [],
   "source": [
    "def compare_year(year, lens, title):\n",
    "    results = test_withdrawal_strategies(year, strategies_to_test, years=30)\n",
    "    \n",
    "    fig, ax = plt.subplots()\n",
    "\n",
    "    if '%' not in title:\n",
    "        plot.format_axis_labels_with_commas(ax.get_yaxis())\n",
    "\n",
    "    plt.xlabel('Year of Retirement')\n",
    "    plt.title('Retirement in Year %s (%s)' % (year, title))\n",
    "\n",
    "    for strategy in (sorted(results.keys())):\n",
    "        ax_n = fig.add_subplot(111, sharex=ax, sharey=ax)\n",
    "        ws = [lens(n) for n in results[strategy]]\n",
    "        ax_n.plot(ws, label=strategy)\n",
    "        ax_n.set_ymargin(0.05)\n",
    "    plt.legend(loc=0)\n",
    "    ax.set_ylim(bottom=0)\n",
    "    plt.show()"
   ]
  },
  {
   "cell_type": "code",
   "execution_count": null,
   "metadata": {
    "deletable": true,
    "editable": true
   },
   "outputs": [],
   "source": [
    "def chart_all(year):\n",
    "#    compare_year(year, lambda x: x.portfolio_stocks/x.portfolio_n*100, \"Stock %\")\n",
    "#    compare_year(year, lambda x: x.portfolio_n, \"Portfolio (Nominal)\")\n",
    "#    compare_year(year, lambda x: x.portfolio_r, \"Portfolio (Real)\")\n",
    "#    compare_year(year, lambda x: x.withdraw_n, \"Withdrawals (Nominal)\")\n",
    "    compare_year(year, lambda x: x.withdraw_r, \"Withdrawals (Real)\")"
   ]
  },
  {
   "cell_type": "code",
   "execution_count": null,
   "metadata": {
    "deletable": true,
    "editable": true
   },
   "outputs": [],
   "source": [
    "chart_all(1897)"
   ]
  },
  {
   "cell_type": "code",
   "execution_count": null,
   "metadata": {},
   "outputs": [],
   "source": []
  }
 ],
 "metadata": {
  "anaconda-cloud": {},
  "kernelspec": {
   "display_name": "Python [default]",
   "language": "python",
   "name": "python3"
  },
  "language_info": {
   "codemirror_mode": {
    "name": "ipython",
    "version": 3
   },
   "file_extension": ".py",
   "mimetype": "text/x-python",
   "name": "python",
   "nbconvert_exporter": "python",
   "pygments_lexer": "ipython3"
  }
 },
 "nbformat": 4,
 "nbformat_minor": 2
}
