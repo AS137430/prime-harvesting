{
 "cells": [
  {
   "cell_type": "code",
   "execution_count": null,
   "metadata": {},
   "outputs": [],
   "source": [
    "%matplotlib inline\n",
    "from decimal import Decimal\n",
    "import market\n",
    "import harvesting\n",
    "import withdrawal\n",
    "import accumulation\n",
    "import simulate\n",
    "import plot\n",
    "\n",
    "rebalancing_r = []\n",
    "prime_r = []\n",
    "\n",
    "for year in range(1871, 2016 - 35):\n",
    "    x = simulate.simulate_accumulation(market.Returns_US_1871().iter_from(year), accumulation=accumulation.N_60_RebalanceAccumulation)\n",
    "    rebalancing_r.append(x[-1].portfolio_r)\n",
    "    \n",
    "    x = simulate.simulate_accumulation(market.Returns_US_1871().iter_from(year), accumulation=accumulation.PrimeAccumulation)\n",
    "    prime_r.append(x[-1].portfolio_r)\n",
    "\n",
    "plot.plot_two(prime_r, rebalancing_r, s1_title='Prime Final Portfolio Value (real $)', s2_title='60/40 Rebalancing Portfolio Value (real $)', x_label='Year', title='Prime vs Rebalancing Accumulation', y_lim=(int(min(0, min(prime_r + rebalancing_r))), int(max(prime_r + rebalancing_r))))"
   ]
  },
  {
   "cell_type": "code",
   "execution_count": null,
   "metadata": {},
   "outputs": [],
   "source": [
    "for year, (p, r) in enumerate(zip(prime_r, rebalancing_r), 1871):\n",
    "    if p < r:\n",
    "        print('Year {} prime underperformed: {:.2}%'.format(year, 100 - p * 100 / r))"
   ]
  },
  {
   "cell_type": "code",
   "execution_count": null,
   "metadata": {},
   "outputs": [],
   "source": [
    "total = 1\n",
    "for p, r in zip(prime_r, rebalancing_r):\n",
    "    total *= p - r\n",
    "print('Prime vs Rebalancing geomean: ${}'.format(total ** (Decimal('1.0') / len(prime_r))))"
   ]
  },
  {
   "cell_type": "code",
   "execution_count": null,
   "metadata": {},
   "outputs": [],
   "source": []
  }
 ],
 "metadata": {
  "kernelspec": {
   "display_name": "Python 3",
   "language": "python",
   "name": "python3"
  },
  "language_info": {
   "codemirror_mode": {
    "name": "ipython",
    "version": 3
   },
   "file_extension": ".py",
   "mimetype": "text/x-python",
   "name": "python",
   "nbconvert_exporter": "python",
   "pygments_lexer": "ipython3"
  }
 },
 "nbformat": 4,
 "nbformat_minor": 0
}
