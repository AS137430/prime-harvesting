{
 "cells": [
  {
   "cell_type": "code",
   "execution_count": null,
   "metadata": {},
   "outputs": [],
   "source": [
    "%matplotlib inline\n",
    "from decimal import Decimal\n",
    "import itertools\n",
    "from pprint import pprint\n",
    "\n",
    "import common\n",
    "import simulate\n",
    "import plot\n",
    "import market\n",
    "import harvesting\n",
    "import adt\n",
    "\n",
    "from matplotlib import pyplot as plt\n",
    "import matplotlib"
   ]
  },
  {
   "cell_type": "code",
   "execution_count": null,
   "metadata": {},
   "outputs": [],
   "source": [
    "def compare_for(year, length=40):\n",
    "    common.compare_prime_vs_rebalancing(market.Returns_US_1871().iter_from(year), title='Annual income for %d retiree' % year, years=length)\n",
    "\n",
    "def stocks_time(year, length=40):\n",
    "    x = simulate.withdrawals(market.Returns_US_1871().iter_from(year), years=length)\n",
    "    stock_pct = [n.portfolio_stocks / n.portfolio_n * 100 for n in x]\n",
    "    plot.plot(stock_pct, y_label='Stock %', x_label='Year of retirement', title='%d retiree: stock percentage' % year)"
   ]
  },
  {
   "cell_type": "code",
   "execution_count": null,
   "metadata": {},
   "outputs": [],
   "source": [
    "stocks_time(1910, length=40)"
   ]
  },
  {
   "cell_type": "code",
   "execution_count": null,
   "metadata": {},
   "outputs": [],
   "source": [
    "compare_for(1950)"
   ]
  },
  {
   "cell_type": "code",
   "execution_count": null,
   "metadata": {},
   "outputs": [],
   "source": [
    "data_series = market.Returns_US_1871()\n",
    "\n",
    "diff = []\n",
    "\n",
    "for i in range(data_series.years_of_data):\n",
    "    year = i + 1871\n",
    "    YEARS = 30\n",
    "    p = (600000,400000)\n",
    "\n",
    "    (s1, s2) = itertools.tee(data_series.iter_from(year))\n",
    "    x = simulate.withdrawals(s1, years=YEARS, portfolio=p)\n",
    "    y = simulate.withdrawals(s2, years=YEARS, harvesting=harvesting.N_60_RebalanceHarvesting, portfolio=p)\n",
    "    \n",
    "    prime_income = sum([n.withdraw_r for n in x])\n",
    "    rebalance_income = sum([n.withdraw_r for n in y])\n",
    "    \n",
    "    diff.append((prime_income - rebalance_income, year))\n",
    "\n",
    "plt.subplot(111).yaxis.set_major_formatter(\n",
    "    matplotlib.ticker.FuncFormatter(lambda x, p: format(int(x), ',')))\n",
    "\n",
    "#pprint(sorted(diff))\n",
    "plt.ylabel('Additional lifetime income ($)')\n",
    "plt.xlabel('Year of Retirement')\n",
    "plt.title('Lifetime income: Prime Harvesting vs. Annual Rebalancing')\n",
    "plt.plot(range(1871, 1871 + len(diff)), diff)"
   ]
  },
  {
   "cell_type": "code",
   "execution_count": null,
   "metadata": {},
   "outputs": [],
   "source": [
    "def r():\n",
    "    yield adt.AnnualChange(year=1, stocks=Decimal('.08'), bonds=Decimal('.02'), inflation=Decimal('0'))\n",
    "    yield adt.AnnualChange(year=2, stocks=Decimal('.08'), bonds=Decimal('.02'), inflation=Decimal('0'))\n",
    "    yield adt.AnnualChange(year=3, stocks=Decimal('-.3'), bonds=Decimal('.02'), inflation=Decimal('0'))\n",
    "    yield adt.AnnualChange(year=4, stocks=Decimal('0'), bonds=Decimal('.02'), inflation=Decimal('0'))\n",
    "    for i in range(3):\n",
    "        yield adt.AnnualChange(year=5, stocks=Decimal('.06'), bonds=Decimal('.02'), inflation=Decimal('0'))\n",
    "    for i in range(1):\n",
    "        yield adt.AnnualChange(year=6, stocks=Decimal('.10'), bonds=Decimal('.02'), inflation=Decimal('0'))\n",
    "\n",
    "common.compare_prime_vs_rebalancing(itertools.cycle(r()), title='Repeated -30% Equities')"
   ]
  },
  {
   "cell_type": "code",
   "execution_count": null,
   "metadata": {},
   "outputs": [],
   "source": [
    "common.compare_prime_vs_rebalancing(market.zirp_returns(), title='ZIRPageddon')"
   ]
  },
  {
   "cell_type": "code",
   "execution_count": null,
   "metadata": {},
   "outputs": [],
   "source": []
  }
 ],
 "metadata": {
  "anaconda-cloud": {},
  "kernelspec": {
   "display_name": "Python [default]",
   "language": "python",
   "name": "python3"
  },
  "language_info": {
   "codemirror_mode": {
    "name": "ipython",
    "version": 3
   },
   "file_extension": ".py",
   "mimetype": "text/x-python",
   "name": "python",
   "nbconvert_exporter": "python",
   "pygments_lexer": "ipython3"
  }
 },
 "nbformat": 4,
 "nbformat_minor": 1
}
