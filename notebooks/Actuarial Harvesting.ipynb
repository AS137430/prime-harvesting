{
 "cells": [
  {
   "cell_type": "code",
   "execution_count": null,
   "metadata": {
    "deletable": true,
    "editable": true
   },
   "outputs": [],
   "source": [
    "%matplotlib inline\n",
    "from decimal import Decimal\n",
    "import itertools\n",
    "from pprint import pprint\n",
    "\n",
    "import common\n",
    "import simulate\n",
    "import plot\n",
    "import market\n",
    "import harvesting\n",
    "import adt\n",
    "from portfolio import Portfolio\n",
    "\n",
    "from matplotlib import pyplot as plt\n",
    "import matplotlib\n",
    "\n",
    "%pdb on"
   ]
  },
  {
   "cell_type": "code",
   "execution_count": null,
   "metadata": {
    "deletable": true,
    "editable": true
   },
   "outputs": [],
   "source": [
    "def compare_for(year, length=40):\n",
    "    common.compare_prime_vs_rebalancing(market.Returns_US_1871().iter_from(year), title='Annual income for %d retiree' % year, years=length)\n",
    "\n",
    "def stocks_time(year, length=40):\n",
    "    x = simulate.withdrawals(market.Returns_US_1871().iter_from(year), years=length, harvesting=harvesting.ActuarialHarvesting)\n",
    "    stock_pct = [n.portfolio_stocks / n.portfolio_n * 100 for n in x]\n",
    "    plot.plot(stock_pct, y_label='Stock %', x_label='Year of retirement', title='%d retiree: stock percentage' % year)"
   ]
  },
  {
   "cell_type": "code",
   "execution_count": null,
   "metadata": {
    "deletable": true,
    "editable": true
   },
   "outputs": [],
   "source": [
    "stocks_time(1950, length=40)"
   ]
  },
  {
   "cell_type": "code",
   "execution_count": null,
   "metadata": {
    "deletable": true,
    "editable": true
   },
   "outputs": [],
   "source": []
  }
 ],
 "metadata": {
  "anaconda-cloud": {},
  "kernelspec": {
   "display_name": "Python [default]",
   "language": "python",
   "name": "python3"
  },
  "language_info": {
   "codemirror_mode": {
    "name": "ipython",
    "version": 3
   },
   "file_extension": ".py",
   "mimetype": "text/x-python",
   "name": "python",
   "nbconvert_exporter": "python",
   "pygments_lexer": "ipython3"
  }
 },
 "nbformat": 4,
 "nbformat_minor": 0
}
