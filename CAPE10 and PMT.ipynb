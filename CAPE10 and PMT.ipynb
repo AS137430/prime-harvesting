{
 "cells": [
  {
   "cell_type": "code",
   "execution_count": null,
   "metadata": {},
   "outputs": [],
   "source": [
    "%matplotlib inline\n",
    "from pprint import pprint\n",
    "from decimal import Decimal\n",
    "import itertools\n",
    "import metrics\n",
    "import pandas\n",
    "\n",
    "import simulate\n",
    "import harvesting\n",
    "import market\n",
    "import withdrawal\n",
    "import numpy"
   ]
  },
  {
   "cell_type": "code",
   "execution_count": null,
   "metadata": {},
   "outputs": [],
   "source": [
    "import seaborn\n",
    "from matplotlib import pyplot as plt\n",
    "import matplotlib\n",
    "seaborn.set(style=\"whitegrid\")\n",
    "seaborn.set_context('poster')"
   ]
  },
  {
   "cell_type": "code",
   "execution_count": null,
   "metadata": {},
   "outputs": [],
   "source": [
    "series = market.Returns_US_1871()"
   ]
  },
  {
   "cell_type": "code",
   "execution_count": null,
   "metadata": {},
   "outputs": [],
   "source": [
    "TYPE = 'Withdrawal (Real)'\n",
    "m = {'Withdrawal (Nominal)': lambda x: float(x.withdraw_n),\n",
    "     'Withdrawal (Real)' : lambda x: float(x.withdraw_r),\n",
    "     'Portfolio (Nominal)': lambda x: float(x.portfolio_n),\n",
    "     'Portfolio (Real)': lambda x: float(x.portfolio_r),\n",
    "}\n",
    "lens = m[TYPE]\n",
    "lens.__label__ = TYPE\n",
    "\n",
    "def fn(x):\n",
    "    return [lens(_) for _ in x]"
   ]
  },
  {
   "cell_type": "code",
   "execution_count": null,
   "metadata": {},
   "outputs": [],
   "source": [
    "VPW_YEARS=40\n",
    "\n",
    "def run_sim(year, key, length=30):\n",
    "    w = {\n",
    "        'raw' : lambda p, s: withdrawal.VPW(p, s, years_left=VPW_YEARS),\n",
    "        'cape10' : lambda p, s: withdrawal.CAPE10Smoothing(year, withdrawal.VPW(p, s, years_left=VPW_YEARS)),\n",
    "    }\n",
    "\n",
    "    portfolio = (500000,500000)\n",
    "    harvest_strategy = harvesting.make_rebalancer(0.5)\n",
    "    \n",
    "    return simulate.withdrawals(series.iter_from(year),\n",
    "                                 withdraw=w[key],\n",
    "                                 years=length,\n",
    "                                 portfolio=portfolio,\n",
    "                                 harvesting=harvest_strategy)"
   ]
  },
  {
   "cell_type": "code",
   "execution_count": null,
   "metadata": {},
   "outputs": [],
   "source": [
    "def chart_one(year):\n",
    "    pmt = run_sim(year, 'raw')\n",
    "    cape10 = run_sim(year, 'cape10')\n",
    "    \n",
    "    df = pandas.DataFrame({\n",
    "        'pmt' : [lens(x) for x in pmt],\n",
    "        'cape' : [lens(x) for x in cape10],\n",
    "    })\n",
    "    g = seaborn.relplot(\n",
    "            data=df,\n",
    "            kind='line',\n",
    "            aspect=2,\n",
    "        )\n",
    "    g.fig.autofmt_xdate()\n",
    "    g.despine(left=True, bottom=True, offset=20)\n",
    "    g.fig.suptitle(f'Retirement in {year}')\n",
    "    return g"
   ]
  },
  {
   "cell_type": "code",
   "execution_count": null,
   "metadata": {},
   "outputs": [],
   "source": [
    "chart_one(1980)"
   ]
  },
  {
   "cell_type": "code",
   "execution_count": null,
   "metadata": {},
   "outputs": [],
   "source": [
    "def run_all():\n",
    "    length = 30\n",
    "    \n",
    "    all = pandas.DataFrame(index=range(1881, 2018-length+1), columns=['pmt', 'cape'])\n",
    "    \n",
    "    for i in range(1881, 2018-length+1):\n",
    "        pmt = run_sim(i, 'raw', length=length)\n",
    "        cape10 = run_sim(i, 'cape10', length=length)\n",
    "        \n",
    "        df = pandas.DataFrame({\n",
    "            'pmt' : [lens(x) for x in pmt],\n",
    "            'cape' : [lens(x) for x in cape10]\n",
    "        })\n",
    "        \n",
    "        all.loc[i]['pmt'] = df['pmt'].std()\n",
    "        all.loc[i]['cape'] = df['cape'].std()\n",
    "\n",
    "        return all"
   ]
  },
  {
   "cell_type": "code",
   "execution_count": null,
   "metadata": {},
   "outputs": [],
   "source": [
    "df = run_all()\n",
    "df.head()"
   ]
  },
  {
   "cell_type": "code",
   "execution_count": null,
   "metadata": {},
   "outputs": [],
   "source": [
    "g = seaborn.relplot(\n",
    "        data=df,\n",
    "#        kind='line',\n",
    "        aspect=2,\n",
    "    )\n",
    "g.fig.autofmt_xdate()\n",
    "g.despine(left=True, bottom=True, offset=20)\n",
    "g.fig.suptitle(f'stdev of retirement income')"
   ]
  },
  {
   "cell_type": "code",
   "execution_count": null,
   "metadata": {},
   "outputs": [],
   "source": [
    "df.mean()"
   ]
  },
  {
   "cell_type": "code",
   "execution_count": null,
   "metadata": {},
   "outputs": [],
   "source": [
    "df.median()"
   ]
  },
  {
   "cell_type": "code",
   "execution_count": null,
   "metadata": {},
   "outputs": [],
   "source": [
    "chart_one(1900)"
   ]
  },
  {
   "cell_type": "code",
   "execution_count": null,
   "metadata": {},
   "outputs": [],
   "source": [
    "len(df[df['cape'] < df['pmt']])"
   ]
  },
  {
   "cell_type": "code",
   "execution_count": null,
   "metadata": {},
   "outputs": [],
   "source": [
    "def run_all():\n",
    "    length = 5\n",
    "    \n",
    "    all = pandas.DataFrame(index=range(1881, 2018-length+1), columns=['pmt', 'cape'])\n",
    "    \n",
    "    for i in range(1881, 2018-length+1):\n",
    "        pmt = run_sim(i, 'raw', length=length)\n",
    "        cape10 = run_sim(i, 'cape10', length=length)\n",
    "        \n",
    "        df = pandas.DataFrame({\n",
    "            'pmt' : [lens(x) for x in pmt],\n",
    "            'cape' : [lens(x) for x in cape10]\n",
    "        })\n",
    "        \n",
    "        all.loc[i]['pmt'] = metrics.ulcer(df['pmt'][0:5])\n",
    "        all.loc[i]['cape'] = metrics.ulcer(df['cape'][0:5])\n",
    "        \n",
    "    return all"
   ]
  },
  {
   "cell_type": "code",
   "execution_count": null,
   "metadata": {},
   "outputs": [],
   "source": [
    "df = run_all()"
   ]
  },
  {
   "cell_type": "code",
   "execution_count": null,
   "metadata": {},
   "outputs": [],
   "source": [
    "g = seaborn.relplot(\n",
    "        data=df,\n",
    "#        kind='line',\n",
    "        aspect=3,\n",
    "    )\n",
    "g.fig.autofmt_xdate()\n",
    "g.despine(left=True, bottom=True, offset=20)\n",
    "g.fig.suptitle(f'Ulcer Index of Income (First 5 years)')"
   ]
  },
  {
   "cell_type": "code",
   "execution_count": null,
   "metadata": {},
   "outputs": [],
   "source": [
    "(df['cape'] - df['pmt']).sort_values(ascending=False).head()"
   ]
  },
  {
   "cell_type": "code",
   "execution_count": null,
   "metadata": {},
   "outputs": [],
   "source": [
    "u = df['cape'] - df['pmt']\n",
    "u[u > 0].mean()"
   ]
  },
  {
   "cell_type": "code",
   "execution_count": null,
   "metadata": {},
   "outputs": [],
   "source": [
    "def run_all():\n",
    "    length = 15\n",
    "    \n",
    "    all = pandas.DataFrame(index=range(1881, 2018-length+1), columns=['pmt', 'cape'])\n",
    "    \n",
    "    for i in range(1881, 2018-length+1):\n",
    "        pmt = run_sim(i, 'raw', length=length)\n",
    "        cape10 = run_sim(i, 'cape10', length=length)\n",
    "        \n",
    "        df = pandas.DataFrame({\n",
    "            'pmt' : [lens(x) for x in pmt],\n",
    "            'cape' : [lens(x) for x in cape10]\n",
    "        })\n",
    "        \n",
    "        all.loc[i]['pmt'] = Decimal(df['pmt'][0]) / metrics.cew(df['pmt'].apply(Decimal))\n",
    "        all.loc[i]['cape'] = Decimal(df['cape'][0]) / metrics.cew(df['cape'].apply(Decimal))\n",
    "        \n",
    "    return all"
   ]
  },
  {
   "cell_type": "code",
   "execution_count": null,
   "metadata": {},
   "outputs": [],
   "source": [
    "df = run_all()"
   ]
  },
  {
   "cell_type": "code",
   "execution_count": null,
   "metadata": {},
   "outputs": [],
   "source": [
    "df['cape'].sort_values(ascending=False).head()"
   ]
  },
  {
   "cell_type": "code",
   "execution_count": null,
   "metadata": {},
   "outputs": [],
   "source": [
    "df['pmt'].sort_values(ascending=False).head()"
   ]
  },
  {
   "cell_type": "code",
   "execution_count": null,
   "metadata": {},
   "outputs": [],
   "source": [
    "chart_one(1966)"
   ]
  },
  {
   "cell_type": "code",
   "execution_count": null,
   "metadata": {},
   "outputs": [],
   "source": [
    "chart_one(1966)"
   ]
  },
  {
   "cell_type": "code",
   "execution_count": null,
   "metadata": {},
   "outputs": [],
   "source": [
    "df.median()"
   ]
  },
  {
   "cell_type": "code",
   "execution_count": null,
   "metadata": {},
   "outputs": [],
   "source": [
    "df.mean()"
   ]
  },
  {
   "cell_type": "code",
   "execution_count": null,
   "metadata": {},
   "outputs": [],
   "source": [
    "cape10_csv = pandas.read_csv('1871_returns.csv', usecols=['Year', 'CAPE10'], index_col='Year')"
   ]
  },
  {
   "cell_type": "code",
   "execution_count": null,
   "metadata": {},
   "outputs": [],
   "source": [
    "df['CAPE10'] = cape10_csv['CAPE10']"
   ]
  },
  {
   "cell_type": "code",
   "execution_count": null,
   "metadata": {},
   "outputs": [],
   "source": [
    "df.sort_values(by='CAPE10', ascending=False).head()"
   ]
  },
  {
   "cell_type": "code",
   "execution_count": null,
   "metadata": {},
   "outputs": [],
   "source": [
    "df.loc[1998]"
   ]
  },
  {
   "cell_type": "code",
   "execution_count": null,
   "metadata": {},
   "outputs": [],
   "source": [
    "chart_one(1998)"
   ]
  },
  {
   "cell_type": "code",
   "execution_count": null,
   "metadata": {},
   "outputs": [],
   "source": []
  }
 ],
 "metadata": {
  "kernelspec": {
   "display_name": "Python 3",
   "language": "python",
   "name": "python3"
  },
  "language_info": {
   "codemirror_mode": {
    "name": "ipython",
    "version": 3
   },
   "file_extension": ".py",
   "mimetype": "text/x-python",
   "name": "python",
   "nbconvert_exporter": "python",
   "pygments_lexer": "ipython3"
  }
 },
 "nbformat": 4,
 "nbformat_minor": 2
}
