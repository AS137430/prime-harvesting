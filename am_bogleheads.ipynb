{
 "cells": [
  {
   "cell_type": "markdown",
   "metadata": {},
   "source": [
    "# https://www.bogleheads.org/forum/viewtopic.php?p=4837326#p4837326"
   ]
  },
  {
   "cell_type": "code",
   "execution_count": null,
   "metadata": {},
   "outputs": [],
   "source": [
    "%matplotlib inline\n",
    "import plot\n",
    "import market\n",
    "import metrics\n",
    "from decimal import Decimal\n",
    "import pandas\n",
    "import simulate\n",
    "import withdrawal\n",
    "import harvesting\n",
    "import seaborn\n",
    "import math"
   ]
  },
  {
   "cell_type": "code",
   "execution_count": null,
   "metadata": {},
   "outputs": [],
   "source": [
    "class am_bogleheads(withdrawal.WithdrawalStrategy):\n",
    "    def __init__(self, portfolio, harvest):\n",
    "        super().__init__(portfolio, harvest)\n",
    "        self.floor = self.portfolio.value * Decimal('0.03')\n",
    "\n",
    "    def start(self):\n",
    "        return self.portfolio.value * Decimal('.05')\n",
    "\n",
    "    def next(self):\n",
    "        adjusted_floor = self.floor * self.portfolio.inflation\n",
    "        return max(adjusted_floor, self.portfolio.value * Decimal('.05'))\n"
   ]
  },
  {
   "cell_type": "code",
   "execution_count": null,
   "metadata": {},
   "outputs": [],
   "source": [
    "series = market.Returns_US_1871()"
   ]
  },
  {
   "cell_type": "code",
   "execution_count": null,
   "metadata": {},
   "outputs": [],
   "source": [
    "TYPE = 'Withdrawal (Real)'\n",
    "m = {'Withdrawal (Nominal)': lambda x: float(x.withdraw_n),\n",
    "     'Withdrawal (Real)' : lambda x: float(x.withdraw_r),\n",
    "     'Portfolio (Nominal)': lambda x: float(x.portfolio_n),\n",
    "     'Portfolio (Real)': lambda x: float(x.portfolio_r),\n",
    "     'Withdrawal Percent': lambda x: float(x.withdraw_pct_cur)\n",
    "}\n",
    "lens = m[TYPE]\n",
    "lens.__label__ = TYPE\n",
    "\n",
    "def fn(x):\n",
    "    return [lens(_) for _ in x]\n"
   ]
  },
  {
   "cell_type": "code",
   "execution_count": null,
   "metadata": {},
   "outputs": [],
   "source": [
    "year = 1966\n",
    "\n",
    "w = {\n",
    "    'vpw': lambda p,h: withdrawal.VPW(p, h, years_left=45),\n",
    "    'am': am_bogleheads,\n",
    "    '5%': withdrawal.ConstantPercentage,\n",
    "}\n",
    "\n",
    "def run_sim(year, key, length=15):\n",
    "    portfolio = (600_000, 400_000)\n",
    "    harvest_strategy = harvesting.make_rebalancer(0.6)\n",
    "    \n",
    "    return simulate.withdrawals(series.iter_from(year),\n",
    "                                 withdraw=w[key],\n",
    "                                 years=length,\n",
    "                                 portfolio=portfolio,\n",
    "                                 harvesting=harvest_strategy)\n"
   ]
  },
  {
   "cell_type": "code",
   "execution_count": null,
   "metadata": {},
   "outputs": [],
   "source": [
    "def blanchett_smile(age, target=40_000):\n",
    "    \"\"\" This returns the real annual change in consumption at a given age.\n",
    "    From Blanchett's \"Estimating the True Cost of Retirement\" (2013)\n",
    "    \"\"\"\n",
    "    spend = (0.00008 * age * age) - (0.0125 * age) - (0.0066 * math.log(target)) + 0.546\n",
    "    return spend\n",
    "\n",
    "def spending():\n",
    "    s = []\n",
    "    spend = 80_000\n",
    "    for i in range(65,95):\n",
    "        delta = blanchett_smile(i, target=80_000)\n",
    "        spend *= (1 + delta)\n",
    "        s.append(spend)\n",
    "    return s"
   ]
  },
  {
   "cell_type": "code",
   "execution_count": null,
   "metadata": {},
   "outputs": [],
   "source": [
    "df = pandas.DataFrame({\n",
    "    'vpw' : [lens(x) for x in run_sim(year, 'vpw')],\n",
    "    'am' : [lens(x) for x in run_sim(year, 'am')],\n",
    "#    'spending' : spending(),\n",
    "})\n",
    "g = seaborn.relplot(\n",
    "        data=df,\n",
    "        kind='line',\n",
    "        aspect=2,\n",
    "    )\n",
    "#g.fig.autofmt_xdate()\n",
    "g.despine(left=True, bottom=True, offset=20)\n",
    "g.fig.suptitle(f'Retirement in {year}')"
   ]
  },
  {
   "cell_type": "code",
   "execution_count": null,
   "metadata": {},
   "outputs": [],
   "source": [
    "df[df['am'] > df['vpw']]"
   ]
  },
  {
   "cell_type": "code",
   "execution_count": null,
   "metadata": {},
   "outputs": [],
   "source": [
    "a = df[df['am'] > df['vpw']]"
   ]
  },
  {
   "cell_type": "code",
   "execution_count": null,
   "metadata": {},
   "outputs": [],
   "source": [
    "a['am'] / a['vpw']"
   ]
  },
  {
   "cell_type": "code",
   "execution_count": null,
   "metadata": {},
   "outputs": [],
   "source": [
    "all_s = {}\n",
    "for strategy in ['vpw', 'am']:\n",
    "    s = pandas.Series()\n",
    "    for year in range(1871, 2018-15):\n",
    "        withdraws = fn(run_sim(year, strategy))\n",
    "        new_s = pandas.Series(withdraws)\n",
    "        s = s.append(new_s, ignore_index=True)\n",
    "    all_s[strategy] = s\n",
    "df = pandas.DataFrame(all_s)\n",
    "df.head()"
   ]
  },
  {
   "cell_type": "code",
   "execution_count": null,
   "metadata": {},
   "outputs": [],
   "source": [
    "df.mean()"
   ]
  },
  {
   "cell_type": "code",
   "execution_count": null,
   "metadata": {},
   "outputs": [],
   "source": [
    "df.median()"
   ]
  },
  {
   "cell_type": "code",
   "execution_count": null,
   "metadata": {},
   "outputs": [],
   "source": [
    "metrics.cew([Decimal(d) for d in df['vpw']])"
   ]
  },
  {
   "cell_type": "code",
   "execution_count": null,
   "metadata": {},
   "outputs": [],
   "source": [
    "metrics.cew([Decimal(d) for d in df['am']])"
   ]
  },
  {
   "cell_type": "code",
   "execution_count": null,
   "metadata": {},
   "outputs": [],
   "source": []
  }
 ],
 "metadata": {
  "kernelspec": {
   "display_name": "Python 3",
   "language": "python",
   "name": "python3"
  },
  "language_info": {
   "codemirror_mode": {
    "name": "ipython",
    "version": 3
   },
   "file_extension": ".py",
   "mimetype": "text/x-python",
   "name": "python",
   "nbconvert_exporter": "python",
   "pygments_lexer": "ipython3"
  }
 },
 "nbformat": 4,
 "nbformat_minor": 4
}
