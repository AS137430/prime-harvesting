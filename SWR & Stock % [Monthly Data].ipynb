{
 "cells": [
  {
   "cell_type": "code",
   "execution_count": null,
   "metadata": {
    "deletable": true,
    "editable": true
   },
   "outputs": [],
   "source": [
    "%matplotlib inline\n",
    "import plot\n",
    "import market\n",
    "import metrics\n",
    "from decimal import Decimal\n",
    "import datetime\n",
    "from dateutil.relativedelta import relativedelta"
   ]
  },
  {
   "cell_type": "code",
   "execution_count": null,
   "metadata": {
    "deletable": true,
    "editable": true
   },
   "outputs": [],
   "source": [
    "m = market.US_1871_Monthly()\n",
    "months = 1 * 12\n",
    "start_year = datetime.date(1871, 1, 1)\n",
    "print(start_year + relativedelta(months=1))"
   ]
  },
  {
   "cell_type": "code",
   "execution_count": null,
   "metadata": {
    "deletable": true,
    "editable": true
   },
   "outputs": [],
   "source": [
    "start_year = 1966\n",
    "length = 30\n",
    "last_year = 1966\n",
    "\n",
    "start_date = datetime.date(start_year, 1, 1)\n",
    "last_date = datetime.date(last_year, 12, 1)\n",
    "\n",
    "def run(stock_pct):\n",
    "    swrs = []\n",
    "    date = start_date\n",
    "    while date <= last_date:\n",
    "        returns = []\n",
    "        for annual_returns in m.iter_from(date, length=length*12):\n",
    "            stocks = annual_returns.stocks - annual_returns.inflation\n",
    "            bonds = annual_returns.bonds - annual_returns.inflation\n",
    "            returns.append((stocks * stock_pct) + (bonds * (1-stock_pct)))\n",
    "\n",
    "        monthly_swr = float(metrics.ssr(returns))\n",
    "        annual_swr = ((1 + monthly_swr) ** 12) - 1\n",
    "        swrs.append(annual_swr)\n",
    "        \n",
    "        date += relativedelta(months=1)\n",
    "        \n",
    "    return swrs\n",
    "\n",
    "run(Decimal('.6'))"
   ]
  },
  {
   "cell_type": "code",
   "execution_count": null,
   "metadata": {
    "deletable": true,
    "editable": true
   },
   "outputs": [],
   "source": [
    "six = run(Decimal('.6'))\n",
    "four = run(Decimal('.4'))\n",
    "eight = run(Decimal('.8'))\n",
    "\n",
    "diff = filter(lambda x: x>0, [(x[0] - x[1])*100 for x in zip(eight, four)])\n",
    "\n",
    "#plot.plot_n({'80/20': eight, '40/60' : four}, '', 'Safe Withdrawal Rate by Year', add_commas=False)\n",
    "plot.plot_n({'80/20 - 40/60' : list(diff)}, '', 'SWR Tell Tale Chart', add_commas=False, zero_based=False)"
   ]
  },
  {
   "cell_type": "code",
   "execution_count": null,
   "metadata": {
    "deletable": true,
    "editable": true
   },
   "outputs": [],
   "source": []
  }
 ],
 "metadata": {
  "anaconda-cloud": {},
  "kernelspec": {
   "display_name": "Python 3",
   "language": "python",
   "name": "python3"
  },
  "language_info": {
   "codemirror_mode": {
    "name": "ipython",
    "version": 3
   },
   "file_extension": ".py",
   "mimetype": "text/x-python",
   "name": "python",
   "nbconvert_exporter": "python",
   "pygments_lexer": "ipython3"
  }
 },
 "nbformat": 4,
 "nbformat_minor": 2
}
