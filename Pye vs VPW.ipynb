{
 "cells": [
  {
   "cell_type": "code",
   "execution_count": null,
   "metadata": {},
   "outputs": [],
   "source": [
    "%matplotlib inline\n",
    "from pprint import pprint\n",
    "\n",
    "import plot\n",
    "from simulate import simulate_withdrawals\n",
    "from harvesting import N_60_RebalanceHarvesting, N_100_RebalanceHarvesting\n",
    "import harvesting\n",
    "\n",
    "import itertools\n",
    "from decimal import Decimal\n",
    "from montecarlo import conservative\n",
    "import metrics"
   ]
  },
  {
   "cell_type": "code",
   "execution_count": null,
   "metadata": {},
   "outputs": [],
   "source": [
    "import math\n",
    "from market import Returns_US_1871\n",
    "import withdrawal\n",
    "\n",
    "START_YEAR = 1969\n",
    "\n",
    "def Pye(p, h):\n",
    "    vpw = withdrawal.VPW(p, h, years_left=50)\n",
    "    vpw.stock_growth_rate = Decimal('.08')\n",
    "    vpw.bond_growth_rate = Decimal('.08')\n",
    "    return vpw\n",
    "\n",
    "def compare_em_vs_vpw(series, years=40, title=''):\n",
    "    (r1, r2) = itertools.tee(series)\n",
    "    portfolio = (600000, 400000)\n",
    "    x = simulate_withdrawals(r1, years=years, harvesting=N_60_RebalanceHarvesting, withdraw=Pye, portfolio=portfolio)\n",
    "    y = simulate_withdrawals(r2, years=years, harvesting=N_60_RebalanceHarvesting, withdraw=withdrawal.VPW, portfolio=portfolio)\n",
    "\n",
    "    plot.plot_n({'Pye' : [n.withdraw_r for n in x], 'VPW' : [n.withdraw_r for n in y]}, 'Year of Retirement', title)\n",
    "    plot.plot_n({'Pye' : [n.portfolio_pre.value_r for n in x], 'VPW' : [n.portfolio_pre.value_r for n in y]}, 'Year of Retirement', title)\n",
    "    \n",
    "    import pprint\n",
    "    diffs = [a.withdraw_r - b.withdraw_r for (a,b) in zip(x,y)]\n",
    "    print(metrics.mean(diffs[11:]))\n",
    "    pprint.pprint([a.withdraw_r for a in x])\n",
    "    \n",
    "def ern_vs_vpw(year, years=40):\n",
    "    compare_em_vs_vpw(Returns_US_1871().iter_from(year), title='%d: Pye vs VPW' % year, years=years)\n",
    "\n",
    "ern_vs_vpw(START_YEAR, years=20)"
   ]
  },
  {
   "cell_type": "code",
   "execution_count": null,
   "metadata": {},
   "outputs": [],
   "source": []
  }
 ],
 "metadata": {
  "anaconda-cloud": {},
  "kernelspec": {
   "display_name": "Python 3",
   "language": "python",
   "name": "python3"
  },
  "language_info": {
   "codemirror_mode": {
    "name": "ipython",
    "version": 3
   },
   "file_extension": ".py",
   "mimetype": "text/x-python",
   "name": "python",
   "nbconvert_exporter": "python",
   "pygments_lexer": "ipython3"
  }
 },
 "nbformat": 4,
 "nbformat_minor": 2
}
