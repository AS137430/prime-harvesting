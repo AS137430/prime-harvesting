{
 "cells": [
  {
   "cell_type": "code",
   "execution_count": null,
   "metadata": {},
   "outputs": [],
   "source": [
    "import simulate\n",
    "import withdrawal\n",
    "import market\n",
    "import harvesting\n",
    "import metrics\n",
    "from decimal import Decimal as D\n",
    "\n",
    "import pandas\n",
    "import numpy"
   ]
  },
  {
   "cell_type": "code",
   "execution_count": null,
   "metadata": {},
   "outputs": [],
   "source": [
    "MARKET = market.Returns_US_1871()\n",
    "series = pandas.Series(index=numpy.arange(1871, 2018-30+1))\n",
    "\n",
    "for start in range(1871, 2018-30+1):\n",
    "    min_port = 1000000\n",
    "    annual_data = simulate.withdrawals(MARKET.iter_from(start),\n",
    "                                       years=30,\n",
    "                                       harvesting=harvesting.N_60_RebalanceHarvesting,\n",
    "                                       withdraw=lambda p,h: withdrawal.ConstantDollar(p, h, rate=D('.02'))\n",
    "                        )\n",
    "    for y in annual_data:\n",
    "        min_port = min(min_port, y.portfolio_post.value_r)\n",
    "    series.loc[start] = min_port\n",
    "#    u = metrics.ulcer([y.portfolio_post.value_r for y in annual_data])\n",
    "#    series.loc[start] = u"
   ]
  },
  {
   "cell_type": "code",
   "execution_count": null,
   "metadata": {},
   "outputs": [],
   "source": [
    "print(len(series))\n",
    "series.head()\n",
    "series[series < 900000].sort_values().head()\n",
    "#series.sort_values()\n",
    "#series.head()"
   ]
  },
  {
   "cell_type": "code",
   "execution_count": null,
   "metadata": {},
   "outputs": [],
   "source": []
  },
  {
   "cell_type": "code",
   "execution_count": null,
   "metadata": {},
   "outputs": [],
   "source": []
  }
 ],
 "metadata": {
  "kernelspec": {
   "display_name": "Python 3",
   "language": "python",
   "name": "python3"
  },
  "language_info": {
   "codemirror_mode": {
    "name": "ipython",
    "version": 3
   },
   "file_extension": ".py",
   "mimetype": "text/x-python",
   "name": "python",
   "nbconvert_exporter": "python",
   "pygments_lexer": "ipython3"
  }
 },
 "nbformat": 4,
 "nbformat_minor": 2
}
