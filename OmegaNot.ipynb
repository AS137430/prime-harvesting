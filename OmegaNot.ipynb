{
 "cells": [
  {
   "cell_type": "markdown",
   "metadata": {},
   "source": [
    "An investigation of ERN's post about Prime Harvesting and random Reddit post\n",
    "\n",
    "* https://earlyretirementnow.com/2017/04/19/the-ultimate-guide-to-safe-withdrawal-rates-part-13-dynamic-stock-bond-allocation-through-prime-harvesting/\n",
    "* https://www.reddit.com/r/financialindependence/comments/binb2q/the_clever_market_timing_withdrawal_strategy_an/\n",
    "\n",
    "Things to test:\n",
    "* Look more into OmegaNot.\n",
    "  * Is 100% the best threshold? What about 90%? Or 110%?\n",
    "  * *Why* does replenish bonds help? Under what circumstances? What exactly does it do?\n",
    "* ERN's stuff.\n",
    "  * Look at his McClung-Smooth\n",
    "  * Replicate his results, why is his glidepath so good?\n",
    "  * Look beyond just 1966\n",
    "* Are better results simply caused by higher stock allocations? e.g. a higher SWR might just be due to holding more stocks"
   ]
  },
  {
   "cell_type": "code",
   "execution_count": null,
   "metadata": {},
   "outputs": [],
   "source": [
    "import simulate\n",
    "import withdrawal\n",
    "import market\n",
    "import harvesting\n",
    "import metrics\n",
    "\n",
    "from decimal import Decimal as D\n",
    "import decimal\n",
    "import itertools\n",
    "import pandas\n",
    "import numpy\n",
    "import ipysheet"
   ]
  },
  {
   "cell_type": "code",
   "execution_count": null,
   "metadata": {},
   "outputs": [],
   "source": [
    "%matplotlib inline\n",
    "import seaborn\n",
    "from matplotlib import pyplot as plt\n",
    "import matplotlib\n",
    "seaborn.set(style=\"whitegrid\")\n",
    "seaborn.set_context('poster')"
   ]
  },
  {
   "cell_type": "code",
   "execution_count": null,
   "metadata": {},
   "outputs": [],
   "source": [
    "def run_calc(harvesting, withdraw, years, lens, portfolio=(600_000, 400_000)):\n",
    "    MARKET = market.Returns_US_1871()\n",
    "    end_year = 2018 - years + 1\n",
    "    series = pandas.Series(index=numpy.arange(MARKET.start_year, end_year))\n",
    "\n",
    "    for start in range(MARKET.start_year, end_year):\n",
    "        annual_data = simulate.withdrawals(MARKET.iter_from(start),\n",
    "                                           portfolio=portfolio,\n",
    "                                           years=years,\n",
    "                                           harvesting=harvesting,\n",
    "                                           withdraw=withdraw)\n",
    "        d = lens(annual_data)\n",
    "        series.loc[start] = d\n",
    "    return series\n",
    "\n",
    "def calc_pwa0(annual_data):\n",
    "    return metrics.pwa(1, 0, [n.returns_r for n in annual_data])\n",
    "\n",
    "def calc_pwa1(annual_data):\n",
    "    return metrics.pwa(1, 1, [n.returns_r for n in annual_data])\n",
    "\n",
    "def calc_success(annual_data):\n",
    "    # it is success if the last withdrawal is the same as the first withdrawal...otherwise\n",
    "    # we must have cut spending somewhere along the line\n",
    "    # We have to put in a $1 fudge factor for floating point weirdness...\n",
    "    last_wd = annual_data[-1].withdraw_r\n",
    "    first_wd = annual_data[0].withdraw_r\n",
    "    return last_wd >= (first_wd - 1)"
   ]
  },
  {
   "cell_type": "code",
   "execution_count": null,
   "metadata": {},
   "outputs": [],
   "source": [
    "Omegas = [harvesting.make_omeganot(D(n)/100) for n in range(70,140, 10)]\n",
    "Rebalances = [harvesting.make_rebalancer(D(n)/100) for n in range(20, 110, 10)]\n",
    "Glidepaths = [harvesting.Glidepath, harvesting.InverseGlidepath, harvesting.AgeBased_100]\n",
    "Harvest_Strategies = Omegas + Rebalances + Glidepaths\n",
    "Withdraw_Strategies = [\n",
    "    withdrawal.make_constantdollar(D('.0325')),\n",
    "    withdrawal.make_constantdollar(D('.035')),\n",
    "    withdrawal.make_constantdollar(D('.04')),\n",
    "    withdrawal.make_constantdollar(D('.045')),\n",
    "    withdrawal.make_constantdollar(D('.05')),\n",
    "]\n",
    "Lengths = [30, 40, 50]\n",
    "Combos = list(itertools.product(Lengths, Harvest_Strategies, Withdraw_Strategies))"
   ]
  },
  {
   "cell_type": "code",
   "execution_count": null,
   "metadata": {},
   "outputs": [],
   "source": [
    "PALETTE = seaborn.color_palette(\"Reds\", len(Omegas)) + seaborn.color_palette(\"YlGn\", len(Rebalances)) + seaborn.color_palette(\"Greys\", len(Glidepaths))\n",
    "seaborn.set_palette(PALETTE)\n",
    "PALETTE_OMEGAS = seaborn.color_palette(\"husl\", len(Omegas))\n",
    "PALETTE_HARVEST = seaborn.color_palette(\"husl\", len(Harvest_Strategies))\n",
    "PALETTE_WITHDRAW = seaborn.color_palette(\"husl\", len(Withdraw_Strategies))"
   ]
  },
  {
   "cell_type": "markdown",
   "metadata": {},
   "source": [
    "# Failure Rates"
   ]
  },
  {
   "cell_type": "code",
   "execution_count": null,
   "metadata": {},
   "outputs": [],
   "source": [
    "def run():\n",
    "    df = pandas.DataFrame(index=range(0, len(Combos)), columns=['Length', 'Harvest', 'Withdrawal', 'Failure Rate'])\n",
    "\n",
    "    i = 0\n",
    "    for (years, harvest, withdraw) in Combos:\n",
    "        s = run_calc(harvest, withdraw, years, calc_success)\n",
    "        failure_rate = len(s[s == False]) / len(s)\n",
    "        df.iloc[i] = (years, harvest.__name__, withdraw.__name__, failure_rate)\n",
    "        i += 1\n",
    "    return df\n",
    "success_df = run()"
   ]
  },
  {
   "cell_type": "code",
   "execution_count": null,
   "metadata": {},
   "outputs": [],
   "source": [
    "g = seaborn.catplot(x='Harvest',\n",
    "                    y='Failure Rate',\n",
    "                    height=10,\n",
    "                    aspect=1.5,\n",
    "                    hue='Withdrawal',\n",
    "                    data=success_df[success_df['Length'] == 40],\n",
    "                    s=12,\n",
    "                    palette=PALETTE_WITHDRAW\n",
    "                )\n",
    "g.despine(left=True, bottom=True, offset=20)\n",
    "g.set_xticklabels(rotation=90)\n",
    "g.fig.suptitle('Failure Rates for 40 years')"
   ]
  },
  {
   "cell_type": "code",
   "execution_count": null,
   "metadata": {},
   "outputs": [],
   "source": [
    "g = seaborn.catplot(x='Withdrawal',\n",
    "                    y='Failure Rate',\n",
    "                    height=8,\n",
    "                    hue='Harvest',\n",
    "                    data=success_df[success_df['Length'] == 40],\n",
    "                    aspect=1.5,\n",
    "                    s=10\n",
    "                   )\n",
    "g.despine(left=True, bottom=True, offset=20)\n",
    "g.set_xticklabels(['3.25%', '3.5%', '4%', '4.5%', '5%'])\n",
    "g.fig.suptitle('Failure Rates for 40 years')"
   ]
  },
  {
   "cell_type": "markdown",
   "metadata": {},
   "source": [
    "## Detailed Failure Rate Charts\n",
    "\n",
    "This generates a lot of charts.\n",
    "Remove the *break* to re-enable."
   ]
  },
  {
   "cell_type": "code",
   "execution_count": null,
   "metadata": {},
   "outputs": [],
   "source": [
    "for (years, withdraw) in itertools.product(Lengths, Withdraw_Strategies):\n",
    "    g = seaborn.catplot(x='Harvest',\n",
    "                    y='Failure Rate',\n",
    "                    height=8,\n",
    "                    data=success_df[(success_df['Length'] == years) & (success_df['Withdrawal'] == withdraw.__name__)],\n",
    "                    aspect=1.5,\n",
    "                    s=20\n",
    "                   )\n",
    "    g.despine(left=True, bottom=True, offset=20)\n",
    "    g.set_xticklabels(rotation=90)\n",
    "    g.fig.suptitle('Failure Rates for %s years @ %s' % (years, withdraw.__name__))\n",
    "    \n",
    "    break\n"
   ]
  },
  {
   "cell_type": "markdown",
   "metadata": {},
   "source": [
    "# Perfect Withdrawal Amount ($0 remaining)\n",
    "\n",
    "n.b. PWAs & MSWRs are a weird thing for strategies that shift their asset allocation because the amount that you withdraw changes the asset allocation which in turn changes the MSWR.\n",
    "\n",
    "So how do you calculate the true MSWR?\n",
    "\n",
    "Ugh."
   ]
  },
  {
   "cell_type": "code",
   "execution_count": null,
   "metadata": {},
   "outputs": [],
   "source": [
    "PWA_Combos = list(itertools.product(Lengths, Harvest_Strategies, [withdrawal.ConstantPercentage]))\n",
    "def run():\n",
    "    df = pandas.DataFrame(index=range(0, len(PWA_Combos)), columns=['Length', 'Harvest', 'Withdrawal', 'PWA'])\n",
    "\n",
    "    i = 0\n",
    "    for (years, harvest, withdraw) in PWA_Combos:\n",
    "        series = run_calc(harvest, withdraw, years, calc_pwa0)\n",
    "        df.iloc[i] = (years, harvest.__name__, withdraw.__name__, float(series.min()))\n",
    "        i += 1\n",
    "    return df\n",
    "pwa0_df = run()"
   ]
  },
  {
   "cell_type": "code",
   "execution_count": null,
   "metadata": {},
   "outputs": [],
   "source": [
    "g = seaborn.catplot(x='Harvest',\n",
    "                    y='PWA',\n",
    "                    height=10,\n",
    "                    data=pwa0_df, kind='bar',\n",
    "                    aspect=1.5\n",
    "                )\n",
    "g.despine(left=True, bottom=True, offset=20)\n",
    "g.fig.suptitle('Maximum Sustainable Withdrawal Rate (0% Portfolio at end)')\n",
    "g.set_xticklabels(rotation=90)"
   ]
  },
  {
   "cell_type": "code",
   "execution_count": null,
   "metadata": {},
   "outputs": [],
   "source": [
    "g = seaborn.catplot(x='Length',\n",
    "                    y='PWA',\n",
    "                    height=10,\n",
    "                    s=12,\n",
    "                    hue='Harvest',\n",
    "                    data=pwa0_df,\n",
    "                )\n",
    "g.despine(left=True, bottom=True, offset=20)\n",
    "g.fig.suptitle('Maximum Sustainable Withdrawal Rate (0% Portfolio at end)')"
   ]
  },
  {
   "cell_type": "markdown",
   "metadata": {},
   "source": [
    "# Perfect Withdrawal Amount (100% remaining)"
   ]
  },
  {
   "cell_type": "code",
   "execution_count": null,
   "metadata": {},
   "outputs": [],
   "source": [
    "def run():\n",
    "    df = pandas.DataFrame(index=range(0, len(PWA_Combos)), columns=['Length', 'Harvest', 'Withdrawal', 'PWA'])\n",
    "\n",
    "    i = 0\n",
    "    for (years, harvest, withdraw) in PWA_Combos:\n",
    "        series = run_calc(harvest, withdraw, years, calc_pwa1)\n",
    "        df.iloc[i] = (years, harvest.__name__, withdraw.__name__, series.min())\n",
    "        i += 1\n",
    "    return df\n",
    "pwa1_df = run()"
   ]
  },
  {
   "cell_type": "code",
   "execution_count": null,
   "metadata": {},
   "outputs": [],
   "source": [
    "g = seaborn.catplot(x='Length',\n",
    "                    y='PWA',\n",
    "                    height=10,\n",
    "                    s=12,\n",
    "                    hue='Harvest',\n",
    "                    data=pwa1_df,\n",
    "                )\n",
    "g.despine(left=True, bottom=True, offset=20)\n",
    "g.fig.suptitle('Maximum Sustainable Withdrawal Rate (100% Portfolio at end)')"
   ]
  },
  {
   "cell_type": "markdown",
   "metadata": {},
   "source": [
    "# Shortfall Years\n",
    "\n",
    "Shortfall years is the average number of years the strategy fell short, over all the retirement periods in which it failed.\n",
    "\n",
    "i.e. \"when it failed, on averaged it failed N years early\"\n",
    "\n",
    "This is really just a variant on failure rate & that should probably be folder into this."
   ]
  },
  {
   "cell_type": "code",
   "execution_count": null,
   "metadata": {},
   "outputs": [],
   "source": [
    "def calc_shortfall_years(annual):\n",
    "    df = pandas.DataFrame(annual)\n",
    "    # subtract $1 to deal with floating point weirdness (sometimes $40 turns into $39.9999)\n",
    "    failed = df[df['withdraw_r'] < df['withdraw_r'][0] - 1]\n",
    "    s_y = len(failed)\n",
    "    return s_y\n",
    "    \n",
    "def run():\n",
    "    df = pandas.DataFrame(index=range(0, len(Combos)), columns=['Length', 'Harvest', 'Withdrawal', 'Shortfall Years'])\n",
    "\n",
    "    i = 0\n",
    "    for (years, harvest, withdraw) in Combos:\n",
    "        series = run_calc(harvest, withdraw, years, calc_shortfall_years)\n",
    "        shortfalls = series[series > 0]\n",
    "        shortfall_years = shortfalls.mean()\n",
    "        df.iloc[i] = (years, harvest.__name__, withdraw.__name__, shortfall_years)\n",
    "        i += 1\n",
    "    return df\n",
    "shortfall_years_df = run()"
   ]
  },
  {
   "cell_type": "code",
   "execution_count": null,
   "metadata": {},
   "outputs": [],
   "source": [
    "g = seaborn.catplot(x='Withdrawal',\n",
    "                    y='Shortfall Years',\n",
    "                    height=8,\n",
    "                    hue='Harvest',\n",
    "                    data=shortfall_years_df[shortfall_years_df['Length'] == 40].fillna(0),\n",
    "                    aspect=1.5,\n",
    "                    s=10\n",
    "                   )\n",
    "g.despine(left=True, bottom=True, offset=20)\n",
    "g.set_xticklabels(['3.25%', '3.5%', '4%', '4.5%', '5%'])\n",
    "g.fig.suptitle('Shortfall Years for 40 years')"
   ]
  },
  {
   "cell_type": "code",
   "execution_count": null,
   "metadata": {},
   "outputs": [],
   "source": [
    "GoodRebalancers = ['AnnualRebalancer_%s' % s for s in [80, 90, 100]]\n",
    "GoodOmegas = ['OmegaNot_100', 'OmegaNot_90']\n",
    "GoodGlidepaths = [harvesting.InverseGlidepath.__name__]\n",
    "FewerHarvests = GoodRebalancers + GoodOmegas + GoodGlidepaths\n",
    "GoodPalette = (seaborn.color_palette(\"Reds\", len(GoodOmegas))\n",
    "    + seaborn.color_palette(\"Greens\", len(GoodRebalancers))\n",
    "    + seaborn.color_palette(\"Greys\", len(GoodGlidepaths)))\n",
    "HardWithdraws = ['ConstantDollar_0.04', 'ConstantDollar_0.045', 'ConstantDollar_0.05']\n",
    "\n",
    "g = seaborn.catplot(x='Withdrawal',\n",
    "                    y='Shortfall Years',\n",
    "                    height=8,\n",
    "                    hue='Harvest',\n",
    "                    data=shortfall_years_df[(shortfall_years_df['Length'] == 40)\n",
    "                                            & (shortfall_years_df['Harvest'].isin(FewerHarvests))\n",
    "                                            & (shortfall_years_df['Withdrawal'].isin(HardWithdraws))],\n",
    "                    aspect=1.5,\n",
    "                    s=10,\n",
    "                    palette=GoodPalette\n",
    "                   )\n",
    "\n",
    "g.despine(left=True, bottom=True, offset=20)\n",
    "g.set_xticklabels(['4%', '4.5%', '5%'])\n",
    "g.fig.suptitle('Shortfall Years for 40 years')"
   ]
  },
  {
   "cell_type": "code",
   "execution_count": null,
   "metadata": {},
   "outputs": [],
   "source": [
    "JustOmegas = [n.__name__ for n in Omegas]\n",
    "\n",
    "g = seaborn.catplot(x='Withdrawal',\n",
    "                    y='Shortfall Years',\n",
    "                    height=8,\n",
    "                    hue='Harvest',\n",
    "                    data=shortfall_years_df[(shortfall_years_df['Length'] == 40)\n",
    "                                            & (shortfall_years_df['Harvest'].isin(JustOmegas))\n",
    "                                            & (shortfall_years_df['Withdrawal'].isin(HardWithdraws))],\n",
    "                    aspect=1.5,\n",
    "                    s=10,\n",
    "                    palette=PALETTE_OMEGAS\n",
    "                   )\n",
    "\n",
    "g.despine(left=True, bottom=True, offset=20)\n",
    "g.set_xticklabels(['4%', '4.5%', '5%'])\n",
    "g.fig.suptitle('Shortfall Years for 40 years')"
   ]
  },
  {
   "cell_type": "markdown",
   "metadata": {},
   "source": [
    "# Downside Risk-Adjusted Success & Coverage Ratio\n",
    "\n",
    "Risk-adjusted success is the ratio between the expected value and the standard deviation of years sustained.\n",
    "\n",
    "Coverage ratio is the number of years the portfolio lasted, run through a utility function so large values are discount and shortfalls penalized."
   ]
  },
  {
   "cell_type": "code",
   "execution_count": null,
   "metadata": {},
   "outputs": [],
   "source": [
    "def calc_years_sustained(annual):\n",
    "    df = pandas.DataFrame(annual)\n",
    "    # subtract $1 to deal with floating point weirdness (sometimes $40 turns into $39.9999)\n",
    "    failed = df[df['withdraw_r'] < df['withdraw_r'][0] - 1]\n",
    "    s_y = len(failed)\n",
    "    \n",
    "    if s_y:\n",
    "        return -s_y\n",
    "    else:\n",
    "        b_t = df.tail(1)['portfolio_post'].item().value_r\n",
    "        b_y = b_t / df['withdraw_r'][0]\n",
    "        return b_y\n",
    "\n",
    "def run():\n",
    "    df = pandas.DataFrame(index=range(0, len(Combos)), columns=['Length', 'Harvest', 'Withdrawal', 'D-RAS', 'Coverage Ratio'])\n",
    "\n",
    "    i = 0\n",
    "    for (years, harvest, withdraw) in Combos:\n",
    "        series = run_calc(harvest, withdraw, years, calc_years_sustained)\n",
    "        \n",
    "        # how many had shortfall years?\n",
    "        failures = series[series < 0]\n",
    "        successes = series[series >= 0]\n",
    "        p_fail = len(failures) / len(series)        \n",
    "        L = years\n",
    "        \n",
    "        s_y = failures.mean()\n",
    "        b_y = successes.mean()\n",
    "        e_ys = (p_fail * (L + s_y)) + ((1 - p_fail) * (L + b_y))\n",
    "        # semi-deviation with respect to length of retirement\n",
    "        ssd_l_ys = (p_fail * s_y * s_y) ** 1/2\n",
    "        \n",
    "        d_ras = e_ys / ssd_l_ys\n",
    "        \n",
    "        # now calculate the coverage ratio\n",
    "        coverage_series = series.apply(lambda x: (x+L)/L)\n",
    "        \n",
    "        def u_c(c, risk_aversion=D('0.9999'), penalty_coeff=D(10)):\n",
    "            c = D(c)\n",
    "            if c >= 1:\n",
    "                numerator = (c ** (1 - risk_aversion)) - 1\n",
    "                denominator = 1 - risk_aversion\n",
    "                return numerator / denominator\n",
    "            else:\n",
    "                numerator = (1 ** (1 - risk_aversion)) - 1\n",
    "                denominator = 1 - risk_aversion\n",
    "                penalty = penalty_coeff * (1 - c)\n",
    "                return (numerator / denominator) - penalty\n",
    "        U_C = coverage_series.apply(u_c)\n",
    "        coverage = U_C.mean()\n",
    "        \n",
    "        # the pandas based clipping isn't working so we manually hack it in there.\n",
    "        # Should really investigate this...why is it so high?\n",
    "        if d_ras > 5000:\n",
    "            d_ras = 3000\n",
    "\n",
    "        df.iloc[i] = (years, harvest.__name__, withdraw.__name__, d_ras, coverage)\n",
    "        i += 1\n",
    "    return df\n",
    "dras_df = run()"
   ]
  },
  {
   "cell_type": "markdown",
   "metadata": {},
   "source": [
    "## Downside Risk-Adjusted Success\n",
    "\n",
    "higher is better"
   ]
  },
  {
   "cell_type": "code",
   "execution_count": null,
   "metadata": {},
   "outputs": [],
   "source": [
    "for withdraw in HardWithdraws:\n",
    "    g = seaborn.catplot(x='Withdrawal',\n",
    "                        y='D-RAS',\n",
    "                        height=8,\n",
    "                        hue='Harvest',\n",
    "                        data=dras_df[(dras_df['Length'] == 40) & (dras_df['Withdrawal'] == withdraw)],\n",
    "                        s=10\n",
    "                       )\n",
    "    g.despine(left=True, bottom=True, offset=20)\n",
    "    g.fig.suptitle('Downside Risk-Adjusted Success for 40 years')"
   ]
  },
  {
   "cell_type": "code",
   "execution_count": null,
   "metadata": {},
   "outputs": [],
   "source": [
    "for withdraw in HardWithdraws:\n",
    "    g = seaborn.catplot(x='Withdrawal',\n",
    "                        y='D-RAS',\n",
    "                        height=8,\n",
    "                        hue='Harvest',\n",
    "                        data=dras_df[(dras_df['Length'] == 40)\n",
    "                                     & (dras_df['Harvest'].isin(FewerHarvests))\n",
    "                                     & (dras_df['Withdrawal'] == withdraw)],\n",
    "                        s=10,\n",
    "                        palette=GoodPalette\n",
    "                       )\n",
    "    g.despine(left=True, bottom=True, offset=20)\n",
    "    g.fig.suptitle('Downside Risk-Adjusted Success for 40 years')"
   ]
  },
  {
   "cell_type": "code",
   "execution_count": null,
   "metadata": {},
   "outputs": [],
   "source": [
    "for withdraw in HardWithdraws:\n",
    "    g = seaborn.catplot(x='Withdrawal',\n",
    "                        y='D-RAS',\n",
    "                        height=8,\n",
    "                        hue='Harvest',\n",
    "                        data=dras_df[(dras_df['Length'] == 40)\n",
    "                                     & (dras_df['Harvest'].isin(JustOmegas))\n",
    "                                     & (dras_df['Withdrawal'] == withdraw)],\n",
    "                        s=10,\n",
    "                        palette=PALETTE_OMEGAS\n",
    "                       )\n",
    "    g.despine(left=True, bottom=True, offset=20)\n",
    "    g.fig.suptitle('Downside Risk-Adjusted Success for 40 years')"
   ]
  },
  {
   "cell_type": "markdown",
   "metadata": {},
   "source": [
    "## Coverage Ratio"
   ]
  },
  {
   "cell_type": "code",
   "execution_count": null,
   "metadata": {},
   "outputs": [],
   "source": [
    "g = seaborn.catplot(x='Withdrawal',\n",
    "                    y='Coverage Ratio',\n",
    "                    height=8,\n",
    "                    hue='Harvest',\n",
    "                    data=dras_df[dras_df['Length'] == 30],\n",
    "                    aspect=1.5,\n",
    "                    s=10\n",
    "                   )\n",
    "g.despine(left=True, bottom=True, offset=20)\n",
    "g.set_xticklabels(['3.25%', '3.5%', '4%', '4.5%', '5%'])\n",
    "g.fig.suptitle('Coverage Ratio for 30 years')"
   ]
  },
  {
   "cell_type": "code",
   "execution_count": null,
   "metadata": {},
   "outputs": [],
   "source": [
    "g = seaborn.catplot(x='Withdrawal',\n",
    "                    y='Coverage Ratio',\n",
    "                    height=8,\n",
    "                    hue='Harvest',\n",
    "                    data=dras_df[(dras_df['Length'] == 30) & (dras_df['Harvest'].isin(FewerHarvests))],\n",
    "                    aspect=1.5,\n",
    "                    s=10,\n",
    "                    palette=GoodPalette\n",
    "                   )\n",
    "g.despine(left=True, bottom=True, offset=20)\n",
    "g.set_xticklabels(['3.25%', '3.5%', '4%', '4.5%', '5%'])\n",
    "g.fig.suptitle('Coverage Ratio for 30 years')"
   ]
  },
  {
   "cell_type": "code",
   "execution_count": null,
   "metadata": {},
   "outputs": [],
   "source": [
    "for withdraw in HardWithdraws:\n",
    "    g = seaborn.catplot(x='Withdrawal',\n",
    "                        y='Coverage Ratio',\n",
    "                        height=8,\n",
    "                        hue='Harvest',\n",
    "                        data=dras_df[(dras_df['Length'] == 30)\n",
    "                                     & (dras_df['Harvest'].isin(JustOmegas))\n",
    "                                     & (dras_df['Withdrawal'] == withdraw)\n",
    "                                    ],\n",
    "                        s=10,\n",
    "                        palette=PALETTE_OMEGAS\n",
    "                       )\n",
    "    g.despine(left=True, bottom=True, offset=20)\n",
    "#    g.set_xticklabels(['3.25%', '3.5%', '4%', '4.5%', '5%'])\n",
    "    g.fig.suptitle('Coverage Ratio for 30 years')"
   ]
  },
  {
   "cell_type": "markdown",
   "metadata": {},
   "source": [
    "# Ulcer Index"
   ]
  },
  {
   "cell_type": "code",
   "execution_count": null,
   "metadata": {},
   "outputs": [],
   "source": [
    "def calc_ulcer(annual):\n",
    "    df = pandas.DataFrame(annual)\n",
    "    vals = df['portfolio_pre'].get_values()\n",
    "    ulcer = metrics.ulcer([p.value_r for p in vals])\n",
    "    return ulcer\n",
    "    \n",
    "def run():\n",
    "    df = pandas.DataFrame(index=range(0, len(Combos)), columns=['Length', 'Harvest', 'Withdrawal', 'Ulcer Index (Avg)'])\n",
    "\n",
    "    i = 0\n",
    "    for (years, harvest, withdraw) in Combos:\n",
    "        series = run_calc(harvest, withdraw, years, calc_ulcer)\n",
    "        df.iloc[i] = (years, harvest.__name__, withdraw.__name__, series.mean())\n",
    "        i += 1\n",
    "    return df\n",
    "ulcer_df = run()"
   ]
  },
  {
   "cell_type": "code",
   "execution_count": null,
   "metadata": {},
   "outputs": [],
   "source": [
    "g = seaborn.catplot(x='Withdrawal',\n",
    "                    y='Ulcer Index (Avg)',\n",
    "                    height=8,\n",
    "                    hue='Harvest',\n",
    "                    data=ulcer_df[ulcer_df['Length'] == 30],\n",
    "                    aspect=1.5,\n",
    "                    s=10\n",
    "                   )\n",
    "g.despine(left=True, bottom=True, offset=20)\n",
    "g.set_xticklabels(['3.25%', '3.5%', '4%', '4.5%', '5%'])\n",
    "g.fig.suptitle('Ulcer Index (Avg) for 30 years')"
   ]
  },
  {
   "cell_type": "code",
   "execution_count": null,
   "metadata": {},
   "outputs": [],
   "source": [
    "g = seaborn.catplot(x='Withdrawal',\n",
    "                    y='Ulcer Index (Avg)',\n",
    "                    height=8,\n",
    "                    hue='Harvest',\n",
    "                    data=ulcer_df[(ulcer_df['Length'] == 30) & (ulcer_df['Harvest'].isin(FewerHarvests))],\n",
    "                    aspect=1.5,\n",
    "                    s=10,\n",
    "                    palette=GoodPalette\n",
    "                   )\n",
    "g.despine(left=True, bottom=True, offset=20)\n",
    "g.set_xticklabels(['3.25%', '3.5%', '4%', '4.5%', '5%'])\n",
    "g.fig.suptitle('Ulcer Index (Avg) for 30 years')"
   ]
  },
  {
   "cell_type": "code",
   "execution_count": null,
   "metadata": {},
   "outputs": [],
   "source": [
    "GoodRebalancers = []\n",
    "GoodOmegas = [n.__name__ for n in Omegas]\n",
    "FewerHarvests = GoodRebalancers + GoodOmegas\n",
    "\n",
    "g = seaborn.catplot(x='Withdrawal',\n",
    "                    y='Ulcer Index (Avg)',\n",
    "                    height=8,\n",
    "                    hue='Harvest',\n",
    "                    data=ulcer_df[(ulcer_df['Length'] == 30) & (ulcer_df['Harvest'].isin(FewerHarvests))],\n",
    "                    aspect=1.5,\n",
    "                    s=10,\n",
    "                    palette=PALETTE_OMEGAS\n",
    "                   )\n",
    "g.despine(left=True, bottom=True, offset=20)\n",
    "g.set_xticklabels(['3.25%', '3.5%', '4%', '4.5%', '5%'])\n",
    "g.fig.suptitle('Ulcer Index (Avg) for 30 years')"
   ]
  },
  {
   "cell_type": "code",
   "execution_count": null,
   "metadata": {},
   "outputs": [],
   "source": [
    "GoodRebalancers = ['AnnualRebalancer_100', 'AnnualRebalancer_90']\n",
    "GoodOmegas = ['OmegaNot_100', 'OmegaNot_90']\n",
    "FewerHarvests = GoodRebalancers + GoodOmegas\n",
    "Palette = seaborn.color_palette(\"Reds\", len(GoodOmegas)) + seaborn.color_palette(\"Greens\", len(GoodRebalancers))\n",
    "\n",
    "g = seaborn.catplot(x='Withdrawal',\n",
    "                    y='Ulcer Index (Avg)',\n",
    "                    height=8,\n",
    "                    hue='Harvest',\n",
    "                    data=ulcer_df[(ulcer_df['Length'] == 30) & (ulcer_df['Harvest'].isin(FewerHarvests))],\n",
    "                    s=10,\n",
    "                    palette=Palette\n",
    "                   )\n",
    "g.despine(left=True, bottom=True, offset=20)\n",
    "g.set_xticklabels(['3.25%', '3.5%', '4%', '4.5%', '5%'])\n",
    "g.fig.suptitle('Ulcer Index (Avg) for 30 years')"
   ]
  },
  {
   "cell_type": "markdown",
   "metadata": {},
   "source": [
    "# Average Bond holding\n",
    "\n",
    "Are we getting better results simply because we're holding more bonds?"
   ]
  },
  {
   "cell_type": "code",
   "execution_count": null,
   "metadata": {},
   "outputs": [],
   "source": [
    "def calc_bond_pct(annual):\n",
    "    df = pandas.DataFrame(annual)\n",
    "    with decimal.localcontext(decimal.ExtendedContext) as context:\n",
    "        vals = df['portfolio_pre'].get_values()\n",
    "        # this arrives as an ndarray but pandas wants a real list\n",
    "        p = pandas.DataFrame(data=list(vals))\n",
    "        bonds_pct = p['bonds'] / p['value_n']\n",
    "    return bonds_pct.mean()\n",
    "\n",
    "OmegaCombos = list(itertools.product(Lengths, Omegas, Withdraw_Strategies))\n",
    "    \n",
    "def run():\n",
    "    df = pandas.DataFrame(index=range(0, len(OmegaCombos)), columns=['Length', 'Harvest', 'Withdrawal', 'Bond Pct (Avg)'])\n",
    "\n",
    "    i = 0\n",
    "    for (years, harvest, withdraw) in OmegaCombos:\n",
    "        series = run_calc(harvest, withdraw, years, calc_bond_pct)\n",
    "        df.iloc[i] = (years, harvest.__name__, withdraw.__name__, series.mean())\n",
    "        i += 1\n",
    "    return df\n",
    "bond_pct_df = run()"
   ]
  },
  {
   "cell_type": "code",
   "execution_count": null,
   "metadata": {},
   "outputs": [],
   "source": [
    "g = seaborn.catplot(x='Harvest',\n",
    "                    y='Bond Pct (Avg)',\n",
    "                    height=8,\n",
    "                    hue='Withdrawal',\n",
    "                    data=bond_pct_df[(bond_pct_df['Length'] == 30)],\n",
    "                    aspect=1.5,\n",
    "                    s=10,\n",
    "                    palette=PALETTE_WITHDRAW\n",
    "                   )\n",
    "g.despine(left=True, bottom=True, offset=20)\n",
    "#g.set_xticklabels(['3.25%', '3.5%', '4%', '4.5%', '5%'])\n",
    "g.set_xticklabels(rotation=90)\n",
    "g.fig.suptitle('Bond Pct (Avg) for 30 years')"
   ]
  },
  {
   "cell_type": "code",
   "execution_count": null,
   "metadata": {},
   "outputs": [],
   "source": [
    "omega = Omegas[3]\n",
    "withdraw = Withdraw_Strategies[0]\n",
    "years = Lengths[0]\n",
    "series = run_calc(omega, withdraw, years, calc_bond_pct)\n",
    "g = seaborn.relplot(\n",
    "    data=series,\n",
    "    kind='line',\n",
    "    color='Green',\n",
    "    aspect=2,\n",
    "    )\n",
    "g.fig.autofmt_xdate()\n",
    "g.despine(left=True, bottom=True, offset=20)\n",
    "#print(omega.__name__, '-', withdraw.__name__, '-', years)\n",
    "g.fig.suptitle('Bond Percentage by Cohort %s - %s - %s' % (omega.__name__, withdraw.__name__, years))"
   ]
  },
  {
   "cell_type": "markdown",
   "metadata": {},
   "source": [
    "## Equivalent bond holdings"
   ]
  },
  {
   "cell_type": "code",
   "execution_count": null,
   "metadata": {},
   "outputs": [],
   "source": [
    "omega = Omegas[3]\n",
    "withdraw = Withdraw_Strategies[0]\n",
    "years = Lengths[1]\n",
    "series_omega = run_calc(omega, withdraw, years, calc_pwa0)\n",
    "\n",
    "equivalent_pct = bond_pct_df.query('Length == %s & Harvest == \"%s\" & Withdrawal == \"%s\"' % (years, omega.__name__, withdraw.__name__))[\"Bond Pct (Avg)\"].item()\n",
    "rebalancer = harvesting.make_rebalancer(D(1 - equivalent_pct))\n",
    "series_reb = run_calc(rebalancer, withdraw, years, calc_pwa0)\n",
    "df_comparison = pandas.DataFrame({omega.__name__: series_omega, rebalancer.__name__: series_reb})\n",
    "g = seaborn.relplot(\n",
    "    data=df_comparison,\n",
    "    aspect=4,\n",
    "    )\n",
    "g.fig.autofmt_xdate()\n",
    "g.despine(left=True, bottom=True, offset=20)\n",
    "g.fig.suptitle('MSWR with equivalent bond holding %s - %s' % (withdraw.__name__, years))"
   ]
  },
  {
   "cell_type": "code",
   "execution_count": null,
   "metadata": {},
   "outputs": [],
   "source": [
    "omega_wins = df_comparison[df_comparison[omega.__name__] > df_comparison[rebalancer.__name__]]\n",
    "g = seaborn.relplot(\n",
    "    data=omega_wins,\n",
    "    aspect=4,\n",
    "    )\n",
    "g.fig.autofmt_xdate()\n",
    "g.despine(left=True, bottom=True, offset=20)\n",
    "g.fig.suptitle('MSWR with equivalent bond holding (only OmegaNot wins) %s - %s' % (withdraw.__name__, years))\n",
    "\n",
    "print('Average when Omega wins', '\\n--------\\n', omega_wins.mean(), '\\n\\n')\n",
    "print('Min when Omega wins', '\\n--------\\n', omega_wins.min())"
   ]
  },
  {
   "cell_type": "code",
   "execution_count": null,
   "metadata": {},
   "outputs": [],
   "source": [
    "omega_diff =  (df_comparison[omega.__name__] - df_comparison[rebalancer.__name__]).apply(lambda x: x*100)\n",
    "\n",
    "g = seaborn.relplot(\n",
    "    data=omega_diff,\n",
    "    aspect=4,\n",
    "    )\n",
    "g.fig.autofmt_xdate()\n",
    "g.despine(left=True, bottom=True, offset=20)\n",
    "#g.fig.suptitle('MSWR with equivalent bond holding %s - %s' % (withdraw.__name__, years))\n",
    "\n",
    "print('Omega beats Rebalance by (avg)', omega_diff[omega_diff > 0].mean())\n",
    "print('Omega beats Rebalance by (max)', omega_diff[omega_diff > 0].max())\n",
    "print('Rebalance beats Omega by (avg)', omega_diff[omega_diff < 0].mean())\n",
    "print('Rebalance beats Omega by (max)', omega_diff[omega_diff < 0].min())"
   ]
  },
  {
   "cell_type": "markdown",
   "metadata": {},
   "source": [
    "# Single Year Highest Withdrawal Rate\n",
    "\n",
    "Look at current withdrawl rates. i.e. how much money are we pulling from the current portfolio. A higher number is more stressful.\n",
    "Are we getting better results with more stress?"
   ]
  },
  {
   "cell_type": "code",
   "execution_count": null,
   "metadata": {},
   "outputs": [],
   "source": [
    "def calc_max_wd(annual):\n",
    "    df = pandas.DataFrame(annual)\n",
    "    return df['withdraw_pct_cur'].max()\n",
    "\n",
    "def run():\n",
    "    df = pandas.DataFrame(index=range(0, len(Combos)), columns=['Length', 'Harvest', 'Withdrawal', 'Max Withdraw % (Avg)'])\n",
    "\n",
    "    i = 0\n",
    "    for (years, harvest, withdraw) in Combos:\n",
    "        series = run_calc(harvest, withdraw, years, calc_max_wd)\n",
    "        df.iloc[i] = (years, harvest.__name__, withdraw.__name__, series.mean())\n",
    "        i += 1\n",
    "    return df\n",
    "\n",
    "max_wd_df = run()"
   ]
  },
  {
   "cell_type": "code",
   "execution_count": null,
   "metadata": {},
   "outputs": [],
   "source": [
    "g = seaborn.catplot(x='Harvest',\n",
    "                    y='Max Withdraw % (Avg)',\n",
    "                    height=8,\n",
    "                    hue='Withdrawal',\n",
    "                    data=max_wd_df[(max_wd_df['Length'] == 40)],\n",
    "                    aspect=1.5,\n",
    "                    s=10,\n",
    "                    palette=PALETTE_WITHDRAW\n",
    "                   )\n",
    "g.despine(left=True, bottom=True, offset=20)\n",
    "#g.set_xticklabels(['3.25%', '3.5%', '4%', '4.5%', '5%'])\n",
    "g.set_xticklabels(rotation=90)\n",
    "g.fig.suptitle('Single Year Highest Withdrawal over 40 years')"
   ]
  },
  {
   "cell_type": "markdown",
   "metadata": {},
   "source": [
    "# Certainty-Equivalent Withdrawals (VPW)"
   ]
  },
  {
   "cell_type": "code",
   "execution_count": null,
   "metadata": {},
   "outputs": [],
   "source": [
    "def calc_cew(annual):\n",
    "    df = pandas.DataFrame(annual)\n",
    "    return metrics.cew(df['withdraw_r'].tolist())\n",
    "\n",
    "def run():\n",
    "    Combos = list(itertools.product(Lengths, Harvest_Strategies))\n",
    "    df = pandas.DataFrame(index=range(0, len(Combos)), columns=['Length', 'Harvest', 'Withdrawal', 'CEW (Avg)', 'CEW (Min)'])\n",
    "\n",
    "    i = 0\n",
    "    for (years, harvest) in Combos:\n",
    "        withdraw = withdrawal.make_vpw(years)\n",
    "        series = run_calc(harvest, withdraw, years, calc_cew)\n",
    "        # Should this be mean? Or also use CEW calculation?\n",
    "        df.iloc[i] = (years, harvest.__name__, withdraw.__name__, series.mean(), series.min())\n",
    "        i += 1\n",
    "    return df\n",
    "\n",
    "cew_df = run()"
   ]
  },
  {
   "cell_type": "code",
   "execution_count": null,
   "metadata": {},
   "outputs": [],
   "source": [
    "g = seaborn.catplot(x='Harvest',\n",
    "                    y='CEW (Avg)',\n",
    "                    height=8,\n",
    "                    hue='Withdrawal',\n",
    "                    data=cew_df[(cew_df['Length'] == 30)],\n",
    "                    aspect=1.5,\n",
    "                    s=10,\n",
    "                    palette=PALETTE_HARVEST\n",
    "                   )\n",
    "g.despine(left=True, bottom=True, offset=20)\n",
    "g.set_xticklabels(rotation=90)\n",
    "g.fig.suptitle('Certainty-Equivalent Withdrawals (Avg) using VPW')"
   ]
  },
  {
   "cell_type": "code",
   "execution_count": null,
   "metadata": {},
   "outputs": [],
   "source": [
    "g = seaborn.catplot(x='Harvest',\n",
    "                    y='CEW (Min)',\n",
    "                    height=8,\n",
    "                    hue='Withdrawal',\n",
    "                    data=cew_df[(cew_df['Length'] == 30)],\n",
    "                    aspect=1.5,\n",
    "                    s=10,\n",
    "                    palette=PALETTE_HARVEST\n",
    "                   )\n",
    "g.despine(left=True, bottom=True, offset=20)\n",
    "g.set_xticklabels(rotation=90)\n",
    "g.fig.suptitle('Certainty-Equivalent Withdrawals (Min) using VPW')"
   ]
  },
  {
   "cell_type": "code",
   "execution_count": null,
   "metadata": {},
   "outputs": [],
   "source": [
    "def calc_hreff(annual):\n",
    "    df = pandas.DataFrame(annual)\n",
    "    withdrawals = df['withdraw_pct_orig'].tolist()\n",
    "    returns = df['returns_r'].tolist()\n",
    "    floor = D('.04')\n",
    "    return metrics.hreff(withdrawals, returns, floor=floor)\n",
    "\n",
    "def run():\n",
    "    Combos = list(itertools.product(Lengths, Harvest_Strategies))\n",
    "    df = pandas.DataFrame(index=range(0, len(Combos)), columns=['Length', 'Harvest', 'Withdrawal', 'HREFF4 (Avg)', 'HREFF4 (Min)'])\n",
    "\n",
    "    i = 0\n",
    "    for (years, harvest) in Combos:\n",
    "        withdraw = withdrawal.make_vpw(years)\n",
    "        series = run_calc(harvest, withdraw, years, calc_hreff)\n",
    "        # Should this be mean? Or also use HREFF/CEW calculation?\n",
    "        df.iloc[i] = (years, harvest.__name__, withdraw.__name__, series.median(), series.min())\n",
    "        i += 1\n",
    "    return df\n",
    "\n",
    "hreff_df = run()"
   ]
  },
  {
   "cell_type": "code",
   "execution_count": null,
   "metadata": {},
   "outputs": [],
   "source": [
    "g = seaborn.catplot(x='Harvest',\n",
    "                    y='HREFF4 (Avg)',\n",
    "                    height=8,\n",
    "                    hue='Withdrawal',\n",
    "                    data=hreff_df[(hreff_df['Length'] == 30)],\n",
    "                    aspect=1.5,\n",
    "                    s=10,\n",
    "                    palette=PALETTE_HARVEST\n",
    "                   )\n",
    "g.despine(left=True, bottom=True, offset=20)\n",
    "g.set_xticklabels(rotation=90)\n",
    "g.fig.suptitle('HREFF-4 (Avg) using VPW')"
   ]
  },
  {
   "cell_type": "code",
   "execution_count": null,
   "metadata": {},
   "outputs": [],
   "source": [
    "g = seaborn.catplot(x='Harvest',\n",
    "                    y='HREFF4 (Min)',\n",
    "                    height=8,\n",
    "                    hue='Withdrawal',\n",
    "                    data=hreff_df[(hreff_df['Length'] == 30)],\n",
    "                    aspect=1.5,\n",
    "                    s=10,\n",
    "                    palette=PALETTE_HARVEST\n",
    "                   )\n",
    "g.despine(left=True, bottom=True, offset=20)\n",
    "g.set_xticklabels(rotation=90)\n",
    "g.fig.suptitle('HREFF-4 (Min) using VPW')"
   ]
  },
  {
   "cell_type": "code",
   "execution_count": null,
   "metadata": {},
   "outputs": [],
   "source": []
  }
 ],
 "metadata": {
  "kernelspec": {
   "display_name": "Python 3",
   "language": "python",
   "name": "python3"
  },
  "language_info": {
   "codemirror_mode": {
    "name": "ipython",
    "version": 3
   },
   "file_extension": ".py",
   "mimetype": "text/x-python",
   "name": "python",
   "nbconvert_exporter": "python",
   "pygments_lexer": "ipython3"
  }
 },
 "nbformat": 4,
 "nbformat_minor": 2
}
