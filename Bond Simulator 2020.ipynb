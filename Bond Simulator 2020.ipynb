{
 "cells": [
  {
   "cell_type": "code",
   "execution_count": null,
   "metadata": {},
   "outputs": [],
   "source": [
    "import numpy\n",
    "import pandas\n",
    "import math\n",
    "from datetime import datetime\n",
    "import pandas_datareader.data as web\n",
    "import xlrd\n",
    "from bond_simulator import simulate_annual_turnover\n",
    "import bond_simulator"
   ]
  },
  {
   "cell_type": "markdown",
   "metadata": {},
   "source": [
    "# OECD Short\n",
    "\n",
    "These are 3-month rates."
   ]
  },
  {
   "cell_type": "code",
   "execution_count": null,
   "metadata": {},
   "outputs": [],
   "source": [
    "oecd_short = pandas.read_excel('OECD IMF RoE Interest Rates.xlsx',\n",
    "                          usecols='A,F,G',\n",
    "                          parse_dates=['TIME'],\n",
    "                          sheet_name='DP_LIVE_ShortM',\n",
    "                          converters = {'Value': lambda x: x/100}\n",
    "                         )"
   ]
  },
  {
   "cell_type": "code",
   "execution_count": null,
   "metadata": {},
   "outputs": [],
   "source": [
    "def get_country(country, df):\n",
    "    cc = df[df['LOCATION'] == country].sort_values('TIME')\n",
    "    return pandas.Series(data=cc['Value'].values, index=cc['TIME'])\n",
    "get_country('AUT', oecd_short).head()"
   ]
  },
  {
   "cell_type": "markdown",
   "metadata": {},
   "source": [
    "# OECD Long\n",
    "\n",
    "These are 10-year rates."
   ]
  },
  {
   "cell_type": "code",
   "execution_count": null,
   "metadata": {},
   "outputs": [],
   "source": [
    "oecd_long = pandas.read_excel('OECD IMF RoE Interest Rates.xlsx',\n",
    "                          usecols='A,F,G',\n",
    "                          parse_dates=['TIME'],\n",
    "                          sheet_name='DP_LIVE_LongM',\n",
    "                          converters = {'Value': lambda x: x/100}\n",
    "                         )"
   ]
  },
  {
   "cell_type": "code",
   "execution_count": null,
   "metadata": {},
   "outputs": [],
   "source": [
    "get_country('AUT', oecd_long).head()"
   ]
  },
  {
   "cell_type": "markdown",
   "metadata": {},
   "source": [
    "# IMF Rates\n",
    "\n",
    "This sheet contains \"bond\", \"bill\", and \"money market\" rates. We need to do some extra processing here to get everything in the right shape for us to use.\n",
    "\n",
    "* \"bond\" maturity is ???\n",
    "* \"bill\" maturity is anywhere from 3- to 12-months depending on the country\n",
    "* \"money market\" maturity is (presumably?) overnight or 1-month?"
   ]
  },
  {
   "cell_type": "code",
   "execution_count": null,
   "metadata": {},
   "outputs": [],
   "source": [
    "imf = pandas.read_excel('OECD IMF RoE Interest Rates.xlsx',\n",
    "                        sheet_name='IMF Monthly',\n",
    "                        usecols='A,F,H:AKF', # Warning! AKF goes to January 2020 only.\n",
    "                        skipfooter=18\n",
    "                         )\n",
    "imf.head()"
   ]
  },
  {
   "cell_type": "code",
   "execution_count": null,
   "metadata": {},
   "outputs": [],
   "source": [
    "imf = imf.rename(columns={'Unnamed: 0': 'Country'})\n",
    "\n",
    "def slice_imf(df, indicator_code):\n",
    "    df_slice = df[df['Indicator Code'] == indicator_code]\n",
    "    dates = [datetime.strptime(x, '%YM%m') for x in df_slice.T.index[2:]]\n",
    "    n = pandas.DataFrame(columns=df_slice['Country'], data=df_slice.T[2:].values, index=dates)\n",
    "    return n.applymap(lambda x: x / 100)\n",
    "\n",
    "imf_bonds = slice_imf(imf, 'FIGB_PA')\n",
    "imf_moneymarket = slice_imf(imf, 'FIMM_PA')\n",
    "imf_bills = slice_imf(imf, 'FITB_PA')\n",
    "imf_moneymarket.dropna().head()"
   ]
  },
  {
   "cell_type": "code",
   "execution_count": null,
   "metadata": {},
   "outputs": [],
   "source": [
    "def make_series(country):\n",
    "    short = imf_bills[country].combine_first(get_country(country, oecd_short)).dropna()\n",
    "    long = imf_bonds[country].combine_first(get_country(country, oecd_long)).dropna()\n",
    "\n",
    "    df = pandas.DataFrame(columns=range(1,11), data={1: short, 10: long}, dtype=numpy.float64)\n",
    "    df.interpolate(axis=1, inplace=True)\n",
    "    df.fillna(method='backfill', axis=1, inplace=True)\n",
    "    return df"
   ]
  },
  {
   "cell_type": "markdown",
   "metadata": {},
   "source": [
    "Prefer IMF rates. Are there any cases where we have OECD rates but not IMF rates?"
   ]
  },
  {
   "cell_type": "code",
   "execution_count": null,
   "metadata": {},
   "outputs": [],
   "source": [
    "make_series('AUS')"
   ]
  },
  {
   "cell_type": "code",
   "execution_count": null,
   "metadata": {},
   "outputs": [],
   "source": [
    "# given a series of yearly columns, convert it to monthly columns\n",
    "def explode_series(annual_series):\n",
    "    years = len(annual_series.columns)\n",
    "    df = pandas.DataFrame(index=annual_series.index, columns=range(1, 12 * years + 1), dtype=numpy.float64)\n",
    "    for index, cols in annual_series.iterrows():\n",
    "        for year, rate in cols.iteritems():\n",
    "            df.loc[index][year * 12] = rate\n",
    "    df.interpolate(axis=1, inplace=True)\n",
    "    df.fillna(method='backfill', axis=1, inplace=True)\n",
    "    return df / 12 # we need to change the yields from annual yields to monthly yields\n",
    "    return df"
   ]
  },
  {
   "cell_type": "code",
   "execution_count": null,
   "metadata": {},
   "outputs": [],
   "source": [
    "writer = pandas.ExcelWriter('oecd_monthly.xls', engine='xlsxwriter')\n",
    "for country in imf_bills.columns:\n",
    "    print(f'Simulating {country}')\n",
    "    one_df = simulate_annual_turnover(120, 60, explode_series(make_series(country)))\n",
    "    one_df.to_excel(writer, sheet_name=country)\n",
    "writer.save()"
   ]
  },
  {
   "cell_type": "code",
   "execution_count": null,
   "metadata": {},
   "outputs": [],
   "source": []
  }
 ],
 "metadata": {
  "kernelspec": {
   "display_name": "Python 3",
   "language": "python",
   "name": "python3"
  },
  "language_info": {
   "codemirror_mode": {
    "name": "ipython",
    "version": 3
   },
   "file_extension": ".py",
   "mimetype": "text/x-python",
   "name": "python",
   "nbconvert_exporter": "python",
   "pygments_lexer": "ipython3"
  }
 },
 "nbformat": 4,
 "nbformat_minor": 4
}
