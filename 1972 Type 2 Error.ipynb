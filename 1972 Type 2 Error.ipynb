{
 "cells": [
  {
   "cell_type": "code",
   "execution_count": null,
   "metadata": {},
   "outputs": [],
   "source": [
    "%matplotlib inline\n",
    "import itertools\n",
    "from decimal import Decimal\n",
    "\n",
    "import market\n",
    "from simulate import simulate_withdrawals\n",
    "from harvesting import N_60_RebalanceHarvesting, N_100_RebalanceHarvesting\n",
    "import harvesting\n",
    "import withdrawal\n",
    "import math\n",
    "import plot\n",
    "import pandas\n",
    "import metrics\n",
    "\n",
    "def p(d):\n",
    "    return \"${:,}\".format(int(d))\n",
    "\n",
    "PORTFOLIO = (600000, 400000)\n",
    "YEAR = 1972"
   ]
  },
  {
   "cell_type": "code",
   "execution_count": null,
   "metadata": {},
   "outputs": [],
   "source": [
    "def compare(series, years=40):\n",
    "    (r1, r2, r3) = itertools.tee(series, 3)\n",
    "    \n",
    "    TYPE = 'CAPE10'\n",
    "\n",
    "    constant = simulate_withdrawals(r1, years=years, harvesting=N_60_RebalanceHarvesting, withdraw=lambda p, h: withdrawal.ConstantDollar(p, h, rate=Decimal('0.04')), portfolio=PORTFOLIO)\n",
    "    vpw = simulate_withdrawals(r2, years=years, harvesting=N_60_RebalanceHarvesting, withdraw=lambda p, h: withdrawal.VPW(p, h), portfolio=PORTFOLIO)\n",
    "    #vpw = simulate_withdrawals(r2, years=years, harvesting=N_60_RebalanceHarvesting, withdraw=lambda p, h: withdrawal.Clyatt(p, h), portfolio=PORTFOLIO)\n",
    "    smooth = simulate_withdrawals(r3, years=years, harvesting=N_60_RebalanceHarvesting, withdraw=lambda p, h: withdrawal.CAPE10Smoothing(1972, withdrawal.VPW(p, h)), portfolio=PORTFOLIO)\n",
    "\n",
    "    plot.plot_n({'4% Rule': [n.withdraw_r for n in constant], 'VPW': [n.withdraw_r for n in vpw], 'CAPE10': [n.withdraw_r for n in smooth]}, 'Year', 'Withdrawals (Real) - %s retirement' % YEAR, zero_based=False)\n",
    "    \n",
    "    plot.plot_n({'4% Rule': [n.withdraw_r for n in constant], TYPE: [n.withdraw_r for n in vpw]}, 'Year', 'Withdrawals (Real) - %s retirement' % YEAR, zero_based=True)\n",
    "    plot.plot_n({'4% Rule': [n.portfolio_n for n in constant], TYPE: [n.portfolio_n for n in vpw]}, 'Year', 'Portfolio (Nominal) - %s retirement' % YEAR)\n",
    "    plot.plot_n({'4% Rule': [n.withdraw_pct_cur for n in constant], TYPE: [n.withdraw_pct_cur for n in vpw]}, 'Year', 'Withdrawal Percentage of current portfolio - %s retirement' % YEAR, zero_based=False, add_commas=False)\n",
    "\n",
    "compare(market.Returns_US_1871().iter_from(YEAR), years=30)"
   ]
  },
  {
   "cell_type": "code",
   "execution_count": null,
   "metadata": {},
   "outputs": [],
   "source": [
    "def compare(series, years=40):\n",
    "    (r1, r2, r3) = itertools.tee(series, 3)\n",
    "\n",
    "    x = simulate_withdrawals(r1, years=years, harvesting=N_60_RebalanceHarvesting, withdraw=lambda p, h: withdrawal.ConstantDollar(p, h, rate=Decimal('0.04')), portfolio=PORTFOLIO)\n",
    "    y = simulate_withdrawals(r2, years=years, harvesting=N_60_RebalanceHarvesting, withdraw=lambda p, h: withdrawal.VPW(p, h), portfolio=PORTFOLIO)\n",
    "    z = simulate_withdrawals(r3, years=years, harvesting=N_60_RebalanceHarvesting, withdraw=lambda p, h: withdrawal.CAPE10Smoothing(1972, withdrawal.VPW(p, h)), portfolio=PORTFOLIO)\n",
    "\n",
    "    s1 = [n.withdraw_r for n in x]\n",
    "    s2 = [n.withdraw_r for n in y]\n",
    "    s3 = [n.withdraw_r for n in z]\n",
    "    \n",
    "    print(YEAR, 'CEW', 'VPW:', p(metrics.cew(s2)), 'Smooth:', p(metrics.cew(s3)))\n",
    "#    print('Total$', 'VPW:', p(sum(s2)), 'Smooth:', p(sum(s3)))\n",
    "#    print('10th', 'VPW:', p(pandas.Series([float(s) for s in s2]).quantile(.1)), 'Smooth:', p(pandas.Series([float(s) for s in s3]).quantile(.1)))\n",
    "#    df = pandas.DataFrame(y)\n",
    "#    df.index = pandas.Series(range(1972, 1972+years))\n",
    "    \n",
    "#    plot.plot_n({'4% Rule': s1, 'VPW': s2, '1/CAPE VPW' : s3}, 'Year', '%s Retirement' % YEAR)\n",
    "\n",
    "compare(market.Returns_US_1871().iter_from(YEAR), years=30)"
   ]
  },
  {
   "cell_type": "code",
   "execution_count": null,
   "metadata": {},
   "outputs": [],
   "source": [
    "def make_cews(series, start_year, years):\n",
    "    (r2, r3) = itertools.tee(series, 2)\n",
    "\n",
    "    y = simulate_withdrawals(r2, years=years, harvesting=N_60_RebalanceHarvesting, withdraw=lambda p, h: withdrawal.VPW(p, h, years_left=45), portfolio=PORTFOLIO)\n",
    "    z = simulate_withdrawals(r3, years=years, harvesting=N_60_RebalanceHarvesting, withdraw=lambda p, h: withdrawal.CAPE10Smoothing(start_year, withdrawal.VPW(p, h, years_left=45)), portfolio=PORTFOLIO)\n",
    "\n",
    "    s2 = [n.withdraw_r for n in y]\n",
    "    s3 = [n.withdraw_r for n in z]\n",
    "\n",
    "    return (metrics.cew(s2), metrics.cew(s3))\n",
    "\n",
    "cews = {}\n",
    "\n",
    "for year in range(1881, 1986):\n",
    "    plain, smooth = make_cews(market.Returns_US_1871().iter_from(year), year, 30)\n",
    "    cews[year] = (plain, smooth)"
   ]
  },
  {
   "cell_type": "code",
   "execution_count": null,
   "metadata": {},
   "outputs": [],
   "source": [
    "plain, smooth = [dict(zip(cews, col)) for col in zip(*cews.values())]"
   ]
  },
  {
   "cell_type": "code",
   "execution_count": null,
   "metadata": {},
   "outputs": [],
   "source": [
    "plot.plot_n({'plain': plain.values(), 'Smoothed': smooth.values()}, 'Year', 'CEW')"
   ]
  },
  {
   "cell_type": "code",
   "execution_count": null,
   "metadata": {},
   "outputs": [],
   "source": []
  }
 ],
 "metadata": {
  "kernelspec": {
   "display_name": "Python 3",
   "language": "python",
   "name": "python3"
  },
  "language_info": {
   "codemirror_mode": {
    "name": "ipython",
    "version": 3
   },
   "file_extension": ".py",
   "mimetype": "text/x-python",
   "name": "python",
   "nbconvert_exporter": "python",
   "pygments_lexer": "ipython3"
  }
 },
 "nbformat": 4,
 "nbformat_minor": 2
}
