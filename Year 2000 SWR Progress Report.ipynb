{
 "cells": [
  {
   "cell_type": "code",
   "execution_count": null,
   "metadata": {},
   "outputs": [],
   "source": [
    "%matplotlib inline\n",
    "from pprint import pprint\n",
    "\n",
    "#import plot\n",
    "import simulate\n",
    "import harvesting\n",
    "import market\n",
    "import withdrawal\n",
    "import metrics\n",
    "\n",
    "from decimal import Decimal\n",
    "\n",
    "import itertools\n",
    "import math\n",
    "import pandas\n",
    "import scipy.stats"
   ]
  },
  {
   "cell_type": "code",
   "execution_count": null,
   "metadata": {},
   "outputs": [],
   "source": [
    "YEARS = 20\n",
    "\n",
    "df = pandas.DataFrame(index=range(1, YEARS+1))\n",
    "\n",
    "MARKET = market.Returns_US_1871()\n",
    "for i in range(MARKET.start_year, 2001):\n",
    "    s = simulate.withdrawals(MARKET.iter_from(i), years=YEARS, harvesting=harvesting.N_60_RebalanceHarvesting, withdraw=withdrawal.ConstantDollar)\n",
    "    pvs = [int(n.portfolio_post.value_r) for n in s]\n",
    "    df[i] = pvs"
   ]
  },
  {
   "cell_type": "code",
   "execution_count": null,
   "metadata": {},
   "outputs": [],
   "source": [
    "data = df.T[20]\n",
    "print(data[2000])\n",
    "print(scipy.stats.percentileofscore(data, data[2000]))"
   ]
  },
  {
   "cell_type": "code",
   "execution_count": null,
   "metadata": {},
   "outputs": [],
   "source": [
    "data = df.T[YEARS]\n",
    "y2k_port = data[2000]\n",
    "\n",
    "import seaborn\n",
    "from matplotlib import pyplot as plt\n",
    "import matplotlib\n",
    "seaborn.set(style=\"whitegrid\")\n",
    "seaborn.set_context('poster')\n",
    "plt.figure(figsize=(12,6))\n",
    "plt.title('Portfolio value after 20 years')\n",
    "g = seaborn.lineplot(data=pandas.DataFrame({'$': data, 'y2k' : y2k_port}))\n",
    "seaborn.despine(left=True, bottom=True, offset=20)\n",
    "g.axes.yaxis.set_major_formatter(\n",
    "    matplotlib.ticker.FuncFormatter(lambda x, p: format(int(x), ',')))"
   ]
  },
  {
   "cell_type": "code",
   "execution_count": null,
   "metadata": {},
   "outputs": [],
   "source": [
    "s = data.sort_values()\n",
    "s[0:10]"
   ]
  },
  {
   "cell_type": "code",
   "execution_count": null,
   "metadata": {},
   "outputs": [],
   "source": [
    "data = df.T[YEARS]\n",
    "print(scipy.stats.percentileofscore(data, data[2000]))"
   ]
  },
  {
   "cell_type": "code",
   "execution_count": null,
   "metadata": {},
   "outputs": [],
   "source": []
  }
 ],
 "metadata": {
  "anaconda-cloud": {},
  "kernelspec": {
   "display_name": "Python 3",
   "language": "python",
   "name": "python3"
  },
  "language_info": {
   "codemirror_mode": {
    "name": "ipython",
    "version": 3
   },
   "file_extension": ".py",
   "mimetype": "text/x-python",
   "name": "python",
   "nbconvert_exporter": "python",
   "pygments_lexer": "ipython3"
  }
 },
 "nbformat": 4,
 "nbformat_minor": 4
}
