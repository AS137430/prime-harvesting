{
 "cells": [
  {
   "cell_type": "code",
   "execution_count": null,
   "metadata": {},
   "outputs": [],
   "source": [
    "%matplotlib inline\n",
    "%pdb off\n",
    "\n",
    "import simulate\n",
    "import withdrawal\n",
    "import plot\n",
    "import market\n",
    "from portfolio import Portfolio\n",
    "import harvesting"
   ]
  },
  {
   "cell_type": "code",
   "execution_count": null,
   "metadata": {},
   "outputs": [],
   "source": [
    "series = market.Returns_US_1871()"
   ]
  },
  {
   "cell_type": "code",
   "execution_count": null,
   "metadata": {},
   "outputs": [],
   "source": [
    "def sim(series, years=30):\n",
    "    p = Portfolio(600000,400000)\n",
    "    w = withdrawal.PMTPrime(p, final_age=100, discount_rate=0.0372).withdrawals()\n",
    "\n",
    "    annual = []\n",
    "    data = w.send(None)\n",
    "    annual.append(data)\n",
    "    years -= 1\n",
    "\n",
    "    for _, d in zip(range(years), series):\n",
    "        data = w.send(d)\n",
    "        annual.append(data)\n",
    "    return annual\n",
    "\n",
    "year = 1966\n",
    "\n",
    "def lens(n):\n",
    "    return float(n.portfolio_bonds/n.portfolio_n)\n",
    "#    return float(n.withdraw_r)\n",
    "#    return float(n.portfolio_r)\n",
    "\n",
    "x = sim(series.iter_from(year))\n",
    "plot.seaborn.tsplot([lens(n) for n in x], color='blue', legend=True, condition='PMTPrime')\n",
    "\n",
    "x = simulate.withdrawals(series.iter_from(year), years=30,\n",
    "                        harvesting = harvesting.N_60_RebalanceHarvesting,\n",
    "                        withdraw = withdrawal.VPW)\n",
    "a = plot.seaborn.tsplot([lens(n) for n in x], color='green', legend=True, condition='VPM')\n",
    "a.set(title='1966 Retiree Bond Percentage')"
   ]
  },
  {
   "cell_type": "code",
   "execution_count": null,
   "metadata": {},
   "outputs": [],
   "source": []
  }
 ],
 "metadata": {
  "anaconda-cloud": {},
  "kernelspec": {
   "display_name": "Python [default]",
   "language": "python",
   "name": "python3"
  },
  "language_info": {
   "codemirror_mode": {
    "name": "ipython",
    "version": 3
   },
   "file_extension": ".py",
   "mimetype": "text/x-python",
   "name": "python",
   "nbconvert_exporter": "python",
   "pygments_lexer": "ipython3"
  }
 },
 "nbformat": 4,
 "nbformat_minor": 1
}
