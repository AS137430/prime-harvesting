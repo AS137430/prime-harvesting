{
 "cells": [
  {
   "cell_type": "code",
   "execution_count": null,
   "metadata": {},
   "outputs": [],
   "source": [
    "%matplotlib inline\n",
    "from pprint import pprint\n",
    "import itertools\n",
    "\n",
    "from market import Returns_US_1871\n",
    "from simulate import simulate_withdrawals\n",
    "from harvesting import N_60_RebalanceHarvesting as N_60\n",
    "from withdrawal import InvertedWithdrawals, ConstantPercentage\n",
    "from plot import plot_two"
   ]
  },
  {
   "cell_type": "code",
   "execution_count": null,
   "metadata": {},
   "outputs": [],
   "source": [
    "def sim(series):\n",
    "    years = 30\n",
    "    (r1, r2) = itertools.tee(series)\n",
    "    x = simulate_withdrawals(r1, years=years, harvesting=N_60, withdraw=ConstantPercentage)\n",
    "    y = simulate_withdrawals(r2, years=years, harvesting=N_60, withdraw=InvertedWithdrawals)\n",
    "\n",
    "    x_wr = [n.withdraw_r for n in x]\n",
    "    x_portfolio = [n.portfolio_r for n in x]\n",
    "\n",
    "    y_wr = [n.withdraw_r for n in y]\n",
    "    y_portfolio = [(n.portfolio_r + n.withdraw_r) for n in y]\n",
    "    return (x_wr, x_portfolio, y_wr, y_portfolio)\n"
   ]
  },
  {
   "cell_type": "code",
   "execution_count": null,
   "metadata": {},
   "outputs": [],
   "source": [
    "year = 1970\n",
    "r = Returns_US_1871()\n",
    "from metrics import cew\n",
    "\n",
    "const_s = []\n",
    "inv_s = []\n",
    "\n",
    "for i in range(1871, 1871+113):\n",
    "    y = sim(r.iter_from(i))\n",
    "    const_s.append(cew(y[0]))\n",
    "    inv_s.append(cew(y[2]))\n",
    "\n",
    "plot_two(const_s, inv_s, s1_title='4%', s2_title='3% Tilt Inverted', x_label='Year of Retirement',\n",
    "         title='Inverted Withdrawals vs. Constant Percentage Withdrawals',\n",
    "         y_lim=(20000,75000))"
   ]
  },
  {
   "cell_type": "code",
   "execution_count": null,
   "metadata": {},
   "outputs": [],
   "source": [
    "plot_two(y[0], y[2], s1_title='4%', s2_title='Inverted', x_label='Year of Retirement',\n",
    "         title='Inverted Withdrawals vs. Constant Percentage Withdrawals (%s)' % year,\n",
    "         y_lim=(0,100000))"
   ]
  },
  {
   "cell_type": "code",
   "execution_count": null,
   "metadata": {},
   "outputs": [],
   "source": []
  }
 ],
 "metadata": {
  "kernelspec": {
   "display_name": "Python 3",
   "language": "python",
   "name": "python3"
  },
  "language_info": {
   "codemirror_mode": {
    "name": "ipython",
    "version": 3
   },
   "file_extension": ".py",
   "mimetype": "text/x-python",
   "name": "python",
   "nbconvert_exporter": "python",
   "pygments_lexer": "ipython3"
  }
 },
 "nbformat": 4,
 "nbformat_minor": 0
}
