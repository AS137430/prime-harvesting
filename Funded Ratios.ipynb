{
 "cells": [
  {
   "cell_type": "code",
   "execution_count": null,
   "metadata": {},
   "outputs": [],
   "source": [
    "import simulate\n",
    "import withdrawal\n",
    "import market\n",
    "import harvesting\n",
    "import metrics\n",
    "import lens\n",
    "\n",
    "from decimal import Decimal\n",
    "import decimal\n",
    "import itertools\n",
    "import pandas\n",
    "import numpy\n",
    "import math"
   ]
  },
  {
   "cell_type": "code",
   "execution_count": null,
   "metadata": {},
   "outputs": [],
   "source": [
    "%matplotlib inline\n",
    "#%pdb on\n",
    "import seaborn\n",
    "from matplotlib import pyplot as plt\n",
    "import matplotlib\n",
    "seaborn.set(style=\"whitegrid\")\n",
    "seaborn.set_context('poster')"
   ]
  },
  {
   "cell_type": "code",
   "execution_count": null,
   "metadata": {},
   "outputs": [],
   "source": [
    "stock_er = Decimal('.05')\n",
    "bond_er = Decimal('.018')\n",
    "inflation = Decimal('.02')\n",
    "stock_pct = Decimal('.6')\n",
    "discount_rate = (stock_pct * stock_er) + ((1-stock_pct) * bond_er)\n",
    "#discount_rate = Decimal('.0054')\n",
    "max_age = 92 # 95th percentile SOA2012 for 65/65 male/female\n",
    "expenses = 40_000\n",
    "\n",
    "def pv_expenses(age):\n",
    "    years = max_age - age + 1\n",
    "    e = [expenses] * years\n",
    "    npv = numpy.npv(discount_rate, e)\n",
    "    return npv"
   ]
  },
  {
   "cell_type": "code",
   "execution_count": null,
   "metadata": {},
   "outputs": [],
   "source": [
    "print(discount_rate)"
   ]
  },
  {
   "cell_type": "code",
   "execution_count": null,
   "metadata": {},
   "outputs": [],
   "source": [
    "pv_expenses(70)"
   ]
  },
  {
   "cell_type": "code",
   "execution_count": null,
   "metadata": {},
   "outputs": [],
   "source": [
    "def run(age, funded_ratio):\n",
    "    npv = pv_expenses(age)\n",
    "    portfolio_value = npv * funded_ratio\n",
    "    portfolio = (portfolio_value, 0) # this is a 100/0 portfolio but it'll get rebalanced before we start.\n",
    "    iwd = expenses / portfolio_value\n",
    "    wd_s = lambda p, h: withdrawal.ConstantDollar(p, h, rate=iwd)\n",
    "    df = simulate.calc_lens(lambda p: harvesting.AgeBased(p, 100, starting_age=age), wd_s, max_age-age, lens.calc_years_sustained, portfolio=portfolio)\n",
    "    return df"
   ]
  },
  {
   "cell_type": "code",
   "execution_count": null,
   "metadata": {},
   "outputs": [],
   "source": [
    "#run(70, Decimal('1.0')).head()"
   ]
  },
  {
   "cell_type": "code",
   "execution_count": null,
   "metadata": {},
   "outputs": [],
   "source": [
    "def long_sim():\n",
    "    data = pandas.DataFrame(columns=['age', 'funded_ratio', 'failure_rate'])\n",
    "    for age in range(40, 90):\n",
    "        for funded in range(80, 251, 1):\n",
    "            f = Decimal(funded) / 100\n",
    "            s = run(age, f)\n",
    "            failures = len(s[s<0])\n",
    "            count = len(s)\n",
    "            failure_rate = failures / count\n",
    "            data = data.append({'age': age, 'funded_ratio': f, 'failure_rate': failure_rate}, ignore_index=True)\n",
    "    print(data.head())\n",
    "    return data"
   ]
  },
  {
   "cell_type": "code",
   "execution_count": null,
   "metadata": {},
   "outputs": [],
   "source": [
    "data = long_sim()\n",
    "#data.to_csv('funded_failures.csv')\n",
    "#data = pandas.read_csv('funded_failures.csv')"
   ]
  },
  {
   "cell_type": "code",
   "execution_count": null,
   "metadata": {},
   "outputs": [],
   "source": [
    "plt.figure(figsize=(12,8))\n",
    "plt.title('Failure Rates')\n",
    "seaborn.scatterplot(data=data, x='age', y='funded_ratio', hue='failure_rate', legend=False)"
   ]
  },
  {
   "cell_type": "code",
   "execution_count": null,
   "metadata": {},
   "outputs": [],
   "source": [
    "plt.figure(figsize=(12,8))\n",
    "plt.title('Failure Rates')\n",
    "seaborn.scatterplot(data=data[data['failure_rate']>0.05], x='age', y='funded_ratio', hue='failure_rate', legend=False)"
   ]
  },
  {
   "cell_type": "code",
   "execution_count": null,
   "metadata": {},
   "outputs": [],
   "source": [
    "plt.figure(figsize=(8,6))\n",
    "plt.title('Funded Ratio 0.8')\n",
    "seaborn.lineplot(data=data[data['funded_ratio'] == Decimal('0.8')], x='age', y='failure_rate')"
   ]
  },
  {
   "cell_type": "code",
   "execution_count": null,
   "metadata": {},
   "outputs": [],
   "source": [
    "plt.figure(figsize=(8,6))\n",
    "plt.title('Funded Ratio 0.9')\n",
    "seaborn.lineplot(data=data[data['funded_ratio'] == Decimal('0.9')], x='age', y='failure_rate')"
   ]
  },
  {
   "cell_type": "code",
   "execution_count": null,
   "metadata": {},
   "outputs": [],
   "source": [
    "plt.figure(figsize=(8,6))\n",
    "plt.title('Funded Ratio 1.0')\n",
    "seaborn.lineplot(data=data[data['funded_ratio'] == Decimal('1.0')], x='age', y='failure_rate')"
   ]
  },
  {
   "cell_type": "code",
   "execution_count": null,
   "metadata": {},
   "outputs": [],
   "source": [
    "plt.figure(figsize=(8,6))\n",
    "plt.title('Funded Ratio 1.1')\n",
    "seaborn.lineplot(data=data[data['funded_ratio'] == Decimal('1.1')], x='age', y='failure_rate')"
   ]
  },
  {
   "cell_type": "code",
   "execution_count": null,
   "metadata": {},
   "outputs": [],
   "source": [
    "plt.figure(figsize=(8,6))\n",
    "plt.title('Funded Ratio 1.2')\n",
    "seaborn.lineplot(data=data[data['funded_ratio'] == Decimal('1.2')], x='age', y='failure_rate')"
   ]
  },
  {
   "cell_type": "code",
   "execution_count": null,
   "metadata": {},
   "outputs": [],
   "source": [
    "plt.figure(figsize=(8,6))\n",
    "plt.title('Funded Ratio 1.3')\n",
    "seaborn.lineplot(data=data[data['funded_ratio'] == Decimal('1.3')], x='age', y='failure_rate')"
   ]
  },
  {
   "cell_type": "code",
   "execution_count": null,
   "metadata": {},
   "outputs": [],
   "source": [
    "plt.figure(figsize=(8,6))\n",
    "plt.title('Funded Ratio 1.4')\n",
    "seaborn.lineplot(data=data[data['funded_ratio'] == Decimal('1.4')], x='age', y='failure_rate')"
   ]
  },
  {
   "cell_type": "code",
   "execution_count": null,
   "metadata": {},
   "outputs": [],
   "source": [
    "plt.figure(figsize=(8,6))\n",
    "plt.title('Funded Ratio 1.5')\n",
    "seaborn.lineplot(data=data[data['funded_ratio'] == Decimal('1.5')], x='age', y='failure_rate')"
   ]
  },
  {
   "cell_type": "code",
   "execution_count": null,
   "metadata": {},
   "outputs": [],
   "source": [
    "f_by_age = data[data['failure_rate'] <= Decimal('.05')].groupby('age').min()\n",
    "print(f_by_age.head())\n",
    "plt.figure(figsize=(8,6))\n",
    "plt.title('Funded Ratio by Age: 5% failure rate')\n",
    "seaborn.lineplot(data=f_by_age['funded_ratio'].astype(float))"
   ]
  },
  {
   "cell_type": "code",
   "execution_count": null,
   "metadata": {},
   "outputs": [],
   "source": [
    "f_by_age = data[data['failure_rate'] <= Decimal('0')].groupby('age').min()\n",
    "print(f_by_age.head())\n",
    "plt.figure(figsize=(8,6))\n",
    "plt.title('Funded Ratio by Age: 0% failure rate')\n",
    "seaborn.lineplot(data=f_by_age['funded_ratio'].astype(float))"
   ]
  },
  {
   "cell_type": "code",
   "execution_count": null,
   "metadata": {},
   "outputs": [],
   "source": [
    "import scipy.stats\n",
    "for age in [50, 55, 60, 65, 70]:\n",
    "    f = data[data['age'] == age]\n",
    "    f = f[f['funded_ratio'] <= Decimal('1.5')]\n",
    "    print(f.head())\n",
    "    plt.figure(figsize=(8,6))\n",
    "    plt.title(f'Age {age}')\n",
    "    seaborn.lineplot(data=f, x='funded_ratio', y='failure_rate')\n",
    "    print(age, scipy.stats.linregress(f['funded_ratio'], f['failure_rate']))"
   ]
  },
  {
   "cell_type": "code",
   "execution_count": null,
   "metadata": {},
   "outputs": [],
   "source": [
    "f = data[data['age'] == 50]\n",
    "f[f['funded_ratio'] <= Decimal('1.11')]"
   ]
  },
  {
   "cell_type": "code",
   "execution_count": null,
   "metadata": {},
   "outputs": [],
   "source": [
    "def sim():\n",
    "    data = pandas.DataFrame(columns=['age', 'funded_ratio', 'failure_rate'])\n",
    "    for age in range(40, 90):\n",
    "        for funded in range(80, 151, 1):\n",
    "            f = Decimal(funded) / 100\n",
    "            s = run(age, f)\n",
    "            failures = len(s[s<0])\n",
    "            count = len(s)\n",
    "            failure_rate = failures / count\n",
    "            data = data.append({'age': age, 'funded_ratio': f, 'failure_rate': failure_rate}, ignore_index=True)\n",
    "    print(data.head())\n",
    "    return data"
   ]
  },
  {
   "cell_type": "code",
   "execution_count": null,
   "metadata": {},
   "outputs": [],
   "source": [
    "data_new = sim()\n",
    "#data_new.to_csv('funded_failures_tips.csv')\n",
    "#data_new = pandas.read_csv('funded_failures_tips.csv')"
   ]
  },
  {
   "cell_type": "code",
   "execution_count": null,
   "metadata": {},
   "outputs": [],
   "source": [
    "plt.figure(figsize=(8,6))\n",
    "plt.title('Funded Ratio 1.0')\n",
    "seaborn.lineplot(data=data_new[data_new['funded_ratio'] == Decimal('1.0')], x='age', y='failure_rate')"
   ]
  },
  {
   "cell_type": "code",
   "execution_count": null,
   "metadata": {},
   "outputs": [],
   "source": [
    "new = pandas.DataFrame(data_new[data_new['funded_ratio'] == Decimal('1.0')])\n",
    "new['discount'] = '0.54%'"
   ]
  },
  {
   "cell_type": "code",
   "execution_count": null,
   "metadata": {},
   "outputs": [],
   "source": [
    "old = pandas.DataFrame(data[data['funded_ratio'] == Decimal('1.0')])\n",
    "old['discount'] = '3.73%'"
   ]
  },
  {
   "cell_type": "code",
   "execution_count": null,
   "metadata": {},
   "outputs": [],
   "source": [
    "joint = old.append(new)"
   ]
  },
  {
   "cell_type": "code",
   "execution_count": null,
   "metadata": {},
   "outputs": [],
   "source": [
    "plt.figure(figsize=(8,6))\n",
    "plt.title('Funded Ratio 1.0')\n",
    "seaborn.lineplot(data=joint, x='age', y='failure_rate', hue='discount')"
   ]
  },
  {
   "cell_type": "code",
   "execution_count": null,
   "metadata": {},
   "outputs": [],
   "source": [
    "f_by_age = data_new[data_new['failure_rate'] <= Decimal('0')].groupby('age').min()\n",
    "print(f_by_age.head())\n",
    "plt.figure(figsize=(8,6))\n",
    "plt.title('Funded Ratio (0.54% discount rate) by Age: 0% failure rate')\n",
    "seaborn.lineplot(data=f_by_age['funded_ratio'].astype(float))"
   ]
  },
  {
   "cell_type": "code",
   "execution_count": null,
   "metadata": {},
   "outputs": [],
   "source": []
  }
 ],
 "metadata": {
  "kernelspec": {
   "display_name": "Python 3",
   "language": "python",
   "name": "python3"
  },
  "language_info": {
   "codemirror_mode": {
    "name": "ipython",
    "version": 3
   },
   "file_extension": ".py",
   "mimetype": "text/x-python",
   "name": "python",
   "nbconvert_exporter": "python",
   "pygments_lexer": "ipython3"
  }
 },
 "nbformat": 4,
 "nbformat_minor": 4
}
