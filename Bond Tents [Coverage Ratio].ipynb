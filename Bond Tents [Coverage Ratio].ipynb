{
 "cells": [
  {
   "cell_type": "code",
   "execution_count": null,
   "metadata": {},
   "outputs": [],
   "source": [
    "%matplotlib inline\n",
    "from pprint import pprint\n",
    "from decimal import Decimal\n",
    "import itertools\n",
    "import metrics\n",
    "import pandas\n",
    "\n",
    "import simulate\n",
    "import harvesting\n",
    "import market\n",
    "import withdrawal\n",
    "import numpy"
   ]
  },
  {
   "cell_type": "code",
   "execution_count": null,
   "metadata": {},
   "outputs": [],
   "source": [
    "import seaborn\n",
    "from matplotlib import pyplot as plt\n",
    "import matplotlib\n",
    "seaborn.set(style=\"whitegrid\")\n",
    "seaborn.set_context('poster')"
   ]
  },
  {
   "cell_type": "code",
   "execution_count": null,
   "metadata": {},
   "outputs": [],
   "source": [
    "series = market.Returns_US_1871()"
   ]
  },
  {
   "cell_type": "code",
   "execution_count": null,
   "metadata": {},
   "outputs": [],
   "source": [
    "def mk_lens(type_):\n",
    "    m = {'Withdrawal (Nominal)': lambda x: float(x.withdraw_n),\n",
    "         'Withdrawal (Real)' : lambda x: float(x.withdraw_r),\n",
    "         'Portfolio (Nominal)': lambda x: float(x.portfolio_n),\n",
    "         'Portfolio (Real)': lambda x: float(x.portfolio_r),\n",
    "         'Bond %': lambda x: float(x.portfolio_pre.bonds / (x.portfolio_pre.bonds + x.portfolio_pre.stocks))\n",
    "    }\n",
    "    lens = m[type_]\n",
    "    lens.__label__ = type_\n",
    "    return lens\n",
    "\n",
    "def fn(lens, x):\n",
    "    return [lens(_) for _ in x]"
   ]
  },
  {
   "cell_type": "code",
   "execution_count": null,
   "metadata": {},
   "outputs": [],
   "source": [
    "def run_sim(year, key, length=35):\n",
    "    h = {\n",
    "        'tent': lambda p: harvesting.ParameterGlidepath(p, 0.4, 0.75, 30),\n",
    "        'static-60': harvesting.make_rebalancer(0.60),\n",
    "    }\n",
    "\n",
    "    portfolio = (400_000, 600_000)\n",
    "    \n",
    "    return simulate.withdrawals(series.iter_from(year),\n",
    "                                 withdraw=withdrawal.ConstantDollar,\n",
    "                                 years=length,\n",
    "                                 portfolio=portfolio,\n",
    "                                 harvesting=h[key])"
   ]
  },
  {
   "cell_type": "code",
   "execution_count": null,
   "metadata": {},
   "outputs": [],
   "source": [
    "def cew_one(year):\n",
    "    tent = run_sim(year, 'tent')\n",
    "    static = run_sim(year, 'static-60')\n",
    "    \n",
    "    from lens import calc_coverage_ratio\n",
    "    m_tent = calc_coverage_ratio(tent, 35)\n",
    "    m_static = calc_coverage_ratio(static, 35)\n",
    "    \n",
    "    return {'tent': m_tent, 'static-60': m_static}\n",
    "    \n",
    "\n",
    "def cew_all():\n",
    "    df = pandas.DataFrame(index=range(1887, 2019 - 30 + 1), columns=['tent', 'static-60'])\n",
    "    for i in range(1887, 2019 - 30 + 1):\n",
    "        r = cew_one(i)\n",
    "        df.loc[i] = r\n",
    "    return df"
   ]
  },
  {
   "cell_type": "code",
   "execution_count": null,
   "metadata": {},
   "outputs": [],
   "source": [
    "cew_one(1929)"
   ]
  },
  {
   "cell_type": "code",
   "execution_count": null,
   "metadata": {},
   "outputs": [],
   "source": [
    "%time\n",
    "df = cew_all()"
   ]
  },
  {
   "cell_type": "code",
   "execution_count": null,
   "metadata": {},
   "outputs": [],
   "source": [
    "df.head()"
   ]
  },
  {
   "cell_type": "code",
   "execution_count": null,
   "metadata": {},
   "outputs": [],
   "source": [
    "tent_wins = df[df['tent'] > df['static-60']]\n",
    "print(len(tent_wins))\n",
    "diff = df['tent'] - df['static-60']\n",
    "plt.figure(figsize=(8,6))\n",
    "plt.title('Difference in Coverage Ratios')\n",
    "seaborn.lineplot(data=diff.astype(float))"
   ]
  },
  {
   "cell_type": "code",
   "execution_count": null,
   "metadata": {},
   "outputs": [],
   "source": [
    "diff[diff > 0]"
   ]
  },
  {
   "cell_type": "code",
   "execution_count": null,
   "metadata": {},
   "outputs": [],
   "source": [
    "tent_wins['tent'] / tent_wins['static-60']"
   ]
  },
  {
   "cell_type": "code",
   "execution_count": null,
   "metadata": {},
   "outputs": [],
   "source": [
    "def chart_one(year, lens):\n",
    "    tent = run_sim(year, 'tent')\n",
    "    static = run_sim(year, 'static-60')\n",
    "    \n",
    "    df = pandas.DataFrame({\n",
    "        'tent' : fn(lens, tent),\n",
    "        'static-60' : fn(lens, static),\n",
    "    })\n",
    "    g = seaborn.relplot(\n",
    "            data=df,\n",
    "            kind='line',\n",
    "            aspect=2,\n",
    "        )\n",
    "    g.fig.autofmt_xdate()\n",
    "    g.despine(left=True, bottom=True, offset=20)\n",
    "    g.fig.suptitle(f'Retirement in {year}')\n",
    "    return g"
   ]
  },
  {
   "cell_type": "code",
   "execution_count": null,
   "metadata": {},
   "outputs": [],
   "source": [
    "chart_one(1929, mk_lens('Withdrawal (Real)'))\n",
    "#chart_one(1929, mk_lens('Bond %'))\n",
    "s = df.loc[1929]"
   ]
  },
  {
   "cell_type": "code",
   "execution_count": null,
   "metadata": {},
   "outputs": [],
   "source": [
    "def one(year, lens):\n",
    "    tent = run_sim(year, 'tent')\n",
    "    static = run_sim(year, 'static-60')\n",
    "    \n",
    "    df = pandas.DataFrame({\n",
    "        'tent' : fn(lens, tent),\n",
    "        'static-60' : fn(lens, static),\n",
    "    })\n",
    "    return df"
   ]
  },
  {
   "cell_type": "code",
   "execution_count": null,
   "metadata": {},
   "outputs": [],
   "source": [
    "one(1929, mk_lens('Bond %')).head()"
   ]
  },
  {
   "cell_type": "code",
   "execution_count": null,
   "metadata": {},
   "outputs": [],
   "source": []
  }
 ],
 "metadata": {
  "kernelspec": {
   "display_name": "Python 3",
   "language": "python",
   "name": "python3"
  },
  "language_info": {
   "codemirror_mode": {
    "name": "ipython",
    "version": 3
   },
   "file_extension": ".py",
   "mimetype": "text/x-python",
   "name": "python",
   "nbconvert_exporter": "python",
   "pygments_lexer": "ipython3"
  }
 },
 "nbformat": 4,
 "nbformat_minor": 4
}
