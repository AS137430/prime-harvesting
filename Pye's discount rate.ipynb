{
 "cells": [
  {
   "cell_type": "markdown",
   "metadata": {},
   "source": [
    "Gordon Pye chose 8% as the discount rate based on its performance.\n",
    "\n",
    "He (appears to have) looked average withdrawal (as a percentage of the initial portfolio) at ages 65-100 and decided\n",
    "that 8% gave the highest withdrawal at each point along the spectrum.\n",
    "\n",
    "He mentions 10,000 replications. I take that to mean for each rate, he ran a 10,000 iteration Monte Carlo analysis and then created averages at each age.\n",
    "\n",
    "Pye uses a mean of .07 and a standard deviation of .16 in his Monte Carlo. He uses normal -- not lognormal -- for his Monte Carlo. He says, \"Tests using the lognormal distribution show little effect on the results. Also, using the log- normal distribution is not conservative, as it reduces the chances of large negative returns.\"\n",
    "\n",
    "He doesn't include fixed income and claims that, \"Including some fixed income issues in the portfolio has little effect on the results of the simulations.\""
   ]
  },
  {
   "cell_type": "code",
   "execution_count": null,
   "metadata": {},
   "outputs": [],
   "source": [
    "import itertools\n",
    "import pandas\n",
    "import montecarlo\n",
    "import dms\n",
    "import simulate\n",
    "from harvesting import make_rebalancer\n",
    "from withdrawal import RetrenchmentRule, VPW\n",
    "from pprint import pprint\n",
    "\n",
    "%precision 3\n",
    "%pdb off"
   ]
  },
  {
   "cell_type": "code",
   "execution_count": null,
   "metadata": {},
   "outputs": [],
   "source": [
    "%matplotlib inline\n",
    "import plot\n",
    "\n",
    "s1, s2 = itertools.tee(montecarlo.NormalReturns(0.07, .16))\n",
    "\n",
    "x2 = simulate.withdrawals(s2,\n",
    "                         withdraw=lambda p, s: RetrenchmentRule(p, s, only_down=False),\n",
    "                         years=45,\n",
    "                         portfolio=(600000,400000),\n",
    "                         harvesting=make_rebalancer(.6))\n",
    "plot.seaborn.tsplot([float(n.withdraw_r) for n in x2], color='gray', legend=True, condition='Raw PMT')\n",
    "\n",
    "x1 = simulate.withdrawals(s1,\n",
    "                         withdraw=lambda p, s: RetrenchmentRule(p, s),\n",
    "                         years=45,\n",
    "                         portfolio=(600000,400000),\n",
    "                         harvesting=make_rebalancer(.6))\n",
    "plot.seaborn.tsplot([float(n.withdraw_r) for n in x1], color='orange', legend=True, condition='Retrenchment Rule')"
   ]
  },
  {
   "cell_type": "code",
   "execution_count": null,
   "metadata": {},
   "outputs": [],
   "source": [
    "%matplotlib inline\n",
    "import plot\n",
    "\n",
    "s1, s2 = itertools.tee(montecarlo.NormalReturns(0.07, .16))\n",
    "\n",
    "x2 = simulate.withdrawals(s2,\n",
    "                         withdraw=lambda p, s: RetrenchmentRule(p, s, only_down=False, discount_rate=0.08),\n",
    "                         years=30,\n",
    "                         portfolio=(600000,400000),\n",
    "                         harvesting=make_rebalancer(.6))\n",
    "plot.seaborn.tsplot([float(n.withdraw_r) for n in x2], color='gray', legend=True, condition='8% discount')\n",
    "\n",
    "x1 = simulate.withdrawals(s1,\n",
    "                         withdraw=lambda p, s: RetrenchmentRule(p, s, only_down=False, discount_rate=0.05),\n",
    "                         years=30,\n",
    "                         portfolio=(600000,400000),\n",
    "                         harvesting=make_rebalancer(.6))\n",
    "plot.seaborn.tsplot([float(n.withdraw_r) for n in x1], color='orange', legend=True, condition='5% discount')"
   ]
  },
  {
   "cell_type": "code",
   "execution_count": null,
   "metadata": {},
   "outputs": [],
   "source": [
    "def make_frame():\n",
    "    return pandas.DataFrame(columns=[65, 70, 75, 80, 85, 90, 95, 100])\n",
    "\n",
    "def sim(rate, iterations, series):\n",
    "    years_to_go = 36\n",
    "    \n",
    "    pd = make_frame()\n",
    "\n",
    "    for i in range(iterations):\n",
    "        s = simulate.withdrawals(series,\n",
    "                                 harvesting=make_rebalancer(1),\n",
    "                                 withdraw=lambda p, h: RetrenchmentRule(p, h, discount_rate=rate),\n",
    "                                 years=years_to_go)\n",
    "        wds = [n.withdraw_pct_orig for n in s]\n",
    "        data = wds[:(101-65):5]\n",
    "        pd.loc[i] = data\n",
    "\n",
    "    yearly = {}\n",
    "    for i in range(65, 101, 5):\n",
    "        yearly[i] = pd[i].median()\n",
    "    return yearly\n",
    "\n",
    "def extract_dms(k):\n",
    "    e = k['equities']\n",
    "    return (e[0] / 100.0, e[2] / 100.0)"
   ]
  },
  {
   "cell_type": "code",
   "execution_count": null,
   "metadata": {},
   "outputs": [],
   "source": [
    "sims = {\n",
    "    'pye' : montecarlo.NormalReturns(0.07, .16),\n",
    "#    'blanchett_100_historical' : montecarlo.historical[100],\n",
    "#    'blanchett_60_historical' : montecarlo.historical[60],\n",
    "#    'blanchett_40_historical' : montecarlo.historical[40],\n",
    "#    'blanchett_60_conservative' : montecarlo.conservative[60],\n",
    "#    'australia' : montecarlo.NormalReturns(*extract_dms(dms.australia)),\n",
    "#    'us' : montecarlo.NormalReturns(*extract_dms(dms.us)),\n",
    "#    'world' : montecarlo.NormalReturns(*extract_dms(dms.world)),\n",
    "#    'uk' : montecarlo.NormalReturns(*extract_dms(dms.uk)),\n",
    "#    'japan' : montecarlo.NormalReturns(*extract_dms(dms.japan)),\n",
    "#    'europe' : montecarlo.NormalReturns(*extract_dms(dms.europe)),\n",
    "#    'south africa' : montecarlo.NormalReturns(*extract_dms(dms.south_africa)),\n",
    "#    'ex-us' : montecarlo.NormalReturns(*extract_dms(dms.ex_us))\n",
    "}"
   ]
  },
  {
   "cell_type": "code",
   "execution_count": null,
   "metadata": {},
   "outputs": [],
   "source": [
    "def run_all(loops, display=False, to_csv=False):\n",
    "    for label in sorted(sims.keys()):\n",
    "        print('[', label, ']', end='\\t')\n",
    "        pd = make_frame()\n",
    "        print('Starting simulations:', end=' ')\n",
    "        for rate in range(2, 13, 1):\n",
    "            print(rate, end=' ')\n",
    "            pd.loc[rate] = sim(rate/100.0, loops, sims[label])\n",
    "        print()\n",
    "        if display:\n",
    "            print(pd)\n",
    "        if to_csv:\n",
    "            pd.to_csv('RDR-%s.csv' % label)\n",
    "\n",
    "%time run_all(25, to_csv=False)"
   ]
  },
  {
   "cell_type": "code",
   "execution_count": null,
   "metadata": {},
   "outputs": [],
   "source": [
    "from metrics import hreff_cew_floor\n",
    "from decimal import Decimal\n",
    "\n",
    "hreff4 = lambda cfs: float(hreff_cew_floor(Decimal('2'), [Decimal(c * 100) for c in cfs]))\n",
    "\n",
    "if False:\n",
    "    pd = pandas.read_csv('pye.csv')\n",
    "    for index, row in pd.iterrows():\n",
    "        #print(int(row['Discount Rate']), end=' ')\n",
    "        print(hreff4(row[1:])/100)"
   ]
  },
  {
   "cell_type": "code",
   "execution_count": null,
   "metadata": {},
   "outputs": [],
   "source": []
  }
 ],
 "metadata": {
  "anaconda-cloud": {},
  "kernelspec": {
   "display_name": "Python [default]",
   "language": "python",
   "name": "python3"
  },
  "language_info": {
   "codemirror_mode": {
    "name": "ipython",
    "version": 3
   },
   "file_extension": ".py",
   "mimetype": "text/x-python",
   "name": "python",
   "nbconvert_exporter": "python",
   "pygments_lexer": "ipython3"
  }
 },
 "nbformat": 4,
 "nbformat_minor": 1
}
