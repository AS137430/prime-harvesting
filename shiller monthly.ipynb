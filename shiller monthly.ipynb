{
 "cells": [
  {
   "cell_type": "markdown",
   "metadata": {},
   "source": [
    "We will use *pandas*, *numpy*, *statsmodel*, and *scipy* to hold our data and do various calculations."
   ]
  },
  {
   "cell_type": "code",
   "execution_count": null,
   "metadata": {},
   "outputs": [],
   "source": [
    "import pandas\n",
    "import numpy\n",
    "import scipy.stats\n",
    "from statsmodels.formula.api import ols"
   ]
  },
  {
   "cell_type": "markdown",
   "metadata": {},
   "source": [
    "*requests_cache* lets us download Shiller's data from the web and cache the data locally so we're not downloading it **every** time we run this.\n",
    "*xlrd* is an Excel engine that lets pandas parse the Excel file and build a DataFrame from it."
   ]
  },
  {
   "cell_type": "code",
   "execution_count": null,
   "metadata": {},
   "outputs": [],
   "source": [
    "import requests_cache\n",
    "import xlrd"
   ]
  },
  {
   "cell_type": "markdown",
   "metadata": {},
   "source": [
    "We will use *matplotlib* to graph a few things.\n",
    "Configure it to use a different default style.\n",
    "*seaborn-poster* generates bigger (and more legible) charts."
   ]
  },
  {
   "cell_type": "code",
   "execution_count": null,
   "metadata": {},
   "outputs": [],
   "source": [
    "from matplotlib import pyplot as plt\n",
    "plt.style.use('seaborn-poster')"
   ]
  },
  {
   "cell_type": "markdown",
   "metadata": {},
   "source": [
    "Other assorted modules we use."
   ]
  },
  {
   "cell_type": "code",
   "execution_count": null,
   "metadata": {},
   "outputs": [],
   "source": [
    "import datetime"
   ]
  },
  {
   "cell_type": "markdown",
   "metadata": {},
   "source": [
    "We use *requests_cache* to download Shiller's excel file from his website and cache it for three days.\n",
    "\n",
    "We do a bit of data munging on the spreadsheet -- renaming columns and deleting a few unused columns."
   ]
  },
  {
   "cell_type": "code",
   "execution_count": null,
   "metadata": {},
   "outputs": [],
   "source": [
    "def get_shiller(url=\"http://www.econ.yale.edu/~shiller/data/ie_data.xls\"):\n",
    "    expire_after = datetime.timedelta(days=3)\n",
    "    session = requests_cache.CachedSession(cache_name='data-cache', backend='sqlite', expire_after=expire_after)\n",
    "\n",
    "    excel = session.get(url, stream=True)\n",
    "    # must be wrapped in a BytesIO for read_excel to accept it...\n",
    "    df = pandas.read_excel(pandas.io.common.BytesIO(excel.content),\n",
    "                           sheet_name='Data',\n",
    "                           engine='xlrd',\n",
    "                           skiprows=7,\n",
    "                           skipfooter=11, # WARN: is this always 11?\n",
    "                           index_col=0,\n",
    "                           parse_dates=True)\n",
    "    df.rename(columns={'P' : 'Price',\n",
    "                      'D' : 'Dividend',\n",
    "                      'E' : 'Earnings',\n",
    "                      'Price' : 'Real Price',\n",
    "                      'Dividend' : 'Real Dividend',\n",
    "                      'Price.1' : 'Real Total Return Price',\n",
    "                      'Earnings' : 'Real Earnings',\n",
    "                      'Earnings.1' : 'Real Total Return Scaled Earnings'}, inplace=True)\n",
    "    del(df['Unnamed: 13'], df['Unnamed: 15']) # garbage columns from Shiller's spreadsheet\n",
    "    return df\n",
    "\n",
    "shiller = get_shiller()\n",
    "shiller.head()"
   ]
  },
  {
   "cell_type": "markdown",
   "metadata": {},
   "source": [
    "Now we can generate some derived columns.\n",
    "* Dividend yield (which use to calculate total return)\n",
    "* month over month price increase\n",
    "* month over month total return (which is just the price increase plus dividend yield)\n",
    "* the month over month change in CPI (Shiller only provides absolute numbers)\n",
    "* the real (inflation-adjusted) month over month total return\n",
    "* and the average CAPE *up to a given month*. This is, only based on the months preceding the current one."
   ]
  },
  {
   "cell_type": "code",
   "execution_count": null,
   "metadata": {},
   "outputs": [],
   "source": [
    "shiller['Div Yield'] = shiller['Dividend'] / shiller['Price'] / 12\n",
    "shiller['MoM Price'] = shiller['Price'] / shiller['Price'].shift(1)\n",
    "shiller['MoM TR'] = shiller['MoM Price'] + shiller['Div Yield']\n",
    "shiller['CPI Change'] = shiller['CPI'] / shiller['CPI'].shift(1)\n",
    "shiller['Real MoM TR'] = shiller['MoM TR'] / shiller['CPI Change'] - 1\n",
    "shiller['Mean CAPE'] = shiller['CAPE'].expanding().mean()\n",
    "shiller.head()"
   ]
  },
  {
   "cell_type": "markdown",
   "metadata": {},
   "source": [
    "We also want to be able to calculate the actual realized real returns from a given point in time.\n",
    "That is, what is the actual forward 1-year (or 3- or 5- or 10-year) return from a given month."
   ]
  },
  {
   "cell_type": "code",
   "execution_count": null,
   "metadata": {},
   "outputs": [],
   "source": [
    "def calc_returns(df, years):\n",
    "    months = years * 12\n",
    "    rolling_df = df['Real MoM TR'].rolling(months)\n",
    "    r = rolling_df.apply(lambda x: numpy.power(numpy.prod(x + 1), 1/years), raw=True) - 1\n",
    "    df['Returns'] = r.shift(-years * 12)\n",
    "    return df"
   ]
  },
  {
   "cell_type": "code",
   "execution_count": null,
   "metadata": {},
   "outputs": [],
   "source": [
    "model = ols(\"Returns ~ CAPE\", calc_returns(shiller, 10)).fit()\n",
    "model.summary()"
   ]
  },
  {
   "cell_type": "code",
   "execution_count": null,
   "metadata": {},
   "outputs": [],
   "source": [
    "for i in range(1, 51):\n",
    "    model = ols(\"Returns ~ CAPE\", calc_returns(shiller, i)).fit()\n",
    "    print(i, model.rsquared)"
   ]
  },
  {
   "cell_type": "code",
   "execution_count": null,
   "metadata": {},
   "outputs": [],
   "source": [
    "ten_year = calc_returns(shiller, 10)\n",
    "nanfree = ten_year.dropna()\n",
    "numpy.polyfit(nanfree['CAPE'], nanfree['Returns'], 1)"
   ]
  },
  {
   "cell_type": "code",
   "execution_count": null,
   "metadata": {},
   "outputs": [],
   "source": [
    "def guess(intercept, slope, cape):\n",
    "    return intercept + (slope * cape)"
   ]
  },
  {
   "cell_type": "code",
   "execution_count": null,
   "metadata": {},
   "outputs": [],
   "source": [
    "data=[]\n",
    "for i in range(1, len(nanfree)):\n",
    "    chunk = nanfree[:i]\n",
    "    slope, intercept = numpy.polyfit(chunk['CAPE'], chunk['Returns'], 1)\n",
    "    current = nanfree.iloc[i]\n",
    "    prediction = guess(intercept, slope, current['CAPE'])\n",
    "    data.append((current.name.date(), current['CAPE'], prediction, current['Returns']))\n",
    "df_p = pandas.DataFrame.from_records(data, columns=['Date', 'CAPE', 'Expected', 'Actual'], index='Date')\n",
    "#df_p.head()\n",
    "df_p[[\"Expected\", \"Actual\"]].plot()"
   ]
  },
  {
   "cell_type": "code",
   "execution_count": null,
   "metadata": {},
   "outputs": [],
   "source": [
    "nanfree['EY10'] = 1 / nanfree['CAPE']\n",
    "nanfree[['EY10', 'Returns']].plot()"
   ]
  },
  {
   "cell_type": "code",
   "execution_count": null,
   "metadata": {},
   "outputs": [],
   "source": [
    "model = ols(\"Returns ~ EY10\", nanfree['1985':]).fit()\n",
    "model.summary()"
   ]
  },
  {
   "cell_type": "code",
   "execution_count": null,
   "metadata": {},
   "outputs": [],
   "source": [
    "post_1985 = nanfree['1985':][[\"EY10\", \"Returns\"]]\n",
    "time = 10 * 12\n",
    "post_1985['EY10_delta'] = post_1985['EY10'] - post_1985['EY10'].shift(time)\n",
    "post_1985['Returns_delta'] = post_1985['Returns'] - post_1985['Returns'].shift(time)\n",
    "post_1985 = post_1985.dropna()\n",
    "post_1985['EY10_delta'] = post_1985['EY10_delta'] < 0\n",
    "post_1985['Returns_delta'] = post_1985['Returns_delta'] < 0\n",
    "post_1985['SameDirection'] = ~(post_1985['EY10_delta'] ^ post_1985['Returns_delta'])\n",
    "post_1985"
   ]
  },
  {
   "cell_type": "code",
   "execution_count": null,
   "metadata": {},
   "outputs": [],
   "source": [
    "len(post_1985[post_1985['SameDirection'] == True]) / len(post_1985)"
   ]
  },
  {
   "cell_type": "code",
   "execution_count": null,
   "metadata": {},
   "outputs": [],
   "source": []
  }
 ],
 "metadata": {
  "kernelspec": {
   "display_name": "Python 3",
   "language": "python",
   "name": "python3"
  },
  "language_info": {
   "codemirror_mode": {
    "name": "ipython",
    "version": 3
   },
   "file_extension": ".py",
   "mimetype": "text/x-python",
   "name": "python",
   "nbconvert_exporter": "python",
   "pygments_lexer": "ipython3"
  }
 },
 "nbformat": 4,
 "nbformat_minor": 4
}
