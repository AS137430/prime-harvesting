{
 "cells": [
  {
   "cell_type": "code",
   "execution_count": null,
   "metadata": {},
   "outputs": [],
   "source": [
    "import simulate\n",
    "import market\n",
    "import withdrawal\n",
    "import harvesting\n",
    "import lens\n",
    "from decimal import Decimal\n",
    "import pandas\n",
    "import seaborn\n",
    "from matplotlib import pyplot as plt\n",
    "import matplotlib\n",
    "seaborn.set(style=\"whitegrid\")\n",
    "seaborn.set_context('poster')"
   ]
  },
  {
   "cell_type": "code",
   "execution_count": null,
   "metadata": {},
   "outputs": [],
   "source": [
    "MARKET = market.Returns_US_1871()"
   ]
  },
  {
   "cell_type": "code",
   "execution_count": null,
   "metadata": {},
   "outputs": [],
   "source": [
    "def plot(sim, year, lens):\n",
    "    plt.figure(figsize=(12,6))\n",
    "    plt.title('Portfolio value')\n",
    "    s = pandas.Series([lens(n) for n in sim], index=range(year, year+len(sim)))\n",
    "    g = seaborn.lineplot(data=s)\n",
    "    seaborn.despine(left=True, bottom=True, offset=20)\n",
    "    g.axes.yaxis.set_major_formatter(\n",
    "        matplotlib.ticker.FuncFormatter(lambda x, p: format(int(x), ',')))    "
   ]
  },
  {
   "cell_type": "code",
   "execution_count": null,
   "metadata": {},
   "outputs": [],
   "source": [
    "year = 1973\n",
    "rate = Decimal('0.0325')\n",
    "sim = simulate.withdrawals(MARKET.iter_from(year),\n",
    "                     harvesting=harvesting.N_80_RebalanceHarvesting,\n",
    "                     withdraw=lambda p, h: withdrawal.ConstantDollar(p, h, rate=rate))\n",
    "plot(sim, year, lambda n: float(n.portfolio_pre.value_r))"
   ]
  },
  {
   "cell_type": "code",
   "execution_count": null,
   "metadata": {},
   "outputs": [],
   "source": [
    "#sim[1970 - (1969)].portfolio_pre.value_r\n",
    "print(sim[0].portfolio_post.value_r)\n",
    "print(sim[1].portfolio_pre.value_r)"
   ]
  },
  {
   "cell_type": "code",
   "execution_count": null,
   "metadata": {},
   "outputs": [],
   "source": [
    "year = 1978\n",
    "rate = Decimal(0)\n",
    "portfolio = sim[year - 1969].portfolio_pre\n",
    "sim2 = simulate.withdrawals(MARKET.iter_from(year),\n",
    "                            portfolio=(portfolio.value_r, 0), # gets rebalanced for us\n",
    "                            years=20,\n",
    "                     harvesting=harvesting.N_80_RebalanceHarvesting,\n",
    "                     withdraw=lambda p, h: withdrawal.ConstantDollar(p, h, rate=rate))\n",
    "plot(sim2, year, lambda n: float(n.portfolio_pre.value_r))\n",
    "sim2[10].portfolio_post.value_r"
   ]
  },
  {
   "cell_type": "code",
   "execution_count": null,
   "metadata": {},
   "outputs": [],
   "source": [
    "s = simulate.calc_lens(harvesting.N_80_RebalanceHarvesting,\n",
    "                   lambda p, h: withdrawal.ConstantDollar(p, h, rate=Decimal('0.042')),\n",
    "                   45,\n",
    "                   lens.calc_success\n",
    "                  )"
   ]
  },
  {
   "cell_type": "code",
   "execution_count": null,
   "metadata": {},
   "outputs": [],
   "source": [
    "len(s[s == False]) / len(s)"
   ]
  },
  {
   "cell_type": "code",
   "execution_count": null,
   "metadata": {},
   "outputs": [],
   "source": []
  }
 ],
 "metadata": {
  "kernelspec": {
   "display_name": "Python 3",
   "language": "python",
   "name": "python3"
  },
  "language_info": {
   "codemirror_mode": {
    "name": "ipython",
    "version": 3
   },
   "file_extension": ".py",
   "mimetype": "text/x-python",
   "name": "python",
   "nbconvert_exporter": "python",
   "pygments_lexer": "ipython3"
  }
 },
 "nbformat": 4,
 "nbformat_minor": 4
}
