{
 "cells": [
  {
   "cell_type": "code",
   "execution_count": null,
   "metadata": {},
   "outputs": [],
   "source": [
    "%matplotlib inline\n",
    "from pprint import pprint\n",
    "from decimal import Decimal\n",
    "import itertools\n",
    "import metrics\n",
    "import pandas\n",
    "\n",
    "import simulate\n",
    "import harvesting\n",
    "import market\n",
    "import withdrawal\n",
    "import numpy"
   ]
  },
  {
   "cell_type": "code",
   "execution_count": null,
   "metadata": {},
   "outputs": [],
   "source": [
    "import seaborn\n",
    "from matplotlib import pyplot as plt\n",
    "import matplotlib\n",
    "seaborn.set(style=\"whitegrid\")\n",
    "seaborn.set_context('poster')"
   ]
  },
  {
   "cell_type": "code",
   "execution_count": null,
   "metadata": {},
   "outputs": [],
   "source": [
    "series = market.Returns_US_1871()"
   ]
  },
  {
   "cell_type": "code",
   "execution_count": null,
   "metadata": {},
   "outputs": [],
   "source": [
    "TYPE = 'Withdraw Pct Cur'\n",
    "m = {'Withdrawal (Nominal)': lambda x: float(x.withdraw_n),\n",
    "     'Withdrawal (Real)' : lambda x: float(x.withdraw_r),\n",
    "     'Portfolio (Nominal)': lambda x: float(x.portfolio_n),\n",
    "     'Portfolio (Real)': lambda x: float(x.portfolio_r),\n",
    "     'Withdraw Pct Cur': lambda x: float(x.withdraw_pct_cur),\n",
    "}\n",
    "lens = m[TYPE]\n",
    "lens.__label__ = TYPE\n",
    "\n",
    "def fn(x):\n",
    "    return [lens(_) for _ in x]"
   ]
  },
  {
   "cell_type": "code",
   "execution_count": null,
   "metadata": {},
   "outputs": [],
   "source": [
    "def run_sim(year, length=30):\n",
    "    portfolio = (500000,500000)\n",
    "    harvest_strategy = harvesting.make_rebalancer(0.5)\n",
    "    \n",
    "    return simulate.withdrawals(series.iter_from(year),\n",
    "                                 withdraw=lambda p, s: withdrawal.ConstantDollar(p, s, rate=Decimal('0.0325')),\n",
    "                                 years=length,\n",
    "                                 portfolio=portfolio,\n",
    "                                 harvesting=harvest_strategy)"
   ]
  },
  {
   "cell_type": "code",
   "execution_count": null,
   "metadata": {},
   "outputs": [],
   "source": [
    "def chart_one(year):\n",
    "    s = run_sim(year)\n",
    "    \n",
    "    df = pandas.DataFrame({\n",
    "        'pmt' : [lens(x) for x in s],\n",
    "        'cape' : 0.02,\n",
    "    })\n",
    "    g = seaborn.relplot(\n",
    "            data=df,\n",
    "            kind='line',\n",
    "            aspect=2,\n",
    "        )\n",
    "    g.fig.autofmt_xdate()\n",
    "    g.despine(left=True, bottom=True, offset=20)\n",
    "    g.fig.suptitle(f'Retirement in {year}')\n",
    "    return g"
   ]
  },
  {
   "cell_type": "code",
   "execution_count": null,
   "metadata": {},
   "outputs": [],
   "source": [
    "all_sims = {}\n",
    "for year in range(1871, 1989):\n",
    "    all_sims[year] = [lens(x) for x in run_sim(year)]"
   ]
  },
  {
   "cell_type": "code",
   "execution_count": null,
   "metadata": {},
   "outputs": [],
   "source": [
    "df = pandas.DataFrame(all_sims)"
   ]
  },
  {
   "cell_type": "code",
   "execution_count": null,
   "metadata": {},
   "outputs": [],
   "source": [
    "s = df[df <= 0.02].count()\n",
    "s.plot.line()"
   ]
  },
  {
   "cell_type": "code",
   "execution_count": null,
   "metadata": {},
   "outputs": [],
   "source": [
    "df.T.loc[1945].plot.line()"
   ]
  },
  {
   "cell_type": "code",
   "execution_count": null,
   "metadata": {},
   "outputs": [],
   "source": [
    "s[s > 0].median()"
   ]
  },
  {
   "cell_type": "code",
   "execution_count": null,
   "metadata": {},
   "outputs": [],
   "source": [
    "divs = pandas.Series(index=range(len(df)))\n",
    "for i in range(len(df)):\n",
    "    s = df.loc[i]\n",
    "    d = s[s <= 0.02]\n",
    "    divs.loc[i] = len(d) / len(s)\n",
    "#    print(i, len(d), len(s))\n",
    "divs.plot.line()"
   ]
  },
  {
   "cell_type": "code",
   "execution_count": null,
   "metadata": {},
   "outputs": [],
   "source": [
    "divs"
   ]
  },
  {
   "cell_type": "code",
   "execution_count": null,
   "metadata": {},
   "outputs": [],
   "source": []
  }
 ],
 "metadata": {
  "kernelspec": {
   "display_name": "Python 3",
   "language": "python",
   "name": "python3"
  },
  "language_info": {
   "codemirror_mode": {
    "name": "ipython",
    "version": 3
   },
   "file_extension": ".py",
   "mimetype": "text/x-python",
   "name": "python",
   "nbconvert_exporter": "python",
   "pygments_lexer": "ipython3"
  }
 },
 "nbformat": 4,
 "nbformat_minor": 2
}
