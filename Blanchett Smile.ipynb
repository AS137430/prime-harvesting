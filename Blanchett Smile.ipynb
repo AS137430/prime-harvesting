{
 "cells": [
  {
   "cell_type": "code",
   "execution_count": null,
   "metadata": {},
   "outputs": [],
   "source": [
    "%matplotlib inline\n",
    "\n",
    "import math\n",
    "import numpy\n",
    "import pandas\n",
    "import seaborn\n",
    "import matplotlib.pyplot as plt\n",
    "import plot"
   ]
  },
  {
   "cell_type": "code",
   "execution_count": null,
   "metadata": {},
   "outputs": [],
   "source": [
    "def fmt_money(number):\n",
    "    return \"${:,.0f}\".format(number)"
   ]
  },
  {
   "cell_type": "code",
   "execution_count": null,
   "metadata": {},
   "outputs": [],
   "source": [
    "def run_pmt(market, pmt_rate):\n",
    "    portfolio = 1_000_000\n",
    "    age = 65\n",
    "    max_age = 100\n",
    "    df = pandas.DataFrame(index=range(age, max_age), columns=['withdrawal', 'portfolio'])\n",
    "    for i in range(age, max_age):\n",
    "        withdraw = -numpy.pmt(pmt_rate, max_age-i, portfolio, 0, 1)\n",
    "        portfolio -= withdraw\n",
    "        portfolio *= (1 + market)\n",
    "        df.loc[i] = [int(withdraw), int(portfolio)]\n",
    "    return df"
   ]
  },
  {
   "cell_type": "code",
   "execution_count": null,
   "metadata": {},
   "outputs": [],
   "source": [
    "pmt_df = run_pmt(0.03, 0.04)\n",
    "pmt_df.head()"
   ]
  },
  {
   "cell_type": "code",
   "execution_count": null,
   "metadata": {},
   "outputs": [],
   "source": [
    "def run_smile(target):\n",
    "    spend = target\n",
    "    s = pandas.Series(index=range(66,100), dtype=int)\n",
    "    for age in range(66, 100):\n",
    "        d = (0.00008 * age * age) - (0.0125 * age) - (0.0066 * math.log(target)) + 0.546\n",
    "        spend *= (1 + d)\n",
    "        s.loc[age] = int(spend)\n",
    "    return s"
   ]
  },
  {
   "cell_type": "code",
   "execution_count": null,
   "metadata": {},
   "outputs": [],
   "source": [
    "smile_s = run_smile(pmt_df.iloc[0]['withdrawal'])\n",
    "smile_s.head()"
   ]
  },
  {
   "cell_type": "code",
   "execution_count": null,
   "metadata": {},
   "outputs": [],
   "source": [
    "def rmse(s1, s2):\n",
    "    return numpy.sqrt(numpy.mean((s1-s2)**2))"
   ]
  },
  {
   "cell_type": "code",
   "execution_count": null,
   "metadata": {},
   "outputs": [],
   "source": [
    "rmse(pmt_df['withdrawal'][1:26], smile_s[:26])"
   ]
  },
  {
   "cell_type": "code",
   "execution_count": null,
   "metadata": {},
   "outputs": [],
   "source": [
    "def harness():\n",
    "    df = pandas.DataFrame(columns=['market', 'pmtrate', 'rmse'])\n",
    "    for returns in numpy.arange(0.01, 0.10+0.001, 0.001):\n",
    "        for pmt_rate in numpy.arange(0.01, 0.10+0.001, 0.001):\n",
    "            pmt_df = run_pmt(returns, pmt_rate)\n",
    "            iwd = pmt_df.iloc[0]['withdrawal']\n",
    "            smile_s = run_smile(iwd)\n",
    "            errors = rmse(pmt_df['withdrawal'], smile_s)\n",
    "            df = df.append({'market': returns, 'pmtrate': pmt_rate, 'rmse': errors}, ignore_index=True)\n",
    "    return df"
   ]
  },
  {
   "cell_type": "code",
   "execution_count": null,
   "metadata": {},
   "outputs": [],
   "source": [
    "error_df = harness()\n",
    "error_df.head()"
   ]
  },
  {
   "cell_type": "code",
   "execution_count": null,
   "metadata": {},
   "outputs": [],
   "source": [
    "#seaborn.scatterplot(data=error_df, x='market', y='pmtrate', size='rmse')"
   ]
  },
  {
   "cell_type": "code",
   "execution_count": null,
   "metadata": {},
   "outputs": [],
   "source": [
    "#seaborn.scatterplot(data=error_df[0:19], x='pmtrate', y='rmse')"
   ]
  },
  {
   "cell_type": "code",
   "execution_count": null,
   "metadata": {},
   "outputs": [],
   "source": [
    "error_df[0:91]"
   ]
  },
  {
   "cell_type": "code",
   "execution_count": null,
   "metadata": {},
   "outputs": [],
   "source": [
    "slice_size = 91\n",
    "n_slices = int(len(error_df) / slice_size)\n",
    "print(len(error_df), n_slices, slice_size)\n",
    "for i in range(n_slices):\n",
    "    start = i * slice_size\n",
    "    end = i * slice_size + slice_size\n",
    "    slice_df = error_df[start:end]\n",
    "    delta = slice_df['pmtrate'] - slice_df['market']\n",
    "    plot_df = pandas.DataFrame({'delta': delta, 'rmse': slice_df['rmse']})\n",
    "    sp = seaborn.scatterplot(data=plot_df, x='delta', y='rmse')\n",
    "    mkt_rate = slice_df.iloc[0]['market']\n",
    "    plt.xticks(numpy.arange(-0.100, +0.100, 0.005), rotation='vertical')\n",
    "#    plt.title(f'Market returns: {mkt_rate*100}%')"
   ]
  },
  {
   "cell_type": "code",
   "execution_count": null,
   "metadata": {},
   "outputs": [],
   "source": [
    "series = pandas.Series(index=range(40_000, 101_000, 5_000))\n",
    "for t in range(40_000, 101_000, 5_000):\n",
    "    s = run_smile(t)\n",
    "    contingency = (t - s[0:20]).sum()\n",
    "    series.loc[t] = contingency"
   ]
  },
  {
   "cell_type": "code",
   "execution_count": null,
   "metadata": {},
   "outputs": [],
   "source": [
    "series.plot()\n",
    "plt.xlabel('Targeted annual withdrawal at retirement')\n",
    "plt.ylabel('Contigency fund')\n",
    "xticks = plt.xticks()\n",
    "plt.xticks(xticks[0], [fmt_money(x) for x in xticks[0]])\n",
    "yticks = plt.yticks()\n",
    "plt.yticks(yticks[0], [fmt_money(y) for y in yticks[0]])\n",
    "plt.title('Contigency at age 85')"
   ]
  },
  {
   "cell_type": "code",
   "execution_count": null,
   "metadata": {},
   "outputs": [],
   "source": [
    "series"
   ]
  },
  {
   "cell_type": "code",
   "execution_count": null,
   "metadata": {},
   "outputs": [],
   "source": [
    "(series / series.index).plot()\n",
    "plt.title('Ratio of contingency to expected spending')\n",
    "xticks = plt.xticks()\n",
    "plt.xticks(xticks[0], [fmt_money(x) for x in xticks[0]])"
   ]
  },
  {
   "cell_type": "code",
   "execution_count": null,
   "metadata": {},
   "outputs": [],
   "source": [
    "len(error_df)"
   ]
  },
  {
   "cell_type": "code",
   "execution_count": null,
   "metadata": {},
   "outputs": [],
   "source": []
  }
 ],
 "metadata": {
  "kernelspec": {
   "display_name": "Python 3",
   "language": "python",
   "name": "python3"
  },
  "language_info": {
   "codemirror_mode": {
    "name": "ipython",
    "version": 3
   },
   "file_extension": ".py",
   "mimetype": "text/x-python",
   "name": "python",
   "nbconvert_exporter": "python",
   "pygments_lexer": "ipython3"
  }
 },
 "nbformat": 4,
 "nbformat_minor": 4
}
