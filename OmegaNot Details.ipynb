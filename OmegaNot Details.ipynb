{
 "cells": [
  {
   "cell_type": "code",
   "execution_count": null,
   "metadata": {},
   "outputs": [],
   "source": [
    "import simulate\n",
    "import withdrawal\n",
    "import market\n",
    "import harvesting\n",
    "import metrics\n",
    "import lens\n",
    "\n",
    "from decimal import Decimal as D\n",
    "import decimal\n",
    "import itertools\n",
    "import pandas\n",
    "import numpy\n",
    "import math\n",
    "#import ipysheet"
   ]
  },
  {
   "cell_type": "code",
   "execution_count": null,
   "metadata": {},
   "outputs": [],
   "source": [
    "%matplotlib inline\n",
    "import seaborn\n",
    "from matplotlib import pyplot as plt\n",
    "import matplotlib\n",
    "seaborn.set(style=\"whitegrid\")\n",
    "seaborn.set_context('poster')"
   ]
  },
  {
   "cell_type": "code",
   "execution_count": null,
   "metadata": {},
   "outputs": [],
   "source": [
    "Omegas = [harvesting.make_omeganot(D(n)/100) for n in range(70,140, 10)]\n",
    "Rebalances = [harvesting.make_rebalancer(D(n)/100) for n in range(20, 110, 10)]\n",
    "Glidepaths = [harvesting.Glidepath, harvesting.InverseGlidepath, harvesting.AgeBased_100]\n",
    "\n",
    "Omega100 = harvesting.make_omeganot(D(1))\n",
    "Rebalance75 = harvesting.make_rebalancer(D(75)/100)\n",
    "\n",
    "Constant_04 = withdrawal.make_constantdollar(D('.04'))\n",
    "Constant_05 = withdrawal.make_constantdollar(D('.05'))"
   ]
  },
  {
   "cell_type": "code",
   "execution_count": null,
   "metadata": {},
   "outputs": [],
   "source": [
    "def run2(a_lens, harvest1, harvest2, withdraw=Constant_05, length=40):\n",
    "    s1 = simulate.calc_lens(harvest1, withdraw, length, a_lens)\n",
    "    s2 = simulate.calc_lens(harvest2, withdraw, length, a_lens)\n",
    "    df = pandas.DataFrame({harvest1.__name__: s1, harvest2.__name__: s2})\n",
    "        \n",
    "    g = seaborn.relplot(\n",
    "        data=df.loc[1965:1975],\n",
    "#        aspect=4,\n",
    "    )\n",
    "    g.fig.autofmt_xdate()\n",
    "    g.despine(left=True, bottom=True, offset=20)\n",
    "    g.fig.suptitle('Individual year comparisons: 1965 - 1975')\n",
    "    return (g, df)\n",
    "\n",
    "def run_deciles(a_lens, harvest1, harvest2, withdraw=Constant_05, length=40):\n",
    "    s1 = simulate.calc_lens(harvest1, withdraw, length, a_lens).astype(float)\n",
    "    s2 = simulate.calc_lens(harvest2, withdraw, length, a_lens).astype(float)\n",
    "    \n",
    "    bins = 5\n",
    "\n",
    "    df = pandas.DataFrame(index=numpy.arange(0, 100, bins), columns=[harvest1.__name__, harvest2.__name__])\n",
    "    for i in range(0, 100, bins):\n",
    "        df.loc[i] = (s1.quantile(i/100), s2.quantile(i/100))\n",
    "    \n",
    "    g = seaborn.relplot(\n",
    "        data=df,\n",
    "        aspect=2,\n",
    "    )\n",
    "    g.despine(left=True, bottom=True, offset=20)\n",
    "    g.fig.suptitle('Grouped by quantiles (5%, 10%, 15%, etc.)')    \n",
    "    return (g, df)\n",
    "\n",
    "def by_year(year, lens, harvest1, harvest2, years=40):\n",
    "    MARKET = market.Returns_US_1871()\n",
    "    s1 = simulate.withdrawals(MARKET.iter_from(year), harvesting=harvest1, withdraw=withdrawal.make_vpw(years+5), years=years)\n",
    "    s2 = simulate.withdrawals(MARKET.iter_from(year), harvesting=harvest2, withdraw=withdrawal.make_vpw(years+5), years=years)\n",
    "\n",
    "    df = pandas.DataFrame({harvest1.__name__: [lens(x) for x in s1], harvest2.__name__: [lens(x) for x in s2]})\n",
    "    g = seaborn.relplot(\n",
    "        data=df[df[harvest1.__name__] < 40000],\n",
    "        aspect=4,\n",
    "    )\n",
    "    g.despine(left=True, bottom=True, offset=20)\n",
    "    g.fig.suptitle(year)\n",
    "    return (g, df)\n",
    "\n",
    "def ulcer_floor(series, floor=40000):\n",
    "    sumsq = 0\n",
    "    for value in [float(n) for n in series]:\n",
    "        if value < floor:\n",
    "            drawdown = (100 * ((value / floor) - 1))\n",
    "            sq = drawdown ** 2\n",
    "            sumsq += sq\n",
    "    return math.sqrt(sumsq / len(series)) / 100\n",
    "\n",
    "def wd_r(x):\n",
    "    return x.withdraw_r\n",
    "def port_r(x):\n",
    "    return x.portfolio_pre.value_r"
   ]
  },
  {
   "cell_type": "code",
   "execution_count": null,
   "metadata": {},
   "outputs": [],
   "source": [
    "L = 40"
   ]
  },
  {
   "cell_type": "markdown",
   "metadata": {},
   "source": [
    "# Shortfall Years"
   ]
  },
  {
   "cell_type": "code",
   "execution_count": null,
   "metadata": {},
   "outputs": [],
   "source": [
    "run_deciles(lens.calc_shortfall_years, Omega100, Rebalance75)[0]\n",
    "run2(lens.calc_shortfall_years, Omega100, Rebalance75)[0]"
   ]
  },
  {
   "cell_type": "markdown",
   "metadata": {},
   "source": [
    "# PWA0"
   ]
  },
  {
   "cell_type": "code",
   "execution_count": null,
   "metadata": {},
   "outputs": [],
   "source": [
    "run_deciles(lens.calc_pwa0, Omega100, Rebalance75)[0]\n",
    "run2(lens.calc_pwa0, Omega100, Rebalance75)[0]"
   ]
  },
  {
   "cell_type": "markdown",
   "metadata": {},
   "source": [
    "# Coverage Ratio"
   ]
  },
  {
   "cell_type": "code",
   "execution_count": null,
   "metadata": {},
   "outputs": [],
   "source": [
    "run_deciles(lambda a: lens.calc_coverage_ratio(a, L), Omega100, Rebalance75, length=L)[0]\n",
    "run2(lambda a: lens.calc_coverage_ratio(a, L), Omega100, Rebalance75, length=L)[0]"
   ]
  },
  {
   "cell_type": "markdown",
   "metadata": {},
   "source": [
    "# Ulcer Index (Portfolio)"
   ]
  },
  {
   "cell_type": "code",
   "execution_count": null,
   "metadata": {},
   "outputs": [],
   "source": [
    "run_deciles(lens.calc_ulcer, Omega100, Rebalance75)[0]\n",
    "run2(lens.calc_ulcer, Omega100, Rebalance75)[0]"
   ]
  },
  {
   "cell_type": "markdown",
   "metadata": {},
   "source": [
    "# Ulcer Index (Withdrawals)"
   ]
  },
  {
   "cell_type": "code",
   "execution_count": null,
   "metadata": {},
   "outputs": [],
   "source": [
    "run_deciles(lambda a: metrics.ulcer([n.withdraw_r for n in a]), Omega100, Rebalance75, withdraw=withdrawal.make_vpw(L+5))[0]\n",
    "run2(lambda a: metrics.ulcer([n.withdraw_r for n in a]), Omega100, Rebalance75, withdraw=withdrawal.make_vpw(L+5))[0]"
   ]
  },
  {
   "cell_type": "markdown",
   "metadata": {},
   "source": [
    "# CEW"
   ]
  },
  {
   "cell_type": "code",
   "execution_count": null,
   "metadata": {},
   "outputs": [],
   "source": [
    "run_deciles(lens.calc_cew, Omega100, Rebalance75, withdraw=withdrawal.make_vpw(L+5))[0]\n",
    "g, df = run2(lens.calc_cew, Omega100, Rebalance75, withdraw=withdrawal.make_vpw(L+5))\n",
    "g\n",
    "df.loc[1969]"
   ]
  },
  {
   "cell_type": "markdown",
   "metadata": {},
   "source": [
    "# HREFF-4"
   ]
  },
  {
   "cell_type": "code",
   "execution_count": null,
   "metadata": {},
   "outputs": [],
   "source": [
    "run_deciles(lens.calc_hreff, Omega100, Rebalance75, withdraw=withdrawal.make_vpw(L+5))[0]\n",
    "g, df = run2(lens.calc_hreff, Omega100, Rebalance75, withdraw=withdrawal.make_vpw(L+5))\n",
    "g"
   ]
  },
  {
   "cell_type": "code",
   "execution_count": null,
   "metadata": {},
   "outputs": [],
   "source": [
    "df.loc[1969]"
   ]
  },
  {
   "cell_type": "markdown",
   "metadata": {},
   "source": [
    "# HREFF-3"
   ]
  },
  {
   "cell_type": "code",
   "execution_count": null,
   "metadata": {},
   "outputs": [],
   "source": [
    "run_deciles(lambda a: lens.calc_hreff(a, floor=D('.025')), Omega100, Rebalance75, withdraw=withdrawal.make_vpw(L+5))[0]\n",
    "g, df = run2(lambda a: lens.calc_hreff(a, floor=D('.025')), Omega100, Rebalance75, withdraw=withdrawal.make_vpw(L+5))\n",
    "g"
   ]
  },
  {
   "cell_type": "code",
   "execution_count": null,
   "metadata": {},
   "outputs": [],
   "source": [
    "df.loc[1969]"
   ]
  },
  {
   "cell_type": "markdown",
   "metadata": {},
   "source": [
    "# Ulcer Floor (Withdrawals)"
   ]
  },
  {
   "cell_type": "code",
   "execution_count": null,
   "metadata": {},
   "outputs": [],
   "source": [
    "run_deciles(lambda a: ulcer_floor([n.withdraw_r for n in a]), Omega100, Rebalance75, withdraw=withdrawal.make_vpw(L+5))[0]\n",
    "g, df = run2(lambda a: ulcer_floor([n.withdraw_r for n in a]), Omega100, Rebalance75, withdraw=withdrawal.make_vpw(L+5))\n",
    "g\n",
    "df.loc[1969]"
   ]
  },
  {
   "cell_type": "markdown",
   "metadata": {},
   "source": [
    "# Compare Yearly Withdrawals"
   ]
  },
  {
   "cell_type": "code",
   "execution_count": null,
   "metadata": {},
   "outputs": [],
   "source": [
    "for i in range(1928, 1931):\n",
    "    by_year(i, wd_r, Omega100, Rebalance75)[0]"
   ]
  },
  {
   "cell_type": "markdown",
   "metadata": {},
   "source": [
    "# Build difference of all withdrawals for all years\n",
    "\n",
    "We only care about years where the Rebalance strategy fell below our floor of $40,000"
   ]
  },
  {
   "cell_type": "code",
   "execution_count": null,
   "metadata": {},
   "outputs": [],
   "source": [
    "def build_ulcer_diffs(harvest1, harvest2, floor=40000):\n",
    "    L = 40\n",
    "    MARKET = market.Returns_US_1871()\n",
    "    end_year = 2018 - L + 1\n",
    "    \n",
    "    ulcers = pandas.Series(index=numpy.arange(MARKET.start_year, end_year))\n",
    "    \n",
    "    for start in range(MARKET.start_year, end_year):\n",
    "        sim1 = simulate.withdrawals(MARKET.iter_from(start), harvesting=harvest1, withdraw=withdrawal.make_vpw(L+5), years=L)\n",
    "        sim2 = simulate.withdrawals(MARKET.iter_from(start), harvesting=harvest2, withdraw=withdrawal.make_vpw(L+5), years=L)\n",
    "\n",
    "        s1 = pandas.Series([wd_r(x) for x in sim1]).clip(upper=floor)\n",
    "        s2 = pandas.Series([wd_r(x) for x in sim2]).clip(upper=floor)\n",
    "        ulcers.loc[start] = metrics.ulcer(s2) - metrics.ulcer(s1)\n",
    "\n",
    "    return ulcers"
   ]
  },
  {
   "cell_type": "markdown",
   "metadata": {},
   "source": [
    "# Build Ulcer Diff for all years\n",
    "\n",
    "A higher number means Rebalance was *worse*"
   ]
  },
  {
   "cell_type": "code",
   "execution_count": null,
   "metadata": {},
   "outputs": [],
   "source": [
    "ulcer_diffs = build_ulcer_diffs(Omega100, Rebalance75)\n",
    "ulcer_diffs.sort_values(ascending=False).head()"
   ]
  },
  {
   "cell_type": "code",
   "execution_count": null,
   "metadata": {},
   "outputs": [],
   "source": [
    "for x in ulcer_diffs.sort_values(ascending=False).index[0:5]:\n",
    "    by_year(x, wd_r, Omega100, Rebalance75)[0]"
   ]
  },
  {
   "cell_type": "markdown",
   "metadata": {},
   "source": [
    "# The opposite\n",
    "\n",
    "But we also want to check the opposite...cases where OmegaNot100 does *worse*"
   ]
  },
  {
   "cell_type": "code",
   "execution_count": null,
   "metadata": {},
   "outputs": [],
   "source": [
    "ulcer_diffs.sort_values(ascending=True).head()"
   ]
  },
  {
   "cell_type": "code",
   "execution_count": null,
   "metadata": {},
   "outputs": [],
   "source": [
    "for x in ulcer_diffs.sort_values(ascending=True).index[0:5]:\n",
    "    by_year(x, wd_r, Omega100, Rebalance75)[0]"
   ]
  },
  {
   "cell_type": "code",
   "execution_count": null,
   "metadata": {},
   "outputs": [],
   "source": []
  }
 ],
 "metadata": {
  "kernelspec": {
   "display_name": "Python 3",
   "language": "python",
   "name": "python3"
  },
  "language_info": {
   "codemirror_mode": {
    "name": "ipython",
    "version": 3
   },
   "file_extension": ".py",
   "mimetype": "text/x-python",
   "name": "python",
   "nbconvert_exporter": "python",
   "pygments_lexer": "ipython3"
  }
 },
 "nbformat": 4,
 "nbformat_minor": 2
}
