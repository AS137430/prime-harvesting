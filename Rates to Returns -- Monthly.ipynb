{
 "cells": [
  {
   "cell_type": "markdown",
   "metadata": {},
   "source": [
    "Based off on longinvest's post[1] on bogleheads.\n",
    "\n",
    "[1]: https://www.bogleheads.org/forum/viewtopic.php?f=10&t=179425\n",
    "\n",
    "A ladder is built from 10-year maturity down as short as you want.\n",
    "\n",
    "We need the current interest rate to determine the yield on the shortest maturity we hold :(\n",
    "\n",
    "longinvest uses data from Shiller up to 1954 and then uses FRED 1 year Treasury data after that.\n",
    "\n",
    "We need monthly data....\n",
    "\n",
    "* FRED has 1-month Treasury data at https://fred.stlouisfed.org/series/GS1M but it only goes back to 2001\n",
    "* FRED has 3-month at https://fred.stlouisfed.org/series/DGS3MO going back to 1982\n",
    "* FRED has 1-year (monthly data) going back to 1953 at https://fred.stlouisfed.org/series/GS1\n",
    "\n",
    "longinvest builds a 10-2 ladder using 9 bonds: 10-year maturity, 9-year maturity, etc down to 2-year maturity\n",
    "\n",
    "Except there's a bootstrap period in the first decade...\n",
    "\n",
    "So let's try building a similar ladder but with monthly granularity. That means instead of 9 bonds we want (12 * 9) + 11 = 119 bonds. Every month we sell a bond that is about to mature (that has 1 month left) and buy a brand new 10 year bond at the current rate.\n",
    "\n",
    "Let's start in July 2001 so we can use the FRED monthly data.\n",
    "\n",
    "The starting FRED rate is 3.67\n",
    "Shiller's 10-year yield is 5.24\n"
   ]
  },
  {
   "cell_type": "code",
   "execution_count": 132,
   "metadata": {
    "collapsed": false
   },
   "outputs": [],
   "source": [
    "import numpy\n",
    "from collections import deque\n",
    "import pandas"
   ]
  },
  {
   "cell_type": "code",
   "execution_count": 161,
   "metadata": {
    "collapsed": false
   },
   "outputs": [],
   "source": [
    "#STEPS = 9 * 12 + 11\n",
    "STEPS = 9\n",
    "\n",
    "def interpolate_rates(shortest, longest, steps=STEPS):\n",
    "    rates = []\n",
    "\n",
    "    # this is just a linear interpolation between the two\n",
    "    for cur_step in range(1, steps+1):\n",
    "        rate = shortest + ((longest - shortest) * (cur_step - 1) / steps)\n",
    "        rates.append(rate)\n",
    "    # we don't want to approximate this...use the exact number\n",
    "    rates.append(longest)\n",
    "    return rates\n",
    "\n",
    "# This sucks...if I want to calculate annual (to check vs longinvest)\n",
    "# I need to change this...\n",
    "def a2m(annual):\n",
    "    \"\"\" Convert an annual rate to a monthly rate\"\"\"\n",
    "    #return pow(1 + annual, 1/12) - 1\n",
    "    return annual\n",
    "\n",
    "class Bond:\n",
    "    def __init__(self, face_value, yield_pct, maturity, sell_at_term=1):\n",
    "        self.face_value = face_value\n",
    "        self.yield_pct = yield_pct\n",
    "        self.maturity = maturity\n",
    "        self.sell_at_term = sell_at_term\n",
    "        \n",
    "    def __repr__(self):\n",
    "        return ('M: %d | Y: %.2f%% | FV: $%.2f' % (self.maturity, self.yield_pct * 100, self.face_value))\n",
    "        \n",
    "    def gen_payment(self, current_rate):\n",
    "        # current_rate is the shortest rate currently available.\n",
    "        # it is an annual rate so we need to convert it to a monthly rate\n",
    "        \n",
    "        #self.maturity -= 1\n",
    "        my_yield = self.face_value * a2m(self.yield_pct)\n",
    "        \n",
    "        # when we are almost mature, sell the entire bond.\n",
    "        # We aren't quite mature so we can't sell at face value,\n",
    "        # instead we need to calculate our present value and sell for that\n",
    "        if self.maturity <= self.sell_at_term:\n",
    "            pv = -numpy.pv(a2m(current_rate), 1, my_yield, self.face_value)\n",
    "            my_yield += pv\n",
    "        return my_yield\n",
    "    \n",
    "    def value(self, rates):\n",
    "        value = numpy.pv(a2m(rates[self.maturity - 1]), self.maturity, self.face_value * a2m(self.yield_pct), self.face_value)\n",
    "        return -value\n",
    "    \n",
    "def get_nav(ladder, rates):\n",
    "    return sum((b.value(rates) for b in ladder))\n",
    "\n",
    "def get_payments(ladder, short_rate):\n",
    "    return sum((b.gen_payment(short_rate) for b in ladder))\n",
    "\n",
    "def advance(ladder, short_rate, long_rate, steps=STEPS):\n",
    "    payments = get_payments(ladder, short_rate)\n",
    "\n",
    "    sold_bond = ladder.popleft()\n",
    "    new_bond = Bond(payments, long_rate, steps+1)\n",
    "    ladder.append(new_bond)\n",
    "    \n",
    "    # This happens *after* we sell the shortest bond and buy a new long one\n",
    "    # (at least, that's what longinvest does...)\n",
    "    yield_curve = interpolate_rates(short_rate, long_rate)\n",
    "    nav = get_nav(ladder, yield_curve)\n",
    "\n",
    "    return (ladder, payments, nav)\n",
    "\n",
    "def reduce_maturity(ladder):\n",
    "    for b in ladder:\n",
    "        b.maturity -= 1\n",
    "    return ladder\n",
    "\n",
    "def bootstrap(short_yield, long_yield, steps=STEPS):\n",
    "    ladder = deque()\n",
    "    starting_face_value = 50 # chosen arbitrarily (to match longinvest)\n",
    "    for i in range(steps):\n",
    "        face_value = pow(1 + long_yield, i) * starting_face_value\n",
    "        b = Bond(face_value, long_yield, i+1)\n",
    "        ladder.append(b)\n",
    "    return ladder\n",
    "\n",
    "def loop(bootstrap_rates, rates):\n",
    "    ladder = bootstrap(bootstrap_rates[0], bootstrap_rates[1], steps=9)\n",
    "    for (_, (short, long)) in rates:\n",
    "        (ladder, payments, nav) = advance(ladder, short, long)\n",
    "        #print(\"%.2f\" % (nav,))\n",
    "        reduce_maturity(ladder)"
   ]
  },
  {
   "cell_type": "code",
   "execution_count": 162,
   "metadata": {
    "collapsed": false
   },
   "outputs": [],
   "source": [
    "df = pandas.read_csv('longinvest_bond_rates.csv')"
   ]
  },
  {
   "cell_type": "code",
   "execution_count": 163,
   "metadata": {
    "collapsed": false
   },
   "outputs": [],
   "source": [
    "loop(df.iloc[0], df.iterrows())"
   ]
  },
  {
   "cell_type": "markdown",
   "metadata": {},
   "source": [
    "It matches the 10-2 spreadsheet perfectly up until 1954...at which point longinvest starts using FRED data where available (e.g. for 1-year, 3-year, and 5-year) instead of continuing with linear interpolation.\n",
    "\n",
    "TODO\n",
    "\n",
    "- First, generalise things. Make it so I can do 10-2, 10-4, 4-2, 3-2, 30-11, 20-2.\n",
    "- Handle the 2-year fund. What's this?\n",
    "- Handle \"Bond Ladder\". The \"Bond Fund\" sells prior to maturity. The \"Bond Ladder\" holds to maturity.\n",
    "- Handle FRED data, when it is available.\n",
    "- Once everything works for annual data, try monthly."
   ]
  },
  {
   "cell_type": "code",
   "execution_count": null,
   "metadata": {
    "collapsed": true
   },
   "outputs": [],
   "source": []
  }
 ],
 "metadata": {
  "kernelspec": {
   "display_name": "Python 3",
   "language": "python",
   "name": "python3"
  },
  "language_info": {
   "codemirror_mode": {
    "name": "ipython",
    "version": 3
   },
   "file_extension": ".py",
   "mimetype": "text/x-python",
   "name": "python",
   "nbconvert_exporter": "python",
   "pygments_lexer": "ipython3",
   "version": "3.5.1"
  }
 },
 "nbformat": 4,
 "nbformat_minor": 0
}
