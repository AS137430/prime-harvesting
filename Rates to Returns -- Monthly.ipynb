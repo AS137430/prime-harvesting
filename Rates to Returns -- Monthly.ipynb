{
 "cells": [
  {
   "cell_type": "markdown",
   "metadata": {},
   "source": [
    "Based off on longinvest's post[1] on bogleheads.\n",
    "\n",
    "[1]: https://www.bogleheads.org/forum/viewtopic.php?f=10&t=179425\n",
    "\n",
    "A ladder is built from 10-year maturity down as short as you want.\n",
    "\n",
    "We need the current interest rate to determine the yield on the shortest maturity we hold :(\n",
    "\n",
    "longinvest uses data from Shiller up to 1954 and then uses FRED 1 year Treasury data after that.\n",
    "\n",
    "We need monthly data....\n",
    "\n",
    "* FRED has 1-month Treasury data at https://fred.stlouisfed.org/series/GS1M but it only goes back to 2001\n",
    "* FRED has 3-month at https://fred.stlouisfed.org/series/DGS3MO going back to 1982\n",
    "* FRED has 1-year (monthly data) going back to 1953 at https://fred.stlouisfed.org/series/GS1\n",
    "\n",
    "longinvest builds a 10-2 ladder using 9 bonds: 10-year maturity, 9-year maturity, etc down to 2-year maturity\n",
    "\n",
    "Except there's a bootstrap period in the first decade...\n",
    "\n",
    "So let's try building a similar ladder but with monthly granularity. That means instead of 9 bonds we want (12 * 9) + 11 = 119 bonds. Every month we sell a bond that is about to mature (that has 1 month left) and buy a brand new 10 year bond at the current rate.\n",
    "\n",
    "Let's start in July 2001 so we can use the FRED monthly data.\n",
    "\n",
    "The starting FRED rate is 3.67\n",
    "Shiller's 10-year yield is 5.24\n"
   ]
  },
  {
   "cell_type": "code",
   "execution_count": 1,
   "metadata": {
    "collapsed": false
   },
   "outputs": [],
   "source": [
    "import numpy\n",
    "from collections import deque"
   ]
  },
  {
   "cell_type": "code",
   "execution_count": 64,
   "metadata": {
    "collapsed": false
   },
   "outputs": [],
   "source": [
    "#STEPS = 9 * 12 + 11\n",
    "STEPS = 9\n",
    "\n",
    "def interpolate_rates(shortest, longest, steps=STEPS):\n",
    "    rates = []\n",
    "\n",
    "    # this is just a linear interpolation between the two\n",
    "    for cur_step in range(1, steps+1):\n",
    "        rate = shortest + ((longest - shortest) * (cur_step - 1) / steps)\n",
    "        rates.append(rate)\n",
    "    # we don't want to approximate this...use the exact number\n",
    "    rates.append(longest)\n",
    "    return rates\n",
    "\n",
    "# This sucks...if I want to calculate annual (to check vs longinvest)\n",
    "# I need to change this...\n",
    "def a2m(annual):\n",
    "    \"\"\" Convert an annual rate to a monthly rate\"\"\"\n",
    "    #return pow(1 + annual, 1/12) - 1\n",
    "    return annual\n",
    "\n",
    "class Bond:\n",
    "    def __init__(self, face_value, yield_pct, maturity, sell_at_term=1):\n",
    "        self.face_value = face_value\n",
    "        self.yield_pct = yield_pct\n",
    "        self.maturity = maturity\n",
    "        self.sell_at_term = sell_at_term\n",
    "        \n",
    "    def __repr__(self):\n",
    "        return ('M: %d | Y: %.2f%% | FV: $%.2f' % (self.maturity, self.yield_pct * 100, self.face_value))\n",
    "        \n",
    "    def gen_payment(self, current_rate):\n",
    "        # current_rate is the shortest rate currently available.\n",
    "        # it is an annual rate so we need to convert it to a monthly rate\n",
    "        \n",
    "        #self.maturity -= 1\n",
    "        my_yield = self.face_value * a2m(self.yield_pct)\n",
    "        \n",
    "        # when we are almost mature, sell the entire bond.\n",
    "        # We aren't quite mature so we can't sell at face value,\n",
    "        # instead we need to calculate our present value and sell for that\n",
    "        if self.maturity <= self.sell_at_term:\n",
    "            pv = -numpy.pv(a2m(current_rate), 1, my_yield, self.face_value)\n",
    "            my_yield += pv\n",
    "        return my_yield\n",
    "    \n",
    "    def value(self, rates):\n",
    "        value = numpy.pv(a2m(rates[self.maturity - 1]), self.maturity, self.face_value * a2m(self.yield_pct), self.face_value)\n",
    "        return -value\n",
    "    \n",
    "def get_nav(ladder, rates):\n",
    "    return sum((b.value(rates) for b in ladder))\n",
    "\n",
    "def get_payments(ladder, short_rate):\n",
    "    return sum((b.gen_payment(short_rate) for b in ladder))\n",
    "\n",
    "def advance(ladder, short_rate, long_rate, steps=STEPS):\n",
    "    payments = get_payments(ladder, short_rate)\n",
    "    print('Payments %2f' % payments)\n",
    "    # remove the shortest thing (head of the queue) and buy a new longest thing (end of the queue)\n",
    "    sold_bold = ladder.popleft()\n",
    "    \n",
    "    new_bond = Bond(payments, long_rate, steps+1)\n",
    "    ladder.append(new_bond)\n",
    "    \n",
    "    # This happens *after* we sell the shortest bond and buy a new long one\n",
    "    # (at least, that's what longinvest does...)\n",
    "    yield_curve = interpolate_rates(short_rate, long_rate)\n",
    "    nav = get_nav(ladder, yield_curve)\n",
    "    print('NAV %2f' % nav)\n",
    "\n",
    "    return (ladder, payments, nav)\n",
    "\n",
    "def reduce_maturity(ladder):\n",
    "    for b in ladder:\n",
    "        b.maturity -= 1\n",
    "    return ladder\n",
    "\n",
    "def bootstrap(short_yield, long_yield, steps=STEPS):\n",
    "    ladder = deque()\n",
    "    starting_face_value = 50 # chosen arbitrarily (to match longinvest)\n",
    "    for i in range(steps):\n",
    "        face_value = pow(1 + long_yield, i) * starting_face_value\n",
    "        b = Bond(face_value, long_yield, i+1)\n",
    "        ladder.append(b)\n",
    "    return ladder"
   ]
  },
  {
   "cell_type": "code",
   "execution_count": 65,
   "metadata": {
    "collapsed": false
   },
   "outputs": [
    {
     "data": {
      "text/plain": [
       "deque([M: 1 | Y: 5.32% | FV: $50.00,\n",
       "       M: 2 | Y: 5.32% | FV: $52.66,\n",
       "       M: 3 | Y: 5.32% | FV: $55.46,\n",
       "       M: 4 | Y: 5.32% | FV: $58.41,\n",
       "       M: 5 | Y: 5.32% | FV: $61.52,\n",
       "       M: 6 | Y: 5.32% | FV: $64.79,\n",
       "       M: 7 | Y: 5.32% | FV: $68.24,\n",
       "       M: 8 | Y: 5.32% | FV: $71.87,\n",
       "       M: 9 | Y: 5.32% | FV: $75.69])"
      ]
     },
     "execution_count": 65,
     "metadata": {},
     "output_type": "execute_result"
    }
   ],
   "source": [
    "# longinvest's (10 to 4-year) becomes (9,3)\n",
    "rates = interpolate_rates(.0635, .0532, steps=9)\n",
    "ladder = bootstrap(.0635, .0532, steps=9)\n",
    "ladder"
   ]
  },
  {
   "cell_type": "code",
   "execution_count": 66,
   "metadata": {
    "collapsed": false
   },
   "outputs": [
    {
     "ename": "AttributeError",
     "evalue": "'Bond' object has no attribute 'invested_capital'",
     "output_type": "error",
     "traceback": [
      "\u001b[0;31m---------------------------------------------------------------------------\u001b[0m",
      "\u001b[0;31mAttributeError\u001b[0m                            Traceback (most recent call last)",
      "\u001b[0;32m<ipython-input-66-3bfd9ad83cee>\u001b[0m in \u001b[0;36m<module>\u001b[0;34m()\u001b[0m\n\u001b[0;32m----> 1\u001b[0;31m \u001b[0mladder\u001b[0m\u001b[0;34m[\u001b[0m\u001b[0;36m5\u001b[0m\u001b[0;34m]\u001b[0m\u001b[0;34m.\u001b[0m\u001b[0minvested_capital\u001b[0m\u001b[0;34m(\u001b[0m\u001b[0mrates\u001b[0m\u001b[0;34m)\u001b[0m\u001b[0;34m\u001b[0m\u001b[0m\n\u001b[0m",
      "\u001b[0;31mAttributeError\u001b[0m: 'Bond' object has no attribute 'invested_capital'"
     ]
    }
   ],
   "source": [
    "ladder[5].value(rates)"
   ]
  },
  {
   "cell_type": "code",
   "execution_count": 44,
   "metadata": {
    "collapsed": false
   },
   "outputs": [
    {
     "data": {
      "text/plain": [
       "178.45982552905605"
      ]
     },
     "execution_count": 44,
     "metadata": {},
     "output_type": "execute_result"
    }
   ],
   "source": [
    "get_payments(ladder, rates[0])"
   ]
  },
  {
   "cell_type": "code",
   "execution_count": 38,
   "metadata": {
    "collapsed": false
   },
   "outputs": [
    {
     "name": "stdout",
     "output_type": "stream",
     "text": [
      "Payments 79.235817\n",
      "NAV 578.504404\n"
     ]
    },
    {
     "data": {
      "text/plain": [
       "(deque([M: 2 | Y: 5.32% | FV: $52.66,\n",
       "        M: 3 | Y: 5.32% | FV: $55.46,\n",
       "        M: 4 | Y: 5.32% | FV: $58.41,\n",
       "        M: 5 | Y: 5.32% | FV: $61.52,\n",
       "        M: 6 | Y: 5.32% | FV: $64.79,\n",
       "        M: 7 | Y: 5.32% | FV: $68.24,\n",
       "        M: 8 | Y: 5.32% | FV: $71.87,\n",
       "        M: 9 | Y: 5.32% | FV: $75.69,\n",
       "        M: 10 | Y: 5.32% | FV: $79.24]),\n",
       " 79.235817472592572,\n",
       " 578.5044043249784)"
      ]
     },
     "execution_count": 38,
     "metadata": {},
     "output_type": "execute_result"
    }
   ],
   "source": [
    "advance(ladder, .0635, .0532)"
   ]
  },
  {
   "cell_type": "code",
   "execution_count": null,
   "metadata": {
    "collapsed": true
   },
   "outputs": [],
   "source": []
  }
 ],
 "metadata": {
  "kernelspec": {
   "display_name": "Python 3",
   "language": "python",
   "name": "python3"
  },
  "language_info": {
   "codemirror_mode": {
    "name": "ipython",
    "version": 3
   },
   "file_extension": ".py",
   "mimetype": "text/x-python",
   "name": "python",
   "nbconvert_exporter": "python",
   "pygments_lexer": "ipython3",
   "version": "3.5.1"
  }
 },
 "nbformat": 4,
 "nbformat_minor": 0
}
